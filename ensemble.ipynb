{
 "cells": [
  {
   "cell_type": "code",
   "execution_count": 1,
   "metadata": {},
   "outputs": [],
   "source": [
    "import pandas as pd\n",
    "import numpy as np\n",
    "from scipy import stats\n",
    "\n",
    "from sklearn.linear_model import LinearRegression\n",
    "\n",
    "from IPython.display import clear_output"
   ]
  },
  {
   "cell_type": "code",
   "execution_count": 2,
   "metadata": {},
   "outputs": [],
   "source": [
    "PREDICTIONS_DIR = \"predictions\"\n",
    "\n",
    "IS_SHORT_TERM = True\n",
    "SEED = 9"
   ]
  },
  {
   "cell_type": "code",
   "execution_count": 3,
   "metadata": {},
   "outputs": [],
   "source": [
    "model_data = pd.read_csv(f\"{PREDICTIONS_DIR}/model_data.csv\")"
   ]
  },
  {
   "cell_type": "code",
   "execution_count": 4,
   "metadata": {},
   "outputs": [
    {
     "data": {
      "text/html": [
       "<div>\n",
       "<style scoped>\n",
       "    .dataframe tbody tr th:only-of-type {\n",
       "        vertical-align: middle;\n",
       "    }\n",
       "\n",
       "    .dataframe tbody tr th {\n",
       "        vertical-align: top;\n",
       "    }\n",
       "\n",
       "    .dataframe thead th {\n",
       "        text-align: right;\n",
       "    }\n",
       "</style>\n",
       "<table border=\"1\" class=\"dataframe\">\n",
       "  <thead>\n",
       "    <tr style=\"text-align: right;\">\n",
       "      <th></th>\n",
       "      <th>name</th>\n",
       "      <th>seed</th>\n",
       "      <th>is_short_term</th>\n",
       "      <th>validation_spearman_rank</th>\n",
       "      <th>type</th>\n",
       "      <th>feature</th>\n",
       "      <th>predictions</th>\n",
       "      <th>notes</th>\n",
       "      <th>parameters</th>\n",
       "    </tr>\n",
       "  </thead>\n",
       "  <tbody>\n",
       "    <tr>\n",
       "      <th>8</th>\n",
       "      <td>glove_gru</td>\n",
       "      <td>9</td>\n",
       "      <td>True</td>\n",
       "      <td>0.2382</td>\n",
       "      <td>gru</td>\n",
       "      <td>glove</td>\n",
       "      <td>predictions/glove_gru/st-9.csv</td>\n",
       "      <td>NaN</td>\n",
       "      <td>{'random_seed': 9, 'num_epochs': 150, 'hidden_...</td>\n",
       "    </tr>\n",
       "    <tr>\n",
       "      <th>9</th>\n",
       "      <td>vggish_bayesian_ridge</td>\n",
       "      <td>9</td>\n",
       "      <td>True</td>\n",
       "      <td>0.2644</td>\n",
       "      <td>bayesian_ridge</td>\n",
       "      <td>vggish</td>\n",
       "      <td>predictions/vggish_bayesian_ridge/st-9.csv</td>\n",
       "      <td>NaN</td>\n",
       "      <td>{'random_seed': 9}</td>\n",
       "    </tr>\n",
       "    <tr>\n",
       "      <th>10</th>\n",
       "      <td>c3d_svr</td>\n",
       "      <td>9</td>\n",
       "      <td>True</td>\n",
       "      <td>0.2229</td>\n",
       "      <td>svr</td>\n",
       "      <td>c3d</td>\n",
       "      <td>predictions/c3d_svr/st-9.csv</td>\n",
       "      <td>NaN</td>\n",
       "      <td>{'random_seed': 9}</td>\n",
       "    </tr>\n",
       "    <tr>\n",
       "      <th>11</th>\n",
       "      <td>resnet152_svr</td>\n",
       "      <td>9</td>\n",
       "      <td>True</td>\n",
       "      <td>0.0686</td>\n",
       "      <td>svr</td>\n",
       "      <td>resnet152</td>\n",
       "      <td>predictions/resnet152_svr/st-9.csv</td>\n",
       "      <td>NaN</td>\n",
       "      <td>{'random_seed': 9}</td>\n",
       "    </tr>\n",
       "  </tbody>\n",
       "</table>\n",
       "</div>"
      ],
      "text/plain": [
       "                     name  seed  is_short_term  validation_spearman_rank  \\\n",
       "8               glove_gru     9           True                    0.2382   \n",
       "9   vggish_bayesian_ridge     9           True                    0.2644   \n",
       "10                c3d_svr     9           True                    0.2229   \n",
       "11          resnet152_svr     9           True                    0.0686   \n",
       "\n",
       "              type    feature                                 predictions  \\\n",
       "8              gru      glove              predictions/glove_gru/st-9.csv   \n",
       "9   bayesian_ridge     vggish  predictions/vggish_bayesian_ridge/st-9.csv   \n",
       "10             svr        c3d                predictions/c3d_svr/st-9.csv   \n",
       "11             svr  resnet152          predictions/resnet152_svr/st-9.csv   \n",
       "\n",
       "    notes                                         parameters  \n",
       "8     NaN  {'random_seed': 9, 'num_epochs': 150, 'hidden_...  \n",
       "9     NaN                                 {'random_seed': 9}  \n",
       "10    NaN                                 {'random_seed': 9}  \n",
       "11    NaN                                 {'random_seed': 9}  "
      ]
     },
     "execution_count": 4,
     "metadata": {},
     "output_type": "execute_result"
    }
   ],
   "source": [
    "model_data = model_data[model_data[\"seed\"] == SEED]\n",
    "model_data = model_data[model_data[\"is_short_term\"] == IS_SHORT_TERM]\n",
    "model_data"
   ]
  },
  {
   "cell_type": "code",
   "execution_count": 5,
   "metadata": {},
   "outputs": [],
   "source": [
    "def get_prediction_df(df):\n",
    "    preds = []\n",
    "    names = []\n",
    "    actual = None\n",
    "    video_ids = None\n",
    "    is_training = None\n",
    "    \n",
    "    for i, row in df.iterrows():\n",
    "        prediction_data = pd.read_csv(row[\"predictions\"])\n",
    "        if actual is None:\n",
    "            actual = np.array(prediction_data[\"actual\"])\n",
    "            actual_no_nan = actual[~np.isnan(actual)]\n",
    "            is_training = np.array(prediction_data[\"in_training_set\"])\n",
    "            video_ids = prediction_data[\"video_id\"]\n",
    "        \n",
    "        file_actual = np.array(prediction_data[\"actual\"])\n",
    "        assert np.allclose(actual_no_nan, file_actual[~np.isnan(file_actual)])\n",
    "        if not np.equal(is_training, np.array(prediction_data[\"in_training_set\"])).all():\n",
    "            for a,b,vid in zip(is_training, prediction_data[\"in_training_set\"], video_ids):\n",
    "                if a!=b:\n",
    "                    print(a,b, vid)\n",
    "        assert np.equal(video_ids, np.array(prediction_data[\"video_id\"])).all()\n",
    "        \n",
    "        names.append(row[\"name\"])\n",
    "        preds.append(prediction_data[\"prediction\"])\n",
    "        \n",
    "    pred_df = pd.DataFrame({\n",
    "        \"actual\": actual,\n",
    "        \"video_id\": video_ids,\n",
    "        \"is_training\": is_training,\n",
    "    })\n",
    "    \n",
    "    for pred, name in zip(preds, names):\n",
    "        pred_df[name] = pred\n",
    "    \n",
    "    return pred_df.set_index(\"video_id\")"
   ]
  },
  {
   "cell_type": "code",
   "execution_count": 6,
   "metadata": {},
   "outputs": [],
   "source": [
    "pred_df = get_prediction_df(model_data)"
   ]
  },
  {
   "cell_type": "code",
   "execution_count": 7,
   "metadata": {},
   "outputs": [],
   "source": [
    "def get_train_matrixes(df):\n",
    "    train_df = df[df[\"is_training\"] == True]\n",
    "    targets = train_df[\"actual\"]\n",
    "    vids = train_df.index\n",
    "    feature_df = train_df.drop([\"actual\", \"is_training\"], axis = 1)\n",
    "    return np.array(feature_df), np.array(targets), vids, list(feature_df.columns)"
   ]
  },
  {
   "cell_type": "code",
   "execution_count": 8,
   "metadata": {},
   "outputs": [],
   "source": [
    "def get_valid_matrixes(df):\n",
    "    not_train_df = df[df[\"is_training\"] == False]\n",
    "    valid_df = not_train_df[np.logical_not(np.isnan(not_train_df[\"actual\"]))]\n",
    "    targets = valid_df[\"actual\"]\n",
    "    vids = valid_df.index\n",
    "    feature_df = valid_df.drop([\"actual\", \"is_training\"], axis = 1)\n",
    "    return np.array(feature_df), np.array(targets), vids, list(feature_df.columns)"
   ]
  },
  {
   "cell_type": "code",
   "execution_count": 9,
   "metadata": {},
   "outputs": [],
   "source": [
    "def get_test_matrixes(df):\n",
    "    not_train_df = df[df[\"is_training\"] == False]\n",
    "    test_df = not_train_df[np.isnan(not_train_df[\"actual\"])]\n",
    "    targets = test_df[\"actual\"]\n",
    "    vids = test_df.index\n",
    "    feature_df = test_df.drop([\"actual\", \"is_training\"], axis = 1)\n",
    "    return np.array(feature_df), np.array(targets), vids, list(feature_df.columns)"
   ]
  },
  {
   "cell_type": "code",
   "execution_count": 10,
   "metadata": {},
   "outputs": [],
   "source": [
    "X_train, y_train, vids_train, features = get_train_matrixes(pred_df)\n",
    "X_valid, y_valid, vids_valid, _features = get_valid_matrixes(pred_df)\n",
    "assert _features == features\n",
    "X_test, y_test, vids_test, _ = get_test_matrixes(pred_df)\n",
    "assert _features == features"
   ]
  },
  {
   "cell_type": "code",
   "execution_count": 11,
   "metadata": {},
   "outputs": [
    {
     "data": {
      "text/plain": [
       "(472, 4)"
      ]
     },
     "execution_count": 11,
     "metadata": {},
     "output_type": "execute_result"
    }
   ],
   "source": [
    "X_train.shape"
   ]
  },
  {
   "cell_type": "code",
   "execution_count": 12,
   "metadata": {},
   "outputs": [],
   "source": [
    "def generate_splits(n, num_splits):\n",
    "    if num_splits == 1:\n",
    "        yield [n]\n",
    "    elif n == 0:\n",
    "        yield [0 for _ in range(num_splits)]\n",
    "    else:\n",
    "        for i in range(n + 1):\n",
    "            for subsplit in generate_splits(n-i, num_splits-1):\n",
    "                yield [i] + subsplit"
   ]
  },
  {
   "cell_type": "code",
   "execution_count": 13,
   "metadata": {},
   "outputs": [
    {
     "data": {
      "text/plain": [
       "59"
      ]
     },
     "execution_count": 13,
     "metadata": {},
     "output_type": "execute_result"
    }
   ],
   "source": [
    "len(X_valid) // 2"
   ]
  },
  {
   "cell_type": "code",
   "execution_count": 14,
   "metadata": {},
   "outputs": [],
   "source": [
    "def calculate_splits(n, features, feature_matrix, target_matrix, seed = 1):\n",
    "    num_splits = len(features)\n",
    "    best_split = []\n",
    "    best_rank = 0\n",
    "    \n",
    "    df = pd.DataFrame(columns = [\"spearman_rank\", \"p-value\"] + list(features))\n",
    "    \n",
    "    for split in generate_splits(n, num_splits):\n",
    "        fractions = np.array(split) / n\n",
    "        spearman_rank, p = stats.spearmanr(\n",
    "            target_matrix, \n",
    "            np.dot(feature_matrix, fractions))\n",
    "        weights = {\n",
    "            feature: weight for feature, weight in zip(features, fractions)\n",
    "        }\n",
    "        weights[\"spearman_rank\"] = spearman_rank\n",
    "        weights[\"p-value\"] = p\n",
    "        df = df.append(weights, ignore_index=True)\n",
    "        \n",
    "    return df.sort_values(\"spearman_rank\", ascending=False).reset_index(drop=True)\n",
    "\n",
    "split_df = calculate_splits(20, features, X_valid, y_valid)"
   ]
  },
  {
   "cell_type": "code",
   "execution_count": 15,
   "metadata": {},
   "outputs": [
    {
     "data": {
      "text/html": [
       "<div>\n",
       "<style scoped>\n",
       "    .dataframe tbody tr th:only-of-type {\n",
       "        vertical-align: middle;\n",
       "    }\n",
       "\n",
       "    .dataframe tbody tr th {\n",
       "        vertical-align: top;\n",
       "    }\n",
       "\n",
       "    .dataframe thead th {\n",
       "        text-align: right;\n",
       "    }\n",
       "</style>\n",
       "<table border=\"1\" class=\"dataframe\">\n",
       "  <thead>\n",
       "    <tr style=\"text-align: right;\">\n",
       "      <th></th>\n",
       "      <th>spearman_rank</th>\n",
       "      <th>p-value</th>\n",
       "      <th>glove_gru</th>\n",
       "      <th>vggish_bayesian_ridge</th>\n",
       "      <th>c3d_svr</th>\n",
       "      <th>resnet152_svr</th>\n",
       "    </tr>\n",
       "  </thead>\n",
       "  <tbody>\n",
       "    <tr>\n",
       "      <th>0</th>\n",
       "      <td>0.369693</td>\n",
       "      <td>0.000038</td>\n",
       "      <td>0.45</td>\n",
       "      <td>0.50</td>\n",
       "      <td>0.05</td>\n",
       "      <td>0.00</td>\n",
       "    </tr>\n",
       "    <tr>\n",
       "      <th>1</th>\n",
       "      <td>0.368517</td>\n",
       "      <td>0.000040</td>\n",
       "      <td>0.40</td>\n",
       "      <td>0.50</td>\n",
       "      <td>0.10</td>\n",
       "      <td>0.00</td>\n",
       "    </tr>\n",
       "    <tr>\n",
       "      <th>2</th>\n",
       "      <td>0.365208</td>\n",
       "      <td>0.000048</td>\n",
       "      <td>0.40</td>\n",
       "      <td>0.45</td>\n",
       "      <td>0.15</td>\n",
       "      <td>0.00</td>\n",
       "    </tr>\n",
       "    <tr>\n",
       "      <th>3</th>\n",
       "      <td>0.364894</td>\n",
       "      <td>0.000049</td>\n",
       "      <td>0.50</td>\n",
       "      <td>0.45</td>\n",
       "      <td>0.05</td>\n",
       "      <td>0.00</td>\n",
       "    </tr>\n",
       "    <tr>\n",
       "      <th>4</th>\n",
       "      <td>0.364675</td>\n",
       "      <td>0.000049</td>\n",
       "      <td>0.35</td>\n",
       "      <td>0.50</td>\n",
       "      <td>0.15</td>\n",
       "      <td>0.00</td>\n",
       "    </tr>\n",
       "    <tr>\n",
       "      <th>...</th>\n",
       "      <td>...</td>\n",
       "      <td>...</td>\n",
       "      <td>...</td>\n",
       "      <td>...</td>\n",
       "      <td>...</td>\n",
       "      <td>...</td>\n",
       "    </tr>\n",
       "    <tr>\n",
       "      <th>1766</th>\n",
       "      <td>0.081861</td>\n",
       "      <td>0.378183</td>\n",
       "      <td>0.10</td>\n",
       "      <td>0.00</td>\n",
       "      <td>0.00</td>\n",
       "      <td>0.90</td>\n",
       "    </tr>\n",
       "    <tr>\n",
       "      <th>1767</th>\n",
       "      <td>0.077303</td>\n",
       "      <td>0.405391</td>\n",
       "      <td>0.05</td>\n",
       "      <td>0.00</td>\n",
       "      <td>0.00</td>\n",
       "      <td>0.95</td>\n",
       "    </tr>\n",
       "    <tr>\n",
       "      <th>1768</th>\n",
       "      <td>0.075250</td>\n",
       "      <td>0.418011</td>\n",
       "      <td>0.00</td>\n",
       "      <td>0.05</td>\n",
       "      <td>0.00</td>\n",
       "      <td>0.95</td>\n",
       "    </tr>\n",
       "    <tr>\n",
       "      <th>1769</th>\n",
       "      <td>0.074600</td>\n",
       "      <td>0.422055</td>\n",
       "      <td>0.00</td>\n",
       "      <td>0.00</td>\n",
       "      <td>0.05</td>\n",
       "      <td>0.95</td>\n",
       "    </tr>\n",
       "    <tr>\n",
       "      <th>1770</th>\n",
       "      <td>0.068633</td>\n",
       "      <td>0.460223</td>\n",
       "      <td>0.00</td>\n",
       "      <td>0.00</td>\n",
       "      <td>0.00</td>\n",
       "      <td>1.00</td>\n",
       "    </tr>\n",
       "  </tbody>\n",
       "</table>\n",
       "<p>1771 rows × 6 columns</p>\n",
       "</div>"
      ],
      "text/plain": [
       "      spearman_rank   p-value  glove_gru  vggish_bayesian_ridge  c3d_svr  \\\n",
       "0          0.369693  0.000038       0.45                   0.50     0.05   \n",
       "1          0.368517  0.000040       0.40                   0.50     0.10   \n",
       "2          0.365208  0.000048       0.40                   0.45     0.15   \n",
       "3          0.364894  0.000049       0.50                   0.45     0.05   \n",
       "4          0.364675  0.000049       0.35                   0.50     0.15   \n",
       "...             ...       ...        ...                    ...      ...   \n",
       "1766       0.081861  0.378183       0.10                   0.00     0.00   \n",
       "1767       0.077303  0.405391       0.05                   0.00     0.00   \n",
       "1768       0.075250  0.418011       0.00                   0.05     0.00   \n",
       "1769       0.074600  0.422055       0.00                   0.00     0.05   \n",
       "1770       0.068633  0.460223       0.00                   0.00     0.00   \n",
       "\n",
       "      resnet152_svr  \n",
       "0              0.00  \n",
       "1              0.00  \n",
       "2              0.00  \n",
       "3              0.00  \n",
       "4              0.00  \n",
       "...             ...  \n",
       "1766           0.90  \n",
       "1767           0.95  \n",
       "1768           0.95  \n",
       "1769           0.95  \n",
       "1770           1.00  \n",
       "\n",
       "[1771 rows x 6 columns]"
      ]
     },
     "execution_count": 15,
     "metadata": {},
     "output_type": "execute_result"
    }
   ],
   "source": [
    "split_df"
   ]
  },
  {
   "cell_type": "code",
   "execution_count": 16,
   "metadata": {},
   "outputs": [],
   "source": [
    "best_split = split_df.iloc[0]"
   ]
  },
  {
   "cell_type": "code",
   "execution_count": 27,
   "metadata": {},
   "outputs": [
    {
     "name": "stdout",
     "output_type": "stream",
     "text": [
      "spearman_rank            0.369693\n",
      "p-value                  0.000038\n",
      "glove_gru                0.450000\n",
      "vggish_bayesian_ridge    0.500000\n",
      "c3d_svr                  0.050000\n",
      "resnet152_svr            0.000000\n",
      "Name: 0, dtype: float64\n"
     ]
    }
   ],
   "source": [
    "print(best_split)"
   ]
  },
  {
   "cell_type": "code",
   "execution_count": 18,
   "metadata": {},
   "outputs": [
    {
     "data": {
      "text/plain": [
       "spearman_rank            0.369693\n",
       "p-value                  0.000038\n",
       "glove_gru                0.450000\n",
       "vggish_bayesian_ridge    0.500000\n",
       "c3d_svr                  0.050000\n",
       "resnet152_svr            0.000000\n",
       "Name: 0, dtype: float64"
      ]
     },
     "execution_count": 18,
     "metadata": {},
     "output_type": "execute_result"
    }
   ],
   "source": [
    "best_split"
   ]
  },
  {
   "cell_type": "code",
   "execution_count": 19,
   "metadata": {},
   "outputs": [],
   "source": [
    "split_df.to_csv(f\"{'st' if IS_SHORT_TERM else 'lt'}_ensemble_{SEED}.csv\")"
   ]
  },
  {
   "cell_type": "code",
   "execution_count": 20,
   "metadata": {},
   "outputs": [],
   "source": [
    "def get_ensemble_predictions(feature_matrix, features, split):\n",
    "    weights = [split[f] for f in features]\n",
    "    return np.dot(feature_matrix, weights)"
   ]
  },
  {
   "cell_type": "code",
   "execution_count": 21,
   "metadata": {},
   "outputs": [],
   "source": [
    "preds_valid = get_ensemble_predictions(X_valid, features, split_df.iloc[0])"
   ]
  },
  {
   "cell_type": "code",
   "execution_count": 22,
   "metadata": {},
   "outputs": [
    {
     "data": {
      "text/plain": [
       "SpearmanrResult(correlation=0.3696931184468572, pvalue=3.7872456914339764e-05)"
      ]
     },
     "execution_count": 22,
     "metadata": {},
     "output_type": "execute_result"
    }
   ],
   "source": [
    "stats.spearmanr(preds_valid, y_valid)"
   ]
  },
  {
   "cell_type": "code",
   "execution_count": 23,
   "metadata": {},
   "outputs": [
    {
     "data": {
      "text/plain": [
       "[<matplotlib.lines.Line2D at 0x7f5d17580e20>]"
      ]
     },
     "execution_count": 23,
     "metadata": {},
     "output_type": "execute_result"
    },
    {
     "data": {
      "image/png": "[encoded data removed]",
      "text/plain": [
       "<Figure size 432x288 with 1 Axes>"
      ]
     },
     "metadata": {
      "needs_background": "light"
     },
     "output_type": "display_data"
    }
   ],
   "source": [
    "import matplotlib.pyplot as plt\n",
    "plt.scatter(preds_valid, y_valid)\n",
    "plt.plot([.6, 1], [.6,1])"
   ]
  },
  {
   "cell_type": "code",
   "execution_count": 24,
   "metadata": {},
   "outputs": [],
   "source": [
    "preds_test = get_ensemble_predictions(X_test, features, split_df.iloc[0])"
   ]
  },
  {
   "cell_type": "code",
   "execution_count": 25,
   "metadata": {},
   "outputs": [],
   "source": [
    "confidence = np.ones(len(preds_test))"
   ]
  },
  {
   "cell_type": "code",
   "execution_count": 26,
   "metadata": {},
   "outputs": [
    {
     "ename": "AssertionError",
     "evalue": "",
     "output_type": "error",
     "traceback": [
      "\u001b[0;31m---------------------------------------------------------------------------\u001b[0m",
      "\u001b[0;31mAssertionError\u001b[0m                            Traceback (most recent call last)",
      "\u001b[0;32m<ipython-input-26-a871fdc9ebee>\u001b[0m in \u001b[0;36m<module>\u001b[0;34m\u001b[0m\n\u001b[0;32m----> 1\u001b[0;31m \u001b[0;32massert\u001b[0m \u001b[0;32mFalse\u001b[0m\u001b[0;34m\u001b[0m\u001b[0;34m\u001b[0m\u001b[0m\n\u001b[0m",
      "\u001b[0;31mAssertionError\u001b[0m: "
     ]
    }
   ],
   "source": [
    "assert False"
   ]
  },
  {
   "cell_type": "code",
   "execution_count": null,
   "metadata": {},
   "outputs": [],
   "source": [
    "final = pd.DataFrame({\n",
    "    \"videoname\": vids_test,\n",
    "    \"memorability_score\": preds_test,\n",
    "    \"confidence\": confidence\n",
    "})"
   ]
  },
  {
   "cell_type": "code",
   "execution_count": null,
   "metadata": {},
   "outputs": [],
   "source": [
    "final.to_csv(\"me19mem_ucb_shorterm_run3.csv\",header=False, index=False)"
   ]
  },
  {
   "cell_type": "code",
   "execution_count": null,
   "metadata": {},
   "outputs": [],
   "source": [
    "final"
   ]
  },
  {
   "cell_type": "code",
   "execution_count": null,
   "metadata": {},
   "outputs": [],
   "source": []
  }
 ],
 "metadata": {
  "kernelspec": {
   "display_name": "video-mem",
   "language": "python",
   "name": "video-mem"
  },
  "language_info": {
   "codemirror_mode": {
    "name": "ipython",
    "version": 3
   },
   "file_extension": ".py",
   "mimetype": "text/x-python",
   "name": "python",
   "nbconvert_exporter": "python",
   "pygments_lexer": "ipython3",
   "version": "3.8.5"
  }
 },
 "nbformat": 4,
 "nbformat_minor": 2
}
