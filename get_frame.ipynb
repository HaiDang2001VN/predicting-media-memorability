{
 "cells": [
  {
   "cell_type": "code",
   "execution_count": 1,
   "metadata": {},
   "outputs": [],
   "source": [
    "import cv2\n",
    "import torch\n",
    "import requests\n",
    "import numpy as np\n",
    "import pandas as pd\n",
    "import torchvision.models as models\n",
    "import torchvision.transforms as transforms\n",
    "from PIL import Image\n",
    "import os"
   ]
  },
  {
   "cell_type": "code",
   "execution_count": 30,
   "metadata": {},
   "outputs": [],
   "source": [
    "video_path = r'./training_set/Videos/'\n",
    "frame_path = r'./training_set/Frames/'\n",
    "n_frame_path = r'./training_set/N-Frames/'\n",
    "feature_path = r'./training_set/Features/AlexNetFC7/'"
   ]
  },
  {
   "cell_type": "code",
   "execution_count": 22,
   "metadata": {},
   "outputs": [],
   "source": [
    "error_log = list()"
   ]
  },
  {
   "cell_type": "code",
   "execution_count": 23,
   "metadata": {},
   "outputs": [],
   "source": [
    "for filename in os.listdir(feature_path):\n",
    "    video_name = filename[0:5] #because videos in Features use format xxxxx-xxx.csv\n",
    "    frame_num = filename[6:9]\n",
    "    frame_filename = frame_path + video_name + '-' + frame_num + '.png'\n",
    "    if not os.path.exists(frame_filename):\n",
    "        cap = cv2.VideoCapture(video_path + str(int(video_name)) + '.mp4')\n",
    "        cap.set(cv2.CAP_PROP_POS_FRAMES, int(frame_num) - 1)\n",
    "        res, frame = cap.read()\n",
    "        if res == 0:\n",
    "            error_log.append((video_name, frame_num))\n",
    "        else:\n",
    "            cv2.imwrite(frame_filename, frame)\n",
    "        cap.release()"
   ]
  },
  {
   "cell_type": "code",
   "execution_count": 24,
   "metadata": {},
   "outputs": [
    {
     "name": "stdout",
     "output_type": "stream",
     "text": [
      "[('00165', '186'), ('00261', '179'), ('02152', '172'), ('04461', '165'), ('05657', '129')]\n"
     ]
    }
   ],
   "source": [
    "print(error_log)"
   ]
  },
  {
   "cell_type": "code",
   "execution_count": 6,
   "metadata": {},
   "outputs": [],
   "source": [
    "# Manually iterate through error_log video frames until we get the frame\n",
    "\n",
    "for video_name, frame_number in error_log:\n",
    "    cap = cv2.VideoCapture(video_path + str(int(video_name)) + \".mp4\")\n",
    "    i = 0\n",
    "    while cap.isOpened():\n",
    "        ret, frame = cap.read()\n",
    "        if ret == False:\n",
    "            print(f\"Did not find frame {frame_number} of {video_name}\")\n",
    "            break\n",
    "        if i == int(frame_number):\n",
    "            cv2.imwrite(frame_path + video_name + '-' + frame_number + '.png', frame)\n",
    "            break\n",
    "        i += 1\n",
    "    cap.release()"
   ]
  },
  {
   "cell_type": "markdown",
   "metadata": {},
   "source": [
    "# Extract n frame per video"
   ]
  },
  {
   "cell_type": "code",
   "execution_count": 18,
   "metadata": {},
   "outputs": [],
   "source": [
    "def get_total_frame(video):\n",
    "    total = 0\n",
    "\n",
    "    while True:\n",
    "        (grabbed, frame) = video.read()\n",
    "        \n",
    "        if not grabbed:\n",
    "            break\n",
    "        \n",
    "        total += 1\n",
    "    \n",
    "    return total"
   ]
  },
  {
   "cell_type": "code",
   "execution_count": 19,
   "metadata": {},
   "outputs": [],
   "source": [
    "def split(a, n):\n",
    "    k, m = divmod(len(a), n)\n",
    "    return (a[i * k + min(i, m):(i + 1) * k + min(i + 1, m)] for i in range(n))"
   ]
  },
  {
   "cell_type": "code",
   "execution_count": 20,
   "metadata": {},
   "outputs": [],
   "source": [
    "def get_frame_index(total_frame, n):\n",
    "    list_of_index = list()\n",
    "    list_of_chunk = list(split(range(1, total_frame+1), n))\n",
    "    for i in range(n):\n",
    "        list_of_index.append(list_of_chunk[i][0])\n",
    "    return list_of_index"
   ]
  },
  {
   "cell_type": "code",
   "execution_count": 28,
   "metadata": {},
   "outputs": [],
   "source": [
    "n = 8 #number of frame we want to extract\n",
    "error_log_2 = list()\n",
    "\n",
    "\n",
    "for filename in os.listdir(feature_path):\n",
    "    video_name = filename[0:5]\n",
    "    cap = cv2.VideoCapture(video_path + str(int(video_name)) + '.mp4')\n",
    "\n",
    "    total_frame = get_total_frame(cap) #total number of frame of this video\n",
    "\n",
    "    frame_index = get_frame_index(total_frame, n) #the index of the frame of interest\n",
    "\n",
    "    for frame_num in frame_index:\n",
    "        cap.set(cv2.CAP_PROP_POS_FRAMES, frame_num - 1)\n",
    "        res, frame = cap.read()\n",
    "        if res == 0:\n",
    "            error_log_2.append((video_path, frame_num))\n",
    "        else:\n",
    "            cv2.imwrite(n_frame_path + video_name + '-' + '{:0>3}'.format(frame_num-1) + '.png', frame)\n",
    "\n",
    "    cap.release()"
   ]
  },
  {
   "cell_type": "code",
   "execution_count": 29,
   "metadata": {},
   "outputs": [
    {
     "name": "stdout",
     "output_type": "stream",
     "text": [
      "[]\n"
     ]
    }
   ],
   "source": [
    "print(error_log_2)"
   ]
  },
  {
   "cell_type": "code",
   "execution_count": null,
   "metadata": {},
   "outputs": [],
   "source": []
  }
 ],
 "metadata": {
  "kernelspec": {
   "display_name": "Python 3",
   "language": "python",
   "name": "python3"
  },
  "language_info": {
   "codemirror_mode": {
    "name": "ipython",
    "version": 3
   },
   "file_extension": ".py",
   "mimetype": "text/x-python",
   "name": "python",
   "nbconvert_exporter": "python",
   "pygments_lexer": "ipython3",
   "version": "3.7.3"
  }
 },
 "nbformat": 4,
 "nbformat_minor": 4
}
