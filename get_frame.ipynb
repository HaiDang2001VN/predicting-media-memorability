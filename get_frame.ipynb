{
 "cells": [
  {
   "cell_type": "code",
   "execution_count": 4,
   "metadata": {},
   "outputs": [],
   "source": [
    "import cv2\n",
    "import numpy as np\n",
    "from tqdm.notebook import tqdm\n",
    "import os"
   ]
  },
  {
   "cell_type": "code",
   "execution_count": 5,
   "metadata": {},
   "outputs": [],
   "source": [
    "DATASET = \"testing_set\"\n",
    "\n",
    "VIDEO_DIR = f\"{DATASET}/Videos\"\n",
    "FRAME_DIR = f\"{DATASET}/N-Frames\"\n",
    "NUM_FRAMES_PER_VIDEO = 8 #number of frame we want to extract"
   ]
  },
  {
   "cell_type": "markdown",
   "metadata": {},
   "source": [
    "# Extract n frame per video"
   ]
  },
  {
   "cell_type": "code",
   "execution_count": 6,
   "metadata": {},
   "outputs": [],
   "source": [
    "def get_total_num_frames(video):\n",
    "    total = 0\n",
    "    while True:\n",
    "        (grabbed, frame) = video.read()\n",
    "        if not grabbed:\n",
    "            break\n",
    "        total += 1\n",
    "    return total"
   ]
  },
  {
   "cell_type": "code",
   "execution_count": 7,
   "metadata": {},
   "outputs": [],
   "source": [
    "def get_frame_indexes(num_frames, n):\n",
    "    return [int(i) for i in np.around(np.linspace(0, num_frames, n))]"
   ]
  },
  {
   "cell_type": "code",
   "execution_count": 18,
   "metadata": {},
   "outputs": [],
   "source": [
    "def get_frame_iteratively(video_file, frame_index):\n",
    "    cap = cv2.VideoCapture(video_file)\n",
    "    extracted = False\n",
    "    while not extracted:\n",
    "        cap.set(cv2.CAP_PROP_POS_FRAMES, frame_index)\n",
    "        extracted, frame = cap.read()\n",
    "        frame_index -= 1 # try the previous frame\n",
    "        \n",
    "    cap.release()\n",
    "    \n",
    "    return frame, frame_index"
   ]
  },
  {
   "cell_type": "code",
   "execution_count": 19,
   "metadata": {},
   "outputs": [],
   "source": [
    "def extract_num_frames(video_filename, num_frames, frame_dir = FRAME_DIR, video_dir = VIDEO_DIR):\n",
    "    video_name = video_filename.split(\".\")[0].zfill(5)\n",
    "    video_path = f\"{VIDEO_DIR}/{video_filename}\"\n",
    "    \n",
    "    cap = cv2.VideoCapture(video_path)\n",
    "\n",
    "    total_frames = get_total_num_frames(cap)\n",
    "    frame_indexes = get_frame_indexes(total_frames, num_frames)\n",
    "    \n",
    "    frames_folder = f\"{frame_dir}/{video_name}\"\n",
    "    if not os.path.exists(frames_folder):\n",
    "        os.mkdir(frames_folder)\n",
    "\n",
    "    for frame_index in frame_indexes:\n",
    "        frame_filename = f\"{frames_folder}/{str(frame_index).zfill(3)}.png\"\n",
    "    \n",
    "        if not os.path.exists(frame_filename): \n",
    "            cap.set(cv2.CAP_PROP_POS_FRAMES, frame_index - 1)\n",
    "            res, frame = cap.read()\n",
    "            if res == 0:\n",
    "                frame, frame_index = get_frame_iteratively(video_path, frame_index)\n",
    "            else:\n",
    "                cv2.imwrite(frame_filename, frame)\n",
    "                \n",
    "    cap.release()"
   ]
  },
  {
   "cell_type": "code",
   "execution_count": 20,
   "metadata": {},
   "outputs": [
    {
     "data": {
      "application/vnd.jupyter.widget-view+json": {
       "model_id": "74a4f7745592401faf594b662f2a302c",
       "version_major": 2,
       "version_minor": 0
      },
      "text/plain": [
       "HBox(children=(FloatProgress(value=0.0, description='Extracting 8 frames per video', max=500.0, style=Progress…"
      ]
     },
     "metadata": {},
     "output_type": "display_data"
    },
    {
     "name": "stdout",
     "output_type": "stream",
     "text": [
      "\n"
     ]
    }
   ],
   "source": [
    "# Extract NUM_FRAMES_PER_VIDEO frames from each video\n",
    "if not os.path.exists(FRAME_DIR):\n",
    "    os.mkdir(FRAME_DIR)\n",
    "for filename in tqdm(video_filenames, \n",
    "                     desc = f\"Extracting {NUM_FRAMES_PER_VIDEO} frames per video\"):\n",
    "    extract_num_frames(filename, num_frames = NUM_FRAMES_PER_VIDEO)\n",
    "    "
   ]
  },
  {
   "cell_type": "code",
   "execution_count": 22,
   "metadata": {},
   "outputs": [
    {
     "data": {
      "text/plain": [
       "[1, 2, 3]"
      ]
     },
     "execution_count": 22,
     "metadata": {},
     "output_type": "execute_result"
    }
   ],
   "source": [
    "sorted([2,3,1])"
   ]
  },
  {
   "cell_type": "code",
   "execution_count": null,
   "metadata": {},
   "outputs": [],
   "source": []
  }
 ],
 "metadata": {
  "kernelspec": {
   "display_name": "Python 3",
   "language": "python",
   "name": "python3"
  },
  "language_info": {
   "codemirror_mode": {
    "name": "ipython",
    "version": 3
   },
   "file_extension": ".py",
   "mimetype": "text/x-python",
   "name": "python",
   "nbconvert_exporter": "python",
   "pygments_lexer": "ipython3",
   "version": "3.8.5"
  }
 },
 "nbformat": 4,
 "nbformat_minor": 4
}
