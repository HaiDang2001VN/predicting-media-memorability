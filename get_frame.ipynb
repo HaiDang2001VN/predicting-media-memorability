{
 "cells": [
  {
   "cell_type": "code",
   "execution_count": 37,
   "metadata": {},
   "outputs": [],
   "source": [
    "import cv2\n",
    "import torch\n",
    "import requests\n",
    "import numpy as np\n",
    "import pandas as pd\n",
    "import torchvision.models as models\n",
    "import torchvision.transforms as transforms\n",
    "from PIL import Image\n",
    "import os"
   ]
  },
  {
   "cell_type": "code",
   "execution_count": 38,
   "metadata": {},
   "outputs": [],
   "source": [
    "video_path = r'./training_set/Videos/'\n",
    "frame_path = r'./training_set/Frames/'\n",
    "feature_path = r'./training_set/Features/AlexNetFC7/'"
   ]
  },
  {
   "cell_type": "code",
   "execution_count": 39,
   "metadata": {},
   "outputs": [],
   "source": [
    "error_log = list()"
   ]
  },
  {
   "cell_type": "code",
   "execution_count": 40,
   "metadata": {},
   "outputs": [],
   "source": [
    "for filename in os.listdir(feature_path):\n",
    "    video_name = filename[0:5] #because videos in Features use format xxxxx-xxx.csv\n",
    "    frame_num = filename[6:9]\n",
    "    cap = cv2.VideoCapture(video_path + str(int(video_name)) + '.mp4')\n",
    "    cap.set(cv2.CAP_PROP_POS_FRAMES, int(frame_num) - 1)\n",
    "    res, frame = cap.read()\n",
    "    if res == 0:\n",
    "        error_log.append((video_name, frame_num))\n",
    "    else:\n",
    "        cv2.imwrite(frame_path + video_name + '-' + frame_num + '.png', frame)"
   ]
  },
  {
   "cell_type": "code",
   "execution_count": 41,
   "metadata": {},
   "outputs": [
    {
     "name": "stdout",
     "output_type": "stream",
     "text": [
      "[('00165', '186'), ('00261', '179'), ('02152', '172'), ('04461', '165'), ('05657', '129')]\n"
     ]
    }
   ],
   "source": [
    "print(error_log)"
   ]
  },
  {
   "cell_type": "code",
   "execution_count": null,
   "metadata": {},
   "outputs": [],
   "source": []
  }
 ],
 "metadata": {
  "kernelspec": {
   "display_name": "Python 3",
   "language": "python",
   "name": "python3"
  },
  "language_info": {
   "codemirror_mode": {
    "name": "ipython",
    "version": 3
   },
   "file_extension": ".py",
   "mimetype": "text/x-python",
   "name": "python",
   "nbconvert_exporter": "python",
   "pygments_lexer": "ipython3",
   "version": "3.7.8"
  }
 },
 "nbformat": 4,
 "nbformat_minor": 4
}
