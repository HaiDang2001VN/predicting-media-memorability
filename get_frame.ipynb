{
 "cells": [
  {
   "cell_type": "code",
   "execution_count": 1,
   "metadata": {},
   "outputs": [],
   "source": [
    "import cv2\n",
    "import torch\n",
    "import requests\n",
    "import numpy as np\n",
    "import pandas as pd\n",
    "import torchvision.models as models\n",
    "import torchvision.transforms as transforms\n",
    "from PIL import Image\n",
    "import os"
   ]
  },
  {
   "cell_type": "code",
   "execution_count": 2,
   "metadata": {},
   "outputs": [],
   "source": [
    "video_path = r'./training_set/Videos/'\n",
    "frame_path = r'./training_set/Frames/'\n",
    "feature_path = r'./training_set/Features/AlexNetFC7/'"
   ]
  },
  {
   "cell_type": "code",
   "execution_count": 3,
   "metadata": {},
   "outputs": [],
   "source": [
    "error_log = list()"
   ]
  },
  {
   "cell_type": "code",
   "execution_count": 4,
   "metadata": {},
   "outputs": [],
   "source": [
    "for filename in os.listdir(feature_path):\n",
    "    video_name = filename[0:5] #because videos in Features use format xxxxx-xxx.csv\n",
    "    frame_num = filename[6:9]\n",
    "    frame_filename = frame_path + video_name + '-' + frame_num + '.png'\n",
    "    if not os.path.exists(frame_filename):\n",
    "        cap = cv2.VideoCapture(video_path + str(int(video_name)) + '.mp4')\n",
    "        cap.set(cv2.CAP_PROP_POS_FRAMES, int(frame_num) - 1)\n",
    "        res, frame = cap.read()\n",
    "        if res == 0:\n",
    "            error_log.append((video_name, frame_num))\n",
    "        else:\n",
    "            cv2.imwrite(frame_filename, frame)\n",
    "        cap.release()"
   ]
  },
  {
   "cell_type": "code",
   "execution_count": 5,
   "metadata": {},
   "outputs": [
    {
     "name": "stdout",
     "output_type": "stream",
     "text": [
      "[]\n"
     ]
    }
   ],
   "source": [
    "print(error_log)"
   ]
  },
  {
   "cell_type": "code",
   "execution_count": 6,
   "metadata": {},
   "outputs": [],
   "source": [
    "# Manually iterate through error_log video frames until we get the frame\n",
    "\n",
    "for video_name, frame_number in error_log:\n",
    "    cap = cv2.VideoCapture(video_path + str(int(video_name)) + \".mp4\")\n",
    "    i = 0\n",
    "    while cap.isOpened():\n",
    "        ret, frame = cap.read()\n",
    "        if ret == False:\n",
    "            print(f\"Did not find frame {frame_number} of {video_name}\")\n",
    "            break\n",
    "        if i == int(frame_number):\n",
    "            cv2.imwrite(frame_path + video_name + '-' + frame_number + '.png', frame)\n",
    "            break\n",
    "        i += 1\n",
    "    cap.release()"
   ]
  }
 ],
 "metadata": {
  "kernelspec": {
   "display_name": "video-mem",
   "language": "python",
   "name": "video-mem"
  },
  "language_info": {
   "codemirror_mode": {
    "name": "ipython",
    "version": 3
   },
   "file_extension": ".py",
   "mimetype": "text/x-python",
   "name": "python",
   "nbconvert_exporter": "python",
   "pygments_lexer": "ipython3",
   "version": "3.8.5"
  }
 },
 "nbformat": 4,
 "nbformat_minor": 4
}
