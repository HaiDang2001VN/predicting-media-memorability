{
 "cells": [
  {
   "cell_type": "code",
   "execution_count": 5,
   "metadata": {},
   "outputs": [],
   "source": [
    "import pandas as pd\n",
    "import numpy as np\n",
    "\n",
    "from features.text import load_GloVe_features, fit_tokenizer, extract_GLoVe_features"
   ]
  },
  {
   "cell_type": "code",
   "execution_count": 2,
   "metadata": {},
   "outputs": [],
   "source": [
    "caption_data = pd.read_csv(\"training_set/text_descriptions.csv\")"
   ]
  },
  {
   "cell_type": "code",
   "execution_count": 3,
   "metadata": {},
   "outputs": [],
   "source": [
    "video_ids = caption_data[\"video_id\"]\n",
    "captions = caption_data[\"description\"]"
   ]
  },
  {
   "cell_type": "code",
   "execution_count": 4,
   "metadata": {},
   "outputs": [
    {
     "name": "stdout",
     "output_type": "stream",
     "text": [
      "Avg num of captions per video: 3.7135593220338983\n",
      "Max num of captions per video: 5\n",
      "Min num of captions per video: 2\n"
     ]
    }
   ],
   "source": [
    "caption_count = video_ids.groupby(video_ids).count()\n",
    "print(\"Avg num of captions per video:\", np.mean(caption_count))\n",
    "print(\"Max num of captions per video:\", np.max(caption_count))\n",
    "print(\"Min num of captions per video:\", np.min(caption_count))"
   ]
  },
  {
   "cell_type": "code",
   "execution_count": 5,
   "metadata": {},
   "outputs": [],
   "source": [
    "tokenizer = fit_tokenizer(captions)"
   ]
  },
  {
   "cell_type": "code",
   "execution_count": 6,
   "metadata": {},
   "outputs": [
    {
     "name": "stdout",
     "output_type": "stream",
     "text": [
      "Max sequence length: 86\n",
      "Min sequence length: 3\n",
      "Avg sequence length: 17.994523048836147\n"
     ]
    }
   ],
   "source": [
    "extract_GLoVe_features(video_ids, captions, tokenizer)"
   ]
  },
  {
   "cell_type": "code",
   "execution_count": 7,
   "metadata": {},
   "outputs": [],
   "source": [
    "features = load_GloVe_features(video_ids.unique())"
   ]
  },
  {
   "cell_type": "code",
   "execution_count": 7,
   "metadata": {},
   "outputs": [],
   "source": [
    "datasets = [\"training_set\", \"development_set\", \"testing_set\"]\n",
    "caption_files = {\n",
    "    \"training_set\": \"text_descriptions.csv\",\n",
    "    \"development_set\": \"dev_text_descriptions.csv\",\n",
    "    \"testing_set\": \"test_text_descriptions.csv\"\n",
    "}"
   ]
  },
  {
   "cell_type": "code",
   "execution_count": 8,
   "metadata": {},
   "outputs": [],
   "source": [
    "caption_paths = [\n",
    "            f\"{dataset}/{caption_files[dataset]}\" for dataset in datasets]"
   ]
  },
  {
   "cell_type": "code",
   "execution_count": 9,
   "metadata": {},
   "outputs": [],
   "source": [
    "caption_data = [pd.read_csv(path) for path in caption_paths]"
   ]
  },
  {
   "cell_type": "code",
   "execution_count": 16,
   "metadata": {},
   "outputs": [],
   "source": [
    "all_caption_data = pd.concat([pd.read_csv(path) for path in caption_paths])"
   ]
  },
  {
   "cell_type": "code",
   "execution_count": 15,
   "metadata": {},
   "outputs": [
    {
     "data": {
      "text/plain": [
       "1500"
      ]
     },
     "execution_count": 15,
     "metadata": {},
     "output_type": "execute_result"
    }
   ],
   "source": [
    "len(all_data[\"video_id\"].unique())"
   ]
  },
  {
   "cell_type": "code",
   "execution_count": 17,
   "metadata": {},
   "outputs": [
    {
     "data": {
      "text/html": [
       "<div>\n",
       "<style scoped>\n",
       "    .dataframe tbody tr th:only-of-type {\n",
       "        vertical-align: middle;\n",
       "    }\n",
       "\n",
       "    .dataframe tbody tr th {\n",
       "        vertical-align: top;\n",
       "    }\n",
       "\n",
       "    .dataframe thead th {\n",
       "        text-align: right;\n",
       "    }\n",
       "</style>\n",
       "<table border=\"1\" class=\"dataframe\">\n",
       "  <thead>\n",
       "    <tr style=\"text-align: right;\">\n",
       "      <th></th>\n",
       "      <th>video_id</th>\n",
       "      <th>video_url</th>\n",
       "      <th>description</th>\n",
       "    </tr>\n",
       "  </thead>\n",
       "  <tbody>\n",
       "    <tr>\n",
       "      <th>0</th>\n",
       "      <td>8</td>\n",
       "      <td>https://mtc.cdn.vine.co/r/videos_h264high/9EB0...</td>\n",
       "      <td>2 men on a stage hug and walk away</td>\n",
       "    </tr>\n",
       "    <tr>\n",
       "      <th>1</th>\n",
       "      <td>8</td>\n",
       "      <td>https://mtc.cdn.vine.co/r/videos_h264high/9EB0...</td>\n",
       "      <td>two young man are standing on a stage embracin...</td>\n",
       "    </tr>\n",
       "    <tr>\n",
       "      <th>2</th>\n",
       "      <td>26</td>\n",
       "      <td>https://mtc.cdn.vine.co/r/videos_h264high/A8B3...</td>\n",
       "      <td>deadpool drinking from a cup</td>\n",
       "    </tr>\n",
       "    <tr>\n",
       "      <th>3</th>\n",
       "      <td>26</td>\n",
       "      <td>https://mtc.cdn.vine.co/r/videos_h264high/A8B3...</td>\n",
       "      <td>persons in costumes dance</td>\n",
       "    </tr>\n",
       "    <tr>\n",
       "      <th>4</th>\n",
       "      <td>33</td>\n",
       "      <td>https://mtc.cdn.vine.co/r/videos/267829AEFA128...</td>\n",
       "      <td>a soccer player shoots a ball into a tiny goal...</td>\n",
       "    </tr>\n",
       "    <tr>\n",
       "      <th>...</th>\n",
       "      <td>...</td>\n",
       "      <td>...</td>\n",
       "      <td>...</td>\n",
       "    </tr>\n",
       "    <tr>\n",
       "      <th>1785</th>\n",
       "      <td>6181</td>\n",
       "      <td>https://v.cdn.vine.co/r/videos/BA6A5E2CC211407...</td>\n",
       "      <td>Young child on a bicycle riding across the gra...</td>\n",
       "    </tr>\n",
       "    <tr>\n",
       "      <th>1786</th>\n",
       "      <td>6181</td>\n",
       "      <td>https://v.cdn.vine.co/r/videos/BA6A5E2CC211407...</td>\n",
       "      <td>Child on toy motorcycle wearing red helmet cra...</td>\n",
       "    </tr>\n",
       "    <tr>\n",
       "      <th>1787</th>\n",
       "      <td>6181</td>\n",
       "      <td>https://v.cdn.vine.co/r/videos/BA6A5E2CC211407...</td>\n",
       "      <td>a little boy wearing a helmet is cycling on a ...</td>\n",
       "    </tr>\n",
       "    <tr>\n",
       "      <th>1788</th>\n",
       "      <td>6181</td>\n",
       "      <td>https://v.cdn.vine.co/r/videos/BA6A5E2CC211407...</td>\n",
       "      <td>A child wearing a helmut rides a motorized bik...</td>\n",
       "    </tr>\n",
       "    <tr>\n",
       "      <th>1789</th>\n",
       "      <td>6181</td>\n",
       "      <td>https://v.cdn.vine.co/r/videos/BA6A5E2CC211407...</td>\n",
       "      <td>A little boy rides a motorized bike across the...</td>\n",
       "    </tr>\n",
       "  </tbody>\n",
       "</table>\n",
       "<p>5486 rows × 3 columns</p>\n",
       "</div>"
      ],
      "text/plain": [
       "      video_id                                          video_url  \\\n",
       "0            8  https://mtc.cdn.vine.co/r/videos_h264high/9EB0...   \n",
       "1            8  https://mtc.cdn.vine.co/r/videos_h264high/9EB0...   \n",
       "2           26  https://mtc.cdn.vine.co/r/videos_h264high/A8B3...   \n",
       "3           26  https://mtc.cdn.vine.co/r/videos_h264high/A8B3...   \n",
       "4           33  https://mtc.cdn.vine.co/r/videos/267829AEFA128...   \n",
       "...        ...                                                ...   \n",
       "1785      6181  https://v.cdn.vine.co/r/videos/BA6A5E2CC211407...   \n",
       "1786      6181  https://v.cdn.vine.co/r/videos/BA6A5E2CC211407...   \n",
       "1787      6181  https://v.cdn.vine.co/r/videos/BA6A5E2CC211407...   \n",
       "1788      6181  https://v.cdn.vine.co/r/videos/BA6A5E2CC211407...   \n",
       "1789      6181  https://v.cdn.vine.co/r/videos/BA6A5E2CC211407...   \n",
       "\n",
       "                                            description  \n",
       "0                    2 men on a stage hug and walk away  \n",
       "1     two young man are standing on a stage embracin...  \n",
       "2                          deadpool drinking from a cup  \n",
       "3                             persons in costumes dance  \n",
       "4     a soccer player shoots a ball into a tiny goal...  \n",
       "...                                                 ...  \n",
       "1785  Young child on a bicycle riding across the gra...  \n",
       "1786  Child on toy motorcycle wearing red helmet cra...  \n",
       "1787  a little boy wearing a helmet is cycling on a ...  \n",
       "1788  A child wearing a helmut rides a motorized bik...  \n",
       "1789  A little boy rides a motorized bike across the...  \n",
       "\n",
       "[5486 rows x 3 columns]"
      ]
     },
     "execution_count": 17,
     "metadata": {},
     "output_type": "execute_result"
    }
   ],
   "source": [
    "all_caption_data"
   ]
  },
  {
   "cell_type": "code",
   "execution_count": null,
   "metadata": {},
   "outputs": [],
   "source": []
  }
 ],
 "metadata": {
  "kernelspec": {
   "display_name": "video-mem",
   "language": "python",
   "name": "video-mem"
  },
  "language_info": {
   "codemirror_mode": {
    "name": "ipython",
    "version": 3
   },
   "file_extension": ".py",
   "mimetype": "text/x-python",
   "name": "python",
   "nbconvert_exporter": "python",
   "pygments_lexer": "ipython3",
   "version": "3.8.5"
  }
 },
 "nbformat": 4,
 "nbformat_minor": 2
}
