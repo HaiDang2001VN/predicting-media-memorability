{
 "cells": [
  {
   "cell_type": "code",
   "execution_count": 1,
   "metadata": {},
   "outputs": [],
   "source": [
    "import pandas as pd\n",
    "import numpy as np\n",
    "\n",
    "from features.text import load_GloVe_features, fit_tokenizer, extract_GLoVe_features"
   ]
  },
  {
   "cell_type": "code",
   "execution_count": 2,
   "metadata": {},
   "outputs": [],
   "source": [
    "caption_data = pd.read_csv(\"training_set/text_descriptions.csv\")"
   ]
  },
  {
   "cell_type": "code",
   "execution_count": 3,
   "metadata": {},
   "outputs": [],
   "source": [
    "video_ids = caption_data[\"video_id\"]\n",
    "captions = caption_data[\"description\"]"
   ]
  },
  {
   "cell_type": "code",
   "execution_count": 4,
   "metadata": {},
   "outputs": [
    {
     "name": "stdout",
     "output_type": "stream",
     "text": [
      "Avg num of captions per video: 3.7135593220338983\n",
      "Max num of captions per video: 5\n",
      "Min num of captions per video: 2\n"
     ]
    }
   ],
   "source": [
    "caption_count = video_ids.groupby(video_ids).count()\n",
    "print(\"Avg num of captions per video:\", np.mean(caption_count))\n",
    "print(\"Max num of captions per video:\", np.max(caption_count))\n",
    "print(\"Min num of captions per video:\", np.min(caption_count))"
   ]
  },
  {
   "cell_type": "code",
   "execution_count": 5,
   "metadata": {},
   "outputs": [],
   "source": [
    "tokenizer = fit_tokenizer(captions)"
   ]
  },
  {
   "cell_type": "code",
   "execution_count": 6,
   "metadata": {},
   "outputs": [
    {
     "name": "stdout",
     "output_type": "stream",
     "text": [
      "Max sequence length: 86\n",
      "Min sequence length: 3\n",
      "Avg sequence length: 17.994523048836147\n"
     ]
    }
   ],
   "source": [
    "extract_GLoVe_features(video_ids, captions, tokenizer)"
   ]
  },
  {
   "cell_type": "code",
   "execution_count": 7,
   "metadata": {},
   "outputs": [],
   "source": [
    "features = load_GloVe_features(video_ids.unique())"
   ]
  },
  {
   "cell_type": "code",
   "execution_count": null,
   "metadata": {},
   "outputs": [],
   "source": []
  }
 ],
 "metadata": {
  "kernelspec": {
   "display_name": "video-mem",
   "language": "python",
   "name": "video-mem"
  },
  "language_info": {
   "codemirror_mode": {
    "name": "ipython",
    "version": 3
   },
   "file_extension": ".py",
   "mimetype": "text/x-python",
   "name": "python",
   "nbconvert_exporter": "python",
   "pygments_lexer": "ipython3",
   "version": "3.8.5"
  }
 },
 "nbformat": 4,
 "nbformat_minor": 2
}
