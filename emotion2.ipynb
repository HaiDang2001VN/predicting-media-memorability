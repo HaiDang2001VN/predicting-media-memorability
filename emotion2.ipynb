{
 "metadata": {
  "language_info": {
   "codemirror_mode": {
    "name": "ipython",
    "version": 3
   },
   "file_extension": ".py",
   "mimetype": "text/x-python",
   "name": "python",
   "nbconvert_exporter": "python",
   "pygments_lexer": "ipython3",
   "version": "3.8.3-final"
  },
  "orig_nbformat": 2,
  "kernelspec": {
   "name": "Python 3.8.3 64-bit ('base': conda)",
   "display_name": "Python 3.8.3 64-bit ('base': conda)",
   "metadata": {
    "interpreter": {
     "hash": "f7603e61612b8f774ccf94558ce3ec1382c07e231c9d01d6e4c61b9745a614ec"
    }
   }
  }
 },
 "nbformat": 4,
 "nbformat_minor": 2,
 "cells": [
  {
   "cell_type": "code",
   "execution_count": 1,
   "metadata": {},
   "outputs": [],
   "source": [
    "import torch\n",
    "import pandas as pd\n",
    "import numpy as np\n",
    "import matplotlib.pyplot as plt\n",
    "from scipy import stats\n",
    "import os\n",
    "import copy\n",
    "\n",
    "from IPython.display import Video"
   ]
  },
  {
   "cell_type": "code",
   "execution_count": 2,
   "metadata": {
    "tags": []
   },
   "outputs": [
    {
     "output_type": "stream",
     "name": "stdout",
     "text": [
      "CUDA: False\n"
     ]
    }
   ],
   "source": [
    "CUDA = torch.cuda.is_available()\n",
    "RANDOM_SEED = 9\n",
    "BATCH_SIZE = 128\n",
    "LEARNING_RATE = 1e-3\n",
    "NUM_EPOCHS = 9\n",
    "\n",
    "print(f\"CUDA: {CUDA}\")"
   ]
  },
  {
   "cell_type": "code",
   "execution_count": 3,
   "metadata": {},
   "outputs": [
    {
     "output_type": "execute_result",
     "data": {
      "text/plain": [
       "<torch._C.Generator at 0x7fdb88e1d250>"
      ]
     },
     "metadata": {},
     "execution_count": 3
    }
   ],
   "source": [
    "np.random.seed(RANDOM_SEED)\n",
    "torch.manual_seed(RANDOM_SEED)"
   ]
  },
  {
   "cell_type": "code",
   "execution_count": 4,
   "metadata": {},
   "outputs": [
    {
     "output_type": "execute_result",
     "data": {
      "text/plain": [
       "<IPython.core.display.Video object>"
      ],
      "text/html": "<video src=\"https://mtc.cdn.vine.co/r/videos/2F3C4AC3441177607211065782272_315002b18b6.1.5.17458932009632344785.mp4\" controls  >\n      Your browser does not support the <code>video</code> element.\n    </video>"
     },
     "metadata": {},
     "execution_count": 4
    }
   ],
   "source": [
    "data = pd.read_csv(\"training_set/scores_v2.csv\").set_index(\"video_id\")\n",
    "Video(data.iloc[22][\"video_url\"])"
   ]
  },
  {
   "cell_type": "code",
   "execution_count": 5,
   "metadata": {
    "tags": []
   },
   "outputs": [
    {
     "output_type": "stream",
     "name": "stdout",
     "text": [
      "WARNING:tensorflow:From /Users/kimjef/opt/anaconda3/lib/python3.8/site-packages/tensorflow/python/compat/v2_compat.py:96: disable_resource_variables (from tensorflow.python.ops.variable_scope) is deprecated and will be removed in a future version.\n",
      "Instructions for updating:\n",
      "non-resource variables are not supported in the long term\n",
      "WARNING:tensorflow:From /Users/kimjef/opt/anaconda3/lib/python3.8/site-packages/tensorflow/python/keras/engine/training_v1.py:2070: Model.state_updates (from tensorflow.python.keras.engine.training) is deprecated and will be removed in a future version.\n",
      "Instructions for updating:\n",
      "This property should not be used in TensorFlow 2.0, as updates are applied automatically.\n",
      "20-10-2020:22:38:53,367 WARNING  [deprecation.py:317] From /Users/kimjef/opt/anaconda3/lib/python3.8/site-packages/tensorflow/python/keras/engine/training_v1.py:2070: Model.state_updates (from tensorflow.python.keras.engine.training) is deprecated and will be removed in a future version.\n",
      "Instructions for updating:\n",
      "This property should not be used in TensorFlow 2.0, as updates are applied automatically.\n",
      "100%|██████████| 1770/1770 [00:43<00:00, 40.53it/s]\n"
     ]
    }
   ],
   "source": [
    "from collections import defaultdict\n",
    "import os\n",
    "import tqdm \n",
    "from collections import defaultdict\n",
    "from IPython.display import Video\n",
    "from Katna.video import Video as KatnaVideo\n",
    "from IPython.display import Image\n",
    "import matplotlib.pyplot as plt\n",
    "import matplotlib.image as mpimg\n",
    "import urllib.request \n",
    "from fer import FER\n",
    "import cv2\n",
    "import numpy as np\n",
    "\n",
    "def extract_emotions():\n",
    "    filenames = os.listdir(\"training_set/Features/AlexNetFC7\")\n",
    "    filenames.sort(key=lambda filename: int(filename[:5]))\n",
    "\n",
    "    vd = KatnaVideo()\n",
    "\n",
    "    failed = [] \n",
    "    fer = defaultdict(dict) \n",
    "    detector = FER()\n",
    "\n",
    "    for filename in tqdm.tqdm(filenames): \n",
    "        video_number = filename[:5]\n",
    "        frame_number = filename[6:9]\n",
    "        try: \n",
    "            img = cv2.imread(f\"./training_set/Frames/{video_number}-{frame_number}.png\")\n",
    "            emotions_likelihood = detector.detect_emotions(img)\n",
    "            if emotions_likelihood: \n",
    "                fer[video_number][frame_number] = (emotions_likelihood)\n",
    "            else: \n",
    "                raise Exception \n",
    "        except: \n",
    "            failed.append(filename)\n",
    "    return fer \n",
    "fer = extract_emotions()\n",
    "\n"
   ]
  },
  {
   "cell_type": "code",
   "execution_count": 68,
   "metadata": {},
   "outputs": [],
   "source": [
    "def load_emotions(fer): \n",
    "    filenames = os.listdir(\"training_set/Features/AlexNetFC7\")\n",
    "    filenames.sort(key=lambda filename: int(filename[:5]))\n",
    "\n",
    "    d = defaultdict(lambda: np.array([])) \n",
    "    emotions = ['angry', 'disgust', 'fear', 'happy', 'sad', 'surprise', 'neutral']\n",
    "    for filename in filenames: \n",
    "        video_number = filename[:5]\n",
    "        frame_number = filename[6:9]\n",
    "        analysis = frame_number in fer[video_number] and fer[video_number][frame_number]\n",
    "        if analysis: \n",
    "            default = np.array([0 for i in range(7)])\n",
    "            num_faces = len(fer[video_number][frame_number]) \n",
    "            zero_face   = np.array([fer[video_number][frame_number][0][\"emotions\"][emotion] for emotion in emotions]) \\\n",
    "                                if num_faces > 1 else default\n",
    "            first_face  = np.array([fer[video_number][frame_number][1][\"emotions\"][emotion] for emotion in emotions]) \\\n",
    "                                if num_faces > 2 else default\n",
    "            second_face = np.array([fer[video_number][frame_number][2][\"emotions\"][emotion] for emotion in emotions]) \\\n",
    "                                if num_faces > 3 else default\n",
    "            third_face  = np.array([fer[video_number][frame_number][3][\"emotions\"][emotion] for emotion in emotions]) \\\n",
    "                                if num_faces > 4 else default\n",
    "            fourth_face = np.array([fer[video_number][frame_number][4][\"emotions\"][emotion] for emotion in emotions]) \\\n",
    "                                if num_faces > 5 else default\n",
    "            d[int(video_number)] = np.hstack([d[int(video_number)], \n",
    "                                            zero_face, \n",
    "                                            first_face,\n",
    "                                            second_face, \n",
    "                                            third_face, \n",
    "                                            fourth_face])\n",
    "        else: \n",
    "            d[int(video_number)] = np.hstack([d[int(video_number)], \n",
    "                                          np.array([0 for emotion in range(5 * len(emotions))])])\n",
    "                                            #   np.array([1/len(emotions) for emotion in emotions])])\n",
    "    return pd.Series(d)\n",
    "\n",
    "data[\"emotion\"] = load_emotions(fer)\n"
   ]
  },
  {
   "cell_type": "code",
   "execution_count": 69,
   "metadata": {},
   "outputs": [],
   "source": [
    "def load_C3D_features(video_ids, path =\"training_set/Features/C3D/\"):\n",
    "    features = []\n",
    "    for video_id in video_ids:\n",
    "        filename = f\"{path}{f'{video_id}'.zfill(5)}.mp4.csv\"\n",
    "        features.append(np.loadtxt(filename, delimiter=\",\"))\n",
    "    return features\n",
    "data[\"c3d\"] = load_C3D_features(data.index)"
   ]
  },
  {
   "cell_type": "code",
   "execution_count": 70,
   "metadata": {
    "tags": []
   },
   "outputs": [
    {
     "output_type": "execute_result",
     "data": {
      "text/plain": [
       "   video_id                                          video_url  user_id    rt  \\\n",
       "0         8  https://mtc.cdn.vine.co/r/videos_h264high/9EB0...      129  1958   \n",
       "1         8  https://mtc.cdn.vine.co/r/videos_h264high/9EB0...      212  1077   \n",
       "2         8  https://mtc.cdn.vine.co/r/videos_h264high/9EB0...      335  1067   \n",
       "3         8  https://mtc.cdn.vine.co/r/videos_h264high/9EB0...      439  2265   \n",
       "4         8  https://mtc.cdn.vine.co/r/videos_h264high/9EB0...      505  1520   \n",
       "\n",
       "   key_press  video_position_first  video_position_second  correct   t  \n",
       "0         32                    59                    147        1  88  \n",
       "1         32                    32                    101        1  69  \n",
       "2         32                    70                    120        1  50  \n",
       "3         32                    55                    106        1  51  \n",
       "4         32                    67                    135        1  68  "
      ],
      "text/html": "<div>\n<style scoped>\n    .dataframe tbody tr th:only-of-type {\n        vertical-align: middle;\n    }\n\n    .dataframe tbody tr th {\n        vertical-align: top;\n    }\n\n    .dataframe thead th {\n        text-align: right;\n    }\n</style>\n<table border=\"1\" class=\"dataframe\">\n  <thead>\n    <tr style=\"text-align: right;\">\n      <th></th>\n      <th>video_id</th>\n      <th>video_url</th>\n      <th>user_id</th>\n      <th>rt</th>\n      <th>key_press</th>\n      <th>video_position_first</th>\n      <th>video_position_second</th>\n      <th>correct</th>\n      <th>t</th>\n    </tr>\n  </thead>\n  <tbody>\n    <tr>\n      <th>0</th>\n      <td>8</td>\n      <td>https://mtc.cdn.vine.co/r/videos_h264high/9EB0...</td>\n      <td>129</td>\n      <td>1958</td>\n      <td>32</td>\n      <td>59</td>\n      <td>147</td>\n      <td>1</td>\n      <td>88</td>\n    </tr>\n    <tr>\n      <th>1</th>\n      <td>8</td>\n      <td>https://mtc.cdn.vine.co/r/videos_h264high/9EB0...</td>\n      <td>212</td>\n      <td>1077</td>\n      <td>32</td>\n      <td>32</td>\n      <td>101</td>\n      <td>1</td>\n      <td>69</td>\n    </tr>\n    <tr>\n      <th>2</th>\n      <td>8</td>\n      <td>https://mtc.cdn.vine.co/r/videos_h264high/9EB0...</td>\n      <td>335</td>\n      <td>1067</td>\n      <td>32</td>\n      <td>70</td>\n      <td>120</td>\n      <td>1</td>\n      <td>50</td>\n    </tr>\n    <tr>\n      <th>3</th>\n      <td>8</td>\n      <td>https://mtc.cdn.vine.co/r/videos_h264high/9EB0...</td>\n      <td>439</td>\n      <td>2265</td>\n      <td>32</td>\n      <td>55</td>\n      <td>106</td>\n      <td>1</td>\n      <td>51</td>\n    </tr>\n    <tr>\n      <th>4</th>\n      <td>8</td>\n      <td>https://mtc.cdn.vine.co/r/videos_h264high/9EB0...</td>\n      <td>505</td>\n      <td>1520</td>\n      <td>32</td>\n      <td>67</td>\n      <td>135</td>\n      <td>1</td>\n      <td>68</td>\n    </tr>\n  </tbody>\n</table>\n</div>"
     },
     "metadata": {},
     "execution_count": 70
    }
   ],
   "source": [
    "st_annotations = pd.read_csv(\"training_set/short_term_annotations.csv\")\n",
    "st_annotations[\"t\"] = st_annotations[\"video_position_second\"] - st_annotations[\"video_position_first\"]\n",
    "st_annotations.head()"
   ]
  },
  {
   "cell_type": "code",
   "execution_count": 71,
   "metadata": {
    "tags": []
   },
   "outputs": [
    {
     "output_type": "stream",
     "name": "stdout",
     "text": [
      "Average t: 74.81127450980392\n"
     ]
    }
   ],
   "source": [
    "print(\"Average t:\", np.mean(st_annotations[\"t\"]))"
   ]
  },
  {
   "cell_type": "code",
   "execution_count": 72,
   "metadata": {},
   "outputs": [],
   "source": [
    "# We use approximately the average_t to calculate T as the memorability in question\n",
    "big_t = 75"
   ]
  },
  {
   "cell_type": "code",
   "execution_count": 73,
   "metadata": {},
   "outputs": [],
   "source": [
    "def calculate_alpha(annotations, m_T, T = 75):\n",
    "    numerator = 0\n",
    "    denominator = 0\n",
    "    for video_id, video in annotations.groupby(\"video_id\"):\n",
    "        t = video[\"t\"].to_numpy()\n",
    "        x = video[\"correct\"].to_numpy()\n",
    "        n = len(video)\n",
    "        m = m_T[video_id]\n",
    "        for j in range(n):\n",
    "            numerator += (np.log(t[j] / T) * (x[j] - m)) / n\n",
    "            denominator += (np.log(t[j] / T) ** 2) / n\n",
    "\n",
    "    return numerator / denominator"
   ]
  },
  {
   "cell_type": "code",
   "execution_count": 74,
   "metadata": {},
   "outputs": [],
   "source": [
    "def calculate_memorability(annotations, alpha, T = 75):\n",
    "    m_T = {}\n",
    "    for video_id, video in annotations.groupby(\"video_id\"):\n",
    "        t = video[\"t\"].to_numpy()\n",
    "        x = video[\"correct\"].to_numpy()\n",
    "        n = len(video)\n",
    "        m = 0\n",
    "        for j in range(n):\n",
    "            m += x[j] - (alpha * np.log(t[j] / T))\n",
    "        m_T[video_id] = m / n\n",
    "    return m_T"
   ]
  },
  {
   "cell_type": "code",
   "execution_count": 75,
   "metadata": {
    "tags": []
   },
   "outputs": [
    {
     "output_type": "stream",
     "name": "stdout",
     "text": [
      "-0.00027284180298008494\n"
     ]
    }
   ],
   "source": [
    "num_iterations = 10\n",
    "\n",
    "m_T = {video_id: 1 for video_id in st_annotations[\"video_id\"]}\n",
    "for iteration in range(num_iterations):\n",
    "    alpha = calculate_alpha(st_annotations, m_T, T = big_t)\n",
    "    m_T = calculate_memorability(st_annotations, alpha, T = big_t)\n",
    "print(alpha)"
   ]
  },
  {
   "cell_type": "code",
   "execution_count": 76,
   "metadata": {},
   "outputs": [],
   "source": [
    "data[f\"m_{big_t}\"] = pd.Series(m_T)"
   ]
  },
  {
   "cell_type": "code",
   "execution_count": 77,
   "metadata": {},
   "outputs": [
    {
     "output_type": "display_data",
     "data": {
      "text/plain": "<Figure size 432x288 with 1 Axes>",
      "image/svg+xml": "<?xml version=\"1.0\" encoding=\"utf-8\" standalone=\"no\"?>\n<!DOCTYPE svg PUBLIC \"-//W3C//DTD SVG 1.1//EN\"\n  \"http://www.w3.org/Graphics/SVG/1.1/DTD/svg11.dtd\">\n<!-- Created with matplotlib (https://matplotlib.org/) -->\n<svg height=\"248.518125pt\" version=\"1.1\" viewBox=\"0 0 372.103125 248.518125\" width=\"372.103125pt\" xmlns=\"http://www.w3.org/2000/svg\" xmlns:xlink=\"http://www.w3.org/1999/xlink\">\n <defs>\n  <style type=\"text/css\">\n*{stroke-linecap:butt;stroke-linejoin:round;}\n  </style>\n </defs>\n <g id=\"figure_1\">\n  <g id=\"patch_1\">\n   <path d=\"M 0 248.518125 \nL 372.103125 248.518125 \nL 372.103125 0 \nL 0 0 \nz\n\" style=\"fill:none;\"/>\n  </g>\n  <g id=\"axes_1\">\n   <g id=\"patch_2\">\n    <path d=\"M 30.103125 224.64 \nL 364.903125 224.64 \nL 364.903125 7.2 \nL 30.103125 7.2 \nz\n\" style=\"fill:#ffffff;\"/>\n   </g>\n   <g id=\"PathCollection_1\">\n    <defs>\n     <path d=\"M 0 3 \nC 0.795609 3 1.55874 2.683901 2.12132 2.12132 \nC 2.683901 1.55874 3 0.795609 3 0 \nC 3 -0.795609 2.683901 -1.55874 2.12132 -2.12132 \nC 1.55874 -2.683901 0.795609 -3 0 -3 \nC -0.795609 -3 -1.55874 -2.683901 -2.12132 -2.12132 \nC -2.683901 -1.55874 -3 -0.795609 -3 0 \nC -3 0.795609 -2.683901 1.55874 -2.12132 2.12132 \nC -1.55874 2.683901 -0.795609 3 0 3 \nz\n\" id=\"m9dec357a20\" style=\"stroke:#1f77b4;\"/>\n    </defs>\n    <g clip-path=\"url(#p71a6a14382)\">\n     <use style=\"fill:#1f77b4;stroke:#1f77b4;\" x=\"172.729341\" xlink:href=\"#m9dec357a20\" y=\"17.112312\"/>\n     <use style=\"fill:#1f77b4;stroke:#1f77b4;\" x=\"257.66803\" xlink:href=\"#m9dec357a20\" y=\"17.095974\"/>\n     <use style=\"fill:#1f77b4;stroke:#1f77b4;\" x=\"130.259996\" xlink:href=\"#m9dec357a20\" y=\"101.832661\"/>\n     <use style=\"fill:#1f77b4;stroke:#1f77b4;\" x=\"257.66803\" xlink:href=\"#m9dec357a20\" y=\"17.114187\"/>\n     <use style=\"fill:#1f77b4;stroke:#1f77b4;\" x=\"236.433358\" xlink:href=\"#m9dec357a20\" y=\"66.510196\"/>\n     <use style=\"fill:#1f77b4;stroke:#1f77b4;\" x=\"165.651117\" xlink:href=\"#m9dec357a20\" y=\"91.241892\"/>\n     <use style=\"fill:#1f77b4;stroke:#1f77b4;\" x=\"285.980926\" xlink:href=\"#m9dec357a20\" y=\"17.105209\"/>\n     <use style=\"fill:#1f77b4;stroke:#1f77b4;\" x=\"271.824478\" xlink:href=\"#m9dec357a20\" y=\"17.096723\"/>\n     <use style=\"fill:#1f77b4;stroke:#1f77b4;\" x=\"222.276909\" xlink:href=\"#m9dec357a20\" y=\"66.504512\"/>\n     <use style=\"fill:#1f77b4;stroke:#1f77b4;\" x=\"215.198685\" xlink:href=\"#m9dec357a20\" y=\"66.512489\"/>\n     <use style=\"fill:#1f77b4;stroke:#1f77b4;\" x=\"158.572892\" xlink:href=\"#m9dec357a20\" y=\"17.100001\"/>\n     <use style=\"fill:#1f77b4;stroke:#1f77b4;\" x=\"222.276909\" xlink:href=\"#m9dec357a20\" y=\"76.411355\"/>\n     <use style=\"fill:#1f77b4;stroke:#1f77b4;\" x=\"264.746254\" xlink:href=\"#m9dec357a20\" y=\"66.519203\"/>\n     <use style=\"fill:#1f77b4;stroke:#1f77b4;\" x=\"222.276909\" xlink:href=\"#m9dec357a20\" y=\"17.104573\"/>\n     <use style=\"fill:#1f77b4;stroke:#1f77b4;\" x=\"257.66803\" xlink:href=\"#m9dec357a20\" y=\"66.518184\"/>\n     <use style=\"fill:#1f77b4;stroke:#1f77b4;\" x=\"229.355133\" xlink:href=\"#m9dec357a20\" y=\"17.099573\"/>\n     <use style=\"fill:#1f77b4;stroke:#1f77b4;\" x=\"243.511582\" xlink:href=\"#m9dec357a20\" y=\"101.827101\"/>\n     <use style=\"fill:#1f77b4;stroke:#1f77b4;\" x=\"285.980926\" xlink:href=\"#m9dec357a20\" y=\"17.087312\"/>\n     <use style=\"fill:#1f77b4;stroke:#1f77b4;\" x=\"151.494668\" xlink:href=\"#m9dec357a20\" y=\"54.157203\"/>\n     <use style=\"fill:#1f77b4;stroke:#1f77b4;\" x=\"293.05915\" xlink:href=\"#m9dec357a20\" y=\"17.095629\"/>\n     <use style=\"fill:#1f77b4;stroke:#1f77b4;\" x=\"264.746254\" xlink:href=\"#m9dec357a20\" y=\"91.232166\"/>\n     <use style=\"fill:#1f77b4;stroke:#1f77b4;\" x=\"321.372047\" xlink:href=\"#m9dec357a20\" y=\"17.114449\"/>\n     <use style=\"fill:#1f77b4;stroke:#1f77b4;\" x=\"193.964013\" xlink:href=\"#m9dec357a20\" y=\"165.344828\"/>\n     <use style=\"fill:#1f77b4;stroke:#1f77b4;\" x=\"349.684943\" xlink:href=\"#m9dec357a20\" y=\"17.096527\"/>\n     <use style=\"fill:#1f77b4;stroke:#1f77b4;\" x=\"243.511582\" xlink:href=\"#m9dec357a20\" y=\"17.098171\"/>\n     <use style=\"fill:#1f77b4;stroke:#1f77b4;\" x=\"193.964013\" xlink:href=\"#m9dec357a20\" y=\"59.466225\"/>\n     <use style=\"fill:#1f77b4;stroke:#1f77b4;\" x=\"208.120461\" xlink:href=\"#m9dec357a20\" y=\"144.179237\"/>\n     <use style=\"fill:#1f77b4;stroke:#1f77b4;\" x=\"208.120461\" xlink:href=\"#m9dec357a20\" y=\"115.929785\"/>\n     <use style=\"fill:#1f77b4;stroke:#1f77b4;\" x=\"314.293823\" xlink:href=\"#m9dec357a20\" y=\"17.093988\"/>\n     <use style=\"fill:#1f77b4;stroke:#1f77b4;\" x=\"179.807565\" xlink:href=\"#m9dec357a20\" y=\"165.350578\"/>\n     <use style=\"fill:#1f77b4;stroke:#1f77b4;\" x=\"257.66803\" xlink:href=\"#m9dec357a20\" y=\"17.110653\"/>\n     <use style=\"fill:#1f77b4;stroke:#1f77b4;\" x=\"186.885789\" xlink:href=\"#m9dec357a20\" y=\"76.392033\"/>\n     <use style=\"fill:#1f77b4;stroke:#1f77b4;\" x=\"349.684943\" xlink:href=\"#m9dec357a20\" y=\"17.101136\"/>\n     <use style=\"fill:#1f77b4;stroke:#1f77b4;\" x=\"300.137374\" xlink:href=\"#m9dec357a20\" y=\"17.104132\"/>\n     <use style=\"fill:#1f77b4;stroke:#1f77b4;\" x=\"144.416444\" xlink:href=\"#m9dec357a20\" y=\"135.694259\"/>\n     <use style=\"fill:#1f77b4;stroke:#1f77b4;\" x=\"45.321307\" xlink:href=\"#m9dec357a20\" y=\"115.924397\"/>\n     <use style=\"fill:#1f77b4;stroke:#1f77b4;\" x=\"144.416444\" xlink:href=\"#m9dec357a20\" y=\"66.525601\"/>\n     <use style=\"fill:#1f77b4;stroke:#1f77b4;\" x=\"243.511582\" xlink:href=\"#m9dec357a20\" y=\"76.40511\"/>\n     <use style=\"fill:#1f77b4;stroke:#1f77b4;\" x=\"257.66803\" xlink:href=\"#m9dec357a20\" y=\"101.799092\"/>\n     <use style=\"fill:#1f77b4;stroke:#1f77b4;\" x=\"208.120461\" xlink:href=\"#m9dec357a20\" y=\"101.816994\"/>\n     <use style=\"fill:#1f77b4;stroke:#1f77b4;\" x=\"300.137374\" xlink:href=\"#m9dec357a20\" y=\"17.091344\"/>\n     <use style=\"fill:#1f77b4;stroke:#1f77b4;\" x=\"94.868876\" xlink:href=\"#m9dec357a20\" y=\"66.508639\"/>\n     <use style=\"fill:#1f77b4;stroke:#1f77b4;\" x=\"349.684943\" xlink:href=\"#m9dec357a20\" y=\"17.108897\"/>\n     <use style=\"fill:#1f77b4;stroke:#1f77b4;\" x=\"243.511582\" xlink:href=\"#m9dec357a20\" y=\"59.467195\"/>\n     <use style=\"fill:#1f77b4;stroke:#1f77b4;\" x=\"208.120461\" xlink:href=\"#m9dec357a20\" y=\"76.38913\"/>\n     <use style=\"fill:#1f77b4;stroke:#1f77b4;\" x=\"321.372047\" xlink:href=\"#m9dec357a20\" y=\"17.103153\"/>\n     <use style=\"fill:#1f77b4;stroke:#1f77b4;\" x=\"271.824478\" xlink:href=\"#m9dec357a20\" y=\"66.525472\"/>\n     <use style=\"fill:#1f77b4;stroke:#1f77b4;\" x=\"271.824478\" xlink:href=\"#m9dec357a20\" y=\"17.105801\"/>\n     <use style=\"fill:#1f77b4;stroke:#1f77b4;\" x=\"201.042237\" xlink:href=\"#m9dec357a20\" y=\"59.458962\"/>\n     <use style=\"fill:#1f77b4;stroke:#1f77b4;\" x=\"215.198685\" xlink:href=\"#m9dec357a20\" y=\"17.104262\"/>\n     <use style=\"fill:#1f77b4;stroke:#1f77b4;\" x=\"215.198685\" xlink:href=\"#m9dec357a20\" y=\"17.094261\"/>\n     <use style=\"fill:#1f77b4;stroke:#1f77b4;\" x=\"186.885789\" xlink:href=\"#m9dec357a20\" y=\"17.094056\"/>\n     <use style=\"fill:#1f77b4;stroke:#1f77b4;\" x=\"271.824478\" xlink:href=\"#m9dec357a20\" y=\"54.162607\"/>\n     <use style=\"fill:#1f77b4;stroke:#1f77b4;\" x=\"278.902702\" xlink:href=\"#m9dec357a20\" y=\"17.103743\"/>\n     <use style=\"fill:#1f77b4;stroke:#1f77b4;\" x=\"222.276909\" xlink:href=\"#m9dec357a20\" y=\"91.233791\"/>\n     <use style=\"fill:#1f77b4;stroke:#1f77b4;\" x=\"257.66803\" xlink:href=\"#m9dec357a20\" y=\"17.112495\"/>\n     <use style=\"fill:#1f77b4;stroke:#1f77b4;\" x=\"144.416444\" xlink:href=\"#m9dec357a20\" y=\"59.449193\"/>\n     <use style=\"fill:#1f77b4;stroke:#1f77b4;\" x=\"264.746254\" xlink:href=\"#m9dec357a20\" y=\"17.099219\"/>\n     <use style=\"fill:#1f77b4;stroke:#1f77b4;\" x=\"293.05915\" xlink:href=\"#m9dec357a20\" y=\"17.095247\"/>\n     <use style=\"fill:#1f77b4;stroke:#1f77b4;\" x=\"264.746254\" xlink:href=\"#m9dec357a20\" y=\"115.924901\"/>\n     <use style=\"fill:#1f77b4;stroke:#1f77b4;\" x=\"300.137374\" xlink:href=\"#m9dec357a20\" y=\"17.095875\"/>\n     <use style=\"fill:#1f77b4;stroke:#1f77b4;\" x=\"349.684943\" xlink:href=\"#m9dec357a20\" y=\"17.118421\"/>\n     <use style=\"fill:#1f77b4;stroke:#1f77b4;\" x=\"293.05915\" xlink:href=\"#m9dec357a20\" y=\"76.388187\"/>\n     <use style=\"fill:#1f77b4;stroke:#1f77b4;\" x=\"293.05915\" xlink:href=\"#m9dec357a20\" y=\"17.092065\"/>\n     <use style=\"fill:#1f77b4;stroke:#1f77b4;\" x=\"222.276909\" xlink:href=\"#m9dec357a20\" y=\"101.808913\"/>\n     <use style=\"fill:#1f77b4;stroke:#1f77b4;\" x=\"208.120461\" xlink:href=\"#m9dec357a20\" y=\"17.102633\"/>\n     <use style=\"fill:#1f77b4;stroke:#1f77b4;\" x=\"123.181772\" xlink:href=\"#m9dec357a20\" y=\"165.331968\"/>\n     <use style=\"fill:#1f77b4;stroke:#1f77b4;\" x=\"94.868876\" xlink:href=\"#m9dec357a20\" y=\"135.688553\"/>\n     <use style=\"fill:#1f77b4;stroke:#1f77b4;\" x=\"208.120461\" xlink:href=\"#m9dec357a20\" y=\"66.517412\"/>\n     <use style=\"fill:#1f77b4;stroke:#1f77b4;\" x=\"201.042237\" xlink:href=\"#m9dec357a20\" y=\"59.451317\"/>\n     <use style=\"fill:#1f77b4;stroke:#1f77b4;\" x=\"278.902702\" xlink:href=\"#m9dec357a20\" y=\"17.090493\"/>\n     <use style=\"fill:#1f77b4;stroke:#1f77b4;\" x=\"264.746254\" xlink:href=\"#m9dec357a20\" y=\"17.092328\"/>\n     <use style=\"fill:#1f77b4;stroke:#1f77b4;\" x=\"158.572892\" xlink:href=\"#m9dec357a20\" y=\"54.159532\"/>\n     <use style=\"fill:#1f77b4;stroke:#1f77b4;\" x=\"215.198685\" xlink:href=\"#m9dec357a20\" y=\"17.122145\"/>\n     <use style=\"fill:#1f77b4;stroke:#1f77b4;\" x=\"307.215599\" xlink:href=\"#m9dec357a20\" y=\"59.457361\"/>\n     <use style=\"fill:#1f77b4;stroke:#1f77b4;\" x=\"264.746254\" xlink:href=\"#m9dec357a20\" y=\"17.094774\"/>\n     <use style=\"fill:#1f77b4;stroke:#1f77b4;\" x=\"257.66803\" xlink:href=\"#m9dec357a20\" y=\"59.458482\"/>\n     <use style=\"fill:#1f77b4;stroke:#1f77b4;\" x=\"250.589806\" xlink:href=\"#m9dec357a20\" y=\"17.101223\"/>\n     <use style=\"fill:#1f77b4;stroke:#1f77b4;\" x=\"264.746254\" xlink:href=\"#m9dec357a20\" y=\"17.106614\"/>\n     <use style=\"fill:#1f77b4;stroke:#1f77b4;\" x=\"293.05915\" xlink:href=\"#m9dec357a20\" y=\"17.098688\"/>\n     <use style=\"fill:#1f77b4;stroke:#1f77b4;\" x=\"123.181772\" xlink:href=\"#m9dec357a20\" y=\"91.21934\"/>\n     <use style=\"fill:#1f77b4;stroke:#1f77b4;\" x=\"278.902702\" xlink:href=\"#m9dec357a20\" y=\"59.45558\"/>\n     <use style=\"fill:#1f77b4;stroke:#1f77b4;\" x=\"257.66803\" xlink:href=\"#m9dec357a20\" y=\"59.458631\"/>\n     <use style=\"fill:#1f77b4;stroke:#1f77b4;\" x=\"278.902702\" xlink:href=\"#m9dec357a20\" y=\"66.513979\"/>\n     <use style=\"fill:#1f77b4;stroke:#1f77b4;\" x=\"264.746254\" xlink:href=\"#m9dec357a20\" y=\"17.100214\"/>\n     <use style=\"fill:#1f77b4;stroke:#1f77b4;\" x=\"285.980926\" xlink:href=\"#m9dec357a20\" y=\"17.112874\"/>\n     <use style=\"fill:#1f77b4;stroke:#1f77b4;\" x=\"101.9471\" xlink:href=\"#m9dec357a20\" y=\"17.103276\"/>\n     <use style=\"fill:#1f77b4;stroke:#1f77b4;\" x=\"314.293823\" xlink:href=\"#m9dec357a20\" y=\"17.103847\"/>\n     <use style=\"fill:#1f77b4;stroke:#1f77b4;\" x=\"215.198685\" xlink:href=\"#m9dec357a20\" y=\"17.100142\"/>\n     <use style=\"fill:#1f77b4;stroke:#1f77b4;\" x=\"264.746254\" xlink:href=\"#m9dec357a20\" y=\"17.094442\"/>\n     <use style=\"fill:#1f77b4;stroke:#1f77b4;\" x=\"130.259996\" xlink:href=\"#m9dec357a20\" y=\"76.413147\"/>\n     <use style=\"fill:#1f77b4;stroke:#1f77b4;\" x=\"137.33822\" xlink:href=\"#m9dec357a20\" y=\"165.34774\"/>\n     <use style=\"fill:#1f77b4;stroke:#1f77b4;\" x=\"300.137374\" xlink:href=\"#m9dec357a20\" y=\"17.09634\"/>\n     <use style=\"fill:#1f77b4;stroke:#1f77b4;\" x=\"349.684943\" xlink:href=\"#m9dec357a20\" y=\"17.109461\"/>\n     <use style=\"fill:#1f77b4;stroke:#1f77b4;\" x=\"293.05915\" xlink:href=\"#m9dec357a20\" y=\"66.519962\"/>\n     <use style=\"fill:#1f77b4;stroke:#1f77b4;\" x=\"271.824478\" xlink:href=\"#m9dec357a20\" y=\"17.111825\"/>\n     <use style=\"fill:#1f77b4;stroke:#1f77b4;\" x=\"165.651117\" xlink:href=\"#m9dec357a20\" y=\"54.168153\"/>\n     <use style=\"fill:#1f77b4;stroke:#1f77b4;\" x=\"137.33822\" xlink:href=\"#m9dec357a20\" y=\"59.449338\"/>\n     <use style=\"fill:#1f77b4;stroke:#1f77b4;\" x=\"321.372047\" xlink:href=\"#m9dec357a20\" y=\"17.092213\"/>\n     <use style=\"fill:#1f77b4;stroke:#1f77b4;\" x=\"321.372047\" xlink:href=\"#m9dec357a20\" y=\"17.097887\"/>\n     <use style=\"fill:#1f77b4;stroke:#1f77b4;\" x=\"257.66803\" xlink:href=\"#m9dec357a20\" y=\"59.454627\"/>\n     <use style=\"fill:#1f77b4;stroke:#1f77b4;\" x=\"215.198685\" xlink:href=\"#m9dec357a20\" y=\"17.111648\"/>\n     <use style=\"fill:#1f77b4;stroke:#1f77b4;\" x=\"314.293823\" xlink:href=\"#m9dec357a20\" y=\"17.104066\"/>\n     <use style=\"fill:#1f77b4;stroke:#1f77b4;\" x=\"137.33822\" xlink:href=\"#m9dec357a20\" y=\"76.409487\"/>\n     <use style=\"fill:#1f77b4;stroke:#1f77b4;\" x=\"236.433358\" xlink:href=\"#m9dec357a20\" y=\"59.449122\"/>\n     <use style=\"fill:#1f77b4;stroke:#1f77b4;\" x=\"285.980926\" xlink:href=\"#m9dec357a20\" y=\"17.10858\"/>\n     <use style=\"fill:#1f77b4;stroke:#1f77b4;\" x=\"186.885789\" xlink:href=\"#m9dec357a20\" y=\"54.154039\"/>\n     <use style=\"fill:#1f77b4;stroke:#1f77b4;\" x=\"158.572892\" xlink:href=\"#m9dec357a20\" y=\"59.44491\"/>\n     <use style=\"fill:#1f77b4;stroke:#1f77b4;\" x=\"285.980926\" xlink:href=\"#m9dec357a20\" y=\"17.107717\"/>\n     <use style=\"fill:#1f77b4;stroke:#1f77b4;\" x=\"243.511582\" xlink:href=\"#m9dec357a20\" y=\"17.095239\"/>\n     <use style=\"fill:#1f77b4;stroke:#1f77b4;\" x=\"215.198685\" xlink:href=\"#m9dec357a20\" y=\"54.170073\"/>\n     <use style=\"fill:#1f77b4;stroke:#1f77b4;\" x=\"307.215599\" xlink:href=\"#m9dec357a20\" y=\"66.515477\"/>\n     <use style=\"fill:#1f77b4;stroke:#1f77b4;\" x=\"264.746254\" xlink:href=\"#m9dec357a20\" y=\"115.928098\"/>\n     <use style=\"fill:#1f77b4;stroke:#1f77b4;\" x=\"314.293823\" xlink:href=\"#m9dec357a20\" y=\"17.104882\"/>\n     <use style=\"fill:#1f77b4;stroke:#1f77b4;\" x=\"349.684943\" xlink:href=\"#m9dec357a20\" y=\"17.109728\"/>\n     <use style=\"fill:#1f77b4;stroke:#1f77b4;\" x=\"321.372047\" xlink:href=\"#m9dec357a20\" y=\"76.399933\"/>\n     <use style=\"fill:#1f77b4;stroke:#1f77b4;\" x=\"229.355133\" xlink:href=\"#m9dec357a20\" y=\"66.510526\"/>\n     <use style=\"fill:#1f77b4;stroke:#1f77b4;\" x=\"236.433358\" xlink:href=\"#m9dec357a20\" y=\"17.104341\"/>\n     <use style=\"fill:#1f77b4;stroke:#1f77b4;\" x=\"80.712427\" xlink:href=\"#m9dec357a20\" y=\"66.525214\"/>\n     <use style=\"fill:#1f77b4;stroke:#1f77b4;\" x=\"271.824478\" xlink:href=\"#m9dec357a20\" y=\"76.400868\"/>\n     <use style=\"fill:#1f77b4;stroke:#1f77b4;\" x=\"278.902702\" xlink:href=\"#m9dec357a20\" y=\"17.090409\"/>\n     <use style=\"fill:#1f77b4;stroke:#1f77b4;\" x=\"229.355133\" xlink:href=\"#m9dec357a20\" y=\"17.102759\"/>\n     <use style=\"fill:#1f77b4;stroke:#1f77b4;\" x=\"151.494668\" xlink:href=\"#m9dec357a20\" y=\"101.812115\"/>\n     <use style=\"fill:#1f77b4;stroke:#1f77b4;\" x=\"285.980926\" xlink:href=\"#m9dec357a20\" y=\"17.101353\"/>\n     <use style=\"fill:#1f77b4;stroke:#1f77b4;\" x=\"236.433358\" xlink:href=\"#m9dec357a20\" y=\"115.926432\"/>\n     <use style=\"fill:#1f77b4;stroke:#1f77b4;\" x=\"215.198685\" xlink:href=\"#m9dec357a20\" y=\"76.391557\"/>\n     <use style=\"fill:#1f77b4;stroke:#1f77b4;\" x=\"208.120461\" xlink:href=\"#m9dec357a20\" y=\"17.101393\"/>\n     <use style=\"fill:#1f77b4;stroke:#1f77b4;\" x=\"66.555979\" xlink:href=\"#m9dec357a20\" y=\"76.386112\"/>\n     <use style=\"fill:#1f77b4;stroke:#1f77b4;\" x=\"243.511582\" xlink:href=\"#m9dec357a20\" y=\"59.477141\"/>\n     <use style=\"fill:#1f77b4;stroke:#1f77b4;\" x=\"222.276909\" xlink:href=\"#m9dec357a20\" y=\"76.388099\"/>\n     <use style=\"fill:#1f77b4;stroke:#1f77b4;\" x=\"278.902702\" xlink:href=\"#m9dec357a20\" y=\"17.095219\"/>\n     <use style=\"fill:#1f77b4;stroke:#1f77b4;\" x=\"243.511582\" xlink:href=\"#m9dec357a20\" y=\"59.4553\"/>\n     <use style=\"fill:#1f77b4;stroke:#1f77b4;\" x=\"243.511582\" xlink:href=\"#m9dec357a20\" y=\"17.09783\"/>\n     <use style=\"fill:#1f77b4;stroke:#1f77b4;\" x=\"144.416444\" xlink:href=\"#m9dec357a20\" y=\"115.917685\"/>\n     <use style=\"fill:#1f77b4;stroke:#1f77b4;\" x=\"307.215599\" xlink:href=\"#m9dec357a20\" y=\"17.099238\"/>\n     <use style=\"fill:#1f77b4;stroke:#1f77b4;\" x=\"201.042237\" xlink:href=\"#m9dec357a20\" y=\"91.218321\"/>\n     <use style=\"fill:#1f77b4;stroke:#1f77b4;\" x=\"144.416444\" xlink:href=\"#m9dec357a20\" y=\"66.514252\"/>\n     <use style=\"fill:#1f77b4;stroke:#1f77b4;\" x=\"179.807565\" xlink:href=\"#m9dec357a20\" y=\"115.932772\"/>\n     <use style=\"fill:#1f77b4;stroke:#1f77b4;\" x=\"293.05915\" xlink:href=\"#m9dec357a20\" y=\"17.106464\"/>\n     <use style=\"fill:#1f77b4;stroke:#1f77b4;\" x=\"179.807565\" xlink:href=\"#m9dec357a20\" y=\"76.40798\"/>\n     <use style=\"fill:#1f77b4;stroke:#1f77b4;\" x=\"300.137374\" xlink:href=\"#m9dec357a20\" y=\"17.085665\"/>\n     <use style=\"fill:#1f77b4;stroke:#1f77b4;\" x=\"264.746254\" xlink:href=\"#m9dec357a20\" y=\"17.099142\"/>\n     <use style=\"fill:#1f77b4;stroke:#1f77b4;\" x=\"144.416444\" xlink:href=\"#m9dec357a20\" y=\"17.126074\"/>\n     <use style=\"fill:#1f77b4;stroke:#1f77b4;\" x=\"236.433358\" xlink:href=\"#m9dec357a20\" y=\"17.113171\"/>\n     <use style=\"fill:#1f77b4;stroke:#1f77b4;\" x=\"285.980926\" xlink:href=\"#m9dec357a20\" y=\"17.100106\"/>\n     <use style=\"fill:#1f77b4;stroke:#1f77b4;\" x=\"208.120461\" xlink:href=\"#m9dec357a20\" y=\"17.088911\"/>\n     <use style=\"fill:#1f77b4;stroke:#1f77b4;\" x=\"257.66803\" xlink:href=\"#m9dec357a20\" y=\"17.107025\"/>\n     <use style=\"fill:#1f77b4;stroke:#1f77b4;\" x=\"222.276909\" xlink:href=\"#m9dec357a20\" y=\"66.517151\"/>\n     <use style=\"fill:#1f77b4;stroke:#1f77b4;\" x=\"101.9471\" xlink:href=\"#m9dec357a20\" y=\"59.464124\"/>\n     <use style=\"fill:#1f77b4;stroke:#1f77b4;\" x=\"285.980926\" xlink:href=\"#m9dec357a20\" y=\"17.098676\"/>\n     <use style=\"fill:#1f77b4;stroke:#1f77b4;\" x=\"236.433358\" xlink:href=\"#m9dec357a20\" y=\"115.924282\"/>\n     <use style=\"fill:#1f77b4;stroke:#1f77b4;\" x=\"179.807565\" xlink:href=\"#m9dec357a20\" y=\"17.099039\"/>\n     <use style=\"fill:#1f77b4;stroke:#1f77b4;\" x=\"165.651117\" xlink:href=\"#m9dec357a20\" y=\"101.806945\"/>\n     <use style=\"fill:#1f77b4;stroke:#1f77b4;\" x=\"172.729341\" xlink:href=\"#m9dec357a20\" y=\"17.108521\"/>\n     <use style=\"fill:#1f77b4;stroke:#1f77b4;\" x=\"271.824478\" xlink:href=\"#m9dec357a20\" y=\"17.09472\"/>\n     <use style=\"fill:#1f77b4;stroke:#1f77b4;\" x=\"349.684943\" xlink:href=\"#m9dec357a20\" y=\"17.096371\"/>\n     <use style=\"fill:#1f77b4;stroke:#1f77b4;\" x=\"179.807565\" xlink:href=\"#m9dec357a20\" y=\"59.457881\"/>\n     <use style=\"fill:#1f77b4;stroke:#1f77b4;\" x=\"243.511582\" xlink:href=\"#m9dec357a20\" y=\"66.515334\"/>\n     <use style=\"fill:#1f77b4;stroke:#1f77b4;\" x=\"349.684943\" xlink:href=\"#m9dec357a20\" y=\"17.110224\"/>\n     <use style=\"fill:#1f77b4;stroke:#1f77b4;\" x=\"222.276909\" xlink:href=\"#m9dec357a20\" y=\"17.119406\"/>\n     <use style=\"fill:#1f77b4;stroke:#1f77b4;\" x=\"243.511582\" xlink:href=\"#m9dec357a20\" y=\"17.105726\"/>\n     <use style=\"fill:#1f77b4;stroke:#1f77b4;\" x=\"66.555979\" xlink:href=\"#m9dec357a20\" y=\"59.458819\"/>\n     <use style=\"fill:#1f77b4;stroke:#1f77b4;\" x=\"229.355133\" xlink:href=\"#m9dec357a20\" y=\"17.105716\"/>\n     <use style=\"fill:#1f77b4;stroke:#1f77b4;\" x=\"314.293823\" xlink:href=\"#m9dec357a20\" y=\"17.108999\"/>\n     <use style=\"fill:#1f77b4;stroke:#1f77b4;\" x=\"201.042237\" xlink:href=\"#m9dec357a20\" y=\"66.513313\"/>\n     <use style=\"fill:#1f77b4;stroke:#1f77b4;\" x=\"179.807565\" xlink:href=\"#m9dec357a20\" y=\"17.099899\"/>\n     <use style=\"fill:#1f77b4;stroke:#1f77b4;\" x=\"137.33822\" xlink:href=\"#m9dec357a20\" y=\"66.513548\"/>\n     <use style=\"fill:#1f77b4;stroke:#1f77b4;\" x=\"349.684943\" xlink:href=\"#m9dec357a20\" y=\"17.104328\"/>\n     <use style=\"fill:#1f77b4;stroke:#1f77b4;\" x=\"229.355133\" xlink:href=\"#m9dec357a20\" y=\"76.393703\"/>\n     <use style=\"fill:#1f77b4;stroke:#1f77b4;\" x=\"116.103548\" xlink:href=\"#m9dec357a20\" y=\"195.00049\"/>\n     <use style=\"fill:#1f77b4;stroke:#1f77b4;\" x=\"285.980926\" xlink:href=\"#m9dec357a20\" y=\"66.51728\"/>\n     <use style=\"fill:#1f77b4;stroke:#1f77b4;\" x=\"172.729341\" xlink:href=\"#m9dec357a20\" y=\"17.087558\"/>\n     <use style=\"fill:#1f77b4;stroke:#1f77b4;\" x=\"264.746254\" xlink:href=\"#m9dec357a20\" y=\"76.385078\"/>\n     <use style=\"fill:#1f77b4;stroke:#1f77b4;\" x=\"201.042237\" xlink:href=\"#m9dec357a20\" y=\"17.103393\"/>\n     <use style=\"fill:#1f77b4;stroke:#1f77b4;\" x=\"278.902702\" xlink:href=\"#m9dec357a20\" y=\"17.101035\"/>\n     <use style=\"fill:#1f77b4;stroke:#1f77b4;\" x=\"158.572892\" xlink:href=\"#m9dec357a20\" y=\"76.404788\"/>\n     <use style=\"fill:#1f77b4;stroke:#1f77b4;\" x=\"293.05915\" xlink:href=\"#m9dec357a20\" y=\"17.095511\"/>\n     <use style=\"fill:#1f77b4;stroke:#1f77b4;\" x=\"271.824478\" xlink:href=\"#m9dec357a20\" y=\"66.517292\"/>\n     <use style=\"fill:#1f77b4;stroke:#1f77b4;\" x=\"264.746254\" xlink:href=\"#m9dec357a20\" y=\"17.09631\"/>\n     <use style=\"fill:#1f77b4;stroke:#1f77b4;\" x=\"243.511582\" xlink:href=\"#m9dec357a20\" y=\"59.461308\"/>\n     <use style=\"fill:#1f77b4;stroke:#1f77b4;\" x=\"229.355133\" xlink:href=\"#m9dec357a20\" y=\"144.158553\"/>\n     <use style=\"fill:#1f77b4;stroke:#1f77b4;\" x=\"144.416444\" xlink:href=\"#m9dec357a20\" y=\"66.505502\"/>\n     <use style=\"fill:#1f77b4;stroke:#1f77b4;\" x=\"314.293823\" xlink:href=\"#m9dec357a20\" y=\"17.096949\"/>\n     <use style=\"fill:#1f77b4;stroke:#1f77b4;\" x=\"271.824478\" xlink:href=\"#m9dec357a20\" y=\"66.535464\"/>\n     <use style=\"fill:#1f77b4;stroke:#1f77b4;\" x=\"349.684943\" xlink:href=\"#m9dec357a20\" y=\"17.097877\"/>\n     <use style=\"fill:#1f77b4;stroke:#1f77b4;\" x=\"172.729341\" xlink:href=\"#m9dec357a20\" y=\"17.093355\"/>\n     <use style=\"fill:#1f77b4;stroke:#1f77b4;\" x=\"193.964013\" xlink:href=\"#m9dec357a20\" y=\"59.453041\"/>\n     <use style=\"fill:#1f77b4;stroke:#1f77b4;\" x=\"314.293823\" xlink:href=\"#m9dec357a20\" y=\"17.106117\"/>\n     <use style=\"fill:#1f77b4;stroke:#1f77b4;\" x=\"229.355133\" xlink:href=\"#m9dec357a20\" y=\"76.395847\"/>\n     <use style=\"fill:#1f77b4;stroke:#1f77b4;\" x=\"229.355133\" xlink:href=\"#m9dec357a20\" y=\"59.470026\"/>\n     <use style=\"fill:#1f77b4;stroke:#1f77b4;\" x=\"229.355133\" xlink:href=\"#m9dec357a20\" y=\"66.510812\"/>\n     <use style=\"fill:#1f77b4;stroke:#1f77b4;\" x=\"250.589806\" xlink:href=\"#m9dec357a20\" y=\"115.935288\"/>\n     <use style=\"fill:#1f77b4;stroke:#1f77b4;\" x=\"293.05915\" xlink:href=\"#m9dec357a20\" y=\"17.100616\"/>\n     <use style=\"fill:#1f77b4;stroke:#1f77b4;\" x=\"208.120461\" xlink:href=\"#m9dec357a20\" y=\"115.93435\"/>\n     <use style=\"fill:#1f77b4;stroke:#1f77b4;\" x=\"179.807565\" xlink:href=\"#m9dec357a20\" y=\"101.808109\"/>\n     <use style=\"fill:#1f77b4;stroke:#1f77b4;\" x=\"264.746254\" xlink:href=\"#m9dec357a20\" y=\"115.93391\"/>\n     <use style=\"fill:#1f77b4;stroke:#1f77b4;\" x=\"257.66803\" xlink:href=\"#m9dec357a20\" y=\"76.408044\"/>\n     <use style=\"fill:#1f77b4;stroke:#1f77b4;\" x=\"250.589806\" xlink:href=\"#m9dec357a20\" y=\"135.694961\"/>\n     <use style=\"fill:#1f77b4;stroke:#1f77b4;\" x=\"250.589806\" xlink:href=\"#m9dec357a20\" y=\"66.51602\"/>\n     <use style=\"fill:#1f77b4;stroke:#1f77b4;\" x=\"236.433358\" xlink:href=\"#m9dec357a20\" y=\"59.455839\"/>\n     <use style=\"fill:#1f77b4;stroke:#1f77b4;\" x=\"158.572892\" xlink:href=\"#m9dec357a20\" y=\"144.176046\"/>\n     <use style=\"fill:#1f77b4;stroke:#1f77b4;\" x=\"257.66803\" xlink:href=\"#m9dec357a20\" y=\"59.461895\"/>\n     <use style=\"fill:#1f77b4;stroke:#1f77b4;\" x=\"165.651117\" xlink:href=\"#m9dec357a20\" y=\"59.457845\"/>\n     <use style=\"fill:#1f77b4;stroke:#1f77b4;\" x=\"264.746254\" xlink:href=\"#m9dec357a20\" y=\"66.514809\"/>\n     <use style=\"fill:#1f77b4;stroke:#1f77b4;\" x=\"250.589806\" xlink:href=\"#m9dec357a20\" y=\"66.514859\"/>\n     <use style=\"fill:#1f77b4;stroke:#1f77b4;\" x=\"285.980926\" xlink:href=\"#m9dec357a20\" y=\"17.086408\"/>\n     <use style=\"fill:#1f77b4;stroke:#1f77b4;\" x=\"208.120461\" xlink:href=\"#m9dec357a20\" y=\"66.52844\"/>\n     <use style=\"fill:#1f77b4;stroke:#1f77b4;\" x=\"250.589806\" xlink:href=\"#m9dec357a20\" y=\"17.095607\"/>\n     <use style=\"fill:#1f77b4;stroke:#1f77b4;\" x=\"229.355133\" xlink:href=\"#m9dec357a20\" y=\"17.105024\"/>\n     <use style=\"fill:#1f77b4;stroke:#1f77b4;\" x=\"293.05915\" xlink:href=\"#m9dec357a20\" y=\"17.103962\"/>\n     <use style=\"fill:#1f77b4;stroke:#1f77b4;\" x=\"229.355133\" xlink:href=\"#m9dec357a20\" y=\"17.104969\"/>\n     <use style=\"fill:#1f77b4;stroke:#1f77b4;\" x=\"250.589806\" xlink:href=\"#m9dec357a20\" y=\"66.510564\"/>\n     <use style=\"fill:#1f77b4;stroke:#1f77b4;\" x=\"264.746254\" xlink:href=\"#m9dec357a20\" y=\"59.452409\"/>\n     <use style=\"fill:#1f77b4;stroke:#1f77b4;\" x=\"285.980926\" xlink:href=\"#m9dec357a20\" y=\"17.083753\"/>\n     <use style=\"fill:#1f77b4;stroke:#1f77b4;\" x=\"321.372047\" xlink:href=\"#m9dec357a20\" y=\"17.092001\"/>\n     <use style=\"fill:#1f77b4;stroke:#1f77b4;\" x=\"208.120461\" xlink:href=\"#m9dec357a20\" y=\"66.503751\"/>\n     <use style=\"fill:#1f77b4;stroke:#1f77b4;\" x=\"193.964013\" xlink:href=\"#m9dec357a20\" y=\"17.088033\"/>\n     <use style=\"fill:#1f77b4;stroke:#1f77b4;\" x=\"151.494668\" xlink:href=\"#m9dec357a20\" y=\"165.356218\"/>\n     <use style=\"fill:#1f77b4;stroke:#1f77b4;\" x=\"307.215599\" xlink:href=\"#m9dec357a20\" y=\"17.08597\"/>\n     <use style=\"fill:#1f77b4;stroke:#1f77b4;\" x=\"271.824478\" xlink:href=\"#m9dec357a20\" y=\"76.395361\"/>\n     <use style=\"fill:#1f77b4;stroke:#1f77b4;\" x=\"300.137374\" xlink:href=\"#m9dec357a20\" y=\"17.106106\"/>\n     <use style=\"fill:#1f77b4;stroke:#1f77b4;\" x=\"73.634203\" xlink:href=\"#m9dec357a20\" y=\"66.518337\"/>\n     <use style=\"fill:#1f77b4;stroke:#1f77b4;\" x=\"278.902702\" xlink:href=\"#m9dec357a20\" y=\"17.104285\"/>\n     <use style=\"fill:#1f77b4;stroke:#1f77b4;\" x=\"158.572892\" xlink:href=\"#m9dec357a20\" y=\"17.101679\"/>\n     <use style=\"fill:#1f77b4;stroke:#1f77b4;\" x=\"137.33822\" xlink:href=\"#m9dec357a20\" y=\"144.178228\"/>\n     <use style=\"fill:#1f77b4;stroke:#1f77b4;\" x=\"151.494668\" xlink:href=\"#m9dec357a20\" y=\"101.825837\"/>\n     <use style=\"fill:#1f77b4;stroke:#1f77b4;\" x=\"222.276909\" xlink:href=\"#m9dec357a20\" y=\"17.101275\"/>\n     <use style=\"fill:#1f77b4;stroke:#1f77b4;\" x=\"293.05915\" xlink:href=\"#m9dec357a20\" y=\"17.109703\"/>\n     <use style=\"fill:#1f77b4;stroke:#1f77b4;\" x=\"314.293823\" xlink:href=\"#m9dec357a20\" y=\"17.104412\"/>\n     <use style=\"fill:#1f77b4;stroke:#1f77b4;\" x=\"236.433358\" xlink:href=\"#m9dec357a20\" y=\"59.459462\"/>\n     <use style=\"fill:#1f77b4;stroke:#1f77b4;\" x=\"144.416444\" xlink:href=\"#m9dec357a20\" y=\"66.507393\"/>\n     <use style=\"fill:#1f77b4;stroke:#1f77b4;\" x=\"179.807565\" xlink:href=\"#m9dec357a20\" y=\"76.402535\"/>\n     <use style=\"fill:#1f77b4;stroke:#1f77b4;\" x=\"165.651117\" xlink:href=\"#m9dec357a20\" y=\"135.692452\"/>\n     <use style=\"fill:#1f77b4;stroke:#1f77b4;\" x=\"243.511582\" xlink:href=\"#m9dec357a20\" y=\"17.09923\"/>\n     <use style=\"fill:#1f77b4;stroke:#1f77b4;\" x=\"243.511582\" xlink:href=\"#m9dec357a20\" y=\"17.097595\"/>\n     <use style=\"fill:#1f77b4;stroke:#1f77b4;\" x=\"250.589806\" xlink:href=\"#m9dec357a20\" y=\"17.10081\"/>\n     <use style=\"fill:#1f77b4;stroke:#1f77b4;\" x=\"201.042237\" xlink:href=\"#m9dec357a20\" y=\"66.507328\"/>\n     <use style=\"fill:#1f77b4;stroke:#1f77b4;\" x=\"250.589806\" xlink:href=\"#m9dec357a20\" y=\"17.103121\"/>\n     <use style=\"fill:#1f77b4;stroke:#1f77b4;\" x=\"215.198685\" xlink:href=\"#m9dec357a20\" y=\"17.105225\"/>\n     <use style=\"fill:#1f77b4;stroke:#1f77b4;\" x=\"186.885789\" xlink:href=\"#m9dec357a20\" y=\"76.389324\"/>\n     <use style=\"fill:#1f77b4;stroke:#1f77b4;\" x=\"278.902702\" xlink:href=\"#m9dec357a20\" y=\"17.101755\"/>\n     <use style=\"fill:#1f77b4;stroke:#1f77b4;\" x=\"179.807565\" xlink:href=\"#m9dec357a20\" y=\"17.090795\"/>\n     <use style=\"fill:#1f77b4;stroke:#1f77b4;\" x=\"264.746254\" xlink:href=\"#m9dec357a20\" y=\"17.107737\"/>\n     <use style=\"fill:#1f77b4;stroke:#1f77b4;\" x=\"264.746254\" xlink:href=\"#m9dec357a20\" y=\"17.087923\"/>\n     <use style=\"fill:#1f77b4;stroke:#1f77b4;\" x=\"215.198685\" xlink:href=\"#m9dec357a20\" y=\"91.223131\"/>\n     <use style=\"fill:#1f77b4;stroke:#1f77b4;\" x=\"321.372047\" xlink:href=\"#m9dec357a20\" y=\"17.083636\"/>\n     <use style=\"fill:#1f77b4;stroke:#1f77b4;\" x=\"144.416444\" xlink:href=\"#m9dec357a20\" y=\"115.921913\"/>\n     <use style=\"fill:#1f77b4;stroke:#1f77b4;\" x=\"229.355133\" xlink:href=\"#m9dec357a20\" y=\"17.098335\"/>\n     <use style=\"fill:#1f77b4;stroke:#1f77b4;\" x=\"123.181772\" xlink:href=\"#m9dec357a20\" y=\"59.455192\"/>\n     <use style=\"fill:#1f77b4;stroke:#1f77b4;\" x=\"236.433358\" xlink:href=\"#m9dec357a20\" y=\"66.502254\"/>\n     <use style=\"fill:#1f77b4;stroke:#1f77b4;\" x=\"278.902702\" xlink:href=\"#m9dec357a20\" y=\"17.104588\"/>\n     <use style=\"fill:#1f77b4;stroke:#1f77b4;\" x=\"314.293823\" xlink:href=\"#m9dec357a20\" y=\"17.090199\"/>\n     <use style=\"fill:#1f77b4;stroke:#1f77b4;\" x=\"321.372047\" xlink:href=\"#m9dec357a20\" y=\"17.100847\"/>\n     <use style=\"fill:#1f77b4;stroke:#1f77b4;\" x=\"193.964013\" xlink:href=\"#m9dec357a20\" y=\"17.09739\"/>\n     <use style=\"fill:#1f77b4;stroke:#1f77b4;\" x=\"264.746254\" xlink:href=\"#m9dec357a20\" y=\"17.104158\"/>\n     <use style=\"fill:#1f77b4;stroke:#1f77b4;\" x=\"208.120461\" xlink:href=\"#m9dec357a20\" y=\"59.448756\"/>\n     <use style=\"fill:#1f77b4;stroke:#1f77b4;\" x=\"222.276909\" xlink:href=\"#m9dec357a20\" y=\"59.449605\"/>\n     <use style=\"fill:#1f77b4;stroke:#1f77b4;\" x=\"80.712427\" xlink:href=\"#m9dec357a20\" y=\"59.46122\"/>\n     <use style=\"fill:#1f77b4;stroke:#1f77b4;\" x=\"250.589806\" xlink:href=\"#m9dec357a20\" y=\"66.526151\"/>\n     <use style=\"fill:#1f77b4;stroke:#1f77b4;\" x=\"208.120461\" xlink:href=\"#m9dec357a20\" y=\"17.090288\"/>\n     <use style=\"fill:#1f77b4;stroke:#1f77b4;\" x=\"116.103548\" xlink:href=\"#m9dec357a20\" y=\"101.805573\"/>\n     <use style=\"fill:#1f77b4;stroke:#1f77b4;\" x=\"186.885789\" xlink:href=\"#m9dec357a20\" y=\"17.102595\"/>\n     <use style=\"fill:#1f77b4;stroke:#1f77b4;\" x=\"243.511582\" xlink:href=\"#m9dec357a20\" y=\"17.099433\"/>\n     <use style=\"fill:#1f77b4;stroke:#1f77b4;\" x=\"193.964013\" xlink:href=\"#m9dec357a20\" y=\"76.393213\"/>\n     <use style=\"fill:#1f77b4;stroke:#1f77b4;\" x=\"87.790651\" xlink:href=\"#m9dec357a20\" y=\"59.453784\"/>\n     <use style=\"fill:#1f77b4;stroke:#1f77b4;\" x=\"314.293823\" xlink:href=\"#m9dec357a20\" y=\"17.099111\"/>\n     <use style=\"fill:#1f77b4;stroke:#1f77b4;\" x=\"307.215599\" xlink:href=\"#m9dec357a20\" y=\"17.086216\"/>\n     <use style=\"fill:#1f77b4;stroke:#1f77b4;\" x=\"278.902702\" xlink:href=\"#m9dec357a20\" y=\"17.095412\"/>\n     <use style=\"fill:#1f77b4;stroke:#1f77b4;\" x=\"222.276909\" xlink:href=\"#m9dec357a20\" y=\"17.106107\"/>\n     <use style=\"fill:#1f77b4;stroke:#1f77b4;\" x=\"116.103548\" xlink:href=\"#m9dec357a20\" y=\"115.927949\"/>\n     <use style=\"fill:#1f77b4;stroke:#1f77b4;\" x=\"59.477755\" xlink:href=\"#m9dec357a20\" y=\"165.335192\"/>\n     <use style=\"fill:#1f77b4;stroke:#1f77b4;\" x=\"201.042237\" xlink:href=\"#m9dec357a20\" y=\"59.468816\"/>\n     <use style=\"fill:#1f77b4;stroke:#1f77b4;\" x=\"101.9471\" xlink:href=\"#m9dec357a20\" y=\"115.932912\"/>\n     <use style=\"fill:#1f77b4;stroke:#1f77b4;\" x=\"300.137374\" xlink:href=\"#m9dec357a20\" y=\"17.095664\"/>\n     <use style=\"fill:#1f77b4;stroke:#1f77b4;\" x=\"271.824478\" xlink:href=\"#m9dec357a20\" y=\"17.10587\"/>\n     <use style=\"fill:#1f77b4;stroke:#1f77b4;\" x=\"215.198685\" xlink:href=\"#m9dec357a20\" y=\"59.458411\"/>\n     <use style=\"fill:#1f77b4;stroke:#1f77b4;\" x=\"314.293823\" xlink:href=\"#m9dec357a20\" y=\"17.096264\"/>\n     <use style=\"fill:#1f77b4;stroke:#1f77b4;\" x=\"285.980926\" xlink:href=\"#m9dec357a20\" y=\"17.094707\"/>\n     <use style=\"fill:#1f77b4;stroke:#1f77b4;\" x=\"137.33822\" xlink:href=\"#m9dec357a20\" y=\"66.515935\"/>\n     <use style=\"fill:#1f77b4;stroke:#1f77b4;\" x=\"208.120461\" xlink:href=\"#m9dec357a20\" y=\"66.516218\"/>\n     <use style=\"fill:#1f77b4;stroke:#1f77b4;\" x=\"314.293823\" xlink:href=\"#m9dec357a20\" y=\"17.09118\"/>\n     <use style=\"fill:#1f77b4;stroke:#1f77b4;\" x=\"250.589806\" xlink:href=\"#m9dec357a20\" y=\"66.501739\"/>\n     <use style=\"fill:#1f77b4;stroke:#1f77b4;\" x=\"264.746254\" xlink:href=\"#m9dec357a20\" y=\"59.451566\"/>\n     <use style=\"fill:#1f77b4;stroke:#1f77b4;\" x=\"285.980926\" xlink:href=\"#m9dec357a20\" y=\"17.100781\"/>\n     <use style=\"fill:#1f77b4;stroke:#1f77b4;\" x=\"229.355133\" xlink:href=\"#m9dec357a20\" y=\"76.422287\"/>\n     <use style=\"fill:#1f77b4;stroke:#1f77b4;\" x=\"73.634203\" xlink:href=\"#m9dec357a20\" y=\"115.936281\"/>\n     <use style=\"fill:#1f77b4;stroke:#1f77b4;\" x=\"151.494668\" xlink:href=\"#m9dec357a20\" y=\"59.449072\"/>\n     <use style=\"fill:#1f77b4;stroke:#1f77b4;\" x=\"229.355133\" xlink:href=\"#m9dec357a20\" y=\"59.456374\"/>\n     <use style=\"fill:#1f77b4;stroke:#1f77b4;\" x=\"307.215599\" xlink:href=\"#m9dec357a20\" y=\"66.512266\"/>\n     <use style=\"fill:#1f77b4;stroke:#1f77b4;\" x=\"215.198685\" xlink:href=\"#m9dec357a20\" y=\"17.099749\"/>\n     <use style=\"fill:#1f77b4;stroke:#1f77b4;\" x=\"314.293823\" xlink:href=\"#m9dec357a20\" y=\"17.086723\"/>\n     <use style=\"fill:#1f77b4;stroke:#1f77b4;\" x=\"215.198685\" xlink:href=\"#m9dec357a20\" y=\"76.392811\"/>\n     <use style=\"fill:#1f77b4;stroke:#1f77b4;\" x=\"321.372047\" xlink:href=\"#m9dec357a20\" y=\"17.10861\"/>\n     <use style=\"fill:#1f77b4;stroke:#1f77b4;\" x=\"349.684943\" xlink:href=\"#m9dec357a20\" y=\"17.102527\"/>\n     <use style=\"fill:#1f77b4;stroke:#1f77b4;\" x=\"222.276909\" xlink:href=\"#m9dec357a20\" y=\"17.107566\"/>\n     <use style=\"fill:#1f77b4;stroke:#1f77b4;\" x=\"314.293823\" xlink:href=\"#m9dec357a20\" y=\"17.098027\"/>\n     <use style=\"fill:#1f77b4;stroke:#1f77b4;\" x=\"349.684943\" xlink:href=\"#m9dec357a20\" y=\"17.108065\"/>\n     <use style=\"fill:#1f77b4;stroke:#1f77b4;\" x=\"215.198685\" xlink:href=\"#m9dec357a20\" y=\"17.096511\"/>\n     <use style=\"fill:#1f77b4;stroke:#1f77b4;\" x=\"236.433358\" xlink:href=\"#m9dec357a20\" y=\"66.520254\"/>\n     <use style=\"fill:#1f77b4;stroke:#1f77b4;\" x=\"293.05915\" xlink:href=\"#m9dec357a20\" y=\"17.098517\"/>\n     <use style=\"fill:#1f77b4;stroke:#1f77b4;\" x=\"321.372047\" xlink:href=\"#m9dec357a20\" y=\"17.09539\"/>\n     <use style=\"fill:#1f77b4;stroke:#1f77b4;\" x=\"229.355133\" xlink:href=\"#m9dec357a20\" y=\"59.448333\"/>\n     <use style=\"fill:#1f77b4;stroke:#1f77b4;\" x=\"285.980926\" xlink:href=\"#m9dec357a20\" y=\"17.09401\"/>\n     <use style=\"fill:#1f77b4;stroke:#1f77b4;\" x=\"314.293823\" xlink:href=\"#m9dec357a20\" y=\"17.105318\"/>\n     <use style=\"fill:#1f77b4;stroke:#1f77b4;\" x=\"250.589806\" xlink:href=\"#m9dec357a20\" y=\"59.452748\"/>\n     <use style=\"fill:#1f77b4;stroke:#1f77b4;\" x=\"314.293823\" xlink:href=\"#m9dec357a20\" y=\"17.089095\"/>\n     <use style=\"fill:#1f77b4;stroke:#1f77b4;\" x=\"215.198685\" xlink:href=\"#m9dec357a20\" y=\"17.106332\"/>\n     <use style=\"fill:#1f77b4;stroke:#1f77b4;\" x=\"101.9471\" xlink:href=\"#m9dec357a20\" y=\"165.351483\"/>\n     <use style=\"fill:#1f77b4;stroke:#1f77b4;\" x=\"264.746254\" xlink:href=\"#m9dec357a20\" y=\"54.157629\"/>\n     <use style=\"fill:#1f77b4;stroke:#1f77b4;\" x=\"314.293823\" xlink:href=\"#m9dec357a20\" y=\"17.098581\"/>\n     <use style=\"fill:#1f77b4;stroke:#1f77b4;\" x=\"278.902702\" xlink:href=\"#m9dec357a20\" y=\"17.108349\"/>\n     <use style=\"fill:#1f77b4;stroke:#1f77b4;\" x=\"151.494668\" xlink:href=\"#m9dec357a20\" y=\"59.44694\"/>\n     <use style=\"fill:#1f77b4;stroke:#1f77b4;\" x=\"229.355133\" xlink:href=\"#m9dec357a20\" y=\"17.099436\"/>\n     <use style=\"fill:#1f77b4;stroke:#1f77b4;\" x=\"201.042237\" xlink:href=\"#m9dec357a20\" y=\"76.402786\"/>\n     <use style=\"fill:#1f77b4;stroke:#1f77b4;\" x=\"349.684943\" xlink:href=\"#m9dec357a20\" y=\"17.101978\"/>\n     <use style=\"fill:#1f77b4;stroke:#1f77b4;\" x=\"236.433358\" xlink:href=\"#m9dec357a20\" y=\"66.512613\"/>\n     <use style=\"fill:#1f77b4;stroke:#1f77b4;\" x=\"278.902702\" xlink:href=\"#m9dec357a20\" y=\"17.097571\"/>\n     <use style=\"fill:#1f77b4;stroke:#1f77b4;\" x=\"193.964013\" xlink:href=\"#m9dec357a20\" y=\"165.331405\"/>\n     <use style=\"fill:#1f77b4;stroke:#1f77b4;\" x=\"186.885789\" xlink:href=\"#m9dec357a20\" y=\"66.512735\"/>\n     <use style=\"fill:#1f77b4;stroke:#1f77b4;\" x=\"208.120461\" xlink:href=\"#m9dec357a20\" y=\"59.466574\"/>\n     <use style=\"fill:#1f77b4;stroke:#1f77b4;\" x=\"215.198685\" xlink:href=\"#m9dec357a20\" y=\"59.457979\"/>\n     <use style=\"fill:#1f77b4;stroke:#1f77b4;\" x=\"285.980926\" xlink:href=\"#m9dec357a20\" y=\"76.39199\"/>\n     <use style=\"fill:#1f77b4;stroke:#1f77b4;\" x=\"222.276909\" xlink:href=\"#m9dec357a20\" y=\"17.100948\"/>\n     <use style=\"fill:#1f77b4;stroke:#1f77b4;\" x=\"215.198685\" xlink:href=\"#m9dec357a20\" y=\"17.116185\"/>\n     <use style=\"fill:#1f77b4;stroke:#1f77b4;\" x=\"250.589806\" xlink:href=\"#m9dec357a20\" y=\"76.390611\"/>\n     <use style=\"fill:#1f77b4;stroke:#1f77b4;\" x=\"314.293823\" xlink:href=\"#m9dec357a20\" y=\"17.10287\"/>\n     <use style=\"fill:#1f77b4;stroke:#1f77b4;\" x=\"285.980926\" xlink:href=\"#m9dec357a20\" y=\"17.100578\"/>\n     <use style=\"fill:#1f77b4;stroke:#1f77b4;\" x=\"250.589806\" xlink:href=\"#m9dec357a20\" y=\"66.509056\"/>\n     <use style=\"fill:#1f77b4;stroke:#1f77b4;\" x=\"236.433358\" xlink:href=\"#m9dec357a20\" y=\"59.460102\"/>\n     <use style=\"fill:#1f77b4;stroke:#1f77b4;\" x=\"257.66803\" xlink:href=\"#m9dec357a20\" y=\"59.45889\"/>\n     <use style=\"fill:#1f77b4;stroke:#1f77b4;\" x=\"158.572892\" xlink:href=\"#m9dec357a20\" y=\"115.925578\"/>\n     <use style=\"fill:#1f77b4;stroke:#1f77b4;\" x=\"236.433358\" xlink:href=\"#m9dec357a20\" y=\"59.454803\"/>\n     <use style=\"fill:#1f77b4;stroke:#1f77b4;\" x=\"293.05915\" xlink:href=\"#m9dec357a20\" y=\"17.101773\"/>\n     <use style=\"fill:#1f77b4;stroke:#1f77b4;\" x=\"271.824478\" xlink:href=\"#m9dec357a20\" y=\"17.105884\"/>\n     <use style=\"fill:#1f77b4;stroke:#1f77b4;\" x=\"151.494668\" xlink:href=\"#m9dec357a20\" y=\"66.520239\"/>\n     <use style=\"fill:#1f77b4;stroke:#1f77b4;\" x=\"186.885789\" xlink:href=\"#m9dec357a20\" y=\"17.102511\"/>\n     <use style=\"fill:#1f77b4;stroke:#1f77b4;\" x=\"314.293823\" xlink:href=\"#m9dec357a20\" y=\"17.100235\"/>\n     <use style=\"fill:#1f77b4;stroke:#1f77b4;\" x=\"243.511582\" xlink:href=\"#m9dec357a20\" y=\"17.106517\"/>\n     <use style=\"fill:#1f77b4;stroke:#1f77b4;\" x=\"257.66803\" xlink:href=\"#m9dec357a20\" y=\"17.101638\"/>\n     <use style=\"fill:#1f77b4;stroke:#1f77b4;\" x=\"73.634203\" xlink:href=\"#m9dec357a20\" y=\"165.338328\"/>\n     <use style=\"fill:#1f77b4;stroke:#1f77b4;\" x=\"307.215599\" xlink:href=\"#m9dec357a20\" y=\"59.462219\"/>\n     <use style=\"fill:#1f77b4;stroke:#1f77b4;\" x=\"208.120461\" xlink:href=\"#m9dec357a20\" y=\"17.097888\"/>\n     <use style=\"fill:#1f77b4;stroke:#1f77b4;\" x=\"293.05915\" xlink:href=\"#m9dec357a20\" y=\"17.099328\"/>\n     <use style=\"fill:#1f77b4;stroke:#1f77b4;\" x=\"151.494668\" xlink:href=\"#m9dec357a20\" y=\"76.407835\"/>\n     <use style=\"fill:#1f77b4;stroke:#1f77b4;\" x=\"229.355133\" xlink:href=\"#m9dec357a20\" y=\"17.089172\"/>\n     <use style=\"fill:#1f77b4;stroke:#1f77b4;\" x=\"179.807565\" xlink:href=\"#m9dec357a20\" y=\"17.09048\"/>\n     <use style=\"fill:#1f77b4;stroke:#1f77b4;\" x=\"73.634203\" xlink:href=\"#m9dec357a20\" y=\"165.334143\"/>\n     <use style=\"fill:#1f77b4;stroke:#1f77b4;\" x=\"250.589806\" xlink:href=\"#m9dec357a20\" y=\"59.461299\"/>\n     <use style=\"fill:#1f77b4;stroke:#1f77b4;\" x=\"236.433358\" xlink:href=\"#m9dec357a20\" y=\"59.454268\"/>\n     <use style=\"fill:#1f77b4;stroke:#1f77b4;\" x=\"229.355133\" xlink:href=\"#m9dec357a20\" y=\"66.512633\"/>\n     <use style=\"fill:#1f77b4;stroke:#1f77b4;\" x=\"278.902702\" xlink:href=\"#m9dec357a20\" y=\"17.110669\"/>\n     <use style=\"fill:#1f77b4;stroke:#1f77b4;\" x=\"278.902702\" xlink:href=\"#m9dec357a20\" y=\"17.09687\"/>\n     <use style=\"fill:#1f77b4;stroke:#1f77b4;\" x=\"264.746254\" xlink:href=\"#m9dec357a20\" y=\"59.451646\"/>\n     <use style=\"fill:#1f77b4;stroke:#1f77b4;\" x=\"328.450271\" xlink:href=\"#m9dec357a20\" y=\"17.089446\"/>\n     <use style=\"fill:#1f77b4;stroke:#1f77b4;\" x=\"172.729341\" xlink:href=\"#m9dec357a20\" y=\"115.930657\"/>\n     <use style=\"fill:#1f77b4;stroke:#1f77b4;\" x=\"229.355133\" xlink:href=\"#m9dec357a20\" y=\"17.105094\"/>\n     <use style=\"fill:#1f77b4;stroke:#1f77b4;\" x=\"201.042237\" xlink:href=\"#m9dec357a20\" y=\"17.093363\"/>\n     <use style=\"fill:#1f77b4;stroke:#1f77b4;\" x=\"243.511582\" xlink:href=\"#m9dec357a20\" y=\"17.112036\"/>\n     <use style=\"fill:#1f77b4;stroke:#1f77b4;\" x=\"130.259996\" xlink:href=\"#m9dec357a20\" y=\"194.983657\"/>\n     <use style=\"fill:#1f77b4;stroke:#1f77b4;\" x=\"293.05915\" xlink:href=\"#m9dec357a20\" y=\"17.101914\"/>\n     <use style=\"fill:#1f77b4;stroke:#1f77b4;\" x=\"151.494668\" xlink:href=\"#m9dec357a20\" y=\"17.098752\"/>\n     <use style=\"fill:#1f77b4;stroke:#1f77b4;\" x=\"321.372047\" xlink:href=\"#m9dec357a20\" y=\"17.097336\"/>\n     <use style=\"fill:#1f77b4;stroke:#1f77b4;\" x=\"293.05915\" xlink:href=\"#m9dec357a20\" y=\"17.121745\"/>\n     <use style=\"fill:#1f77b4;stroke:#1f77b4;\" x=\"101.9471\" xlink:href=\"#m9dec357a20\" y=\"195.000981\"/>\n     <use style=\"fill:#1f77b4;stroke:#1f77b4;\" x=\"208.120461\" xlink:href=\"#m9dec357a20\" y=\"17.090779\"/>\n     <use style=\"fill:#1f77b4;stroke:#1f77b4;\" x=\"193.964013\" xlink:href=\"#m9dec357a20\" y=\"17.095807\"/>\n     <use style=\"fill:#1f77b4;stroke:#1f77b4;\" x=\"52.399531\" xlink:href=\"#m9dec357a20\" y=\"66.512198\"/>\n     <use style=\"fill:#1f77b4;stroke:#1f77b4;\" x=\"222.276909\" xlink:href=\"#m9dec357a20\" y=\"101.81407\"/>\n     <use style=\"fill:#1f77b4;stroke:#1f77b4;\" x=\"250.589806\" xlink:href=\"#m9dec357a20\" y=\"17.105053\"/>\n     <use style=\"fill:#1f77b4;stroke:#1f77b4;\" x=\"179.807565\" xlink:href=\"#m9dec357a20\" y=\"66.523783\"/>\n     <use style=\"fill:#1f77b4;stroke:#1f77b4;\" x=\"229.355133\" xlink:href=\"#m9dec357a20\" y=\"17.100427\"/>\n     <use style=\"fill:#1f77b4;stroke:#1f77b4;\" x=\"137.33822\" xlink:href=\"#m9dec357a20\" y=\"135.693289\"/>\n     <use style=\"fill:#1f77b4;stroke:#1f77b4;\" x=\"229.355133\" xlink:href=\"#m9dec357a20\" y=\"66.530979\"/>\n     <use style=\"fill:#1f77b4;stroke:#1f77b4;\" x=\"229.355133\" xlink:href=\"#m9dec357a20\" y=\"66.515065\"/>\n     <use style=\"fill:#1f77b4;stroke:#1f77b4;\" x=\"179.807565\" xlink:href=\"#m9dec357a20\" y=\"17.099612\"/>\n     <use style=\"fill:#1f77b4;stroke:#1f77b4;\" x=\"229.355133\" xlink:href=\"#m9dec357a20\" y=\"17.110657\"/>\n     <use style=\"fill:#1f77b4;stroke:#1f77b4;\" x=\"307.215599\" xlink:href=\"#m9dec357a20\" y=\"17.102999\"/>\n     <use style=\"fill:#1f77b4;stroke:#1f77b4;\" x=\"250.589806\" xlink:href=\"#m9dec357a20\" y=\"59.448765\"/>\n     <use style=\"fill:#1f77b4;stroke:#1f77b4;\" x=\"271.824478\" xlink:href=\"#m9dec357a20\" y=\"59.455287\"/>\n     <use style=\"fill:#1f77b4;stroke:#1f77b4;\" x=\"243.511582\" xlink:href=\"#m9dec357a20\" y=\"66.519199\"/>\n     <use style=\"fill:#1f77b4;stroke:#1f77b4;\" x=\"285.980926\" xlink:href=\"#m9dec357a20\" y=\"59.466164\"/>\n     <use style=\"fill:#1f77b4;stroke:#1f77b4;\" x=\"215.198685\" xlink:href=\"#m9dec357a20\" y=\"66.514316\"/>\n     <use style=\"fill:#1f77b4;stroke:#1f77b4;\" x=\"293.05915\" xlink:href=\"#m9dec357a20\" y=\"17.10973\"/>\n     <use style=\"fill:#1f77b4;stroke:#1f77b4;\" x=\"349.684943\" xlink:href=\"#m9dec357a20\" y=\"17.089255\"/>\n     <use style=\"fill:#1f77b4;stroke:#1f77b4;\" x=\"293.05915\" xlink:href=\"#m9dec357a20\" y=\"17.092148\"/>\n     <use style=\"fill:#1f77b4;stroke:#1f77b4;\" x=\"215.198685\" xlink:href=\"#m9dec357a20\" y=\"128.278313\"/>\n     <use style=\"fill:#1f77b4;stroke:#1f77b4;\" x=\"193.964013\" xlink:href=\"#m9dec357a20\" y=\"115.928112\"/>\n     <use style=\"fill:#1f77b4;stroke:#1f77b4;\" x=\"257.66803\" xlink:href=\"#m9dec357a20\" y=\"66.519067\"/>\n     <use style=\"fill:#1f77b4;stroke:#1f77b4;\" x=\"179.807565\" xlink:href=\"#m9dec357a20\" y=\"76.39267\"/>\n     <use style=\"fill:#1f77b4;stroke:#1f77b4;\" x=\"321.372047\" xlink:href=\"#m9dec357a20\" y=\"17.09519\"/>\n     <use style=\"fill:#1f77b4;stroke:#1f77b4;\" x=\"80.712427\" xlink:href=\"#m9dec357a20\" y=\"135.695139\"/>\n     <use style=\"fill:#1f77b4;stroke:#1f77b4;\" x=\"215.198685\" xlink:href=\"#m9dec357a20\" y=\"135.683537\"/>\n     <use style=\"fill:#1f77b4;stroke:#1f77b4;\" x=\"158.572892\" xlink:href=\"#m9dec357a20\" y=\"76.385298\"/>\n     <use style=\"fill:#1f77b4;stroke:#1f77b4;\" x=\"208.120461\" xlink:href=\"#m9dec357a20\" y=\"17.102286\"/>\n     <use style=\"fill:#1f77b4;stroke:#1f77b4;\" x=\"293.05915\" xlink:href=\"#m9dec357a20\" y=\"17.105584\"/>\n     <use style=\"fill:#1f77b4;stroke:#1f77b4;\" x=\"257.66803\" xlink:href=\"#m9dec357a20\" y=\"17.114455\"/>\n     <use style=\"fill:#1f77b4;stroke:#1f77b4;\" x=\"271.824478\" xlink:href=\"#m9dec357a20\" y=\"17.085522\"/>\n     <use style=\"fill:#1f77b4;stroke:#1f77b4;\" x=\"123.181772\" xlink:href=\"#m9dec357a20\" y=\"66.512364\"/>\n     <use style=\"fill:#1f77b4;stroke:#1f77b4;\" x=\"349.684943\" xlink:href=\"#m9dec357a20\" y=\"17.107313\"/>\n     <use style=\"fill:#1f77b4;stroke:#1f77b4;\" x=\"285.980926\" xlink:href=\"#m9dec357a20\" y=\"17.090365\"/>\n     <use style=\"fill:#1f77b4;stroke:#1f77b4;\" x=\"186.885789\" xlink:href=\"#m9dec357a20\" y=\"66.514223\"/>\n     <use style=\"fill:#1f77b4;stroke:#1f77b4;\" x=\"285.980926\" xlink:href=\"#m9dec357a20\" y=\"17.100571\"/>\n     <use style=\"fill:#1f77b4;stroke:#1f77b4;\" x=\"250.589806\" xlink:href=\"#m9dec357a20\" y=\"17.099598\"/>\n     <use style=\"fill:#1f77b4;stroke:#1f77b4;\" x=\"321.372047\" xlink:href=\"#m9dec357a20\" y=\"17.106866\"/>\n     <use style=\"fill:#1f77b4;stroke:#1f77b4;\" x=\"293.05915\" xlink:href=\"#m9dec357a20\" y=\"59.451\"/>\n     <use style=\"fill:#1f77b4;stroke:#1f77b4;\" x=\"264.746254\" xlink:href=\"#m9dec357a20\" y=\"17.100729\"/>\n     <use style=\"fill:#1f77b4;stroke:#1f77b4;\" x=\"257.66803\" xlink:href=\"#m9dec357a20\" y=\"59.459879\"/>\n     <use style=\"fill:#1f77b4;stroke:#1f77b4;\" x=\"300.137374\" xlink:href=\"#m9dec357a20\" y=\"76.396421\"/>\n     <use style=\"fill:#1f77b4;stroke:#1f77b4;\" x=\"271.824478\" xlink:href=\"#m9dec357a20\" y=\"59.45551\"/>\n     <use style=\"fill:#1f77b4;stroke:#1f77b4;\" x=\"264.746254\" xlink:href=\"#m9dec357a20\" y=\"17.109133\"/>\n     <use style=\"fill:#1f77b4;stroke:#1f77b4;\" x=\"236.433358\" xlink:href=\"#m9dec357a20\" y=\"135.681723\"/>\n     <use style=\"fill:#1f77b4;stroke:#1f77b4;\" x=\"271.824478\" xlink:href=\"#m9dec357a20\" y=\"17.096503\"/>\n     <use style=\"fill:#1f77b4;stroke:#1f77b4;\" x=\"314.293823\" xlink:href=\"#m9dec357a20\" y=\"17.101949\"/>\n     <use style=\"fill:#1f77b4;stroke:#1f77b4;\" x=\"264.746254\" xlink:href=\"#m9dec357a20\" y=\"17.097324\"/>\n     <use style=\"fill:#1f77b4;stroke:#1f77b4;\" x=\"243.511582\" xlink:href=\"#m9dec357a20\" y=\"59.456524\"/>\n     <use style=\"fill:#1f77b4;stroke:#1f77b4;\" x=\"179.807565\" xlink:href=\"#m9dec357a20\" y=\"91.218909\"/>\n     <use style=\"fill:#1f77b4;stroke:#1f77b4;\" x=\"179.807565\" xlink:href=\"#m9dec357a20\" y=\"17.104952\"/>\n     <use style=\"fill:#1f77b4;stroke:#1f77b4;\" x=\"314.293823\" xlink:href=\"#m9dec357a20\" y=\"17.115454\"/>\n     <use style=\"fill:#1f77b4;stroke:#1f77b4;\" x=\"193.964013\" xlink:href=\"#m9dec357a20\" y=\"135.699549\"/>\n     <use style=\"fill:#1f77b4;stroke:#1f77b4;\" x=\"250.589806\" xlink:href=\"#m9dec357a20\" y=\"17.110025\"/>\n     <use style=\"fill:#1f77b4;stroke:#1f77b4;\" x=\"264.746254\" xlink:href=\"#m9dec357a20\" y=\"59.448754\"/>\n     <use style=\"fill:#1f77b4;stroke:#1f77b4;\" x=\"116.103548\" xlink:href=\"#m9dec357a20\" y=\"214.756364\"/>\n     <use style=\"fill:#1f77b4;stroke:#1f77b4;\" x=\"222.276909\" xlink:href=\"#m9dec357a20\" y=\"17.108767\"/>\n     <use style=\"fill:#1f77b4;stroke:#1f77b4;\" x=\"172.729341\" xlink:href=\"#m9dec357a20\" y=\"76.405817\"/>\n     <use style=\"fill:#1f77b4;stroke:#1f77b4;\" x=\"165.651117\" xlink:href=\"#m9dec357a20\" y=\"76.382333\"/>\n     <use style=\"fill:#1f77b4;stroke:#1f77b4;\" x=\"158.572892\" xlink:href=\"#m9dec357a20\" y=\"17.106872\"/>\n     <use style=\"fill:#1f77b4;stroke:#1f77b4;\" x=\"285.980926\" xlink:href=\"#m9dec357a20\" y=\"76.399326\"/>\n     <use style=\"fill:#1f77b4;stroke:#1f77b4;\" x=\"314.293823\" xlink:href=\"#m9dec357a20\" y=\"76.386329\"/>\n     <use style=\"fill:#1f77b4;stroke:#1f77b4;\" x=\"215.198685\" xlink:href=\"#m9dec357a20\" y=\"17.101465\"/>\n     <use style=\"fill:#1f77b4;stroke:#1f77b4;\" x=\"45.321307\" xlink:href=\"#m9dec357a20\" y=\"144.15951\"/>\n     <use style=\"fill:#1f77b4;stroke:#1f77b4;\" x=\"257.66803\" xlink:href=\"#m9dec357a20\" y=\"66.521803\"/>\n     <use style=\"fill:#1f77b4;stroke:#1f77b4;\" x=\"208.120461\" xlink:href=\"#m9dec357a20\" y=\"17.104248\"/>\n     <use style=\"fill:#1f77b4;stroke:#1f77b4;\" x=\"314.293823\" xlink:href=\"#m9dec357a20\" y=\"17.106015\"/>\n     <use style=\"fill:#1f77b4;stroke:#1f77b4;\" x=\"229.355133\" xlink:href=\"#m9dec357a20\" y=\"66.518929\"/>\n     <use style=\"fill:#1f77b4;stroke:#1f77b4;\" x=\"278.902702\" xlink:href=\"#m9dec357a20\" y=\"66.512887\"/>\n     <use style=\"fill:#1f77b4;stroke:#1f77b4;\" x=\"271.824478\" xlink:href=\"#m9dec357a20\" y=\"17.094387\"/>\n     <use style=\"fill:#1f77b4;stroke:#1f77b4;\" x=\"229.355133\" xlink:href=\"#m9dec357a20\" y=\"17.110024\"/>\n     <use style=\"fill:#1f77b4;stroke:#1f77b4;\" x=\"300.137374\" xlink:href=\"#m9dec357a20\" y=\"17.085002\"/>\n     <use style=\"fill:#1f77b4;stroke:#1f77b4;\" x=\"293.05915\" xlink:href=\"#m9dec357a20\" y=\"17.108438\"/>\n     <use style=\"fill:#1f77b4;stroke:#1f77b4;\" x=\"300.137374\" xlink:href=\"#m9dec357a20\" y=\"17.098914\"/>\n     <use style=\"fill:#1f77b4;stroke:#1f77b4;\" x=\"80.712427\" xlink:href=\"#m9dec357a20\" y=\"76.384414\"/>\n     <use style=\"fill:#1f77b4;stroke:#1f77b4;\" x=\"278.902702\" xlink:href=\"#m9dec357a20\" y=\"17.108777\"/>\n     <use style=\"fill:#1f77b4;stroke:#1f77b4;\" x=\"314.293823\" xlink:href=\"#m9dec357a20\" y=\"17.101751\"/>\n     <use style=\"fill:#1f77b4;stroke:#1f77b4;\" x=\"208.120461\" xlink:href=\"#m9dec357a20\" y=\"66.517484\"/>\n     <use style=\"fill:#1f77b4;stroke:#1f77b4;\" x=\"222.276909\" xlink:href=\"#m9dec357a20\" y=\"17.1064\"/>\n     <use style=\"fill:#1f77b4;stroke:#1f77b4;\" x=\"278.902702\" xlink:href=\"#m9dec357a20\" y=\"59.458746\"/>\n     <use style=\"fill:#1f77b4;stroke:#1f77b4;\" x=\"215.198685\" xlink:href=\"#m9dec357a20\" y=\"17.108179\"/>\n     <use style=\"fill:#1f77b4;stroke:#1f77b4;\" x=\"285.980926\" xlink:href=\"#m9dec357a20\" y=\"59.447048\"/>\n     <use style=\"fill:#1f77b4;stroke:#1f77b4;\" x=\"250.589806\" xlink:href=\"#m9dec357a20\" y=\"17.108251\"/>\n     <use style=\"fill:#1f77b4;stroke:#1f77b4;\" x=\"278.902702\" xlink:href=\"#m9dec357a20\" y=\"17.100613\"/>\n     <use style=\"fill:#1f77b4;stroke:#1f77b4;\" x=\"179.807565\" xlink:href=\"#m9dec357a20\" y=\"66.526796\"/>\n     <use style=\"fill:#1f77b4;stroke:#1f77b4;\" x=\"151.494668\" xlink:href=\"#m9dec357a20\" y=\"59.448573\"/>\n     <use style=\"fill:#1f77b4;stroke:#1f77b4;\" x=\"229.355133\" xlink:href=\"#m9dec357a20\" y=\"17.091251\"/>\n     <use style=\"fill:#1f77b4;stroke:#1f77b4;\" x=\"264.746254\" xlink:href=\"#m9dec357a20\" y=\"17.094386\"/>\n     <use style=\"fill:#1f77b4;stroke:#1f77b4;\" x=\"73.634203\" xlink:href=\"#m9dec357a20\" y=\"165.339011\"/>\n     <use style=\"fill:#1f77b4;stroke:#1f77b4;\" x=\"123.181772\" xlink:href=\"#m9dec357a20\" y=\"115.93585\"/>\n     <use style=\"fill:#1f77b4;stroke:#1f77b4;\" x=\"172.729341\" xlink:href=\"#m9dec357a20\" y=\"59.457679\"/>\n     <use style=\"fill:#1f77b4;stroke:#1f77b4;\" x=\"257.66803\" xlink:href=\"#m9dec357a20\" y=\"66.515426\"/>\n     <use style=\"fill:#1f77b4;stroke:#1f77b4;\" x=\"193.964013\" xlink:href=\"#m9dec357a20\" y=\"101.820465\"/>\n     <use style=\"fill:#1f77b4;stroke:#1f77b4;\" x=\"201.042237\" xlink:href=\"#m9dec357a20\" y=\"17.107156\"/>\n     <use style=\"fill:#1f77b4;stroke:#1f77b4;\" x=\"285.980926\" xlink:href=\"#m9dec357a20\" y=\"76.398948\"/>\n     <use style=\"fill:#1f77b4;stroke:#1f77b4;\" x=\"151.494668\" xlink:href=\"#m9dec357a20\" y=\"59.452795\"/>\n     <use style=\"fill:#1f77b4;stroke:#1f77b4;\" x=\"250.589806\" xlink:href=\"#m9dec357a20\" y=\"17.105179\"/>\n     <use style=\"fill:#1f77b4;stroke:#1f77b4;\" x=\"243.511582\" xlink:href=\"#m9dec357a20\" y=\"54.17272\"/>\n     <use style=\"fill:#1f77b4;stroke:#1f77b4;\" x=\"264.746254\" xlink:href=\"#m9dec357a20\" y=\"66.509525\"/>\n     <use style=\"fill:#1f77b4;stroke:#1f77b4;\" x=\"236.433358\" xlink:href=\"#m9dec357a20\" y=\"101.812418\"/>\n     <use style=\"fill:#1f77b4;stroke:#1f77b4;\" x=\"144.416444\" xlink:href=\"#m9dec357a20\" y=\"66.502812\"/>\n     <use style=\"fill:#1f77b4;stroke:#1f77b4;\" x=\"208.120461\" xlink:href=\"#m9dec357a20\" y=\"17.0958\"/>\n     <use style=\"fill:#1f77b4;stroke:#1f77b4;\" x=\"215.198685\" xlink:href=\"#m9dec357a20\" y=\"101.813111\"/>\n     <use style=\"fill:#1f77b4;stroke:#1f77b4;\" x=\"229.355133\" xlink:href=\"#m9dec357a20\" y=\"17.097078\"/>\n     <use style=\"fill:#1f77b4;stroke:#1f77b4;\" x=\"123.181772\" xlink:href=\"#m9dec357a20\" y=\"76.405879\"/>\n     <use style=\"fill:#1f77b4;stroke:#1f77b4;\" x=\"257.66803\" xlink:href=\"#m9dec357a20\" y=\"17.11195\"/>\n     <use style=\"fill:#1f77b4;stroke:#1f77b4;\" x=\"278.902702\" xlink:href=\"#m9dec357a20\" y=\"17.099475\"/>\n     <use style=\"fill:#1f77b4;stroke:#1f77b4;\" x=\"349.684943\" xlink:href=\"#m9dec357a20\" y=\"17.107122\"/>\n     <use style=\"fill:#1f77b4;stroke:#1f77b4;\" x=\"307.215599\" xlink:href=\"#m9dec357a20\" y=\"17.094295\"/>\n     <use style=\"fill:#1f77b4;stroke:#1f77b4;\" x=\"208.120461\" xlink:href=\"#m9dec357a20\" y=\"144.167494\"/>\n     <use style=\"fill:#1f77b4;stroke:#1f77b4;\" x=\"264.746254\" xlink:href=\"#m9dec357a20\" y=\"66.505626\"/>\n     <use style=\"fill:#1f77b4;stroke:#1f77b4;\" x=\"293.05915\" xlink:href=\"#m9dec357a20\" y=\"17.098409\"/>\n     <use style=\"fill:#1f77b4;stroke:#1f77b4;\" x=\"130.259996\" xlink:href=\"#m9dec357a20\" y=\"59.450359\"/>\n     <use style=\"fill:#1f77b4;stroke:#1f77b4;\" x=\"349.684943\" xlink:href=\"#m9dec357a20\" y=\"17.090723\"/>\n     <use style=\"fill:#1f77b4;stroke:#1f77b4;\" x=\"314.293823\" xlink:href=\"#m9dec357a20\" y=\"17.107469\"/>\n     <use style=\"fill:#1f77b4;stroke:#1f77b4;\" x=\"257.66803\" xlink:href=\"#m9dec357a20\" y=\"17.091212\"/>\n     <use style=\"fill:#1f77b4;stroke:#1f77b4;\" x=\"201.042237\" xlink:href=\"#m9dec357a20\" y=\"17.098791\"/>\n     <use style=\"fill:#1f77b4;stroke:#1f77b4;\" x=\"215.198685\" xlink:href=\"#m9dec357a20\" y=\"17.099226\"/>\n     <use style=\"fill:#1f77b4;stroke:#1f77b4;\" x=\"278.902702\" xlink:href=\"#m9dec357a20\" y=\"17.101929\"/>\n     <use style=\"fill:#1f77b4;stroke:#1f77b4;\" x=\"293.05915\" xlink:href=\"#m9dec357a20\" y=\"66.520612\"/>\n     <use style=\"fill:#1f77b4;stroke:#1f77b4;\" x=\"165.651117\" xlink:href=\"#m9dec357a20\" y=\"66.530217\"/>\n     <use style=\"fill:#1f77b4;stroke:#1f77b4;\" x=\"250.589806\" xlink:href=\"#m9dec357a20\" y=\"17.101871\"/>\n     <use style=\"fill:#1f77b4;stroke:#1f77b4;\" x=\"186.885789\" xlink:href=\"#m9dec357a20\" y=\"66.520226\"/>\n     <use style=\"fill:#1f77b4;stroke:#1f77b4;\" x=\"285.980926\" xlink:href=\"#m9dec357a20\" y=\"17.111013\"/>\n     <use style=\"fill:#1f77b4;stroke:#1f77b4;\" x=\"285.980926\" xlink:href=\"#m9dec357a20\" y=\"66.518061\"/>\n     <use style=\"fill:#1f77b4;stroke:#1f77b4;\" x=\"94.868876\" xlink:href=\"#m9dec357a20\" y=\"76.387715\"/>\n     <use style=\"fill:#1f77b4;stroke:#1f77b4;\" x=\"250.589806\" xlink:href=\"#m9dec357a20\" y=\"17.100415\"/>\n     <use style=\"fill:#1f77b4;stroke:#1f77b4;\" x=\"208.120461\" xlink:href=\"#m9dec357a20\" y=\"115.941388\"/>\n     <use style=\"fill:#1f77b4;stroke:#1f77b4;\" x=\"264.746254\" xlink:href=\"#m9dec357a20\" y=\"17.106509\"/>\n     <use style=\"fill:#1f77b4;stroke:#1f77b4;\" x=\"278.902702\" xlink:href=\"#m9dec357a20\" y=\"66.524956\"/>\n     <use style=\"fill:#1f77b4;stroke:#1f77b4;\" x=\"144.416444\" xlink:href=\"#m9dec357a20\" y=\"59.46482\"/>\n     <use style=\"fill:#1f77b4;stroke:#1f77b4;\" x=\"229.355133\" xlink:href=\"#m9dec357a20\" y=\"76.408377\"/>\n     <use style=\"fill:#1f77b4;stroke:#1f77b4;\" x=\"328.450271\" xlink:href=\"#m9dec357a20\" y=\"17.099427\"/>\n     <use style=\"fill:#1f77b4;stroke:#1f77b4;\" x=\"349.684943\" xlink:href=\"#m9dec357a20\" y=\"17.115978\"/>\n     <use style=\"fill:#1f77b4;stroke:#1f77b4;\" x=\"236.433358\" xlink:href=\"#m9dec357a20\" y=\"59.48286\"/>\n     <use style=\"fill:#1f77b4;stroke:#1f77b4;\" x=\"165.651117\" xlink:href=\"#m9dec357a20\" y=\"59.462456\"/>\n     <use style=\"fill:#1f77b4;stroke:#1f77b4;\" x=\"101.9471\" xlink:href=\"#m9dec357a20\" y=\"66.513394\"/>\n     <use style=\"fill:#1f77b4;stroke:#1f77b4;\" x=\"349.684943\" xlink:href=\"#m9dec357a20\" y=\"17.108818\"/>\n     <use style=\"fill:#1f77b4;stroke:#1f77b4;\" x=\"243.511582\" xlink:href=\"#m9dec357a20\" y=\"17.110639\"/>\n     <use style=\"fill:#1f77b4;stroke:#1f77b4;\" x=\"201.042237\" xlink:href=\"#m9dec357a20\" y=\"101.812528\"/>\n     <use style=\"fill:#1f77b4;stroke:#1f77b4;\" x=\"186.885789\" xlink:href=\"#m9dec357a20\" y=\"91.221628\"/>\n     <use style=\"fill:#1f77b4;stroke:#1f77b4;\" x=\"222.276909\" xlink:href=\"#m9dec357a20\" y=\"115.937889\"/>\n     <use style=\"fill:#1f77b4;stroke:#1f77b4;\" x=\"123.181772\" xlink:href=\"#m9dec357a20\" y=\"165.3445\"/>\n     <use style=\"fill:#1f77b4;stroke:#1f77b4;\" x=\"236.433358\" xlink:href=\"#m9dec357a20\" y=\"66.527724\"/>\n     <use style=\"fill:#1f77b4;stroke:#1f77b4;\" x=\"264.746254\" xlink:href=\"#m9dec357a20\" y=\"17.106071\"/>\n     <use style=\"fill:#1f77b4;stroke:#1f77b4;\" x=\"215.198685\" xlink:href=\"#m9dec357a20\" y=\"17.103703\"/>\n     <use style=\"fill:#1f77b4;stroke:#1f77b4;\" x=\"229.355133\" xlink:href=\"#m9dec357a20\" y=\"17.113998\"/>\n     <use style=\"fill:#1f77b4;stroke:#1f77b4;\" x=\"172.729341\" xlink:href=\"#m9dec357a20\" y=\"17.10468\"/>\n     <use style=\"fill:#1f77b4;stroke:#1f77b4;\" x=\"314.293823\" xlink:href=\"#m9dec357a20\" y=\"17.096378\"/>\n     <use style=\"fill:#1f77b4;stroke:#1f77b4;\" x=\"179.807565\" xlink:href=\"#m9dec357a20\" y=\"76.409735\"/>\n     <use style=\"fill:#1f77b4;stroke:#1f77b4;\" x=\"285.980926\" xlink:href=\"#m9dec357a20\" y=\"17.098139\"/>\n     <use style=\"fill:#1f77b4;stroke:#1f77b4;\" x=\"80.712427\" xlink:href=\"#m9dec357a20\" y=\"165.345847\"/>\n     <use style=\"fill:#1f77b4;stroke:#1f77b4;\" x=\"172.729341\" xlink:href=\"#m9dec357a20\" y=\"59.452972\"/>\n     <use style=\"fill:#1f77b4;stroke:#1f77b4;\" x=\"236.433358\" xlink:href=\"#m9dec357a20\" y=\"17.109463\"/>\n     <use style=\"fill:#1f77b4;stroke:#1f77b4;\" x=\"186.885789\" xlink:href=\"#m9dec357a20\" y=\"17.092279\"/>\n     <use style=\"fill:#1f77b4;stroke:#1f77b4;\" x=\"151.494668\" xlink:href=\"#m9dec357a20\" y=\"59.452193\"/>\n     <use style=\"fill:#1f77b4;stroke:#1f77b4;\" x=\"172.729341\" xlink:href=\"#m9dec357a20\" y=\"66.507564\"/>\n     <use style=\"fill:#1f77b4;stroke:#1f77b4;\" x=\"186.885789\" xlink:href=\"#m9dec357a20\" y=\"101.813987\"/>\n     <use style=\"fill:#1f77b4;stroke:#1f77b4;\" x=\"186.885789\" xlink:href=\"#m9dec357a20\" y=\"59.450881\"/>\n     <use style=\"fill:#1f77b4;stroke:#1f77b4;\" x=\"250.589806\" xlink:href=\"#m9dec357a20\" y=\"76.40068\"/>\n     <use style=\"fill:#1f77b4;stroke:#1f77b4;\" x=\"321.372047\" xlink:href=\"#m9dec357a20\" y=\"17.093311\"/>\n     <use style=\"fill:#1f77b4;stroke:#1f77b4;\" x=\"307.215599\" xlink:href=\"#m9dec357a20\" y=\"17.092053\"/>\n     <use style=\"fill:#1f77b4;stroke:#1f77b4;\" x=\"243.511582\" xlink:href=\"#m9dec357a20\" y=\"17.103837\"/>\n     <use style=\"fill:#1f77b4;stroke:#1f77b4;\" x=\"130.259996\" xlink:href=\"#m9dec357a20\" y=\"66.50879\"/>\n     <use style=\"fill:#1f77b4;stroke:#1f77b4;\" x=\"349.684943\" xlink:href=\"#m9dec357a20\" y=\"17.100862\"/>\n     <use style=\"fill:#1f77b4;stroke:#1f77b4;\" x=\"165.651117\" xlink:href=\"#m9dec357a20\" y=\"144.178392\"/>\n     <use style=\"fill:#1f77b4;stroke:#1f77b4;\" x=\"307.215599\" xlink:href=\"#m9dec357a20\" y=\"59.458109\"/>\n     <use style=\"fill:#1f77b4;stroke:#1f77b4;\" x=\"222.276909\" xlink:href=\"#m9dec357a20\" y=\"17.097734\"/>\n     <use style=\"fill:#1f77b4;stroke:#1f77b4;\" x=\"201.042237\" xlink:href=\"#m9dec357a20\" y=\"76.414711\"/>\n     <use style=\"fill:#1f77b4;stroke:#1f77b4;\" x=\"257.66803\" xlink:href=\"#m9dec357a20\" y=\"17.106053\"/>\n     <use style=\"fill:#1f77b4;stroke:#1f77b4;\" x=\"278.902702\" xlink:href=\"#m9dec357a20\" y=\"17.089353\"/>\n     <use style=\"fill:#1f77b4;stroke:#1f77b4;\" x=\"208.120461\" xlink:href=\"#m9dec357a20\" y=\"66.509576\"/>\n     <use style=\"fill:#1f77b4;stroke:#1f77b4;\" x=\"314.293823\" xlink:href=\"#m9dec357a20\" y=\"17.091796\"/>\n     <use style=\"fill:#1f77b4;stroke:#1f77b4;\" x=\"285.980926\" xlink:href=\"#m9dec357a20\" y=\"17.090006\"/>\n     <use style=\"fill:#1f77b4;stroke:#1f77b4;\" x=\"236.433358\" xlink:href=\"#m9dec357a20\" y=\"17.104415\"/>\n     <use style=\"fill:#1f77b4;stroke:#1f77b4;\" x=\"186.885789\" xlink:href=\"#m9dec357a20\" y=\"66.505289\"/>\n     <use style=\"fill:#1f77b4;stroke:#1f77b4;\" x=\"158.572892\" xlink:href=\"#m9dec357a20\" y=\"144.165695\"/>\n     <use style=\"fill:#1f77b4;stroke:#1f77b4;\" x=\"165.651117\" xlink:href=\"#m9dec357a20\" y=\"135.70243\"/>\n     <use style=\"fill:#1f77b4;stroke:#1f77b4;\" x=\"123.181772\" xlink:href=\"#m9dec357a20\" y=\"128.276135\"/>\n     <use style=\"fill:#1f77b4;stroke:#1f77b4;\" x=\"264.746254\" xlink:href=\"#m9dec357a20\" y=\"17.108139\"/>\n     <use style=\"fill:#1f77b4;stroke:#1f77b4;\" x=\"179.807565\" xlink:href=\"#m9dec357a20\" y=\"59.452741\"/>\n     <use style=\"fill:#1f77b4;stroke:#1f77b4;\" x=\"137.33822\" xlink:href=\"#m9dec357a20\" y=\"91.221295\"/>\n     <use style=\"fill:#1f77b4;stroke:#1f77b4;\" x=\"349.684943\" xlink:href=\"#m9dec357a20\" y=\"17.11576\"/>\n     <use style=\"fill:#1f77b4;stroke:#1f77b4;\" x=\"278.902702\" xlink:href=\"#m9dec357a20\" y=\"17.09767\"/>\n     <use style=\"fill:#1f77b4;stroke:#1f77b4;\" x=\"278.902702\" xlink:href=\"#m9dec357a20\" y=\"17.103352\"/>\n     <use style=\"fill:#1f77b4;stroke:#1f77b4;\" x=\"243.511582\" xlink:href=\"#m9dec357a20\" y=\"17.102937\"/>\n     <use style=\"fill:#1f77b4;stroke:#1f77b4;\" x=\"293.05915\" xlink:href=\"#m9dec357a20\" y=\"17.114704\"/>\n     <use style=\"fill:#1f77b4;stroke:#1f77b4;\" x=\"257.66803\" xlink:href=\"#m9dec357a20\" y=\"59.458133\"/>\n     <use style=\"fill:#1f77b4;stroke:#1f77b4;\" x=\"151.494668\" xlink:href=\"#m9dec357a20\" y=\"66.510933\"/>\n     <use style=\"fill:#1f77b4;stroke:#1f77b4;\" x=\"137.33822\" xlink:href=\"#m9dec357a20\" y=\"101.802013\"/>\n     <use style=\"fill:#1f77b4;stroke:#1f77b4;\" x=\"222.276909\" xlink:href=\"#m9dec357a20\" y=\"17.112416\"/>\n     <use style=\"fill:#1f77b4;stroke:#1f77b4;\" x=\"165.651117\" xlink:href=\"#m9dec357a20\" y=\"17.105135\"/>\n     <use style=\"fill:#1f77b4;stroke:#1f77b4;\" x=\"236.433358\" xlink:href=\"#m9dec357a20\" y=\"17.088774\"/>\n     <use style=\"fill:#1f77b4;stroke:#1f77b4;\" x=\"264.746254\" xlink:href=\"#m9dec357a20\" y=\"66.512954\"/>\n     <use style=\"fill:#1f77b4;stroke:#1f77b4;\" x=\"186.885789\" xlink:href=\"#m9dec357a20\" y=\"17.107205\"/>\n     <use style=\"fill:#1f77b4;stroke:#1f77b4;\" x=\"264.746254\" xlink:href=\"#m9dec357a20\" y=\"76.408054\"/>\n     <use style=\"fill:#1f77b4;stroke:#1f77b4;\" x=\"215.198685\" xlink:href=\"#m9dec357a20\" y=\"101.811354\"/>\n     <use style=\"fill:#1f77b4;stroke:#1f77b4;\" x=\"87.790651\" xlink:href=\"#m9dec357a20\" y=\"66.5159\"/>\n     <use style=\"fill:#1f77b4;stroke:#1f77b4;\" x=\"271.824478\" xlink:href=\"#m9dec357a20\" y=\"17.109453\"/>\n     <use style=\"fill:#1f77b4;stroke:#1f77b4;\" x=\"236.433358\" xlink:href=\"#m9dec357a20\" y=\"17.09584\"/>\n     <use style=\"fill:#1f77b4;stroke:#1f77b4;\" x=\"293.05915\" xlink:href=\"#m9dec357a20\" y=\"59.457165\"/>\n     <use style=\"fill:#1f77b4;stroke:#1f77b4;\" x=\"257.66803\" xlink:href=\"#m9dec357a20\" y=\"144.169243\"/>\n     <use style=\"fill:#1f77b4;stroke:#1f77b4;\" x=\"257.66803\" xlink:href=\"#m9dec357a20\" y=\"17.09017\"/>\n     <use style=\"fill:#1f77b4;stroke:#1f77b4;\" x=\"278.902702\" xlink:href=\"#m9dec357a20\" y=\"59.463667\"/>\n     <use style=\"fill:#1f77b4;stroke:#1f77b4;\" x=\"151.494668\" xlink:href=\"#m9dec357a20\" y=\"59.449286\"/>\n     <use style=\"fill:#1f77b4;stroke:#1f77b4;\" x=\"215.198685\" xlink:href=\"#m9dec357a20\" y=\"91.220522\"/>\n     <use style=\"fill:#1f77b4;stroke:#1f77b4;\" x=\"314.293823\" xlink:href=\"#m9dec357a20\" y=\"59.449342\"/>\n     <use style=\"fill:#1f77b4;stroke:#1f77b4;\" x=\"307.215599\" xlink:href=\"#m9dec357a20\" y=\"17.099766\"/>\n     <use style=\"fill:#1f77b4;stroke:#1f77b4;\" x=\"172.729341\" xlink:href=\"#m9dec357a20\" y=\"59.451901\"/>\n     <use style=\"fill:#1f77b4;stroke:#1f77b4;\" x=\"314.293823\" xlink:href=\"#m9dec357a20\" y=\"17.097276\"/>\n     <use style=\"fill:#1f77b4;stroke:#1f77b4;\" x=\"94.868876\" xlink:href=\"#m9dec357a20\" y=\"59.460392\"/>\n     <use style=\"fill:#1f77b4;stroke:#1f77b4;\" x=\"172.729341\" xlink:href=\"#m9dec357a20\" y=\"115.94105\"/>\n     <use style=\"fill:#1f77b4;stroke:#1f77b4;\" x=\"300.137374\" xlink:href=\"#m9dec357a20\" y=\"17.101582\"/>\n     <use style=\"fill:#1f77b4;stroke:#1f77b4;\" x=\"278.902702\" xlink:href=\"#m9dec357a20\" y=\"66.518721\"/>\n     <use style=\"fill:#1f77b4;stroke:#1f77b4;\" x=\"293.05915\" xlink:href=\"#m9dec357a20\" y=\"17.106381\"/>\n     <use style=\"fill:#1f77b4;stroke:#1f77b4;\" x=\"250.589806\" xlink:href=\"#m9dec357a20\" y=\"17.108694\"/>\n     <use style=\"fill:#1f77b4;stroke:#1f77b4;\" x=\"87.790651\" xlink:href=\"#m9dec357a20\" y=\"66.517428\"/>\n     <use style=\"fill:#1f77b4;stroke:#1f77b4;\" x=\"193.964013\" xlink:href=\"#m9dec357a20\" y=\"17.102296\"/>\n     <use style=\"fill:#1f77b4;stroke:#1f77b4;\" x=\"271.824478\" xlink:href=\"#m9dec357a20\" y=\"17.117363\"/>\n     <use style=\"fill:#1f77b4;stroke:#1f77b4;\" x=\"278.902702\" xlink:href=\"#m9dec357a20\" y=\"66.520682\"/>\n     <use style=\"fill:#1f77b4;stroke:#1f77b4;\" x=\"278.902702\" xlink:href=\"#m9dec357a20\" y=\"66.5213\"/>\n     <use style=\"fill:#1f77b4;stroke:#1f77b4;\" x=\"321.372047\" xlink:href=\"#m9dec357a20\" y=\"17.097619\"/>\n     <use style=\"fill:#1f77b4;stroke:#1f77b4;\" x=\"349.684943\" xlink:href=\"#m9dec357a20\" y=\"17.105957\"/>\n     <use style=\"fill:#1f77b4;stroke:#1f77b4;\" x=\"137.33822\" xlink:href=\"#m9dec357a20\" y=\"101.826587\"/>\n    </g>\n   </g>\n   <g id=\"matplotlib.axis_1\">\n    <g id=\"xtick_1\">\n     <g id=\"line2d_1\">\n      <defs>\n       <path d=\"M 0 0 \nL 0 3.5 \n\" id=\"mbfe3f5a428\" style=\"stroke:#000000;stroke-width:0.8;\"/>\n      </defs>\n      <g>\n       <use style=\"stroke:#000000;stroke-width:0.8;\" x=\"66.555979\" xlink:href=\"#mbfe3f5a428\" y=\"224.64\"/>\n      </g>\n     </g>\n     <g id=\"text_1\">\n      <!-- 0.6 -->\n      <defs>\n       <path d=\"M 31.78125 66.40625 \nQ 24.171875 66.40625 20.328125 58.90625 \nQ 16.5 51.421875 16.5 36.375 \nQ 16.5 21.390625 20.328125 13.890625 \nQ 24.171875 6.390625 31.78125 6.390625 \nQ 39.453125 6.390625 43.28125 13.890625 \nQ 47.125 21.390625 47.125 36.375 \nQ 47.125 51.421875 43.28125 58.90625 \nQ 39.453125 66.40625 31.78125 66.40625 \nz\nM 31.78125 74.21875 \nQ 44.046875 74.21875 50.515625 64.515625 \nQ 56.984375 54.828125 56.984375 36.375 \nQ 56.984375 17.96875 50.515625 8.265625 \nQ 44.046875 -1.421875 31.78125 -1.421875 \nQ 19.53125 -1.421875 13.0625 8.265625 \nQ 6.59375 17.96875 6.59375 36.375 \nQ 6.59375 54.828125 13.0625 64.515625 \nQ 19.53125 74.21875 31.78125 74.21875 \nz\n\" id=\"DejaVuSans-48\"/>\n       <path d=\"M 10.6875 12.40625 \nL 21 12.40625 \nL 21 0 \nL 10.6875 0 \nz\n\" id=\"DejaVuSans-46\"/>\n       <path d=\"M 33.015625 40.375 \nQ 26.375 40.375 22.484375 35.828125 \nQ 18.609375 31.296875 18.609375 23.390625 \nQ 18.609375 15.53125 22.484375 10.953125 \nQ 26.375 6.390625 33.015625 6.390625 \nQ 39.65625 6.390625 43.53125 10.953125 \nQ 47.40625 15.53125 47.40625 23.390625 \nQ 47.40625 31.296875 43.53125 35.828125 \nQ 39.65625 40.375 33.015625 40.375 \nz\nM 52.59375 71.296875 \nL 52.59375 62.3125 \nQ 48.875 64.0625 45.09375 64.984375 \nQ 41.3125 65.921875 37.59375 65.921875 \nQ 27.828125 65.921875 22.671875 59.328125 \nQ 17.53125 52.734375 16.796875 39.40625 \nQ 19.671875 43.65625 24.015625 45.921875 \nQ 28.375 48.1875 33.59375 48.1875 \nQ 44.578125 48.1875 50.953125 41.515625 \nQ 57.328125 34.859375 57.328125 23.390625 \nQ 57.328125 12.15625 50.6875 5.359375 \nQ 44.046875 -1.421875 33.015625 -1.421875 \nQ 20.359375 -1.421875 13.671875 8.265625 \nQ 6.984375 17.96875 6.984375 36.375 \nQ 6.984375 53.65625 15.1875 63.9375 \nQ 23.390625 74.21875 37.203125 74.21875 \nQ 40.921875 74.21875 44.703125 73.484375 \nQ 48.484375 72.75 52.59375 71.296875 \nz\n\" id=\"DejaVuSans-54\"/>\n      </defs>\n      <g transform=\"translate(58.604417 239.238437)scale(0.1 -0.1)\">\n       <use xlink:href=\"#DejaVuSans-48\"/>\n       <use x=\"63.623047\" xlink:href=\"#DejaVuSans-46\"/>\n       <use x=\"95.410156\" xlink:href=\"#DejaVuSans-54\"/>\n      </g>\n     </g>\n    </g>\n    <g id=\"xtick_2\">\n     <g id=\"line2d_2\">\n      <g>\n       <use style=\"stroke:#000000;stroke-width:0.8;\" x=\"137.33822\" xlink:href=\"#mbfe3f5a428\" y=\"224.64\"/>\n      </g>\n     </g>\n     <g id=\"text_2\">\n      <!-- 0.7 -->\n      <defs>\n       <path d=\"M 8.203125 72.90625 \nL 55.078125 72.90625 \nL 55.078125 68.703125 \nL 28.609375 0 \nL 18.3125 0 \nL 43.21875 64.59375 \nL 8.203125 64.59375 \nz\n\" id=\"DejaVuSans-55\"/>\n      </defs>\n      <g transform=\"translate(129.386658 239.238437)scale(0.1 -0.1)\">\n       <use xlink:href=\"#DejaVuSans-48\"/>\n       <use x=\"63.623047\" xlink:href=\"#DejaVuSans-46\"/>\n       <use x=\"95.410156\" xlink:href=\"#DejaVuSans-55\"/>\n      </g>\n     </g>\n    </g>\n    <g id=\"xtick_3\">\n     <g id=\"line2d_3\">\n      <g>\n       <use style=\"stroke:#000000;stroke-width:0.8;\" x=\"208.120461\" xlink:href=\"#mbfe3f5a428\" y=\"224.64\"/>\n      </g>\n     </g>\n     <g id=\"text_3\">\n      <!-- 0.8 -->\n      <defs>\n       <path d=\"M 31.78125 34.625 \nQ 24.75 34.625 20.71875 30.859375 \nQ 16.703125 27.09375 16.703125 20.515625 \nQ 16.703125 13.921875 20.71875 10.15625 \nQ 24.75 6.390625 31.78125 6.390625 \nQ 38.8125 6.390625 42.859375 10.171875 \nQ 46.921875 13.96875 46.921875 20.515625 \nQ 46.921875 27.09375 42.890625 30.859375 \nQ 38.875 34.625 31.78125 34.625 \nz\nM 21.921875 38.8125 \nQ 15.578125 40.375 12.03125 44.71875 \nQ 8.5 49.078125 8.5 55.328125 \nQ 8.5 64.0625 14.71875 69.140625 \nQ 20.953125 74.21875 31.78125 74.21875 \nQ 42.671875 74.21875 48.875 69.140625 \nQ 55.078125 64.0625 55.078125 55.328125 \nQ 55.078125 49.078125 51.53125 44.71875 \nQ 48 40.375 41.703125 38.8125 \nQ 48.828125 37.15625 52.796875 32.3125 \nQ 56.78125 27.484375 56.78125 20.515625 \nQ 56.78125 9.90625 50.3125 4.234375 \nQ 43.84375 -1.421875 31.78125 -1.421875 \nQ 19.734375 -1.421875 13.25 4.234375 \nQ 6.78125 9.90625 6.78125 20.515625 \nQ 6.78125 27.484375 10.78125 32.3125 \nQ 14.796875 37.15625 21.921875 38.8125 \nz\nM 18.3125 54.390625 \nQ 18.3125 48.734375 21.84375 45.5625 \nQ 25.390625 42.390625 31.78125 42.390625 \nQ 38.140625 42.390625 41.71875 45.5625 \nQ 45.3125 48.734375 45.3125 54.390625 \nQ 45.3125 60.0625 41.71875 63.234375 \nQ 38.140625 66.40625 31.78125 66.40625 \nQ 25.390625 66.40625 21.84375 63.234375 \nQ 18.3125 60.0625 18.3125 54.390625 \nz\n\" id=\"DejaVuSans-56\"/>\n      </defs>\n      <g transform=\"translate(200.168899 239.238437)scale(0.1 -0.1)\">\n       <use xlink:href=\"#DejaVuSans-48\"/>\n       <use x=\"63.623047\" xlink:href=\"#DejaVuSans-46\"/>\n       <use x=\"95.410156\" xlink:href=\"#DejaVuSans-56\"/>\n      </g>\n     </g>\n    </g>\n    <g id=\"xtick_4\">\n     <g id=\"line2d_4\">\n      <g>\n       <use style=\"stroke:#000000;stroke-width:0.8;\" x=\"278.902702\" xlink:href=\"#mbfe3f5a428\" y=\"224.64\"/>\n      </g>\n     </g>\n     <g id=\"text_4\">\n      <!-- 0.9 -->\n      <defs>\n       <path d=\"M 10.984375 1.515625 \nL 10.984375 10.5 \nQ 14.703125 8.734375 18.5 7.8125 \nQ 22.3125 6.890625 25.984375 6.890625 \nQ 35.75 6.890625 40.890625 13.453125 \nQ 46.046875 20.015625 46.78125 33.40625 \nQ 43.953125 29.203125 39.59375 26.953125 \nQ 35.25 24.703125 29.984375 24.703125 \nQ 19.046875 24.703125 12.671875 31.3125 \nQ 6.296875 37.9375 6.296875 49.421875 \nQ 6.296875 60.640625 12.9375 67.421875 \nQ 19.578125 74.21875 30.609375 74.21875 \nQ 43.265625 74.21875 49.921875 64.515625 \nQ 56.59375 54.828125 56.59375 36.375 \nQ 56.59375 19.140625 48.40625 8.859375 \nQ 40.234375 -1.421875 26.421875 -1.421875 \nQ 22.703125 -1.421875 18.890625 -0.6875 \nQ 15.09375 0.046875 10.984375 1.515625 \nz\nM 30.609375 32.421875 \nQ 37.25 32.421875 41.125 36.953125 \nQ 45.015625 41.5 45.015625 49.421875 \nQ 45.015625 57.28125 41.125 61.84375 \nQ 37.25 66.40625 30.609375 66.40625 \nQ 23.96875 66.40625 20.09375 61.84375 \nQ 16.21875 57.28125 16.21875 49.421875 \nQ 16.21875 41.5 20.09375 36.953125 \nQ 23.96875 32.421875 30.609375 32.421875 \nz\n\" id=\"DejaVuSans-57\"/>\n      </defs>\n      <g transform=\"translate(270.95114 239.238437)scale(0.1 -0.1)\">\n       <use xlink:href=\"#DejaVuSans-48\"/>\n       <use x=\"63.623047\" xlink:href=\"#DejaVuSans-46\"/>\n       <use x=\"95.410156\" xlink:href=\"#DejaVuSans-57\"/>\n      </g>\n     </g>\n    </g>\n    <g id=\"xtick_5\">\n     <g id=\"line2d_5\">\n      <g>\n       <use style=\"stroke:#000000;stroke-width:0.8;\" x=\"349.684943\" xlink:href=\"#mbfe3f5a428\" y=\"224.64\"/>\n      </g>\n     </g>\n     <g id=\"text_5\">\n      <!-- 1.0 -->\n      <defs>\n       <path d=\"M 12.40625 8.296875 \nL 28.515625 8.296875 \nL 28.515625 63.921875 \nL 10.984375 60.40625 \nL 10.984375 69.390625 \nL 28.421875 72.90625 \nL 38.28125 72.90625 \nL 38.28125 8.296875 \nL 54.390625 8.296875 \nL 54.390625 0 \nL 12.40625 0 \nz\n\" id=\"DejaVuSans-49\"/>\n      </defs>\n      <g transform=\"translate(341.733381 239.238437)scale(0.1 -0.1)\">\n       <use xlink:href=\"#DejaVuSans-49\"/>\n       <use x=\"63.623047\" xlink:href=\"#DejaVuSans-46\"/>\n       <use x=\"95.410156\" xlink:href=\"#DejaVuSans-48\"/>\n      </g>\n     </g>\n    </g>\n   </g>\n   <g id=\"matplotlib.axis_2\">\n    <g id=\"ytick_1\">\n     <g id=\"line2d_6\">\n      <defs>\n       <path d=\"M 0 0 \nL -3.5 0 \n\" id=\"mba07d6b44c\" style=\"stroke:#000000;stroke-width:0.8;\"/>\n      </defs>\n      <g>\n       <use style=\"stroke:#000000;stroke-width:0.8;\" x=\"30.103125\" xlink:href=\"#mba07d6b44c\" y=\"224.639961\"/>\n      </g>\n     </g>\n     <g id=\"text_6\">\n      <!-- 0.3 -->\n      <defs>\n       <path d=\"M 40.578125 39.3125 \nQ 47.65625 37.796875 51.625 33 \nQ 55.609375 28.21875 55.609375 21.1875 \nQ 55.609375 10.40625 48.1875 4.484375 \nQ 40.765625 -1.421875 27.09375 -1.421875 \nQ 22.515625 -1.421875 17.65625 -0.515625 \nQ 12.796875 0.390625 7.625 2.203125 \nL 7.625 11.71875 \nQ 11.71875 9.328125 16.59375 8.109375 \nQ 21.484375 6.890625 26.8125 6.890625 \nQ 36.078125 6.890625 40.9375 10.546875 \nQ 45.796875 14.203125 45.796875 21.1875 \nQ 45.796875 27.640625 41.28125 31.265625 \nQ 36.765625 34.90625 28.71875 34.90625 \nL 20.21875 34.90625 \nL 20.21875 43.015625 \nL 29.109375 43.015625 \nQ 36.375 43.015625 40.234375 45.921875 \nQ 44.09375 48.828125 44.09375 54.296875 \nQ 44.09375 59.90625 40.109375 62.90625 \nQ 36.140625 65.921875 28.71875 65.921875 \nQ 24.65625 65.921875 20.015625 65.03125 \nQ 15.375 64.15625 9.8125 62.3125 \nL 9.8125 71.09375 \nQ 15.4375 72.65625 20.34375 73.4375 \nQ 25.25 74.21875 29.59375 74.21875 \nQ 40.828125 74.21875 47.359375 69.109375 \nQ 53.90625 64.015625 53.90625 55.328125 \nQ 53.90625 49.265625 50.4375 45.09375 \nQ 46.96875 40.921875 40.578125 39.3125 \nz\n\" id=\"DejaVuSans-51\"/>\n      </defs>\n      <g transform=\"translate(7.2 228.43918)scale(0.1 -0.1)\">\n       <use xlink:href=\"#DejaVuSans-48\"/>\n       <use x=\"63.623047\" xlink:href=\"#DejaVuSans-46\"/>\n       <use x=\"95.410156\" xlink:href=\"#DejaVuSans-51\"/>\n      </g>\n     </g>\n    </g>\n    <g id=\"ytick_2\">\n     <g id=\"line2d_7\">\n      <g>\n       <use style=\"stroke:#000000;stroke-width:0.8;\" x=\"30.103125\" xlink:href=\"#mba07d6b44c\" y=\"194.991276\"/>\n      </g>\n     </g>\n     <g id=\"text_7\">\n      <!-- 0.4 -->\n      <defs>\n       <path d=\"M 37.796875 64.3125 \nL 12.890625 25.390625 \nL 37.796875 25.390625 \nz\nM 35.203125 72.90625 \nL 47.609375 72.90625 \nL 47.609375 25.390625 \nL 58.015625 25.390625 \nL 58.015625 17.1875 \nL 47.609375 17.1875 \nL 47.609375 0 \nL 37.796875 0 \nL 37.796875 17.1875 \nL 4.890625 17.1875 \nL 4.890625 26.703125 \nz\n\" id=\"DejaVuSans-52\"/>\n      </defs>\n      <g transform=\"translate(7.2 198.790495)scale(0.1 -0.1)\">\n       <use xlink:href=\"#DejaVuSans-48\"/>\n       <use x=\"63.623047\" xlink:href=\"#DejaVuSans-46\"/>\n       <use x=\"95.410156\" xlink:href=\"#DejaVuSans-52\"/>\n      </g>\n     </g>\n    </g>\n    <g id=\"ytick_3\">\n     <g id=\"line2d_8\">\n      <g>\n       <use style=\"stroke:#000000;stroke-width:0.8;\" x=\"30.103125\" xlink:href=\"#mba07d6b44c\" y=\"165.342591\"/>\n      </g>\n     </g>\n     <g id=\"text_8\">\n      <!-- 0.5 -->\n      <defs>\n       <path d=\"M 10.796875 72.90625 \nL 49.515625 72.90625 \nL 49.515625 64.59375 \nL 19.828125 64.59375 \nL 19.828125 46.734375 \nQ 21.96875 47.46875 24.109375 47.828125 \nQ 26.265625 48.1875 28.421875 48.1875 \nQ 40.625 48.1875 47.75 41.5 \nQ 54.890625 34.8125 54.890625 23.390625 \nQ 54.890625 11.625 47.5625 5.09375 \nQ 40.234375 -1.421875 26.90625 -1.421875 \nQ 22.3125 -1.421875 17.546875 -0.640625 \nQ 12.796875 0.140625 7.71875 1.703125 \nL 7.71875 11.625 \nQ 12.109375 9.234375 16.796875 8.0625 \nQ 21.484375 6.890625 26.703125 6.890625 \nQ 35.15625 6.890625 40.078125 11.328125 \nQ 45.015625 15.765625 45.015625 23.390625 \nQ 45.015625 31 40.078125 35.4375 \nQ 35.15625 39.890625 26.703125 39.890625 \nQ 22.75 39.890625 18.8125 39.015625 \nQ 14.890625 38.140625 10.796875 36.28125 \nz\n\" id=\"DejaVuSans-53\"/>\n      </defs>\n      <g transform=\"translate(7.2 169.141809)scale(0.1 -0.1)\">\n       <use xlink:href=\"#DejaVuSans-48\"/>\n       <use x=\"63.623047\" xlink:href=\"#DejaVuSans-46\"/>\n       <use x=\"95.410156\" xlink:href=\"#DejaVuSans-53\"/>\n      </g>\n     </g>\n    </g>\n    <g id=\"ytick_4\">\n     <g id=\"line2d_9\">\n      <g>\n       <use style=\"stroke:#000000;stroke-width:0.8;\" x=\"30.103125\" xlink:href=\"#mba07d6b44c\" y=\"135.693905\"/>\n      </g>\n     </g>\n     <g id=\"text_9\">\n      <!-- 0.6 -->\n      <g transform=\"translate(7.2 139.493124)scale(0.1 -0.1)\">\n       <use xlink:href=\"#DejaVuSans-48\"/>\n       <use x=\"63.623047\" xlink:href=\"#DejaVuSans-46\"/>\n       <use x=\"95.410156\" xlink:href=\"#DejaVuSans-54\"/>\n      </g>\n     </g>\n    </g>\n    <g id=\"ytick_5\">\n     <g id=\"line2d_10\">\n      <g>\n       <use style=\"stroke:#000000;stroke-width:0.8;\" x=\"30.103125\" xlink:href=\"#mba07d6b44c\" y=\"106.04522\"/>\n      </g>\n     </g>\n     <g id=\"text_10\">\n      <!-- 0.7 -->\n      <g transform=\"translate(7.2 109.844439)scale(0.1 -0.1)\">\n       <use xlink:href=\"#DejaVuSans-48\"/>\n       <use x=\"63.623047\" xlink:href=\"#DejaVuSans-46\"/>\n       <use x=\"95.410156\" xlink:href=\"#DejaVuSans-55\"/>\n      </g>\n     </g>\n    </g>\n    <g id=\"ytick_6\">\n     <g id=\"line2d_11\">\n      <g>\n       <use style=\"stroke:#000000;stroke-width:0.8;\" x=\"30.103125\" xlink:href=\"#mba07d6b44c\" y=\"76.396535\"/>\n      </g>\n     </g>\n     <g id=\"text_11\">\n      <!-- 0.8 -->\n      <g transform=\"translate(7.2 80.195754)scale(0.1 -0.1)\">\n       <use xlink:href=\"#DejaVuSans-48\"/>\n       <use x=\"63.623047\" xlink:href=\"#DejaVuSans-46\"/>\n       <use x=\"95.410156\" xlink:href=\"#DejaVuSans-56\"/>\n      </g>\n     </g>\n    </g>\n    <g id=\"ytick_7\">\n     <g id=\"line2d_12\">\n      <g>\n       <use style=\"stroke:#000000;stroke-width:0.8;\" x=\"30.103125\" xlink:href=\"#mba07d6b44c\" y=\"46.74785\"/>\n      </g>\n     </g>\n     <g id=\"text_12\">\n      <!-- 0.9 -->\n      <g transform=\"translate(7.2 50.547068)scale(0.1 -0.1)\">\n       <use xlink:href=\"#DejaVuSans-48\"/>\n       <use x=\"63.623047\" xlink:href=\"#DejaVuSans-46\"/>\n       <use x=\"95.410156\" xlink:href=\"#DejaVuSans-57\"/>\n      </g>\n     </g>\n    </g>\n    <g id=\"ytick_8\">\n     <g id=\"line2d_13\">\n      <g>\n       <use style=\"stroke:#000000;stroke-width:0.8;\" x=\"30.103125\" xlink:href=\"#mba07d6b44c\" y=\"17.099164\"/>\n      </g>\n     </g>\n     <g id=\"text_13\">\n      <!-- 1.0 -->\n      <g transform=\"translate(7.2 20.898383)scale(0.1 -0.1)\">\n       <use xlink:href=\"#DejaVuSans-49\"/>\n       <use x=\"63.623047\" xlink:href=\"#DejaVuSans-46\"/>\n       <use x=\"95.410156\" xlink:href=\"#DejaVuSans-48\"/>\n      </g>\n     </g>\n    </g>\n   </g>\n   <g id=\"patch_3\">\n    <path d=\"M 30.103125 224.64 \nL 30.103125 7.2 \n\" style=\"fill:none;stroke:#000000;stroke-linecap:square;stroke-linejoin:miter;stroke-width:0.8;\"/>\n   </g>\n   <g id=\"patch_4\">\n    <path d=\"M 364.903125 224.64 \nL 364.903125 7.2 \n\" style=\"fill:none;stroke:#000000;stroke-linecap:square;stroke-linejoin:miter;stroke-width:0.8;\"/>\n   </g>\n   <g id=\"patch_5\">\n    <path d=\"M 30.103125 224.64 \nL 364.903125 224.64 \n\" style=\"fill:none;stroke:#000000;stroke-linecap:square;stroke-linejoin:miter;stroke-width:0.8;\"/>\n   </g>\n   <g id=\"patch_6\">\n    <path d=\"M 30.103125 7.2 \nL 364.903125 7.2 \n\" style=\"fill:none;stroke:#000000;stroke-linecap:square;stroke-linejoin:miter;stroke-width:0.8;\"/>\n   </g>\n  </g>\n </g>\n <defs>\n  <clipPath id=\"p71a6a14382\">\n   <rect height=\"217.44\" width=\"334.8\" x=\"30.103125\" y=\"7.2\"/>\n  </clipPath>\n </defs>\n</svg>\n",
      "image/png": "[encoded data removed]"
     },
     "metadata": {
      "needs_background": "light"
     }
    }
   ],
   "source": [
    "plt.scatter(data[\"part_1_scores\"], data[f\"m_{big_t}\"])\n",
    "plt.show()"
   ]
  },
  {
   "cell_type": "code",
   "execution_count": null,
   "metadata": {},
   "outputs": [],
   "source": []
  },
  {
   "cell_type": "code",
   "execution_count": 78,
   "metadata": {},
   "outputs": [],
   "source": [
    "class FlatDataset(torch.utils.data.Dataset):\n",
    "    def __init__(self, features, targets):\n",
    "        self.features = features\n",
    "        self.targets = targets\n",
    "        \n",
    "    def __len__(self):\n",
    "        return len(self.features)\n",
    "    \n",
    "    def __getitem__(self, idx):\n",
    "        return self.features[idx], self.targets[idx]"
   ]
  },
  {
   "cell_type": "code",
   "execution_count": 110,
   "metadata": {},
   "outputs": [],
   "source": [
    "class DropOutNet(torch.nn.Module):\n",
    "    def __init__(self, input_dim, output_dim, hidden_dim = 100):\n",
    "        super(DropOut, self).__init__()\n",
    "        self.linear1 = torch.nn.Linear(input_dim, 1024)\n",
    "        self.drop1 = torch.nn.Dropout(0.25)\n",
    "        self.linear2 = torch.nn.Linear(1024, 512)\n",
    "        self.drop1 = torch.nn.Dropout(0.25)\n",
    "        self.linear3 = torch.nn.Linear(512, 256)\n",
    "        self.drop1 = torch.nn.Dropout(0.25)\n",
    "        self.linear4 = torch.nn.Linear(256, 128)\n",
    "        self.drop1 = torch.nn.Dropout(0.25)\n",
    "        self.linear5 = torch.nn.Linear(128, 64)\n",
    "        self.drop1 = torch.nn.Dropout(0.25)\n",
    "        self.linear6 = torch.nn.Linear(64, 32)\n",
    "        self.drop1 = torch.nn.Dropout(0.25)\n",
    "        self.linear7 = torch.nn.Linear(32, output_dim)\n",
    "\n",
    "        self.act = torch.nn.ReLU()\n",
    "        \n",
    "    def forward(self, x):\n",
    "        x = self.act(self.linear1(x))\n",
    "        x = self.drop1(x)\n",
    "        x = self.act(self.linear2(x))\n",
    "        x = self.drop2(x)\n",
    "        x = self.act(self.linear3(x))\n",
    "        x = self.drop3(x)\n",
    "        x = self.act(self.linear4(x))\n",
    "        x = self.drop4(x)\n",
    "        x = self.act(self.linear5(x))\n",
    "        x = self.drop5(x)\n",
    "        x = self.act(self.linear6(x))\n",
    "        x = self.drop6(x)\n",
    "        x = self.act(self.linear7(x))\n",
    "        return x\n"
   ]
  },
  {
   "cell_type": "code",
   "execution_count": 79,
   "metadata": {},
   "outputs": [],
   "source": [
    "class TwoLayerNet(torch.nn.Module):\n",
    "    def __init__(self, input_dim, output_dim, hidden_dim = 100):\n",
    "        super(TwoLayerNet, self).__init__()\n",
    "        self.linear1 = torch.nn.Linear(input_dim, hidden_dim)\n",
    "        self.tanh = torch.nn.Tanh()\n",
    "        self.linear2 = torch.nn.Linear(hidden_dim, output_dim)\n",
    "        \n",
    "    def forward(self, x):\n",
    "        x = self.linear1(x)\n",
    "        x = self.tanh(x)\n",
    "        x = self.linear2(x)\n",
    "        return x\n",
    "        "
   ]
  },
  {
   "cell_type": "code",
   "execution_count": 80,
   "metadata": {},
   "outputs": [],
   "source": [
    "def split_training(data: pd.DataFrame, shuffle=True, split=0.8):\n",
    "    ids = np.random.permutation(list(data.index)) if shuffle else list(data.index)\n",
    "    split_index = int(len(ids) * split)\n",
    "    return data.loc[ids[:split_index]], data.loc[ids[split_index:]]"
   ]
  },
  {
   "cell_type": "code",
   "execution_count": 86,
   "metadata": {},
   "outputs": [],
   "source": [
    "def build_matrixes(data: pd.DataFrame, targets, features, dtype=\"double\"):\n",
    "    feature_matrix = [np.concatenate(list(row_features), axis=None) \n",
    "                      for row_features in zip(*[list(data[feature]) for feature in features])]\n",
    "    target_matrix = list(data[targets])\n",
    "    return np.array(feature_matrix, dtype=dtype), np.array(target_matrix, dtype=dtype).reshape((len(target_matrix),1))"
   ]
  },
  {
   "cell_type": "code",
   "execution_count": 86,
   "metadata": {},
   "outputs": [],
   "source": [
    " "
   ]
  },
  {
   "cell_type": "code",
   "execution_count": 88,
   "metadata": {
    "tags": []
   },
   "outputs": [],
   "source": [
    "target = \"m_75\"\n",
    "features = [\"emotion\"]\n",
    "\n",
    "def get_model(data, target, features, modelClass): \n",
    "    train, valid = split_training(data)\n",
    "    features_train, targets_train = build_matrixes(train, targets = target, features = features)\n",
    "    \n",
    "    features_valid, targets_valid = build_matrixes(valid, targets = target, features = features)\n",
    "    data_train = FlatDataset(features_train, targets_train)\n",
    "    data_valid = FlatDataset(features_valid, targets_valid)\n",
    "    input_dim = len(features_train[0])\n",
    "    output_dim = 1 if len(targets_train.shape) == 1 else len(targets_train[0])\n",
    "    model = modelClass(input_dim, output_dim)\n",
    "\n",
    "    num_epochs = NUM_EPOCHS\n",
    "    batch_size = BATCH_SIZE\n",
    "    learning_rate = LEARNING_RATE\n",
    "    loss_fn = torch.nn.MSELoss()\n",
    "    optimizer = torch.optim.Adam(model.parameters(), lr = learning_rate)\n",
    "    scheduler = torch.optim.lr_scheduler.StepLR(optimizer, step_size=3, gamma = 0.5)\n",
    "\n",
    "    dataloader_train = torch.utils.data.DataLoader(data_train, batch_size=batch_size, shuffle=True)\n",
    "    dataloader_valid = torch.utils.data.DataLoader(data_valid, batch_size=1)\n",
    "    device = torch.device(\"cuda\") if CUDA else torch.device(\"cpu\")\n",
    "    model = model.double().to(device)\n",
    "\n",
    "\n",
    "    return model, dataloader_train, dataloader_valid, loss_fn, optimizer, scheduler, device \n",
    "\n",
    "_ = get_model(data, target, features, TwoLayerNet)\n",
    "model, dataloader_train, dataloader_valid, loss_fn, optimizer, scheduler, device = _ "
   ]
  },
  {
   "cell_type": "code",
   "execution_count": null,
   "metadata": {},
   "outputs": [],
   "source": []
  },
  {
   "cell_type": "code",
   "execution_count": 93,
   "metadata": {},
   "outputs": [],
   "source": [
    "def train_model(model, dataloader_train, dataloader_valid, loss_fn, optimizer, scheduler, device):\n",
    "    \n",
    "    for is_training in [True, False]: # Epoch is a training followed by validation \n",
    "        \n",
    "        model.train() if is_training else model.eval()\n",
    "\n",
    "        running_loss = 0\n",
    "        for features, targets in (dataloader_train if is_training else dataloader_valid):\n",
    "            features = features.to(device) \n",
    "            targets = targets.to(device)\n",
    "            optimizer.zero_grad()\n",
    "            with torch.set_grad_enabled(is_training):\n",
    "                outputs = model(features)\n",
    "                loss = loss_fn(outputs, targets)\n",
    "                if is_training:\n",
    "                    loss.backward()\n",
    "                    optimizer.step()               \n",
    "            running_loss += loss.item()\n",
    "        \n",
    "        if is_training:\n",
    "            scheduler.step()\n",
    "        \n",
    "        if is_training:\n",
    "            train_loss = running_loss / len(dataloader_train.dataset)\n",
    "        else:\n",
    "            valid_loss = running_loss / len(dataloader_valid.dataset)\n",
    "    \n",
    "    return train_loss, valid_loss\n",
    "\n"
   ]
  },
  {
   "cell_type": "code",
   "execution_count": 95,
   "metadata": {},
   "outputs": [],
   "source": [
    "def get_best_model(model, dataloader_train, dataloader_valid, loss_fn, optimizer, scheduler, device): \n",
    "    best_valid_loss = 9999999\n",
    "    best_model_state_dict = copy.deepcopy(model.state_dict())\n",
    "\n",
    "    for epoch in range(num_epochs):\n",
    "        # print(f\"--------------- Epoch {epoch} ----------------\")\n",
    "        train_loss, val_loss = train_model(model = model,\n",
    "                                    dataloader_train = dataloader_train,\n",
    "                                    dataloader_valid = dataloader_valid,\n",
    "                                    loss_fn = loss_fn,\n",
    "                                    optimizer = optimizer,\n",
    "                                    scheduler = scheduler,\n",
    "                                    device = device)\n",
    "        \n",
    "        if val_loss < best_valid_loss:\n",
    "            best_valid_loss = val_loss\n",
    "            best_model_state_dict = copy.deepcopy(model.state_dict())\n",
    "            # print(\"New Best Validiation Loss!!!\", val_loss)\n",
    "        \n",
    "        # print(\"Training Loss:\", train_loss)\n",
    "        # print(\"Validation Loss:\", val_loss)\n",
    "    # print(\"\\n\\nFINISHED TRAINING\")\n",
    "    print(f\"Best validation lost: {best_valid_loss}\")\n",
    "    best_model = model\n",
    "    best_model = best_model.eval()\n",
    "    best_model.load_state_dict(best_model_state_dict)\n",
    "    return best_model\n",
    "best_model = get_best_model(model, dataloader_train, dataloader_valid, loss_fn, optimizer, scheduler, device)"
   ]
  },
  {
   "cell_type": "code",
   "execution_count": 106,
   "metadata": {},
   "outputs": [],
   "source": [
    "def save_predictions(dataloader_valid, best_model): \n",
    "    predictions = []\n",
    "    actuals = []\n",
    "    for feature, actual in dataloader_valid:\n",
    "        with torch.set_grad_enabled(False):\n",
    "            feature = feature.to(device)\n",
    "            output = best_model(feature)\n",
    "            predictions.append(output.cpu().numpy()[0][0])\n",
    "            actuals.append(actual.cpu().numpy()[0][0])\n",
    "\n",
    "    from tempfile import TemporaryFile \n",
    "    if not os.path.exists(f\"./predictions\"):\n",
    "        os.mkdir(f\"./predictions\")\n",
    "    outfile = TemporaryFile()\n",
    "    with open(F'predictions/{best_model.__class__.__name__}:{\"-\".join(features)}.npy', 'wb') as f:\n",
    "        np.save(f, np.array(predictions))\n",
    "save_predictions(dataloader_valid, best_model)"
   ]
  },
  {
   "cell_type": "code",
   "execution_count": 109,
   "metadata": {},
   "outputs": [],
   "source": [
    "target = \"m_75\"\n",
    "features = [\"emotion\"]\n",
    "combinations = [\n",
    "                (TwoLayerNet, [\"emotion\"]),\n",
    "                (TwoLayerNet, [\"emotion\", \"c3d\"]),\n",
    "                (TwoLayerNet, [\"c3d\"])\n",
    "                (DropOutNet, [\"emotion\"]),\n",
    "               ]\n",
    "for model, features in combinations: \n",
    "    _ = get_model(data, target, features, model)\n",
    "    model, dataloader_train, dataloader_valid, loss_fn, optimizer, scheduler, device = _ \n",
    "    best_model = get_best_model(model, dataloader_train, dataloader_valid, loss_fn, optimizer, scheduler, device)\n",
    "    save_predictions(dataloader_valid, best_model)"
   ]
  },
  {
   "cell_type": "code",
   "execution_count": null,
   "metadata": {},
   "outputs": [],
   "source": []
  }
 ]
}