{
 "cells": [
  {
   "cell_type": "markdown",
   "metadata": {},
   "source": [
    "# Training workflow"
   ]
  },
  {
   "cell_type": "code",
   "execution_count": 1,
   "metadata": {},
   "outputs": [],
   "source": [
    "%load_ext autoreload\n",
    "\n",
    "%autoreload 2"
   ]
  },
  {
   "cell_type": "code",
   "execution_count": 2,
   "metadata": {},
   "outputs": [],
   "source": [
    "import torch\n",
    "import pandas as pd\n",
    "import numpy as np\n",
    "import matplotlib.pyplot as plt\n",
    "from scipy import stats\n",
    "import os\n",
    "\n",
    "from IPython.display import Video\n",
    "import features.config as fconf"
   ]
  },
  {
   "cell_type": "markdown",
   "metadata": {},
   "source": [
    "## Constants"
   ]
  },
  {
   "cell_type": "code",
   "execution_count": 3,
   "metadata": {},
   "outputs": [],
   "source": [
    "PREDICTIONS_DIR = \"predictions\""
   ]
  },
  {
   "cell_type": "code",
   "execution_count": 4,
   "metadata": {},
   "outputs": [
    {
     "name": "stdout",
     "output_type": "stream",
     "text": [
      "CUDA: True\n"
     ]
    }
   ],
   "source": [
    "CUDA = torch.cuda.is_available()\n",
    "RANDOM_SEED = 1\n",
    "BATCH_SIZE = 32\n",
    "LEARNING_RATE = 1e-3\n",
    "NUM_EPOCHS = 15\n",
    "\n",
    "USE_DEV_SET = False\n",
    "USE_TRAIN_SET = True\n",
    "FILTER_99 = False\n",
    "FILTER_99_VALID = False\n",
    "print(f\"CUDA: {CUDA}\")"
   ]
  },
  {
   "cell_type": "code",
   "execution_count": 5,
   "metadata": {},
   "outputs": [],
   "source": [
    "target = \"m_75\"\n",
    "feature = \"resnet152\"\n",
    "model_type = \"svr\"\n",
    "aggregate_with = np.median"
   ]
  },
  {
   "cell_type": "code",
   "execution_count": 6,
   "metadata": {},
   "outputs": [
    {
     "data": {
      "text/plain": [
       "<torch._C.Generator at 0x7f8b180ca7b0>"
      ]
     },
     "execution_count": 6,
     "metadata": {},
     "output_type": "execute_result"
    }
   ],
   "source": [
    "np.random.seed(RANDOM_SEED)\n",
    "torch.manual_seed(RANDOM_SEED)"
   ]
  },
  {
   "cell_type": "markdown",
   "metadata": {},
   "source": [
    "## Load Data\n",
    "\n",
    "Extracted features, scores, metadata, etc."
   ]
  },
  {
   "cell_type": "code",
   "execution_count": 7,
   "metadata": {},
   "outputs": [],
   "source": [
    "testing_set_data = pd.read_csv(\"testing_set/test_urls.csv\").set_index(\"video_id\")\n",
    "\n",
    "if USE_TRAIN_SET:\n",
    "    training_set_data = pd.read_csv(\"training_set/scores_v2.csv\").set_index(\"video_id\")\n",
    "\n",
    "if USE_DEV_SET:\n",
    "    development_set_data = pd.read_csv(\"development_set/dev_scores.csv\").set_index(\"video_id\")"
   ]
  },
  {
   "cell_type": "code",
   "execution_count": 8,
   "metadata": {},
   "outputs": [
    {
     "name": "stdout",
     "output_type": "stream",
     "text": [
      "WARNING:tensorflow:From /home/tony/anaconda3/envs/video-mem/lib/python3.8/site-packages/tensorflow/python/compat/v2_compat.py:96: disable_resource_variables (from tensorflow.python.ops.variable_scope) is deprecated and will be removed in a future version.\n",
      "Instructions for updating:\n",
      "non-resource variables are not supported in the long term\n"
     ]
    }
   ],
   "source": [
    "from features.video import load_C3D_features\n",
    "from features.image import load_ResNet152_features, load_LBP_features, load_HOG_features\n",
    "from features.audio import load_VGGish_features\n",
    "from features.emotion import load_Emotion_features, extract_emotions"
   ]
  },
  {
   "cell_type": "code",
   "execution_count": 9,
   "metadata": {},
   "outputs": [],
   "source": [
    "def add_features_to_df(dfs, set_names, label, feature_dir, load_func):\n",
    "    for df, set_name in zip(dfs, set_names):\n",
    "        df[label] = load_func(df.index, fconf.set_dataset(set_name, feature_dir))"
   ]
  },
  {
   "cell_type": "code",
   "execution_count": 10,
   "metadata": {},
   "outputs": [],
   "source": [
    "dfs = [testing_set_data]\n",
    "set_names = [\"testing_set\"]\n",
    "\n",
    "if USE_TRAIN_SET:\n",
    "    dfs.append(training_set_data)\n",
    "    set_names.append(\"training_set\")\n",
    "\n",
    "\n",
    "if USE_DEV_SET:\n",
    "    dfs.append(development_set_data)\n",
    "    set_names.append(\"development_set\")"
   ]
  },
  {
   "cell_type": "code",
   "execution_count": 11,
   "metadata": {},
   "outputs": [],
   "source": [
    "# Emotion\n",
    "if feature == \"emotion\":\n",
    "    add_features_to_df(dfs, set_names, \"emotion\",\n",
    "                      fconf.EMOTION_FEATURE_DIR, load_Emotion_features)"
   ]
  },
  {
   "cell_type": "code",
   "execution_count": 12,
   "metadata": {},
   "outputs": [],
   "source": [
    "# LBP\n",
    "if feature == \"lbp\":\n",
    "    add_features_to_df(dfs, set_names, \"lbp\",\n",
    "                      fconf.LBP_FEATURE_DIR, load_LBP_features)"
   ]
  },
  {
   "cell_type": "code",
   "execution_count": 13,
   "metadata": {},
   "outputs": [],
   "source": [
    "# HOG\n",
    "if feature == \"hog\":\n",
    "    add_features_to_df(dfs, set_names, \"hog\",\n",
    "                      fconf.HOG_FEATURE_DIR, load_HOG_features)"
   ]
  },
  {
   "cell_type": "code",
   "execution_count": 14,
   "metadata": {},
   "outputs": [],
   "source": [
    "# ResNet152\n",
    "if feature == \"resnet152\":\n",
    "    add_features_to_df(dfs, set_names, \"resnet152\",\n",
    "                      fconf.RESNET152_FEATURE_DIR, load_ResNet152_features)"
   ]
  },
  {
   "cell_type": "code",
   "execution_count": 15,
   "metadata": {},
   "outputs": [],
   "source": [
    "# C3D\n",
    "if feature == \"c3d\":\n",
    "    add_features_to_df(dfs, set_names, \"c3d\",\n",
    "                      fconf.C3D_FEATURE_DIR, load_C3D_features)"
   ]
  },
  {
   "cell_type": "code",
   "execution_count": 16,
   "metadata": {},
   "outputs": [],
   "source": [
    "# VGGish\n",
    "if feature == \"vggish\":\n",
    "    add_features_to_df(dfs, set_names, \"vggish\",\n",
    "                      fconf.VGGISH_FEATURE_DIR, load_VGGish_features)"
   ]
  },
  {
   "cell_type": "code",
   "execution_count": 17,
   "metadata": {},
   "outputs": [],
   "source": [
    "test_data = testing_set_data\n",
    "\n",
    "if USE_DEV_SET and USE_TRAIN_SET:\n",
    "    train_data = pd.concat([training_set_data, development_set_data])\n",
    "elif USE_DEV_SET and not USE_TRAIN_SET:\n",
    "    train_data = development_set_data\n",
    "elif USE_TRAIN_SET and not USE_DEV_SET:\n",
    "    train_data = training_set_data\n",
    "else:\n",
    "    raise ValueError(\"train_data is empty\")"
   ]
  },
  {
   "cell_type": "markdown",
   "metadata": {},
   "source": [
    "## Target Prep\n",
    "\n",
    "Khosla points out that the memorability score used in Isola's paper did not take into account the memory retention duration.\n",
    "Cohendet utilized the same idea as Khosla, which involved a decay rate\n",
    "\n",
    "$$\\alpha \\leftarrow \n",
    "\\frac{\\sum^N_{i=1}\\frac{1}{n^{(i)}} \\sum^{n^{(i)}}_{j=1} \\log(\\frac{t^{(i)}_j}{T})[x^{(i)}_j - m^{(i)}_T] }\n",
    "{\\sum^N_{i=1}\\frac{1}{n^{(i)}} \\sum^{n^{(i)}}_{j=1}[ \\log(\\frac{t^{(i)}_j}{T})]^2}\n",
    "$$\n",
    "\n",
    "to calculate memorability \n",
    "$$\n",
    "m_T^{(i)} \\leftarrow\n",
    "\\frac{1}{n^{(i)}} \\sum^{n^{(i)}}_{j=1}[x^{(i)}_j - \\alpha \\log(\\frac{t_j^{(i)}}{T})]\n",
    "$$\n",
    "\n",
    "where we have $n^{(i)}$ observations for image $i$ given by $x^{(i)} \\in {0,1}$ and $t^{(i)}_j$ where $x_j=1$  implies that the image repeat was correctly detected when it shown after time $t_j$\n",
    "\n",
    "IDEA: potentially explore calculating $\\alpha$ per user"
   ]
  },
  {
   "cell_type": "code",
   "execution_count": 18,
   "metadata": {},
   "outputs": [],
   "source": [
    "from target_augmentation import add_position_delta, calculate_alpha_and_memorability"
   ]
  },
  {
   "cell_type": "code",
   "execution_count": 19,
   "metadata": {},
   "outputs": [],
   "source": [
    "if USE_DEV_SET and USE_TRAIN_SET:\n",
    "    annotations = add_position_delta(pd.concat([\n",
    "        pd.read_csv(\"training_set/short_term_annotations_v2.csv\"),\n",
    "        pd.read_csv(\"development_set/dev_short_term_annotations.csv\")\n",
    "    ]))\n",
    "elif USE_TRAIN_SET and not USE_DEV_SET:\n",
    "    annotations = add_position_delta(pd.read_csv(\"training_set/short_term_annotations_v2.csv\"))\n",
    "elif USE_DEV_SET and not USE_TRAIN_SET:\n",
    "    annotations = add_position_delta(pd.read_csv(\"development_set/dev_short_term_annotations.csv\"))\n",
    "else:\n",
    "    raise ValueError(\"annotations is empty\")"
   ]
  },
  {
   "cell_type": "code",
   "execution_count": 20,
   "metadata": {
    "scrolled": false
   },
   "outputs": [
    {
     "name": "stdout",
     "output_type": "stream",
     "text": [
      "Average t: 74.96191840735993\n",
      "Calculating adjusted value for m_75\n",
      "Alpha: -0.026433626378523905\n",
      "Avg diff: 0.00040057981850080194\n",
      "Max diff: 0.007422429973521383\n",
      "Min diff: -0.006598279844217569\n"
     ]
    },
    {
     "data": {
      "image/png": "[encoded data removed]",
      "text/plain": [
       "<Figure size 432x288 with 1 Axes>"
      ]
     },
     "metadata": {
      "needs_background": "light"
     },
     "output_type": "display_data"
    }
   ],
   "source": [
    "print(\"Average t:\", np.mean(annotations[\"t\"]))\n",
    "\n",
    "# We use approximately the average_t to calculate T as the memorability in question\n",
    "big_t = int(np.around(np.mean(annotations[\"t\"])))\n",
    "label = f\"m_{big_t}\"\n",
    "print(f\"Calculating adjusted value for {label}\")\n",
    "alpha, adjusted_score = calculate_alpha_and_memorability(annotations, T = big_t)\n",
    "train_data[label] = adjusted_score\n",
    "print(f\"Alpha: {alpha}\")\n",
    "target_diff = train_data[\"part_1_scores\"] - train_data[label]\n",
    "print(\"Avg diff:\", np.mean(target_diff))\n",
    "print(\"Max diff:\", np.max(target_diff))\n",
    "print(\"Min diff:\", np.min(target_diff))\n",
    "plt.scatter(train_data[\"part_1_scores\"], train_data[label])\n",
    "plt.xlabel(\"Original memorability score\")\n",
    "plt.ylabel(f\"Adjusted memorability score ({label})\")\n",
    "plt.show()"
   ]
  },
  {
   "cell_type": "markdown",
   "metadata": {},
   "source": [
    "## Data Prep\n",
    "\n",
    "Building datasets\n",
    "\n",
    "potentially weighting samples based on annotations?\n",
    "\n"
   ]
  },
  {
   "cell_type": "code",
   "execution_count": 21,
   "metadata": {},
   "outputs": [],
   "source": [
    "from train import split_training, build_matrixes"
   ]
  },
  {
   "cell_type": "code",
   "execution_count": 22,
   "metadata": {},
   "outputs": [
    {
     "name": "stdout",
     "output_type": "stream",
     "text": [
      "training: 472\n",
      "validation: 118\n"
     ]
    }
   ],
   "source": [
    "training_data, validation_data = split_training(train_data)\n",
    "print(\"training:\",len(training_data))\n",
    "print(\"validation:\", len(validation_data))"
   ]
  },
  {
   "cell_type": "markdown",
   "metadata": {},
   "source": [
    "#### Pick Features and Target"
   ]
  },
  {
   "cell_type": "code",
   "execution_count": 23,
   "metadata": {},
   "outputs": [],
   "source": [
    "if FILTER_99:\n",
    "    training_data = training_data[training_data[target] < .99]\n",
    "    print(f\"training after filtering for {target} < 0.99:\", len(training_data))\n",
    "    \n",
    "if FILTER_99_VALID:\n",
    "    validation_data = validation_data[validation_data[target] < 0.99]\n",
    "    print(f\"validation after filtering for {target} < 0.99:\", len(validation_data))"
   ]
  },
  {
   "cell_type": "code",
   "execution_count": 24,
   "metadata": {},
   "outputs": [
    {
     "name": "stdout",
     "output_type": "stream",
     "text": [
      "num videos in training set: 472\n",
      "num videos in validation set: 118\n",
      "features_train shape: (3776, 2048)\n",
      "targets_train shape: (3776, 1)\n",
      "features_valid shape: (944, 2048)\n",
      "features_valid shape: (944, 1)\n",
      "Total features: 4720\n",
      "Total videos: 590\n",
      "Avg features per video: 8.0\n",
      "Min features per video: 8\n",
      "Max features per video: 8\n"
     ]
    }
   ],
   "source": [
    "features_train, targets_train, video_ids_train = build_matrixes(training_data, target_name = target, feature_name = feature)\n",
    "features_valid, targets_valid, video_ids_valid = build_matrixes(validation_data, target_name = target, feature_name = feature)\n",
    "\n",
    "\n",
    "print(\"num videos in training set:\", len(training_data))\n",
    "print(\"num videos in validation set:\", len(validation_data))\n",
    "print(\"features_train shape:\", features_train.shape)\n",
    "print(\"targets_train shape:\", targets_train.shape)\n",
    "print(\"features_valid shape:\", features_valid.shape)\n",
    "print(\"features_valid shape:\", targets_valid.shape)\n",
    "total_features = len(features_train) + len(features_valid)\n",
    "unique, count = np.unique(np.concatenate([video_ids_valid, video_ids_train]), return_counts=True)\n",
    "print(\"Total features:\", total_features)\n",
    "print(\"Total videos:\", len(unique))\n",
    "print(\"Avg features per video:\", total_features / len(unique))\n",
    "print(\"Min features per video:\", min(count))\n",
    "print(\"Max features per video:\", max(count))"
   ]
  },
  {
   "cell_type": "markdown",
   "metadata": {},
   "source": [
    "## Model training"
   ]
  },
  {
   "cell_type": "code",
   "execution_count": 25,
   "metadata": {},
   "outputs": [],
   "source": [
    "def train_gru():\n",
    "    pass"
   ]
  },
  {
   "cell_type": "code",
   "execution_count": 26,
   "metadata": {
    "scrolled": true
   },
   "outputs": [],
   "source": [
    "from train import train_two_layer_nn, train_svr\n",
    "\n",
    "def train_model(model_type, features_train, targets_train, features_valid, targets_valid):\n",
    "    if \"two_layer_nn\" == model_type:\n",
    "        model, train_losses, valid_losses = train_two_layer_nn(\n",
    "            features_train, targets_train, features_valid, targets_valid,\n",
    "            hidden_dim = 100,\n",
    "            num_epochs=NUM_EPOCHS,\n",
    "            cuda=CUDA,\n",
    "            batch_size=BATCH_SIZE,\n",
    "            learning_rate=LEARNING_RATE\n",
    "        )\n",
    "\n",
    "        plt.plot(train_losses, label=\"Training Loss\")\n",
    "        plt.plot(valid_losses, label=\"Validation Loss\")\n",
    "        plt.legend()\n",
    "        plt.show()\n",
    "\n",
    "    elif \"svr\" == model_type:\n",
    "        model = train_svr(features_train, targets_train)\n",
    "    else:\n",
    "        raise ValueError(f\"'{model_type}' is not a valid model type\")\n",
    "    return model\n",
    "        "
   ]
  },
  {
   "cell_type": "code",
   "execution_count": 27,
   "metadata": {},
   "outputs": [],
   "source": [
    "model = train_model(model_type, features_train, targets_train, features_valid, targets_valid)"
   ]
  },
  {
   "cell_type": "markdown",
   "metadata": {},
   "source": [
    "## Test\n",
    "\n",
    "Spearman's rank correlation, ROC curves, etc"
   ]
  },
  {
   "cell_type": "code",
   "execution_count": 28,
   "metadata": {},
   "outputs": [],
   "source": [
    "from train import get_predictions\n",
    "\n",
    "predictions, actuals, _ = get_predictions(model_type, model, features_valid, targets_valid, video_ids_valid, aggregate_with = aggregate_with)"
   ]
  },
  {
   "cell_type": "code",
   "execution_count": 29,
   "metadata": {
    "scrolled": false
   },
   "outputs": [
    {
     "name": "stdout",
     "output_type": "stream",
     "text": [
      "SPEARMAN RANK: 0.27194971860973854\n"
     ]
    },
    {
     "data": {
      "image/png": "[encoded data removed]",
      "text/plain": [
       "<Figure size 576x576 with 1 Axes>"
      ]
     },
     "metadata": {
      "needs_background": "light"
     },
     "output_type": "display_data"
    }
   ],
   "source": [
    "spearman_rank, _ = stats.spearmanr(actuals, predictions)\n",
    "print(\"SPEARMAN RANK:\",spearman_rank)\n",
    "\n",
    "fig, ax = plt.subplots(1, figsize=(8,8))\n",
    "min_mem = min(np.min(actuals), np.min(predictions))\n",
    "max_mem = max(np.max(actuals), np.max(predictions))\n",
    "plt.scatter(actuals, predictions, label = f\"Spearman rank correlation = {spearman_rank}\")\n",
    "# plt.plot([min_mem, max_mem], [min_mem, max_mem], label=\"1 to 1\")\n",
    "plt.title(f\"actual {target} vs predicted {target}\")\n",
    "plt.legend()\n",
    "plt.ylabel(\"predictions\")\n",
    "plt.xlabel(\"actual\")\n",
    "plt.show()"
   ]
  },
  {
   "cell_type": "markdown",
   "metadata": {},
   "source": [
    "# Saving Predictions\n"
   ]
  },
  {
   "cell_type": "code",
   "execution_count": 30,
   "metadata": {},
   "outputs": [
    {
     "ename": "AssertionError",
     "evalue": "stop auto run",
     "output_type": "error",
     "traceback": [
      "\u001b[0;31m---------------------------------------------------------------------------\u001b[0m",
      "\u001b[0;31mAssertionError\u001b[0m                            Traceback (most recent call last)",
      "\u001b[0;32m<ipython-input-30-23eb638d4675>\u001b[0m in \u001b[0;36m<module>\u001b[0;34m\u001b[0m\n\u001b[0;32m----> 1\u001b[0;31m \u001b[0;32massert\u001b[0m \u001b[0;32mFalse\u001b[0m\u001b[0;34m,\u001b[0m \u001b[0;34m\"stop auto run\"\u001b[0m\u001b[0;34m\u001b[0m\u001b[0;34m\u001b[0m\u001b[0m\n\u001b[0m",
      "\u001b[0;31mAssertionError\u001b[0m: stop auto run"
     ]
    }
   ],
   "source": [
    "assert False, \"stop auto run\""
   ]
  },
  {
   "cell_type": "code",
   "execution_count": null,
   "metadata": {},
   "outputs": [],
   "source": [
    "pred_train, actual_train, vid_train = get_predictions(model_type, model, features_train, targets_train, video_ids_train)\n",
    "pred_valid, actual_valid, vid_valid = get_predictions(model_type, model, features_valid, targets_valid, video_ids_valid)"
   ]
  },
  {
   "cell_type": "code",
   "execution_count": null,
   "metadata": {},
   "outputs": [],
   "source": [
    "print(\"Validation spearman rank:\", stats.spearmanr(actual_valid, pred_valid)[0])\n",
    "print(\"Training spearman rank:\", stats.spearmanr(actual_train, pred_train)[0])"
   ]
  },
  {
   "cell_type": "code",
   "execution_count": null,
   "metadata": {},
   "outputs": [],
   "source": [
    "predictions = np.array(pred_train + pred_valid)\n",
    "actuals = np.array(actual_train + actual_valid)\n",
    "video_ids = np.array(vid_train + vid_valid)\n",
    "in_training_set = np.array(np.concatenate([np.ones(len(pred_train)), np.zeros(len(pred_valid))]), dtype=bool)"
   ]
  },
  {
   "cell_type": "code",
   "execution_count": null,
   "metadata": {},
   "outputs": [],
   "source": [
    "model_name = f\"{feature}_{model_Type}\""
   ]
  },
  {
   "cell_type": "code",
   "execution_count": null,
   "metadata": {},
   "outputs": [],
   "source": [
    "model_parameters = {\n",
    "    \"RANDOM_SEED\": RANDOM_SEED\n",
    "}"
   ]
  },
  {
   "cell_type": "code",
   "execution_count": null,
   "metadata": {},
   "outputs": [],
   "source": []
  },
  {
   "cell_type": "code",
   "execution_count": null,
   "metadata": {},
   "outputs": [],
   "source": [
    "def save_predictions(model_name, video_ids, actuals, predictions, in_training_set, model_parameters, predictions_dir = PREDICTIONS_DIR):\n",
    "\n",
    "    if not os.path.exists(predictions_dir):\n",
    "        os.mkdir(predictions_dir)\n",
    "        \n",
    "    model_data_dir = f\"{predictions_dir}/model_data.csv\"\n",
    "    if not os.path.exists(model_data_dir):\n",
    "        model_data = pd.DataFrame(columns=[\"name\", \"validation_spearman_rank\", \"parameters\", \"predictions\", \"notes\", \"is_short_term\"])\n",
    "    else:\n",
    "        model_data = pd.read_csv(model_data_dir)\n",
    "        \n",
    "    model_dir = f\"{predictions_dir}/{model_name}\"\n",
    "    if not os.path.exists(model_dir):\n",
    "        os.mkdir(model_dir)\n",
    "        \n",
    "    pred_filename = f\"{model_dir}/{len(os.listdir(model_dir))}.csv\"\n",
    "    \n",
    "    valid_spearman_rank, _ = stats.spearmanr(actuals[in_training_set], predictions[in_training_set])\n",
    "    \n",
    "    pred_data = pd.DataFrame({\n",
    "        \"video_id\": video_ids,\n",
    "        \"prediction\": predictions,\n",
    "        \"actual\": actuals,\n",
    "        \"in_training_set\": in_training_set\n",
    "    }).sort_values(\"video_id\")\n",
    "    \n",
    "    pred_data.to_csv(pred_filename, index = False)\n",
    "    \n",
    "    model_info = {\n",
    "        \"name\": model_name,\n",
    "        \"validation_spearman_rank\": np.around(spearman_rank,4),\n",
    "        \"parameters\": model_parameters,\n",
    "        \"predictions\": pred_filename,\n",
    "        \"notes\": \"\",\n",
    "        \"is_short_term\": False\n",
    "    }\n",
    "    \n",
    "    model_data.append(model_info, ignore_index = True).to_csv(model_data_dir, index = False)\n",
    "    \n",
    "    print(\"Saved model info and predictions: \", model_info)\n",
    "    "
   ]
  },
  {
   "cell_type": "code",
   "execution_count": null,
   "metadata": {},
   "outputs": [],
   "source": []
  },
  {
   "cell_type": "code",
   "execution_count": null,
   "metadata": {},
   "outputs": [],
   "source": [
    "save_predictions(model_name, video_ids, actuals, predictions, in_training_set, model_parameters)"
   ]
  }
 ],
 "metadata": {
  "kernelspec": {
   "display_name": "video-mem",
   "language": "python",
   "name": "video-mem"
  },
  "language_info": {
   "codemirror_mode": {
    "name": "ipython",
    "version": 3
   },
   "file_extension": ".py",
   "mimetype": "text/x-python",
   "name": "python",
   "nbconvert_exporter": "python",
   "pygments_lexer": "ipython3",
   "version": "3.8.5"
  }
 },
 "nbformat": 4,
 "nbformat_minor": 4
}
