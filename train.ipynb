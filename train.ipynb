{
 "cells": [
  {
   "cell_type": "markdown",
   "metadata": {},
   "source": [
    "# Training workflow"
   ]
  },
  {
   "cell_type": "code",
   "execution_count": 1,
   "metadata": {},
   "outputs": [],
   "source": [
    "%load_ext autoreload\n",
    "\n",
    "%autoreload 2"
   ]
  },
  {
   "cell_type": "code",
   "execution_count": 2,
   "metadata": {},
   "outputs": [],
   "source": [
    "import pandas as pd\n",
    "import numpy as np\n",
    "import matplotlib.pyplot as plt\n",
    "from scipy import stats\n",
    "import os\n",
    "\n",
    "from IPython.display import Video\n",
    "import features.config as fconf"
   ]
  },
  {
   "cell_type": "markdown",
   "metadata": {},
   "source": [
    "## Constants"
   ]
  },
  {
   "cell_type": "code",
   "execution_count": 3,
   "metadata": {},
   "outputs": [],
   "source": [
    "PREDICTIONS_DIR = \"predictions\""
   ]
  },
  {
   "cell_type": "code",
   "execution_count": 4,
   "metadata": {},
   "outputs": [],
   "source": [
    "SAVE_MODEL = False\n",
    "IS_SHORT_TERM = True\n",
    "\n",
    "USE_DEV_SET = False\n",
    "USE_TRAIN_SET = True"
   ]
  },
  {
   "cell_type": "code",
   "execution_count": 5,
   "metadata": {},
   "outputs": [],
   "source": [
    "RANDOM_SEED = 42"
   ]
  },
  {
   "cell_type": "code",
   "execution_count": 6,
   "metadata": {},
   "outputs": [],
   "source": [
    "target = \"m_75\" if IS_SHORT_TERM else \"part_2_scores\"\n",
    "feature = \"glove\"\n",
    "model_type = \"gru\"\n",
    "aggregate_with = np.median"
   ]
  },
  {
   "cell_type": "code",
   "execution_count": 7,
   "metadata": {},
   "outputs": [],
   "source": [
    "model_name = f\"{feature}_{model_type}\""
   ]
  },
  {
   "cell_type": "code",
   "execution_count": 8,
   "metadata": {},
   "outputs": [],
   "source": [
    "model_parameters = {\n",
    "    \"random_seed\": RANDOM_SEED,\n",
    "    \"use_dev_set\": USE_DEV_SET,\n",
    "}\n",
    "\n",
    "if model_type == \"gru\":\n",
    "    model_parameters[\"hidden_dim\"] = 64\n",
    "    model_parameters[\"learning_rate\"] = 1e-3\n",
    "    model_parameters[\"num_epochs\"] = 150\n",
    "    model_parameters[\"batch_size\"] = 64\n",
    "    model_parameters[\"gru_units\"] = 64\n",
    "    model_parameters[\"gru_dropout\"] = 0.8"
   ]
  },
  {
   "cell_type": "code",
   "execution_count": 9,
   "metadata": {},
   "outputs": [],
   "source": [
    "NOTES = \"\""
   ]
  },
  {
   "cell_type": "code",
   "execution_count": 10,
   "metadata": {},
   "outputs": [],
   "source": [
    "np.random.seed(RANDOM_SEED)"
   ]
  },
  {
   "cell_type": "markdown",
   "metadata": {},
   "source": [
    "## Load Data\n",
    "\n",
    "Extracted features, scores, metadata, etc."
   ]
  },
  {
   "cell_type": "code",
   "execution_count": 11,
   "metadata": {},
   "outputs": [],
   "source": [
    "testing_set_data = pd.read_csv(\"testing_set/test_urls.csv\").set_index(\"video_id\")\n",
    "\n",
    "if USE_TRAIN_SET:\n",
    "    training_set_data = pd.read_csv(\"training_set/scores_v2.csv\").set_index(\"video_id\")\n",
    "\n",
    "if USE_DEV_SET:\n",
    "    development_set_data = pd.read_csv(\"development_set/dev_scores.csv\").set_index(\"video_id\")"
   ]
  },
  {
   "cell_type": "code",
   "execution_count": 12,
   "metadata": {},
   "outputs": [
    {
     "name": "stdout",
     "output_type": "stream",
     "text": [
      "WARNING:tensorflow:From /home/tony/anaconda3/envs/video-mem/lib/python3.8/site-packages/tensorflow/python/compat/v2_compat.py:96: disable_resource_variables (from tensorflow.python.ops.variable_scope) is deprecated and will be removed in a future version.\n",
      "Instructions for updating:\n",
      "non-resource variables are not supported in the long term\n"
     ]
    }
   ],
   "source": [
    "from features.video import load_C3D_features\n",
    "from features.image import load_ResNet152_features, load_LBP_features, load_HOG_features\n",
    "from features.audio import load_VGGish_features\n",
    "from features.text import load_GloVe_features\n",
    "from features.emotion import load_Emotion_features, extract_emotions\n"
   ]
  },
  {
   "cell_type": "code",
   "execution_count": 13,
   "metadata": {},
   "outputs": [],
   "source": [
    "def add_features_to_df(dfs, set_names, label, feature_dir, load_func):\n",
    "    for df, set_name in zip(dfs, set_names):\n",
    "        df[label] = load_func(df.index, fconf.set_dataset(set_name, feature_dir))"
   ]
  },
  {
   "cell_type": "code",
   "execution_count": 14,
   "metadata": {},
   "outputs": [],
   "source": [
    "dfs = [testing_set_data]\n",
    "set_names = [\"testing_set\"]\n",
    "\n",
    "if USE_TRAIN_SET:\n",
    "    dfs.append(training_set_data)\n",
    "    set_names.append(\"training_set\")\n",
    "\n",
    "if USE_DEV_SET:\n",
    "    dfs.append(development_set_data)\n",
    "    set_names.append(\"development_set\")"
   ]
  },
  {
   "cell_type": "code",
   "execution_count": 15,
   "metadata": {},
   "outputs": [],
   "source": [
    "# Emotion\n",
    "if feature == \"emotion\":\n",
    "    add_features_to_df(dfs, set_names, \"emotion\",\n",
    "                      fconf.EMOTION_FEATURE_DIR, load_Emotion_features)"
   ]
  },
  {
   "cell_type": "code",
   "execution_count": 16,
   "metadata": {},
   "outputs": [],
   "source": [
    "# LBP\n",
    "if feature == \"lbp\":\n",
    "    add_features_to_df(dfs, set_names, \"lbp\",\n",
    "                      fconf.LBP_FEATURE_DIR, load_LBP_features)"
   ]
  },
  {
   "cell_type": "code",
   "execution_count": 17,
   "metadata": {},
   "outputs": [],
   "source": [
    "# HOG\n",
    "if feature == \"hog\":\n",
    "    add_features_to_df(dfs, set_names, \"hog\",\n",
    "                      fconf.HOG_FEATURE_DIR, load_HOG_features)"
   ]
  },
  {
   "cell_type": "code",
   "execution_count": 18,
   "metadata": {},
   "outputs": [],
   "source": [
    "# ResNet152\n",
    "if feature == \"resnet152\":\n",
    "    add_features_to_df(dfs, set_names, \"resnet152\",\n",
    "                      fconf.RESNET152_FEATURE_DIR, load_ResNet152_features)"
   ]
  },
  {
   "cell_type": "code",
   "execution_count": 19,
   "metadata": {},
   "outputs": [],
   "source": [
    "# C3D\n",
    "if feature == \"c3d\":\n",
    "    add_features_to_df(dfs, set_names, \"c3d\",\n",
    "                      fconf.C3D_FEATURE_DIR, load_C3D_features)"
   ]
  },
  {
   "cell_type": "code",
   "execution_count": 20,
   "metadata": {},
   "outputs": [],
   "source": [
    "# VGGish\n",
    "if feature == \"vggish\":\n",
    "    add_features_to_df(dfs, set_names, \"vggish\",\n",
    "                      fconf.VGGISH_FEATURE_DIR, load_VGGish_features)"
   ]
  },
  {
   "cell_type": "code",
   "execution_count": 21,
   "metadata": {},
   "outputs": [],
   "source": [
    "# GLoVE\n",
    "if feature == \"glove\":\n",
    "    add_features_to_df(dfs, set_names, \"glove\",\n",
    "                      fconf.GLOVE_FEATURE_DIR, load_GloVe_features)"
   ]
  },
  {
   "cell_type": "code",
   "execution_count": 22,
   "metadata": {},
   "outputs": [],
   "source": [
    "test_data = testing_set_data\n",
    "\n",
    "if USE_DEV_SET and USE_TRAIN_SET:\n",
    "    train_data = pd.concat([training_set_data, development_set_data])\n",
    "elif USE_DEV_SET and not USE_TRAIN_SET:\n",
    "    train_data = development_set_data\n",
    "elif USE_TRAIN_SET and not USE_DEV_SET:\n",
    "    train_data = training_set_data\n",
    "else:\n",
    "    raise ValueError(\"train_data is empty\")"
   ]
  },
  {
   "cell_type": "markdown",
   "metadata": {},
   "source": [
    "## Target Prep\n",
    "\n",
    "Khosla points out that the memorability score used in Isola's paper did not take into account the memory retention duration.\n",
    "Cohendet utilized the same idea as Khosla, which involved a decay rate\n",
    "\n",
    "$$\\alpha \\leftarrow \n",
    "\\frac{\\sum^N_{i=1}\\frac{1}{n^{(i)}} \\sum^{n^{(i)}}_{j=1} \\log(\\frac{t^{(i)}_j}{T})[x^{(i)}_j - m^{(i)}_T] }\n",
    "{\\sum^N_{i=1}\\frac{1}{n^{(i)}} \\sum^{n^{(i)}}_{j=1}[ \\log(\\frac{t^{(i)}_j}{T})]^2}\n",
    "$$\n",
    "\n",
    "to calculate memorability \n",
    "$$\n",
    "m_T^{(i)} \\leftarrow\n",
    "\\frac{1}{n^{(i)}} \\sum^{n^{(i)}}_{j=1}[x^{(i)}_j - \\alpha \\log(\\frac{t_j^{(i)}}{T})]\n",
    "$$\n",
    "\n",
    "where we have $n^{(i)}$ observations for image $i$ given by $x^{(i)} \\in {0,1}$ and $t^{(i)}_j$ where $x_j=1$  implies that the image repeat was correctly detected when it shown after time $t_j$\n",
    "\n",
    "IDEA: potentially explore calculating $\\alpha$ per user"
   ]
  },
  {
   "cell_type": "code",
   "execution_count": 23,
   "metadata": {},
   "outputs": [],
   "source": [
    "from target_augmentation import add_position_delta, calculate_alpha_and_memorability"
   ]
  },
  {
   "cell_type": "code",
   "execution_count": 24,
   "metadata": {},
   "outputs": [],
   "source": [
    "if USE_DEV_SET and USE_TRAIN_SET:\n",
    "    annotations = add_position_delta(pd.concat([\n",
    "        pd.read_csv(\"training_set/short_term_annotations_v2.csv\"),\n",
    "        pd.read_csv(\"development_set/dev_short_term_annotations.csv\")\n",
    "    ]))\n",
    "elif USE_TRAIN_SET and not USE_DEV_SET:\n",
    "    annotations = add_position_delta(pd.read_csv(\"training_set/short_term_annotations_v2.csv\"))\n",
    "elif USE_DEV_SET and not USE_TRAIN_SET:\n",
    "    annotations = add_position_delta(pd.read_csv(\"development_set/dev_short_term_annotations.csv\"))\n",
    "else:\n",
    "    raise ValueError(\"annotations is empty\")"
   ]
  },
  {
   "cell_type": "code",
   "execution_count": 25,
   "metadata": {
    "scrolled": false
   },
   "outputs": [
    {
     "name": "stdout",
     "output_type": "stream",
     "text": [
      "Average t: 74.96191840735993\n",
      "Calculating adjusted value for m_75\n",
      "Alpha: -0.026433626378523905\n",
      "Avg diff: 0.00040057981850080194\n",
      "Max diff: 0.007422429973521383\n",
      "Min diff: -0.006598279844217569\n"
     ]
    },
    {
     "data": {
      "image/png": "[encoded data removed]",
      "text/plain": [
       "<Figure size 432x288 with 1 Axes>"
      ]
     },
     "metadata": {
      "needs_background": "light"
     },
     "output_type": "display_data"
    }
   ],
   "source": [
    "print(\"Average t:\", np.mean(annotations[\"t\"]))\n",
    "\n",
    "# We use approximately the average_t to calculate T as the memorability in question\n",
    "big_t = int(np.around(np.mean(annotations[\"t\"])))\n",
    "label = f\"m_{big_t}\"\n",
    "print(f\"Calculating adjusted value for {label}\")\n",
    "alpha, adjusted_score = calculate_alpha_and_memorability(annotations, T = big_t)\n",
    "train_data[label] = adjusted_score\n",
    "test_data[label] = np.nan\n",
    "print(f\"Alpha: {alpha}\")\n",
    "target_diff = train_data[\"part_1_scores\"] - train_data[label]\n",
    "print(\"Avg diff:\", np.mean(target_diff))\n",
    "print(\"Max diff:\", np.max(target_diff))\n",
    "print(\"Min diff:\", np.min(target_diff))\n",
    "plt.scatter(train_data[\"part_1_scores\"], train_data[label])\n",
    "plt.xlabel(\"Original memorability score\")\n",
    "plt.ylabel(f\"Adjusted memorability score ({label})\")\n",
    "plt.show()"
   ]
  },
  {
   "cell_type": "markdown",
   "metadata": {},
   "source": [
    "## Data Prep\n",
    "\n",
    "Building datasets\n",
    "\n",
    "potentially weighting samples based on annotations?\n",
    "\n"
   ]
  },
  {
   "cell_type": "code",
   "execution_count": 26,
   "metadata": {},
   "outputs": [],
   "source": [
    "from train import split_training, build_matrixes"
   ]
  },
  {
   "cell_type": "code",
   "execution_count": 27,
   "metadata": {},
   "outputs": [
    {
     "name": "stdout",
     "output_type": "stream",
     "text": [
      "training: 472\n",
      "validation: 118\n"
     ]
    }
   ],
   "source": [
    "training_data, validation_data = split_training(train_data)\n",
    "print(\"training:\",len(training_data))\n",
    "print(\"validation:\", len(validation_data))"
   ]
  },
  {
   "cell_type": "markdown",
   "metadata": {},
   "source": [
    "#### Pick Features and Target"
   ]
  },
  {
   "cell_type": "code",
   "execution_count": 28,
   "metadata": {},
   "outputs": [
    {
     "name": "stdout",
     "output_type": "stream",
     "text": [
      "num videos in training set: 472\n",
      "num videos in validation set: 118\n",
      "num videos in test set: 500\n",
      "features_train shape: (1761, 86, 300)\n",
      "targets_train shape: (1761, 1)\n",
      "features_valid shape: (430, 86, 300)\n",
      "targets_valid shape: (430, 1)\n",
      "Total features: 2191\n",
      "Total videos: 590\n",
      "Avg features per video: 3.7135593220338983\n",
      "Min features per video: 2\n",
      "Max features per video: 5\n"
     ]
    }
   ],
   "source": [
    "features_train, targets_train, video_ids_train = build_matrixes(training_data, target_name = target, feature_name = feature)\n",
    "features_valid, targets_valid, video_ids_valid = build_matrixes(validation_data, target_name = target, feature_name = feature)\n",
    "features_test, targets_test, video_ids_test = build_matrixes(test_data, target_name = target, feature_name = feature, is_test = True)\n",
    "\n",
    "\n",
    "print(\"num videos in training set:\", len(training_data))\n",
    "print(\"num videos in validation set:\", len(validation_data))\n",
    "print(\"num videos in test set:\", len(test_data))\n",
    "print(\"features_train shape:\", features_train.shape)\n",
    "print(\"targets_train shape:\", targets_train.shape)\n",
    "print(\"features_valid shape:\", features_valid.shape)\n",
    "print(\"targets_valid shape:\", targets_valid.shape)\n",
    "total_features = len(features_train) + len(features_valid)\n",
    "unique, count = np.unique(np.concatenate([video_ids_valid, video_ids_train]), return_counts=True)\n",
    "print(\"Total features:\", total_features)\n",
    "print(\"Total videos:\", len(unique))\n",
    "print(\"Avg features per video:\", total_features / len(unique))\n",
    "print(\"Min features per video:\", min(count))\n",
    "print(\"Max features per video:\", max(count))"
   ]
  },
  {
   "cell_type": "markdown",
   "metadata": {},
   "source": [
    "## Model training"
   ]
  },
  {
   "cell_type": "code",
   "execution_count": 29,
   "metadata": {
    "scrolled": true
   },
   "outputs": [],
   "source": [
    "from train import train_svr, train_gru, train_bayesian_ridge\n",
    "\n",
    "def train_model(model_type, features_train, targets_train, features_valid, targets_valid, model_parameters):\n",
    "    \n",
    "    np.random.seed(model_parameters[\"random_seed\"])\n",
    "\n",
    "    if \"svr\" == model_type:\n",
    "        model = train_svr(features_train, targets_train)\n",
    "        \n",
    "    elif \"gru\" == model_type:\n",
    "        model, train_losses, valid_losses = train_gru(\n",
    "            features_train, targets_train, features_valid, targets_valid,\n",
    "            hidden_dim = model_parameters[\"hidden_dim\"],\n",
    "            num_epochs = model_parameters[\"num_epochs\"],\n",
    "            gru_units = model_parameters[\"gru_units\"],\n",
    "            batch_size = model_parameters[\"batch_size\"],\n",
    "            learning_rate = model_parameters[\"learning_rate\"],\n",
    "            verbose = True,\n",
    "            gru_dropout = model_parameters[\"gru_dropout\"],\n",
    "            \n",
    "        )\n",
    "        plt.plot(train_losses, label=\"Training Loss\")\n",
    "        plt.plot(valid_losses, label=\"Validation Loss\")\n",
    "        plt.legend()\n",
    "        plt.show()\n",
    "        \n",
    "    elif \"bayesian_ridge\" == model_type:\n",
    "        model = train_bayesian_ridge(features_train, targets_train)\n",
    "        \n",
    "    else:\n",
    "        raise ValueError(f\"'{model_type}' is not a valid model type\")\n",
    "    return model\n",
    "        "
   ]
  },
  {
   "cell_type": "code",
   "execution_count": 30,
   "metadata": {
    "scrolled": true
   },
   "outputs": [
    {
     "name": "stdout",
     "output_type": "stream",
     "text": [
      "input dimensions: (86, 300)\n",
      "hidden dimension: 64\n",
      "Train on 1761 samples, validate on 430 samples\n",
      "Epoch 1/150\n",
      "1760/1761 [============================>.] - ETA: 0s - loss: 0.0146 - mean_squared_error: 0.0146 - mean_absolute_error: 0.0926 - mean_absolute_percentage_error: 11.6453WARNING:tensorflow:From /home/tony/anaconda3/envs/video-mem/lib/python3.8/site-packages/tensorflow/python/keras/engine/training_v1.py:2048: Model.state_updates (from tensorflow.python.keras.engine.training) is deprecated and will be removed in a future version.\n",
      "Instructions for updating:\n",
      "This property should not be used in TensorFlow 2.0, as updates are applied automatically.\n"
     ]
    },
    {
     "name": "stderr",
     "output_type": "stream",
     "text": [
      "16-11-2020:16:52:30,278 WARNING  [deprecation.py:317] From /home/tony/anaconda3/envs/video-mem/lib/python3.8/site-packages/tensorflow/python/keras/engine/training_v1.py:2048: Model.state_updates (from tensorflow.python.keras.engine.training) is deprecated and will be removed in a future version.\n",
      "Instructions for updating:\n",
      "This property should not be used in TensorFlow 2.0, as updates are applied automatically.\n"
     ]
    },
    {
     "name": "stdout",
     "output_type": "stream",
     "text": [
      "1761/1761 [==============================] - 3s 2ms/sample - loss: 0.0146 - mean_squared_error: 0.0146 - mean_absolute_error: 0.0925 - mean_absolute_percentage_error: 11.6411 - val_loss: 0.0480 - val_mean_squared_error: 0.0480 - val_mean_absolute_error: 0.1988 - val_mean_absolute_percentage_error: 22.6072\n",
      "Epoch 2/150\n",
      "1761/1761 [==============================] - 4s 2ms/sample - loss: 0.0106 - mean_squared_error: 0.0106 - mean_absolute_error: 0.0818 - mean_absolute_percentage_error: 10.2357 - val_loss: 0.0459 - val_mean_squared_error: 0.0459 - val_mean_absolute_error: 0.1938 - val_mean_absolute_percentage_error: 22.0225\n",
      "Epoch 3/150\n",
      "1761/1761 [==============================] - 4s 2ms/sample - loss: 0.0105 - mean_squared_error: 0.0105 - mean_absolute_error: 0.0817 - mean_absolute_percentage_error: 10.2292 - val_loss: 0.0469 - val_mean_squared_error: 0.0469 - val_mean_absolute_error: 0.1961 - val_mean_absolute_percentage_error: 22.2950\n",
      "Epoch 4/150\n",
      "1761/1761 [==============================] - 3s 2ms/sample - loss: 0.0108 - mean_squared_error: 0.0108 - mean_absolute_error: 0.0836 - mean_absolute_percentage_error: 10.4310 - val_loss: 0.0366 - val_mean_squared_error: 0.0366 - val_mean_absolute_error: 0.1715 - val_mean_absolute_percentage_error: 19.5089\n",
      "Epoch 5/150\n",
      "1761/1761 [==============================] - 3s 2ms/sample - loss: 0.0102 - mean_squared_error: 0.0102 - mean_absolute_error: 0.0803 - mean_absolute_percentage_error: 10.0355 - val_loss: 0.0361 - val_mean_squared_error: 0.0361 - val_mean_absolute_error: 0.1697 - val_mean_absolute_percentage_error: 19.3092\n",
      "Epoch 6/150\n",
      "1761/1761 [==============================] - 3s 2ms/sample - loss: 0.0101 - mean_squared_error: 0.0101 - mean_absolute_error: 0.0797 - mean_absolute_percentage_error: 9.9710 - val_loss: 0.0319 - val_mean_squared_error: 0.0319 - val_mean_absolute_error: 0.1591 - val_mean_absolute_percentage_error: 18.1032\n",
      "Epoch 7/150\n",
      "1761/1761 [==============================] - 3s 2ms/sample - loss: 0.0100 - mean_squared_error: 0.0100 - mean_absolute_error: 0.0805 - mean_absolute_percentage_error: 10.0619 - val_loss: 0.0336 - val_mean_squared_error: 0.0336 - val_mean_absolute_error: 0.1638 - val_mean_absolute_percentage_error: 18.6555\n",
      "Epoch 8/150\n",
      "1761/1761 [==============================] - 3s 2ms/sample - loss: 0.0099 - mean_squared_error: 0.0099 - mean_absolute_error: 0.0788 - mean_absolute_percentage_error: 9.8451 - val_loss: 0.0290 - val_mean_squared_error: 0.0290 - val_mean_absolute_error: 0.1511 - val_mean_absolute_percentage_error: 17.2512\n",
      "Epoch 9/150\n",
      "1761/1761 [==============================] - 4s 2ms/sample - loss: 0.0096 - mean_squared_error: 0.0096 - mean_absolute_error: 0.0779 - mean_absolute_percentage_error: 9.7510 - val_loss: 0.0297 - val_mean_squared_error: 0.0297 - val_mean_absolute_error: 0.1531 - val_mean_absolute_percentage_error: 17.4657\n",
      "Epoch 10/150\n",
      "1761/1761 [==============================] - 4s 2ms/sample - loss: 0.0095 - mean_squared_error: 0.0095 - mean_absolute_error: 0.0772 - mean_absolute_percentage_error: 9.6562 - val_loss: 0.0262 - val_mean_squared_error: 0.0262 - val_mean_absolute_error: 0.1431 - val_mean_absolute_percentage_error: 16.3375\n",
      "Epoch 11/150\n",
      "1761/1761 [==============================] - 4s 2ms/sample - loss: 0.0097 - mean_squared_error: 0.0097 - mean_absolute_error: 0.0786 - mean_absolute_percentage_error: 9.8178 - val_loss: 0.0258 - val_mean_squared_error: 0.0258 - val_mean_absolute_error: 0.1423 - val_mean_absolute_percentage_error: 16.2683\n",
      "Epoch 12/150\n",
      "1761/1761 [==============================] - 4s 2ms/sample - loss: 0.0093 - mean_squared_error: 0.0093 - mean_absolute_error: 0.0763 - mean_absolute_percentage_error: 9.5432 - val_loss: 0.0254 - val_mean_squared_error: 0.0254 - val_mean_absolute_error: 0.1411 - val_mean_absolute_percentage_error: 16.1792\n",
      "Epoch 13/150\n",
      "1761/1761 [==============================] - 4s 2ms/sample - loss: 0.0092 - mean_squared_error: 0.0092 - mean_absolute_error: 0.0764 - mean_absolute_percentage_error: 9.5584 - val_loss: 0.0250 - val_mean_squared_error: 0.0250 - val_mean_absolute_error: 0.1396 - val_mean_absolute_percentage_error: 16.0206\n",
      "Epoch 14/150\n",
      "1761/1761 [==============================] - 3s 2ms/sample - loss: 0.0093 - mean_squared_error: 0.0093 - mean_absolute_error: 0.0764 - mean_absolute_percentage_error: 9.5478 - val_loss: 0.0254 - val_mean_squared_error: 0.0254 - val_mean_absolute_error: 0.1411 - val_mean_absolute_percentage_error: 16.1831\n",
      "Epoch 15/150\n",
      "1761/1761 [==============================] - 3s 2ms/sample - loss: 0.0092 - mean_squared_error: 0.0092 - mean_absolute_error: 0.0764 - mean_absolute_percentage_error: 9.5427 - val_loss: 0.0217 - val_mean_squared_error: 0.0217 - val_mean_absolute_error: 0.1300 - val_mean_absolute_percentage_error: 14.9703\n",
      "Epoch 16/150\n",
      "1761/1761 [==============================] - 3s 2ms/sample - loss: 0.0090 - mean_squared_error: 0.0090 - mean_absolute_error: 0.0763 - mean_absolute_percentage_error: 9.5378 - val_loss: 0.0212 - val_mean_squared_error: 0.0212 - val_mean_absolute_error: 0.1286 - val_mean_absolute_percentage_error: 14.8192\n",
      "Epoch 17/150\n",
      "1761/1761 [==============================] - 3s 2ms/sample - loss: 0.0091 - mean_squared_error: 0.0091 - mean_absolute_error: 0.0761 - mean_absolute_percentage_error: 9.5073 - val_loss: 0.0214 - val_mean_squared_error: 0.0214 - val_mean_absolute_error: 0.1289 - val_mean_absolute_percentage_error: 14.8402\n",
      "Epoch 18/150\n",
      "1761/1761 [==============================] - 3s 2ms/sample - loss: 0.0093 - mean_squared_error: 0.0093 - mean_absolute_error: 0.0772 - mean_absolute_percentage_error: 9.6238 - val_loss: 0.0207 - val_mean_squared_error: 0.0207 - val_mean_absolute_error: 0.1267 - val_mean_absolute_percentage_error: 14.6216\n",
      "Epoch 19/150\n",
      "1761/1761 [==============================] - 3s 2ms/sample - loss: 0.0089 - mean_squared_error: 0.0089 - mean_absolute_error: 0.0755 - mean_absolute_percentage_error: 9.4253 - val_loss: 0.0186 - val_mean_squared_error: 0.0186 - val_mean_absolute_error: 0.1196 - val_mean_absolute_percentage_error: 13.8655\n",
      "Epoch 20/150\n",
      "1761/1761 [==============================] - 3s 2ms/sample - loss: 0.0088 - mean_squared_error: 0.0088 - mean_absolute_error: 0.0756 - mean_absolute_percentage_error: 9.4465 - val_loss: 0.0183 - val_mean_squared_error: 0.0183 - val_mean_absolute_error: 0.1189 - val_mean_absolute_percentage_error: 13.8051\n",
      "Epoch 21/150\n",
      "1761/1761 [==============================] - 3s 2ms/sample - loss: 0.0086 - mean_squared_error: 0.0086 - mean_absolute_error: 0.0735 - mean_absolute_percentage_error: 9.1994 - val_loss: 0.0184 - val_mean_squared_error: 0.0184 - val_mean_absolute_error: 0.1193 - val_mean_absolute_percentage_error: 13.8509\n",
      "Epoch 22/150\n",
      "1761/1761 [==============================] - 3s 2ms/sample - loss: 0.0086 - mean_squared_error: 0.0086 - mean_absolute_error: 0.0742 - mean_absolute_percentage_error: 9.2723 - val_loss: 0.0169 - val_mean_squared_error: 0.0169 - val_mean_absolute_error: 0.1143 - val_mean_absolute_percentage_error: 13.3343\n",
      "Epoch 23/150\n",
      "1761/1761 [==============================] - 3s 2ms/sample - loss: 0.0089 - mean_squared_error: 0.0089 - mean_absolute_error: 0.0759 - mean_absolute_percentage_error: 9.4812 - val_loss: 0.0162 - val_mean_squared_error: 0.0162 - val_mean_absolute_error: 0.1114 - val_mean_absolute_percentage_error: 13.0237\n",
      "Epoch 24/150\n",
      "1761/1761 [==============================] - 3s 2ms/sample - loss: 0.0086 - mean_squared_error: 0.0086 - mean_absolute_error: 0.0742 - mean_absolute_percentage_error: 9.2739 - val_loss: 0.0165 - val_mean_squared_error: 0.0165 - val_mean_absolute_error: 0.1129 - val_mean_absolute_percentage_error: 13.1897\n",
      "Epoch 25/150\n",
      "1761/1761 [==============================] - 3s 2ms/sample - loss: 0.0086 - mean_squared_error: 0.0086 - mean_absolute_error: 0.0741 - mean_absolute_percentage_error: 9.2514 - val_loss: 0.0148 - val_mean_squared_error: 0.0148 - val_mean_absolute_error: 0.1060 - val_mean_absolute_percentage_error: 12.4851\n",
      "Epoch 26/150\n",
      "1761/1761 [==============================] - 3s 2ms/sample - loss: 0.0086 - mean_squared_error: 0.0086 - mean_absolute_error: 0.0741 - mean_absolute_percentage_error: 9.2771 - val_loss: 0.0156 - val_mean_squared_error: 0.0156 - val_mean_absolute_error: 0.1096 - val_mean_absolute_percentage_error: 12.8401\n"
     ]
    },
    {
     "name": "stdout",
     "output_type": "stream",
     "text": [
      "Epoch 27/150\n",
      "1761/1761 [==============================] - 3s 2ms/sample - loss: 0.0086 - mean_squared_error: 0.0086 - mean_absolute_error: 0.0741 - mean_absolute_percentage_error: 9.2663 - val_loss: 0.0145 - val_mean_squared_error: 0.0145 - val_mean_absolute_error: 0.1055 - val_mean_absolute_percentage_error: 12.4334\n",
      "Epoch 28/150\n",
      "1761/1761 [==============================] - 3s 2ms/sample - loss: 0.0087 - mean_squared_error: 0.0087 - mean_absolute_error: 0.0746 - mean_absolute_percentage_error: 9.3116 - val_loss: 0.0127 - val_mean_squared_error: 0.0127 - val_mean_absolute_error: 0.0981 - val_mean_absolute_percentage_error: 11.7101\n",
      "Epoch 29/150\n",
      "1761/1761 [==============================] - 3s 2ms/sample - loss: 0.0083 - mean_squared_error: 0.0083 - mean_absolute_error: 0.0730 - mean_absolute_percentage_error: 9.1099 - val_loss: 0.0124 - val_mean_squared_error: 0.0124 - val_mean_absolute_error: 0.0968 - val_mean_absolute_percentage_error: 11.5772\n",
      "Epoch 30/150\n",
      "1761/1761 [==============================] - 3s 2ms/sample - loss: 0.0081 - mean_squared_error: 0.0081 - mean_absolute_error: 0.0721 - mean_absolute_percentage_error: 9.0248 - val_loss: 0.0123 - val_mean_squared_error: 0.0123 - val_mean_absolute_error: 0.0962 - val_mean_absolute_percentage_error: 11.5315\n",
      "Epoch 31/150\n",
      "1761/1761 [==============================] - 3s 2ms/sample - loss: 0.0083 - mean_squared_error: 0.0083 - mean_absolute_error: 0.0729 - mean_absolute_percentage_error: 9.1160 - val_loss: 0.0114 - val_mean_squared_error: 0.0114 - val_mean_absolute_error: 0.0917 - val_mean_absolute_percentage_error: 11.1351\n",
      "Epoch 32/150\n",
      "1761/1761 [==============================] - 3s 2ms/sample - loss: 0.0081 - mean_squared_error: 0.0081 - mean_absolute_error: 0.0725 - mean_absolute_percentage_error: 9.0562 - val_loss: 0.0123 - val_mean_squared_error: 0.0123 - val_mean_absolute_error: 0.0964 - val_mean_absolute_percentage_error: 11.5491\n",
      "Epoch 33/150\n",
      "1761/1761 [==============================] - 3s 2ms/sample - loss: 0.0082 - mean_squared_error: 0.0082 - mean_absolute_error: 0.0721 - mean_absolute_percentage_error: 9.0328 - val_loss: 0.0116 - val_mean_squared_error: 0.0116 - val_mean_absolute_error: 0.0929 - val_mean_absolute_percentage_error: 11.2286\n",
      "Epoch 34/150\n",
      "1761/1761 [==============================] - 3s 2ms/sample - loss: 0.0082 - mean_squared_error: 0.0082 - mean_absolute_error: 0.0723 - mean_absolute_percentage_error: 9.0379 - val_loss: 0.0117 - val_mean_squared_error: 0.0117 - val_mean_absolute_error: 0.0936 - val_mean_absolute_percentage_error: 11.2959\n",
      "Epoch 35/150\n",
      "1761/1761 [==============================] - 3s 2ms/sample - loss: 0.0082 - mean_squared_error: 0.0082 - mean_absolute_error: 0.0725 - mean_absolute_percentage_error: 9.0644 - val_loss: 0.0112 - val_mean_squared_error: 0.0112 - val_mean_absolute_error: 0.0912 - val_mean_absolute_percentage_error: 11.0801\n",
      "Epoch 36/150\n",
      "1761/1761 [==============================] - 3s 2ms/sample - loss: 0.0081 - mean_squared_error: 0.0081 - mean_absolute_error: 0.0718 - mean_absolute_percentage_error: 8.9969 - val_loss: 0.0113 - val_mean_squared_error: 0.0113 - val_mean_absolute_error: 0.0919 - val_mean_absolute_percentage_error: 11.1370\n",
      "Epoch 37/150\n",
      "1761/1761 [==============================] - 3s 2ms/sample - loss: 0.0082 - mean_squared_error: 0.0082 - mean_absolute_error: 0.0728 - mean_absolute_percentage_error: 9.0845 - val_loss: 0.0110 - val_mean_squared_error: 0.0110 - val_mean_absolute_error: 0.0903 - val_mean_absolute_percentage_error: 10.9988\n",
      "Epoch 38/150\n",
      "1761/1761 [==============================] - 3s 2ms/sample - loss: 0.0082 - mean_squared_error: 0.0082 - mean_absolute_error: 0.0727 - mean_absolute_percentage_error: 9.0871 - val_loss: 0.0109 - val_mean_squared_error: 0.0109 - val_mean_absolute_error: 0.0898 - val_mean_absolute_percentage_error: 10.9528\n",
      "Epoch 39/150\n",
      "1761/1761 [==============================] - 3s 2ms/sample - loss: 0.0080 - mean_squared_error: 0.0080 - mean_absolute_error: 0.0717 - mean_absolute_percentage_error: 8.9686 - val_loss: 0.0111 - val_mean_squared_error: 0.0111 - val_mean_absolute_error: 0.0907 - val_mean_absolute_percentage_error: 11.0336\n",
      "Epoch 40/150\n",
      "1761/1761 [==============================] - 3s 2ms/sample - loss: 0.0081 - mean_squared_error: 0.0081 - mean_absolute_error: 0.0719 - mean_absolute_percentage_error: 8.9899 - val_loss: 0.0111 - val_mean_squared_error: 0.0111 - val_mean_absolute_error: 0.0906 - val_mean_absolute_percentage_error: 11.0387\n",
      "Epoch 41/150\n",
      "1761/1761 [==============================] - 3s 2ms/sample - loss: 0.0079 - mean_squared_error: 0.0079 - mean_absolute_error: 0.0714 - mean_absolute_percentage_error: 8.9293 - val_loss: 0.0112 - val_mean_squared_error: 0.0112 - val_mean_absolute_error: 0.0910 - val_mean_absolute_percentage_error: 11.0669\n",
      "Epoch 42/150\n",
      "1761/1761 [==============================] - 3s 2ms/sample - loss: 0.0081 - mean_squared_error: 0.0081 - mean_absolute_error: 0.0713 - mean_absolute_percentage_error: 8.9373 - val_loss: 0.0111 - val_mean_squared_error: 0.0111 - val_mean_absolute_error: 0.0909 - val_mean_absolute_percentage_error: 11.0564\n",
      "Epoch 43/150\n",
      "1761/1761 [==============================] - 3s 2ms/sample - loss: 0.0081 - mean_squared_error: 0.0081 - mean_absolute_error: 0.0718 - mean_absolute_percentage_error: 8.9821 - val_loss: 0.0111 - val_mean_squared_error: 0.0111 - val_mean_absolute_error: 0.0903 - val_mean_absolute_percentage_error: 11.0251\n",
      "Epoch 44/150\n",
      "1761/1761 [==============================] - 3s 2ms/sample - loss: 0.0081 - mean_squared_error: 0.0081 - mean_absolute_error: 0.0722 - mean_absolute_percentage_error: 9.0154 - val_loss: 0.0110 - val_mean_squared_error: 0.0110 - val_mean_absolute_error: 0.0901 - val_mean_absolute_percentage_error: 10.9822\n",
      "Epoch 45/150\n",
      "1761/1761 [==============================] - 3s 2ms/sample - loss: 0.0080 - mean_squared_error: 0.0080 - mean_absolute_error: 0.0714 - mean_absolute_percentage_error: 8.9345 - val_loss: 0.0111 - val_mean_squared_error: 0.0111 - val_mean_absolute_error: 0.0907 - val_mean_absolute_percentage_error: 11.0446\n",
      "Epoch 46/150\n",
      "1761/1761 [==============================] - 3s 2ms/sample - loss: 0.0080 - mean_squared_error: 0.0080 - mean_absolute_error: 0.0718 - mean_absolute_percentage_error: 8.9779 - val_loss: 0.0112 - val_mean_squared_error: 0.0112 - val_mean_absolute_error: 0.0907 - val_mean_absolute_percentage_error: 11.0460\n",
      "Epoch 47/150\n",
      "1761/1761 [==============================] - 3s 2ms/sample - loss: 0.0081 - mean_squared_error: 0.0081 - mean_absolute_error: 0.0721 - mean_absolute_percentage_error: 9.0187 - val_loss: 0.0112 - val_mean_squared_error: 0.0112 - val_mean_absolute_error: 0.0910 - val_mean_absolute_percentage_error: 11.0768\n",
      "Epoch 48/150\n",
      "1761/1761 [==============================] - 3s 2ms/sample - loss: 0.0081 - mean_squared_error: 0.0081 - mean_absolute_error: 0.0720 - mean_absolute_percentage_error: 9.0116 - val_loss: 0.0110 - val_mean_squared_error: 0.0110 - val_mean_absolute_error: 0.0898 - val_mean_absolute_percentage_error: 10.9705\n",
      "Epoch 49/150\n",
      "1761/1761 [==============================] - 3s 2ms/sample - loss: 0.0079 - mean_squared_error: 0.0079 - mean_absolute_error: 0.0712 - mean_absolute_percentage_error: 8.9074 - val_loss: 0.0115 - val_mean_squared_error: 0.0115 - val_mean_absolute_error: 0.0923 - val_mean_absolute_percentage_error: 11.1951\n",
      "Epoch 50/150\n",
      "1761/1761 [==============================] - 3s 2ms/sample - loss: 0.0079 - mean_squared_error: 0.0079 - mean_absolute_error: 0.0712 - mean_absolute_percentage_error: 8.9263 - val_loss: 0.0110 - val_mean_squared_error: 0.0110 - val_mean_absolute_error: 0.0899 - val_mean_absolute_percentage_error: 10.9620\n",
      "Epoch 51/150\n",
      "1761/1761 [==============================] - 3s 2ms/sample - loss: 0.0078 - mean_squared_error: 0.0078 - mean_absolute_error: 0.0704 - mean_absolute_percentage_error: 8.8034 - val_loss: 0.0114 - val_mean_squared_error: 0.0114 - val_mean_absolute_error: 0.0920 - val_mean_absolute_percentage_error: 11.1578\n",
      "Epoch 52/150\n",
      "1761/1761 [==============================] - 3s 2ms/sample - loss: 0.0080 - mean_squared_error: 0.0080 - mean_absolute_error: 0.0717 - mean_absolute_percentage_error: 8.9665 - val_loss: 0.0113 - val_mean_squared_error: 0.0113 - val_mean_absolute_error: 0.0915 - val_mean_absolute_percentage_error: 11.1230\n"
     ]
    },
    {
     "name": "stdout",
     "output_type": "stream",
     "text": [
      "Epoch 53/150\n",
      "1761/1761 [==============================] - 3s 2ms/sample - loss: 0.0080 - mean_squared_error: 0.0080 - mean_absolute_error: 0.0715 - mean_absolute_percentage_error: 8.9445 - val_loss: 0.0110 - val_mean_squared_error: 0.0110 - val_mean_absolute_error: 0.0899 - val_mean_absolute_percentage_error: 10.9719\n",
      "Epoch 54/150\n",
      "1761/1761 [==============================] - 3s 2ms/sample - loss: 0.0080 - mean_squared_error: 0.0080 - mean_absolute_error: 0.0715 - mean_absolute_percentage_error: 8.9497 - val_loss: 0.0109 - val_mean_squared_error: 0.0109 - val_mean_absolute_error: 0.0895 - val_mean_absolute_percentage_error: 10.9359\n",
      "Epoch 55/150\n",
      "1761/1761 [==============================] - 3s 2ms/sample - loss: 0.0078 - mean_squared_error: 0.0078 - mean_absolute_error: 0.0707 - mean_absolute_percentage_error: 8.8476 - val_loss: 0.0109 - val_mean_squared_error: 0.0109 - val_mean_absolute_error: 0.0897 - val_mean_absolute_percentage_error: 10.9377\n",
      "Epoch 56/150\n",
      "1761/1761 [==============================] - 3s 2ms/sample - loss: 0.0079 - mean_squared_error: 0.0079 - mean_absolute_error: 0.0710 - mean_absolute_percentage_error: 8.8857 - val_loss: 0.0110 - val_mean_squared_error: 0.0110 - val_mean_absolute_error: 0.0903 - val_mean_absolute_percentage_error: 10.9923\n",
      "Epoch 57/150\n",
      "1761/1761 [==============================] - 3s 2ms/sample - loss: 0.0079 - mean_squared_error: 0.0079 - mean_absolute_error: 0.0713 - mean_absolute_percentage_error: 8.9154 - val_loss: 0.0111 - val_mean_squared_error: 0.0111 - val_mean_absolute_error: 0.0904 - val_mean_absolute_percentage_error: 11.0157\n",
      "Epoch 58/150\n",
      "1761/1761 [==============================] - 3s 2ms/sample - loss: 0.0079 - mean_squared_error: 0.0079 - mean_absolute_error: 0.0717 - mean_absolute_percentage_error: 8.9539 - val_loss: 0.0113 - val_mean_squared_error: 0.0113 - val_mean_absolute_error: 0.0912 - val_mean_absolute_percentage_error: 11.0866\n",
      "Epoch 59/150\n",
      "1761/1761 [==============================] - 3s 2ms/sample - loss: 0.0078 - mean_squared_error: 0.0078 - mean_absolute_error: 0.0703 - mean_absolute_percentage_error: 8.8175 - val_loss: 0.0109 - val_mean_squared_error: 0.0109 - val_mean_absolute_error: 0.0898 - val_mean_absolute_percentage_error: 10.9591\n",
      "Epoch 60/150\n",
      "1761/1761 [==============================] - 3s 2ms/sample - loss: 0.0078 - mean_squared_error: 0.0078 - mean_absolute_error: 0.0705 - mean_absolute_percentage_error: 8.8054 - val_loss: 0.0110 - val_mean_squared_error: 0.0110 - val_mean_absolute_error: 0.0901 - val_mean_absolute_percentage_error: 10.9795\n",
      "Epoch 61/150\n",
      "1761/1761 [==============================] - 3s 2ms/sample - loss: 0.0078 - mean_squared_error: 0.0078 - mean_absolute_error: 0.0710 - mean_absolute_percentage_error: 8.8689 - val_loss: 0.0109 - val_mean_squared_error: 0.0109 - val_mean_absolute_error: 0.0895 - val_mean_absolute_percentage_error: 10.9304\n",
      "Epoch 62/150\n",
      "1761/1761 [==============================] - 3s 2ms/sample - loss: 0.0077 - mean_squared_error: 0.0077 - mean_absolute_error: 0.0698 - mean_absolute_percentage_error: 8.7348 - val_loss: 0.0108 - val_mean_squared_error: 0.0108 - val_mean_absolute_error: 0.0890 - val_mean_absolute_percentage_error: 10.8904\n",
      "Epoch 63/150\n",
      "1761/1761 [==============================] - 4s 2ms/sample - loss: 0.0077 - mean_squared_error: 0.0077 - mean_absolute_error: 0.0698 - mean_absolute_percentage_error: 8.7330 - val_loss: 0.0109 - val_mean_squared_error: 0.0109 - val_mean_absolute_error: 0.0896 - val_mean_absolute_percentage_error: 10.9512\n",
      "Epoch 64/150\n",
      "1761/1761 [==============================] - 3s 2ms/sample - loss: 0.0078 - mean_squared_error: 0.0078 - mean_absolute_error: 0.0703 - mean_absolute_percentage_error: 8.8008 - val_loss: 0.0112 - val_mean_squared_error: 0.0112 - val_mean_absolute_error: 0.0906 - val_mean_absolute_percentage_error: 11.0213\n",
      "Epoch 65/150\n",
      "1761/1761 [==============================] - 4s 2ms/sample - loss: 0.0076 - mean_squared_error: 0.0076 - mean_absolute_error: 0.0693 - mean_absolute_percentage_error: 8.6885 - val_loss: 0.0114 - val_mean_squared_error: 0.0114 - val_mean_absolute_error: 0.0922 - val_mean_absolute_percentage_error: 11.1661\n",
      "Epoch 66/150\n",
      "1761/1761 [==============================] - 4s 2ms/sample - loss: 0.0077 - mean_squared_error: 0.0077 - mean_absolute_error: 0.0701 - mean_absolute_percentage_error: 8.7720 - val_loss: 0.0110 - val_mean_squared_error: 0.0110 - val_mean_absolute_error: 0.0893 - val_mean_absolute_percentage_error: 10.9146\n",
      "Epoch 67/150\n",
      "1761/1761 [==============================] - 3s 2ms/sample - loss: 0.0076 - mean_squared_error: 0.0076 - mean_absolute_error: 0.0694 - mean_absolute_percentage_error: 8.6757 - val_loss: 0.0111 - val_mean_squared_error: 0.0111 - val_mean_absolute_error: 0.0901 - val_mean_absolute_percentage_error: 10.9847\n",
      "Epoch 68/150\n",
      "1761/1761 [==============================] - 3s 2ms/sample - loss: 0.0076 - mean_squared_error: 0.0076 - mean_absolute_error: 0.0701 - mean_absolute_percentage_error: 8.7530 - val_loss: 0.0112 - val_mean_squared_error: 0.0112 - val_mean_absolute_error: 0.0907 - val_mean_absolute_percentage_error: 11.0280\n",
      "Epoch 69/150\n",
      "1761/1761 [==============================] - 3s 2ms/sample - loss: 0.0077 - mean_squared_error: 0.0077 - mean_absolute_error: 0.0702 - mean_absolute_percentage_error: 8.7829 - val_loss: 0.0108 - val_mean_squared_error: 0.0108 - val_mean_absolute_error: 0.0890 - val_mean_absolute_percentage_error: 10.8850\n",
      "Epoch 70/150\n",
      "1761/1761 [==============================] - 4s 2ms/sample - loss: 0.0076 - mean_squared_error: 0.0076 - mean_absolute_error: 0.0696 - mean_absolute_percentage_error: 8.7198 - val_loss: 0.0111 - val_mean_squared_error: 0.0111 - val_mean_absolute_error: 0.0904 - val_mean_absolute_percentage_error: 10.9976\n",
      "Epoch 71/150\n",
      "1761/1761 [==============================] - 3s 2ms/sample - loss: 0.0077 - mean_squared_error: 0.0077 - mean_absolute_error: 0.0699 - mean_absolute_percentage_error: 8.7539 - val_loss: 0.0109 - val_mean_squared_error: 0.0109 - val_mean_absolute_error: 0.0897 - val_mean_absolute_percentage_error: 10.9390\n",
      "Epoch 72/150\n",
      "1761/1761 [==============================] - 3s 2ms/sample - loss: 0.0075 - mean_squared_error: 0.0075 - mean_absolute_error: 0.0698 - mean_absolute_percentage_error: 8.7287 - val_loss: 0.0112 - val_mean_squared_error: 0.0112 - val_mean_absolute_error: 0.0908 - val_mean_absolute_percentage_error: 11.0452\n",
      "Epoch 73/150\n",
      "1761/1761 [==============================] - 3s 2ms/sample - loss: 0.0076 - mean_squared_error: 0.0076 - mean_absolute_error: 0.0702 - mean_absolute_percentage_error: 8.7730 - val_loss: 0.0107 - val_mean_squared_error: 0.0107 - val_mean_absolute_error: 0.0888 - val_mean_absolute_percentage_error: 10.8556\n",
      "Epoch 74/150\n",
      "1761/1761 [==============================] - 4s 2ms/sample - loss: 0.0076 - mean_squared_error: 0.0076 - mean_absolute_error: 0.0701 - mean_absolute_percentage_error: 8.7562 - val_loss: 0.0112 - val_mean_squared_error: 0.0112 - val_mean_absolute_error: 0.0911 - val_mean_absolute_percentage_error: 11.0473\n",
      "Epoch 75/150\n",
      "1761/1761 [==============================] - 4s 2ms/sample - loss: 0.0074 - mean_squared_error: 0.0074 - mean_absolute_error: 0.0689 - mean_absolute_percentage_error: 8.6199 - val_loss: 0.0111 - val_mean_squared_error: 0.0111 - val_mean_absolute_error: 0.0899 - val_mean_absolute_percentage_error: 10.9520\n",
      "Epoch 76/150\n",
      "1761/1761 [==============================] - 4s 2ms/sample - loss: 0.0075 - mean_squared_error: 0.0075 - mean_absolute_error: 0.0694 - mean_absolute_percentage_error: 8.6781 - val_loss: 0.0109 - val_mean_squared_error: 0.0109 - val_mean_absolute_error: 0.0895 - val_mean_absolute_percentage_error: 10.9201\n",
      "Epoch 77/150\n",
      "1761/1761 [==============================] - 4s 2ms/sample - loss: 0.0075 - mean_squared_error: 0.0075 - mean_absolute_error: 0.0688 - mean_absolute_percentage_error: 8.6013 - val_loss: 0.0116 - val_mean_squared_error: 0.0116 - val_mean_absolute_error: 0.0924 - val_mean_absolute_percentage_error: 11.1850\n",
      "Epoch 78/150\n",
      "1761/1761 [==============================] - 3s 2ms/sample - loss: 0.0076 - mean_squared_error: 0.0076 - mean_absolute_error: 0.0693 - mean_absolute_percentage_error: 8.6758 - val_loss: 0.0111 - val_mean_squared_error: 0.0111 - val_mean_absolute_error: 0.0901 - val_mean_absolute_percentage_error: 10.9638\n"
     ]
    },
    {
     "name": "stdout",
     "output_type": "stream",
     "text": [
      "Epoch 79/150\n",
      "1761/1761 [==============================] - 3s 2ms/sample - loss: 0.0074 - mean_squared_error: 0.0074 - mean_absolute_error: 0.0690 - mean_absolute_percentage_error: 8.6567 - val_loss: 0.0111 - val_mean_squared_error: 0.0111 - val_mean_absolute_error: 0.0905 - val_mean_absolute_percentage_error: 11.0212\n",
      "Epoch 80/150\n",
      "1761/1761 [==============================] - 3s 2ms/sample - loss: 0.0075 - mean_squared_error: 0.0075 - mean_absolute_error: 0.0695 - mean_absolute_percentage_error: 8.6780 - val_loss: 0.0114 - val_mean_squared_error: 0.0114 - val_mean_absolute_error: 0.0920 - val_mean_absolute_percentage_error: 11.1492\n",
      "Epoch 81/150\n",
      "1761/1761 [==============================] - 3s 2ms/sample - loss: 0.0075 - mean_squared_error: 0.0075 - mean_absolute_error: 0.0696 - mean_absolute_percentage_error: 8.6963 - val_loss: 0.0112 - val_mean_squared_error: 0.0112 - val_mean_absolute_error: 0.0906 - val_mean_absolute_percentage_error: 11.0314\n",
      "Epoch 82/150\n",
      "1761/1761 [==============================] - 4s 2ms/sample - loss: 0.0075 - mean_squared_error: 0.0075 - mean_absolute_error: 0.0689 - mean_absolute_percentage_error: 8.6226 - val_loss: 0.0110 - val_mean_squared_error: 0.0110 - val_mean_absolute_error: 0.0894 - val_mean_absolute_percentage_error: 10.9224\n",
      "Epoch 83/150\n",
      "1761/1761 [==============================] - 4s 2ms/sample - loss: 0.0074 - mean_squared_error: 0.0074 - mean_absolute_error: 0.0690 - mean_absolute_percentage_error: 8.6508 - val_loss: 0.0110 - val_mean_squared_error: 0.0110 - val_mean_absolute_error: 0.0902 - val_mean_absolute_percentage_error: 10.9817\n",
      "Epoch 84/150\n",
      "1761/1761 [==============================] - 4s 2ms/sample - loss: 0.0075 - mean_squared_error: 0.0075 - mean_absolute_error: 0.0696 - mean_absolute_percentage_error: 8.6992 - val_loss: 0.0108 - val_mean_squared_error: 0.0108 - val_mean_absolute_error: 0.0891 - val_mean_absolute_percentage_error: 10.8902\n",
      "Epoch 85/150\n",
      "1761/1761 [==============================] - 4s 2ms/sample - loss: 0.0074 - mean_squared_error: 0.0074 - mean_absolute_error: 0.0694 - mean_absolute_percentage_error: 8.6611 - val_loss: 0.0113 - val_mean_squared_error: 0.0113 - val_mean_absolute_error: 0.0912 - val_mean_absolute_percentage_error: 11.0815\n",
      "Epoch 86/150\n",
      "1761/1761 [==============================] - 4s 2ms/sample - loss: 0.0074 - mean_squared_error: 0.0074 - mean_absolute_error: 0.0690 - mean_absolute_percentage_error: 8.6431 - val_loss: 0.0106 - val_mean_squared_error: 0.0106 - val_mean_absolute_error: 0.0879 - val_mean_absolute_percentage_error: 10.7549\n",
      "Epoch 87/150\n",
      "1761/1761 [==============================] - 4s 2ms/sample - loss: 0.0072 - mean_squared_error: 0.0072 - mean_absolute_error: 0.0676 - mean_absolute_percentage_error: 8.4648 - val_loss: 0.0110 - val_mean_squared_error: 0.0110 - val_mean_absolute_error: 0.0899 - val_mean_absolute_percentage_error: 10.9355\n",
      "Epoch 88/150\n",
      "1761/1761 [==============================] - 4s 2ms/sample - loss: 0.0075 - mean_squared_error: 0.0075 - mean_absolute_error: 0.0700 - mean_absolute_percentage_error: 8.7539 - val_loss: 0.0112 - val_mean_squared_error: 0.0112 - val_mean_absolute_error: 0.0906 - val_mean_absolute_percentage_error: 10.9959\n",
      "Epoch 89/150\n",
      "1761/1761 [==============================] - 4s 2ms/sample - loss: 0.0072 - mean_squared_error: 0.0072 - mean_absolute_error: 0.0679 - mean_absolute_percentage_error: 8.4896 - val_loss: 0.0110 - val_mean_squared_error: 0.0110 - val_mean_absolute_error: 0.0894 - val_mean_absolute_percentage_error: 10.9010\n",
      "Epoch 90/150\n",
      "1761/1761 [==============================] - 4s 2ms/sample - loss: 0.0074 - mean_squared_error: 0.0074 - mean_absolute_error: 0.0685 - mean_absolute_percentage_error: 8.5772 - val_loss: 0.0111 - val_mean_squared_error: 0.0111 - val_mean_absolute_error: 0.0901 - val_mean_absolute_percentage_error: 10.9827\n",
      "Epoch 91/150\n",
      "1761/1761 [==============================] - 4s 2ms/sample - loss: 0.0074 - mean_squared_error: 0.0074 - mean_absolute_error: 0.0693 - mean_absolute_percentage_error: 8.6710 - val_loss: 0.0114 - val_mean_squared_error: 0.0114 - val_mean_absolute_error: 0.0917 - val_mean_absolute_percentage_error: 11.1154\n",
      "Epoch 92/150\n",
      "1761/1761 [==============================] - 3s 2ms/sample - loss: 0.0073 - mean_squared_error: 0.0073 - mean_absolute_error: 0.0684 - mean_absolute_percentage_error: 8.5570 - val_loss: 0.0114 - val_mean_squared_error: 0.0114 - val_mean_absolute_error: 0.0915 - val_mean_absolute_percentage_error: 11.1194\n",
      "Epoch 93/150\n",
      "1761/1761 [==============================] - 3s 2ms/sample - loss: 0.0073 - mean_squared_error: 0.0073 - mean_absolute_error: 0.0674 - mean_absolute_percentage_error: 8.4560 - val_loss: 0.0114 - val_mean_squared_error: 0.0114 - val_mean_absolute_error: 0.0916 - val_mean_absolute_percentage_error: 11.1026\n",
      "Epoch 94/150\n",
      "1761/1761 [==============================] - 3s 2ms/sample - loss: 0.0071 - mean_squared_error: 0.0071 - mean_absolute_error: 0.0677 - mean_absolute_percentage_error: 8.4633 - val_loss: 0.0111 - val_mean_squared_error: 0.0111 - val_mean_absolute_error: 0.0902 - val_mean_absolute_percentage_error: 10.9920\n",
      "Epoch 95/150\n",
      "1761/1761 [==============================] - 3s 2ms/sample - loss: 0.0073 - mean_squared_error: 0.0073 - mean_absolute_error: 0.0680 - mean_absolute_percentage_error: 8.5047 - val_loss: 0.0116 - val_mean_squared_error: 0.0116 - val_mean_absolute_error: 0.0916 - val_mean_absolute_percentage_error: 11.1283\n",
      "Epoch 96/150\n",
      "1761/1761 [==============================] - 3s 2ms/sample - loss: 0.0071 - mean_squared_error: 0.0071 - mean_absolute_error: 0.0675 - mean_absolute_percentage_error: 8.4596 - val_loss: 0.0114 - val_mean_squared_error: 0.0114 - val_mean_absolute_error: 0.0918 - val_mean_absolute_percentage_error: 11.1274\n",
      "Epoch 97/150\n",
      "1761/1761 [==============================] - 3s 2ms/sample - loss: 0.0072 - mean_squared_error: 0.0072 - mean_absolute_error: 0.0683 - mean_absolute_percentage_error: 8.5294 - val_loss: 0.0110 - val_mean_squared_error: 0.0110 - val_mean_absolute_error: 0.0885 - val_mean_absolute_percentage_error: 10.8367\n",
      "Epoch 98/150\n",
      "1761/1761 [==============================] - 3s 2ms/sample - loss: 0.0073 - mean_squared_error: 0.0073 - mean_absolute_error: 0.0684 - mean_absolute_percentage_error: 8.5543 - val_loss: 0.0113 - val_mean_squared_error: 0.0113 - val_mean_absolute_error: 0.0906 - val_mean_absolute_percentage_error: 11.0225\n",
      "Epoch 99/150\n",
      "1761/1761 [==============================] - 3s 2ms/sample - loss: 0.0073 - mean_squared_error: 0.0073 - mean_absolute_error: 0.0685 - mean_absolute_percentage_error: 8.5739 - val_loss: 0.0113 - val_mean_squared_error: 0.0113 - val_mean_absolute_error: 0.0903 - val_mean_absolute_percentage_error: 10.9922\n",
      "Epoch 100/150\n",
      "1761/1761 [==============================] - 3s 2ms/sample - loss: 0.0071 - mean_squared_error: 0.0071 - mean_absolute_error: 0.0678 - mean_absolute_percentage_error: 8.4858 - val_loss: 0.0112 - val_mean_squared_error: 0.0112 - val_mean_absolute_error: 0.0902 - val_mean_absolute_percentage_error: 10.9665\n",
      "Epoch 101/150\n",
      "1761/1761 [==============================] - 3s 2ms/sample - loss: 0.0073 - mean_squared_error: 0.0073 - mean_absolute_error: 0.0681 - mean_absolute_percentage_error: 8.5343 - val_loss: 0.0114 - val_mean_squared_error: 0.0114 - val_mean_absolute_error: 0.0913 - val_mean_absolute_percentage_error: 11.0924\n",
      "Epoch 102/150\n",
      "1761/1761 [==============================] - 4s 2ms/sample - loss: 0.0071 - mean_squared_error: 0.0071 - mean_absolute_error: 0.0675 - mean_absolute_percentage_error: 8.4400 - val_loss: 0.0119 - val_mean_squared_error: 0.0119 - val_mean_absolute_error: 0.0929 - val_mean_absolute_percentage_error: 11.2396\n",
      "Epoch 103/150\n",
      "1761/1761 [==============================] - 4s 2ms/sample - loss: 0.0071 - mean_squared_error: 0.0071 - mean_absolute_error: 0.0666 - mean_absolute_percentage_error: 8.3270 - val_loss: 0.0114 - val_mean_squared_error: 0.0114 - val_mean_absolute_error: 0.0909 - val_mean_absolute_percentage_error: 11.0651\n",
      "Epoch 104/150\n",
      "1761/1761 [==============================] - 3s 2ms/sample - loss: 0.0072 - mean_squared_error: 0.0072 - mean_absolute_error: 0.0672 - mean_absolute_percentage_error: 8.4123 - val_loss: 0.0115 - val_mean_squared_error: 0.0115 - val_mean_absolute_error: 0.0920 - val_mean_absolute_percentage_error: 11.1579\n"
     ]
    },
    {
     "name": "stdout",
     "output_type": "stream",
     "text": [
      "Epoch 105/150\n",
      "1761/1761 [==============================] - 3s 2ms/sample - loss: 0.0070 - mean_squared_error: 0.0070 - mean_absolute_error: 0.0667 - mean_absolute_percentage_error: 8.3467 - val_loss: 0.0117 - val_mean_squared_error: 0.0117 - val_mean_absolute_error: 0.0921 - val_mean_absolute_percentage_error: 11.1690\n",
      "Epoch 106/150\n",
      "1761/1761 [==============================] - 3s 2ms/sample - loss: 0.0070 - mean_squared_error: 0.0070 - mean_absolute_error: 0.0666 - mean_absolute_percentage_error: 8.3411 - val_loss: 0.0120 - val_mean_squared_error: 0.0120 - val_mean_absolute_error: 0.0938 - val_mean_absolute_percentage_error: 11.3270\n",
      "Epoch 107/150\n",
      "1761/1761 [==============================] - 4s 2ms/sample - loss: 0.0070 - mean_squared_error: 0.0070 - mean_absolute_error: 0.0666 - mean_absolute_percentage_error: 8.3439 - val_loss: 0.0116 - val_mean_squared_error: 0.0116 - val_mean_absolute_error: 0.0917 - val_mean_absolute_percentage_error: 11.1355\n",
      "Epoch 108/150\n",
      "1761/1761 [==============================] - 3s 2ms/sample - loss: 0.0070 - mean_squared_error: 0.0070 - mean_absolute_error: 0.0668 - mean_absolute_percentage_error: 8.3600 - val_loss: 0.0114 - val_mean_squared_error: 0.0114 - val_mean_absolute_error: 0.0909 - val_mean_absolute_percentage_error: 11.0613\n",
      "Epoch 109/150\n",
      "1761/1761 [==============================] - 3s 2ms/sample - loss: 0.0071 - mean_squared_error: 0.0071 - mean_absolute_error: 0.0677 - mean_absolute_percentage_error: 8.4393 - val_loss: 0.0109 - val_mean_squared_error: 0.0109 - val_mean_absolute_error: 0.0888 - val_mean_absolute_percentage_error: 10.8711\n",
      "Epoch 110/150\n",
      "1761/1761 [==============================] - 4s 2ms/sample - loss: 0.0071 - mean_squared_error: 0.0071 - mean_absolute_error: 0.0674 - mean_absolute_percentage_error: 8.4385 - val_loss: 0.0121 - val_mean_squared_error: 0.0121 - val_mean_absolute_error: 0.0936 - val_mean_absolute_percentage_error: 11.3357\n",
      "Epoch 111/150\n",
      "1761/1761 [==============================] - 4s 2ms/sample - loss: 0.0069 - mean_squared_error: 0.0069 - mean_absolute_error: 0.0663 - mean_absolute_percentage_error: 8.2770 - val_loss: 0.0114 - val_mean_squared_error: 0.0114 - val_mean_absolute_error: 0.0903 - val_mean_absolute_percentage_error: 11.0179\n",
      "Epoch 112/150\n",
      "1761/1761 [==============================] - 3s 2ms/sample - loss: 0.0069 - mean_squared_error: 0.0069 - mean_absolute_error: 0.0658 - mean_absolute_percentage_error: 8.2379 - val_loss: 0.0114 - val_mean_squared_error: 0.0114 - val_mean_absolute_error: 0.0906 - val_mean_absolute_percentage_error: 11.0429\n",
      "Epoch 113/150\n",
      "1761/1761 [==============================] - 3s 2ms/sample - loss: 0.0068 - mean_squared_error: 0.0068 - mean_absolute_error: 0.0662 - mean_absolute_percentage_error: 8.2803 - val_loss: 0.0117 - val_mean_squared_error: 0.0117 - val_mean_absolute_error: 0.0927 - val_mean_absolute_percentage_error: 11.2211\n",
      "Epoch 114/150\n",
      "1761/1761 [==============================] - 3s 2ms/sample - loss: 0.0069 - mean_squared_error: 0.0069 - mean_absolute_error: 0.0665 - mean_absolute_percentage_error: 8.3224 - val_loss: 0.0117 - val_mean_squared_error: 0.0117 - val_mean_absolute_error: 0.0918 - val_mean_absolute_percentage_error: 11.1695\n",
      "Epoch 115/150\n",
      "1761/1761 [==============================] - 4s 2ms/sample - loss: 0.0070 - mean_squared_error: 0.0070 - mean_absolute_error: 0.0672 - mean_absolute_percentage_error: 8.4134 - val_loss: 0.0116 - val_mean_squared_error: 0.0116 - val_mean_absolute_error: 0.0918 - val_mean_absolute_percentage_error: 11.1458\n",
      "Epoch 116/150\n",
      "1760/1761 [============================>.] - ETA: 0s - loss: 0.0068 - mean_squared_error: 0.0068 - mean_absolute_error: 0.0657 - mean_absolute_percentage_error: 8.2291Restoring model weights from the end of the best epoch.\n",
      "1761/1761 [==============================] - 3s 2ms/sample - loss: 0.0068 - mean_squared_error: 0.0068 - mean_absolute_error: 0.0657 - mean_absolute_percentage_error: 8.2262 - val_loss: 0.0118 - val_mean_squared_error: 0.0118 - val_mean_absolute_error: 0.0924 - val_mean_absolute_percentage_error: 11.1978\n",
      "Epoch 00116: early stopping\n"
     ]
    },
    {
     "data": {
      "image/png": "[encoded data removed]",
      "text/plain": [
       "<Figure size 432x288 with 1 Axes>"
      ]
     },
     "metadata": {
      "needs_background": "light"
     },
     "output_type": "display_data"
    }
   ],
   "source": [
    "model = train_model(model_type, features_train, targets_train, features_valid, targets_valid, model_parameters)"
   ]
  },
  {
   "cell_type": "markdown",
   "metadata": {},
   "source": [
    "## Test\n",
    "\n",
    "Spearman's rank correlation, ROC curves, etc"
   ]
  },
  {
   "cell_type": "code",
   "execution_count": 31,
   "metadata": {},
   "outputs": [],
   "source": [
    "from train import get_predictions\n",
    "\n",
    "predictions, actuals, _ = get_predictions(\n",
    "    model_type, model, features_valid, targets_valid, video_ids_valid, aggregate_with=aggregate_with\n",
    ")"
   ]
  },
  {
   "cell_type": "code",
   "execution_count": 32,
   "metadata": {
    "scrolled": false
   },
   "outputs": [
    {
     "name": "stdout",
     "output_type": "stream",
     "text": [
      "SPEARMAN RANK: 0.19194066153188785\n"
     ]
    },
    {
     "data": {
      "image/png": "[encoded data removed]",
      "text/plain": [
       "<Figure size 576x576 with 1 Axes>"
      ]
     },
     "metadata": {
      "needs_background": "light"
     },
     "output_type": "display_data"
    }
   ],
   "source": [
    "spearman_rank, _ = stats.spearmanr(actuals, predictions)\n",
    "print(\"SPEARMAN RANK:\",spearman_rank)\n",
    "\n",
    "fig, ax = plt.subplots(1, figsize=(8,8))\n",
    "min_mem = min(np.min(actuals), np.min(predictions))\n",
    "max_mem = max(np.max(actuals), np.max(predictions))\n",
    "plt.scatter(actuals, predictions, label = f\"Spearman rank correlation = {spearman_rank}\")\n",
    "# plt.plot([min_mem, max_mem], [min_mem, max_mem], label=\"1 to 1\")\n",
    "plt.title(f\"actual {target} vs predicted {target}\")\n",
    "plt.legend()\n",
    "plt.ylabel(\"predictions\")\n",
    "plt.xlabel(\"actual\")\n",
    "plt.show()"
   ]
  },
  {
   "cell_type": "markdown",
   "metadata": {},
   "source": [
    "# Saving Predictions\n"
   ]
  },
  {
   "cell_type": "code",
   "execution_count": 33,
   "metadata": {},
   "outputs": [],
   "source": [
    "pred_train, actual_train, vid_train = get_predictions(model_type, model, features_train, targets_train, video_ids_train, aggregate_with=aggregate_with)\n",
    "pred_valid, actual_valid, vid_valid = get_predictions(model_type, model, features_valid, targets_valid, video_ids_valid, aggregate_with=aggregate_with)\n",
    "pred_test, actual_test, vid_test = get_predictions(model_type, model, features_test, targets_test, video_ids_test, aggregate_with=aggregate_with)"
   ]
  },
  {
   "cell_type": "code",
   "execution_count": 34,
   "metadata": {},
   "outputs": [
    {
     "name": "stdout",
     "output_type": "stream",
     "text": [
      "Validation spearman rank: 0.19194066153188785\n",
      "Training spearman rank: 0.6394903773885922\n"
     ]
    }
   ],
   "source": [
    "print(\"Validation spearman rank:\", stats.spearmanr(actual_valid, pred_valid)[0])\n",
    "print(\"Training spearman rank:\", stats.spearmanr(actual_train, pred_train)[0])"
   ]
  },
  {
   "cell_type": "code",
   "execution_count": 35,
   "metadata": {},
   "outputs": [],
   "source": [
    "predictions = np.concatenate([pred_train, pred_valid, pred_test])\n",
    "actuals = np.concatenate([actual_train, actual_valid, actual_test])\n",
    "video_ids = np.concatenate([vid_train, vid_valid, vid_test])\n",
    "in_training_set = np.array(np.concatenate([np.ones(len(pred_train)), np.zeros(len(pred_valid + pred_test))]), dtype=bool)"
   ]
  },
  {
   "cell_type": "code",
   "execution_count": 36,
   "metadata": {},
   "outputs": [],
   "source": [
    "default_prediction = np.mean(predictions)\n",
    "for vid in train_data.index:\n",
    "    if vid not in video_ids:\n",
    "        print(f\"Adding vid {vid} with default prediction {default_prediction}\")\n",
    "        video_ids = np.append(video_ids, vid)\n",
    "        predictions = np.append(predictions, default_prediction)\n",
    "        in_training_set = np.append(in_training_set, vid in training_data.index)\n",
    "        actuals = np.append(actuals, train_data.loc[vid][target])\n",
    "        \n",
    "for vid in test_data.index:\n",
    "    if vid not in video_ids:\n",
    "        video_ids = np.append(video_ids, vid)\n",
    "        predictions = np.append(predictions, default_prediction)\n",
    "        in_training_set = np.append(in_training_set, False)\n",
    "        actuals = np.append(actuals, np.nan)"
   ]
  },
  {
   "cell_type": "code",
   "execution_count": 37,
   "metadata": {},
   "outputs": [],
   "source": [
    "assert len(predictions) == len(actuals) == len(video_ids) == len(in_training_set) == len(train_data) + len(test_data)"
   ]
  },
  {
   "cell_type": "code",
   "execution_count": 38,
   "metadata": {},
   "outputs": [],
   "source": [
    "def save_predictions(model_name, video_ids, actuals, predictions, in_training_set, model_parameters, predictions_dir = PREDICTIONS_DIR):\n",
    "\n",
    "    if not os.path.exists(predictions_dir):\n",
    "        os.mkdir(predictions_dir)\n",
    "        \n",
    "    model_data_dir = f\"{predictions_dir}/model_data.csv\"\n",
    "    if not os.path.exists(model_data_dir):\n",
    "        model_data = pd.DataFrame(columns=[\"name\", \"validation_spearman_rank\", \"type\", \"feature\", \"parameters\", \"predictions\", \"is_short_term\", \"seed\", \"notes\"])\n",
    "    else:\n",
    "        model_data = pd.read_csv(model_data_dir)\n",
    "        \n",
    "    model_dir = f\"{predictions_dir}/{model_name}\"\n",
    "    if not os.path.exists(model_dir):\n",
    "        os.mkdir(model_dir)\n",
    "        \n",
    "    pred_filename = f\"{model_dir}/{'st' if IS_SHORT_TERM else 'lt'}-{RANDOM_SEED}.csv\"\n",
    "    \n",
    "    valid_spearman_rank, _ = stats.spearmanr(actuals[in_training_set], predictions[in_training_set])\n",
    "    \n",
    "    pred_data = pd.DataFrame({\n",
    "        \"video_id\": video_ids,\n",
    "        \"prediction\": predictions,\n",
    "        \"actual\": actuals,\n",
    "        \"in_training_set\": in_training_set\n",
    "    }).sort_values(\"video_id\")\n",
    "    \n",
    "    pred_data.to_csv(pred_filename, index = False)\n",
    "    \n",
    "    model_info = {\n",
    "        \"name\": model_name,\n",
    "        \"type\": model_type,\n",
    "        \"feature\": feature,\n",
    "        \"validation_spearman_rank\": np.around(spearman_rank,4),\n",
    "        \"parameters\": model_parameters,\n",
    "        \"predictions\": pred_filename,\n",
    "        \"notes\": NOTES,\n",
    "        \"seed\": RANDOM_SEED,\n",
    "        \"is_short_term\": IS_SHORT_TERM\n",
    "    }\n",
    "    \n",
    "    model_data.append(model_info, ignore_index = True).to_csv(model_data_dir, index = False)\n",
    "    \n",
    "    print(\"Saved model info and predictions: \", model_info)\n",
    "    "
   ]
  },
  {
   "cell_type": "code",
   "execution_count": 39,
   "metadata": {},
   "outputs": [
    {
     "ename": "AssertionError",
     "evalue": "Model was not saved.",
     "output_type": "error",
     "traceback": [
      "\u001b[0;31m---------------------------------------------------------------------------\u001b[0m",
      "\u001b[0;31mAssertionError\u001b[0m                            Traceback (most recent call last)",
      "\u001b[0;32m<ipython-input-39-dffe1252d0a3>\u001b[0m in \u001b[0;36m<module>\u001b[0;34m\u001b[0m\n\u001b[0;32m----> 1\u001b[0;31m \u001b[0;32massert\u001b[0m \u001b[0mSAVE_MODEL\u001b[0m\u001b[0;34m,\u001b[0m \u001b[0;34m\"Model was not saved.\"\u001b[0m\u001b[0;34m\u001b[0m\u001b[0;34m\u001b[0m\u001b[0m\n\u001b[0m",
      "\u001b[0;31mAssertionError\u001b[0m: Model was not saved."
     ]
    }
   ],
   "source": [
    "assert SAVE_MODEL, \"Model was not saved.\""
   ]
  },
  {
   "cell_type": "code",
   "execution_count": null,
   "metadata": {},
   "outputs": [],
   "source": [
    "save_predictions(model_name, video_ids, actuals, predictions, in_training_set, model_parameters)"
   ]
  },
  {
   "cell_type": "code",
   "execution_count": null,
   "metadata": {},
   "outputs": [],
   "source": []
  }
 ],
 "metadata": {
  "kernelspec": {
   "display_name": "video-mem",
   "language": "python",
   "name": "video-mem"
  },
  "language_info": {
   "codemirror_mode": {
    "name": "ipython",
    "version": 3
   },
   "file_extension": ".py",
   "mimetype": "text/x-python",
   "name": "python",
   "nbconvert_exporter": "python",
   "pygments_lexer": "ipython3",
   "version": "3.8.5"
  }
 },
 "nbformat": 4,
 "nbformat_minor": 4
}
