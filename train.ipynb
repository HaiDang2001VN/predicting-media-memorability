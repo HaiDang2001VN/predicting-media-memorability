{
 "cells": [
  {
   "cell_type": "markdown",
   "metadata": {},
   "source": [
    "# Training workflow"
   ]
  },
  {
   "cell_type": "code",
   "execution_count": 1,
   "metadata": {},
   "outputs": [],
   "source": [
    "import torch\n",
    "import pandas as pd\n",
    "import numpy as np\n",
    "import matplotlib.pyplot as plt\n",
    "from scipy import stats\n",
    "import os\n",
    "import copy\n",
    "\n",
    "from IPython.display import Video"
   ]
  },
  {
   "cell_type": "markdown",
   "metadata": {},
   "source": [
    "## Constants"
   ]
  },
  {
   "cell_type": "code",
   "execution_count": 2,
   "metadata": {},
   "outputs": [
    {
     "name": "stdout",
     "output_type": "stream",
     "text": [
      "CUDA: True\n"
     ]
    }
   ],
   "source": [
    "CUDA = torch.cuda.is_available()\n",
    "RANDOM_SEED = 9\n",
    "BATCH_SIZE = 128\n",
    "LEARNING_RATE = 1e-3\n",
    "NUM_EPOCHS = 9\n",
    "\n",
    "print(f\"CUDA: {CUDA}\")"
   ]
  },
  {
   "cell_type": "code",
   "execution_count": 3,
   "metadata": {},
   "outputs": [
    {
     "data": {
      "text/plain": [
       "<torch._C.Generator at 0x7fa8a406c190>"
      ]
     },
     "execution_count": 3,
     "metadata": {},
     "output_type": "execute_result"
    }
   ],
   "source": [
    "np.random.seed(RANDOM_SEED)\n",
    "torch.manual_seed(RANDOM_SEED)"
   ]
  },
  {
   "cell_type": "markdown",
   "metadata": {},
   "source": [
    "## Load Data\n",
    "\n",
    "Extracted features, scores, metadata, etc."
   ]
  },
  {
   "cell_type": "code",
   "execution_count": 4,
   "metadata": {},
   "outputs": [],
   "source": [
    "data = pd.read_csv(\"training_set/scores.csv\").set_index(\"video_id\")"
   ]
  },
  {
   "cell_type": "code",
   "execution_count": 5,
   "metadata": {},
   "outputs": [
    {
     "data": {
      "text/html": [
       "<video src=\"https://mtc.cdn.vine.co/r/videos/2F3C4AC3441177607211065782272_315002b18b6.1.5.17458932009632344785.mp4\" controls  >\n",
       "      Your browser does not support the <code>video</code> element.\n",
       "    </video>"
      ],
      "text/plain": [
       "<IPython.core.display.Video object>"
      ]
     },
     "execution_count": 5,
     "metadata": {},
     "output_type": "execute_result"
    }
   ],
   "source": [
    "Video(data.iloc[22][\"video_url\"])"
   ]
  },
  {
   "cell_type": "code",
   "execution_count": 6,
   "metadata": {},
   "outputs": [],
   "source": [
    "def load_C3D_features(video_ids, path =\"training_set/Features/C3D/\"):\n",
    "    features = []\n",
    "    for video_id in video_ids:\n",
    "        filename = f\"{path}{f'{video_id}'.zfill(5)}.mp4.csv\"\n",
    "        features.append(np.loadtxt(filename, delimiter=\",\"))\n",
    "    return features"
   ]
  },
  {
   "cell_type": "code",
   "execution_count": 7,
   "metadata": {},
   "outputs": [],
   "source": [
    "data[\"c3d\"] = load_C3D_features(data.index)"
   ]
  },
  {
   "cell_type": "markdown",
   "metadata": {},
   "source": [
    "## Target Prep\n",
    "\n",
    "Khosla points out that the memorability score used in Isola's paper did not take into account the memory retention duration.\n",
    "Cohendet utilized the same idea as Khosla, which involved a decay rate\n",
    "\n",
    "$$\\alpha \\leftarrow \n",
    "\\frac{\\sum^N_{i=1}\\frac{1}{n^{(i)}} \\sum^{n^{(i)}}_{j=1} \\log(\\frac{t^{(i)}_j}{T})[x^{(i)}_j - m^{(i)}_T] }\n",
    "{\\sum^N_{i=1}\\frac{1}{n^{(i)}} \\sum^{n^{(i)}}_{j=1}[ \\log(\\frac{t^{(i)}_j}{T})]^2}\n",
    "$$\n",
    "\n",
    "to calculate memorability \n",
    "$$\n",
    "m_T^{(i)} \\leftarrow\n",
    "\\frac{1}{n^{(i)}} \\sum^{n^{(i)}}_{j=1}[x^{(i)}_j - \\alpha \\log(\\frac{t_j^{(i)}}{T})]\n",
    "$$\n",
    "\n",
    "where we have $n^{(i)}$ observations for image $i$ given by $x^{(i)} \\in {0,1}$ and $t^{(i)}_j$ where $x_j=1$  implies that the image repeat was correctly detected when it shown after time $t_j$\n",
    "\n",
    "IDEA: potentially explore calculating $\\alpha$ per user"
   ]
  },
  {
   "cell_type": "code",
   "execution_count": 8,
   "metadata": {},
   "outputs": [],
   "source": [
    "st_annotations = pd.read_csv(\"training_set/short_term_annotations.csv\")"
   ]
  },
  {
   "cell_type": "code",
   "execution_count": 9,
   "metadata": {},
   "outputs": [
    {
     "data": {
      "text/html": [
       "<div>\n",
       "<style scoped>\n",
       "    .dataframe tbody tr th:only-of-type {\n",
       "        vertical-align: middle;\n",
       "    }\n",
       "\n",
       "    .dataframe tbody tr th {\n",
       "        vertical-align: top;\n",
       "    }\n",
       "\n",
       "    .dataframe thead th {\n",
       "        text-align: right;\n",
       "    }\n",
       "</style>\n",
       "<table border=\"1\" class=\"dataframe\">\n",
       "  <thead>\n",
       "    <tr style=\"text-align: right;\">\n",
       "      <th></th>\n",
       "      <th>video_id</th>\n",
       "      <th>video_url</th>\n",
       "      <th>user_id</th>\n",
       "      <th>rt</th>\n",
       "      <th>key_press</th>\n",
       "      <th>video_position_first</th>\n",
       "      <th>video_position_second</th>\n",
       "      <th>correct</th>\n",
       "      <th>t</th>\n",
       "    </tr>\n",
       "  </thead>\n",
       "  <tbody>\n",
       "    <tr>\n",
       "      <th>0</th>\n",
       "      <td>8</td>\n",
       "      <td>https://mtc.cdn.vine.co/r/videos_h264high/9EB0...</td>\n",
       "      <td>129</td>\n",
       "      <td>1958</td>\n",
       "      <td>32</td>\n",
       "      <td>59</td>\n",
       "      <td>147</td>\n",
       "      <td>1</td>\n",
       "      <td>88</td>\n",
       "    </tr>\n",
       "    <tr>\n",
       "      <th>1</th>\n",
       "      <td>8</td>\n",
       "      <td>https://mtc.cdn.vine.co/r/videos_h264high/9EB0...</td>\n",
       "      <td>212</td>\n",
       "      <td>1077</td>\n",
       "      <td>32</td>\n",
       "      <td>32</td>\n",
       "      <td>101</td>\n",
       "      <td>1</td>\n",
       "      <td>69</td>\n",
       "    </tr>\n",
       "    <tr>\n",
       "      <th>2</th>\n",
       "      <td>8</td>\n",
       "      <td>https://mtc.cdn.vine.co/r/videos_h264high/9EB0...</td>\n",
       "      <td>335</td>\n",
       "      <td>1067</td>\n",
       "      <td>32</td>\n",
       "      <td>70</td>\n",
       "      <td>120</td>\n",
       "      <td>1</td>\n",
       "      <td>50</td>\n",
       "    </tr>\n",
       "    <tr>\n",
       "      <th>3</th>\n",
       "      <td>8</td>\n",
       "      <td>https://mtc.cdn.vine.co/r/videos_h264high/9EB0...</td>\n",
       "      <td>439</td>\n",
       "      <td>2265</td>\n",
       "      <td>32</td>\n",
       "      <td>55</td>\n",
       "      <td>106</td>\n",
       "      <td>1</td>\n",
       "      <td>51</td>\n",
       "    </tr>\n",
       "    <tr>\n",
       "      <th>4</th>\n",
       "      <td>8</td>\n",
       "      <td>https://mtc.cdn.vine.co/r/videos_h264high/9EB0...</td>\n",
       "      <td>505</td>\n",
       "      <td>1520</td>\n",
       "      <td>32</td>\n",
       "      <td>67</td>\n",
       "      <td>135</td>\n",
       "      <td>1</td>\n",
       "      <td>68</td>\n",
       "    </tr>\n",
       "  </tbody>\n",
       "</table>\n",
       "</div>"
      ],
      "text/plain": [
       "   video_id                                          video_url  user_id    rt  \\\n",
       "0         8  https://mtc.cdn.vine.co/r/videos_h264high/9EB0...      129  1958   \n",
       "1         8  https://mtc.cdn.vine.co/r/videos_h264high/9EB0...      212  1077   \n",
       "2         8  https://mtc.cdn.vine.co/r/videos_h264high/9EB0...      335  1067   \n",
       "3         8  https://mtc.cdn.vine.co/r/videos_h264high/9EB0...      439  2265   \n",
       "4         8  https://mtc.cdn.vine.co/r/videos_h264high/9EB0...      505  1520   \n",
       "\n",
       "   key_press  video_position_first  video_position_second  correct   t  \n",
       "0         32                    59                    147        1  88  \n",
       "1         32                    32                    101        1  69  \n",
       "2         32                    70                    120        1  50  \n",
       "3         32                    55                    106        1  51  \n",
       "4         32                    67                    135        1  68  "
      ]
     },
     "execution_count": 9,
     "metadata": {},
     "output_type": "execute_result"
    }
   ],
   "source": [
    "st_annotations[\"t\"] = st_annotations[\"video_position_second\"] - st_annotations[\"video_position_first\"]\n",
    "st_annotations.head()"
   ]
  },
  {
   "cell_type": "code",
   "execution_count": 10,
   "metadata": {},
   "outputs": [
    {
     "name": "stdout",
     "output_type": "stream",
     "text": [
      "Average t: 74.81127450980392\n"
     ]
    }
   ],
   "source": [
    "print(\"Average t:\", np.mean(st_annotations[\"t\"]))"
   ]
  },
  {
   "cell_type": "code",
   "execution_count": 11,
   "metadata": {},
   "outputs": [],
   "source": [
    "# We use approximately the average_t to calculate T as the memorability in question\n",
    "big_t = 75"
   ]
  },
  {
   "cell_type": "code",
   "execution_count": 12,
   "metadata": {},
   "outputs": [],
   "source": [
    "def calculate_alpha(annotations, m_T, T = 75):\n",
    "    numerator = 0\n",
    "    denominator = 0\n",
    "    for video_id, video in annotations.groupby(\"video_id\"):\n",
    "        t = video[\"t\"].to_numpy()\n",
    "        x = video[\"correct\"].to_numpy()\n",
    "        n = len(video)\n",
    "        m = m_T[video_id]\n",
    "        for j in range(n):\n",
    "            numerator += (np.log(t[j] / T) * (x[j] - m)) / n\n",
    "            denominator += (np.log(t[j] / T) ** 2) / n\n",
    "\n",
    "    return numerator / denominator"
   ]
  },
  {
   "cell_type": "code",
   "execution_count": 13,
   "metadata": {},
   "outputs": [],
   "source": [
    "def calculate_memorability(annotations, alpha, T = 75):\n",
    "    m_T = {}\n",
    "    for video_id, video in annotations.groupby(\"video_id\"):\n",
    "        t = video[\"t\"].to_numpy()\n",
    "        x = video[\"correct\"].to_numpy()\n",
    "        n = len(video)\n",
    "        m = 0\n",
    "        for j in range(n):\n",
    "            m += x[j] - (alpha * np.log(t[j] / T))\n",
    "        m_T[video_id] = m / n\n",
    "    return m_T"
   ]
  },
  {
   "cell_type": "code",
   "execution_count": 14,
   "metadata": {},
   "outputs": [
    {
     "name": "stdout",
     "output_type": "stream",
     "text": [
      "-0.00027284180298008494\n"
     ]
    }
   ],
   "source": [
    "num_iterations = 10\n",
    "\n",
    "m_T = {video_id: 1 for video_id in st_annotations[\"video_id\"]}\n",
    "for iteration in range(num_iterations):\n",
    "    alpha = calculate_alpha(st_annotations, m_T, T = big_t)\n",
    "    m_T = calculate_memorability(st_annotations, alpha, T = big_t)\n",
    "print(alpha)"
   ]
  },
  {
   "cell_type": "code",
   "execution_count": 15,
   "metadata": {},
   "outputs": [],
   "source": [
    "data[f\"m_{big_t}\"] = pd.Series(m_T)"
   ]
  },
  {
   "cell_type": "code",
   "execution_count": 16,
   "metadata": {},
   "outputs": [
    {
     "data": {
      "image/png": "[encoded data removed]",
      "text/plain": [
       "<Figure size 432x288 with 1 Axes>"
      ]
     },
     "metadata": {
      "needs_background": "light"
     },
     "output_type": "display_data"
    }
   ],
   "source": [
    "plt.scatter(data[\"part_1_scores\"], data[f\"m_{big_t}\"])\n",
    "plt.show()"
   ]
  },
  {
   "cell_type": "markdown",
   "metadata": {},
   "source": [
    "## Data Prep\n",
    "\n",
    "Building datasets\n",
    "\n",
    "potentially weighting samples based on annotations?\n",
    "\n"
   ]
  },
  {
   "cell_type": "code",
   "execution_count": 17,
   "metadata": {},
   "outputs": [
    {
     "data": {
      "text/html": [
       "<div>\n",
       "<style scoped>\n",
       "    .dataframe tbody tr th:only-of-type {\n",
       "        vertical-align: middle;\n",
       "    }\n",
       "\n",
       "    .dataframe tbody tr th {\n",
       "        vertical-align: top;\n",
       "    }\n",
       "\n",
       "    .dataframe thead th {\n",
       "        text-align: right;\n",
       "    }\n",
       "</style>\n",
       "<table border=\"1\" class=\"dataframe\">\n",
       "  <thead>\n",
       "    <tr style=\"text-align: right;\">\n",
       "      <th></th>\n",
       "      <th>video_url</th>\n",
       "      <th>ann_1</th>\n",
       "      <th>ann_2</th>\n",
       "      <th>part_1_scores</th>\n",
       "      <th>part_2_scores</th>\n",
       "      <th>c3d</th>\n",
       "      <th>m_75</th>\n",
       "    </tr>\n",
       "    <tr>\n",
       "      <th>video_id</th>\n",
       "      <th></th>\n",
       "      <th></th>\n",
       "      <th></th>\n",
       "      <th></th>\n",
       "      <th></th>\n",
       "      <th></th>\n",
       "      <th></th>\n",
       "    </tr>\n",
       "  </thead>\n",
       "  <tbody>\n",
       "    <tr>\n",
       "      <th>8</th>\n",
       "      <td>https://mtc.cdn.vine.co/r/videos_h264high/9EB0...</td>\n",
       "      <td>5</td>\n",
       "      <td>3</td>\n",
       "      <td>1.00</td>\n",
       "      <td>1.00</td>\n",
       "      <td>[0.0, 0.0, 0.0, 0.0, 0.1541, 0.3501, 0.1796, 0...</td>\n",
       "      <td>0.999956</td>\n",
       "    </tr>\n",
       "    <tr>\n",
       "      <th>26</th>\n",
       "      <td>https://mtc.cdn.vine.co/r/videos_h264high/A8B3...</td>\n",
       "      <td>6</td>\n",
       "      <td>4</td>\n",
       "      <td>1.00</td>\n",
       "      <td>0.75</td>\n",
       "      <td>[0.6788, 0.2429, 0.0, 0.0, 0.8737, 0.0, 0.0, 0...</td>\n",
       "      <td>1.000011</td>\n",
       "    </tr>\n",
       "    <tr>\n",
       "      <th>33</th>\n",
       "      <td>https://mtc.cdn.vine.co/r/videos/267829AEFA128...</td>\n",
       "      <td>7</td>\n",
       "      <td>4</td>\n",
       "      <td>0.71</td>\n",
       "      <td>0.75</td>\n",
       "      <td>[0.511, 0.0, 0.0, 0.0, 0.0, 0.0, 0.0, 0.0, 0.0...</td>\n",
       "      <td>0.714208</td>\n",
       "    </tr>\n",
       "    <tr>\n",
       "      <th>46</th>\n",
       "      <td>https://mtc.cdn.vine.co/r/videos_h264high/B974...</td>\n",
       "      <td>6</td>\n",
       "      <td>4</td>\n",
       "      <td>1.00</td>\n",
       "      <td>0.25</td>\n",
       "      <td>[0.0, 0.0, 0.0, 0.0, 0.0, 0.0, 0.0, 0.0, 0.363...</td>\n",
       "      <td>0.999949</td>\n",
       "    </tr>\n",
       "    <tr>\n",
       "      <th>64</th>\n",
       "      <td>https://mtc.cdn.vine.co/r/videos_h264high/C4D6...</td>\n",
       "      <td>6</td>\n",
       "      <td>7</td>\n",
       "      <td>0.83</td>\n",
       "      <td>0.43</td>\n",
       "      <td>[0.4755, 0.0, 0.0153, 0.0, 0.0, 0.1077, 0.0, 0...</td>\n",
       "      <td>0.833345</td>\n",
       "    </tr>\n",
       "  </tbody>\n",
       "</table>\n",
       "</div>"
      ],
      "text/plain": [
       "                                                  video_url  ann_1  ann_2  \\\n",
       "video_id                                                                    \n",
       "8         https://mtc.cdn.vine.co/r/videos_h264high/9EB0...      5      3   \n",
       "26        https://mtc.cdn.vine.co/r/videos_h264high/A8B3...      6      4   \n",
       "33        https://mtc.cdn.vine.co/r/videos/267829AEFA128...      7      4   \n",
       "46        https://mtc.cdn.vine.co/r/videos_h264high/B974...      6      4   \n",
       "64        https://mtc.cdn.vine.co/r/videos_h264high/C4D6...      6      7   \n",
       "\n",
       "          part_1_scores  part_2_scores  \\\n",
       "video_id                                 \n",
       "8                  1.00           1.00   \n",
       "26                 1.00           0.75   \n",
       "33                 0.71           0.75   \n",
       "46                 1.00           0.25   \n",
       "64                 0.83           0.43   \n",
       "\n",
       "                                                        c3d      m_75  \n",
       "video_id                                                               \n",
       "8         [0.0, 0.0, 0.0, 0.0, 0.1541, 0.3501, 0.1796, 0...  0.999956  \n",
       "26        [0.6788, 0.2429, 0.0, 0.0, 0.8737, 0.0, 0.0, 0...  1.000011  \n",
       "33        [0.511, 0.0, 0.0, 0.0, 0.0, 0.0, 0.0, 0.0, 0.0...  0.714208  \n",
       "46        [0.0, 0.0, 0.0, 0.0, 0.0, 0.0, 0.0, 0.0, 0.363...  0.999949  \n",
       "64        [0.4755, 0.0, 0.0153, 0.0, 0.0, 0.1077, 0.0, 0...  0.833345  "
      ]
     },
     "execution_count": 17,
     "metadata": {},
     "output_type": "execute_result"
    }
   ],
   "source": [
    "data.head()"
   ]
  },
  {
   "cell_type": "code",
   "execution_count": 18,
   "metadata": {},
   "outputs": [
    {
     "data": {
      "text/plain": [
       "-0.005042831159032035"
      ]
     },
     "execution_count": 18,
     "metadata": {},
     "output_type": "execute_result"
    }
   ],
   "source": [
    "np.min(data[\"m_75\"] - data[\"part_1_scores\"])"
   ]
  },
  {
   "cell_type": "code",
   "execution_count": 19,
   "metadata": {},
   "outputs": [],
   "source": [
    "def split_training(data: pd.DataFrame, shuffle=True, split=0.8):\n",
    "    ids = np.random.permutation(list(data.index)) if shuffle else list(data.index)\n",
    "    split_index = int(len(ids) * split)\n",
    "    return data.loc[ids[:split_index]], data.loc[ids[split_index:]]"
   ]
  },
  {
   "cell_type": "code",
   "execution_count": 20,
   "metadata": {},
   "outputs": [
    {
     "name": "stdout",
     "output_type": "stream",
     "text": [
      "training: 472\n",
      "validation: 118\n"
     ]
    }
   ],
   "source": [
    "train, valid = split_training(data)\n",
    "print(\"training:\",len(train))\n",
    "print(\"validation:\", len(valid))"
   ]
  },
  {
   "cell_type": "code",
   "execution_count": 21,
   "metadata": {},
   "outputs": [],
   "source": [
    "def build_matrixes(data: pd.DataFrame, targets, features, dtype=\"double\"):\n",
    "    feature_matrix = [np.concatenate(list(row_features), axis=None) \n",
    "                      for row_features in zip(*[list(data[feature]) for feature in features])]\n",
    "    target_matrix = list(data[target])\n",
    "    return np.array(feature_matrix, dtype=dtype), np.array(target_matrix, dtype=dtype).reshape((len(target_matrix),1))"
   ]
  },
  {
   "cell_type": "code",
   "execution_count": 22,
   "metadata": {},
   "outputs": [
    {
     "name": "stdout",
     "output_type": "stream",
     "text": [
      "features_train shape: (472, 4096)\n",
      "targets_train shape: (472, 1)\n",
      "features_valid shape: (118, 4096)\n",
      "features_valid shape: (118, 1)\n"
     ]
    }
   ],
   "source": [
    "target = \"m_75\"\n",
    "features = [\"c3d\"]\n",
    "\n",
    "features_train, targets_train = build_matrixes(train, targets = target, features = features)\n",
    "features_valid, targets_valid = build_matrixes(valid, targets = target, features = features)\n",
    "\n",
    "print(\"features_train shape:\", features_train.shape)\n",
    "print(\"targets_train shape:\", targets_train.shape)\n",
    "print(\"features_valid shape:\", features_valid.shape)\n",
    "print(\"features_valid shape:\", targets_valid.shape)"
   ]
  },
  {
   "cell_type": "code",
   "execution_count": 23,
   "metadata": {},
   "outputs": [],
   "source": [
    "class FlatDataset(torch.utils.data.Dataset):\n",
    "    def __init__(self, features, targets):\n",
    "        self.features = features\n",
    "        self.targets = targets\n",
    "        \n",
    "    def __len__(self):\n",
    "        return len(self.features)\n",
    "    \n",
    "    def __getitem__(self, idx):\n",
    "        return self.features[idx], self.targets[idx]"
   ]
  },
  {
   "cell_type": "code",
   "execution_count": 24,
   "metadata": {},
   "outputs": [
    {
     "name": "stdout",
     "output_type": "stream",
     "text": [
      "472 118\n"
     ]
    }
   ],
   "source": [
    "data_train = FlatDataset(features_train, targets_train)\n",
    "data_valid = FlatDataset(features_valid, targets_valid)\n",
    "print(len(data_train), len(data_valid))"
   ]
  },
  {
   "cell_type": "markdown",
   "metadata": {},
   "source": [
    "## Model setup"
   ]
  },
  {
   "cell_type": "code",
   "execution_count": 25,
   "metadata": {},
   "outputs": [
    {
     "name": "stdout",
     "output_type": "stream",
     "text": [
      "input dimensions: 4096\n",
      "output dimension: 1\n"
     ]
    }
   ],
   "source": [
    "input_dim = len(features_train[0])\n",
    "output_dim = 1 if len(targets_train.shape) == 1 else len(targets_train[0])\n",
    "print(\"input dimensions:\", input_dim)\n",
    "print(\"output dimension:\", output_dim)"
   ]
  },
  {
   "cell_type": "code",
   "execution_count": 26,
   "metadata": {},
   "outputs": [],
   "source": [
    "class TwoLayerNet(torch.nn.Module):\n",
    "    def __init__(self, input_dim, output_dim, hidden_dim = 100):\n",
    "        super(TwoLayerNet, self).__init__()\n",
    "        self.linear1 = torch.nn.Linear(input_dim, hidden_dim)\n",
    "        self.tanh = torch.nn.Tanh()\n",
    "        self.linear2 = torch.nn.Linear(hidden_dim, output_dim)\n",
    "        \n",
    "    def forward(self, x):\n",
    "        x = self.linear1(x)\n",
    "        x = self.tanh(x)\n",
    "        x = self.linear2(x)\n",
    "        return x\n",
    "        "
   ]
  },
  {
   "cell_type": "code",
   "execution_count": 27,
   "metadata": {},
   "outputs": [
    {
     "data": {
      "text/plain": [
       "TwoLayerNet(\n",
       "  (linear1): Linear(in_features=4096, out_features=100, bias=True)\n",
       "  (tanh): Tanh()\n",
       "  (linear2): Linear(in_features=100, out_features=1, bias=True)\n",
       ")"
      ]
     },
     "execution_count": 27,
     "metadata": {},
     "output_type": "execute_result"
    }
   ],
   "source": [
    "model = TwoLayerNet(input_dim, output_dim)\n",
    "model"
   ]
  },
  {
   "cell_type": "markdown",
   "metadata": {},
   "source": [
    "## Training setup"
   ]
  },
  {
   "cell_type": "code",
   "execution_count": 28,
   "metadata": {},
   "outputs": [],
   "source": [
    "device = torch.device(\"cuda\") if CUDA else torch.device(\"cpu\")\n",
    "model = model.double().to(device)"
   ]
  },
  {
   "cell_type": "code",
   "execution_count": 29,
   "metadata": {},
   "outputs": [],
   "source": [
    "num_epochs = NUM_EPOCHS"
   ]
  },
  {
   "cell_type": "code",
   "execution_count": 30,
   "metadata": {},
   "outputs": [],
   "source": [
    "batch_size = BATCH_SIZE"
   ]
  },
  {
   "cell_type": "code",
   "execution_count": 31,
   "metadata": {},
   "outputs": [],
   "source": [
    "learning_rate = LEARNING_RATE"
   ]
  },
  {
   "cell_type": "code",
   "execution_count": 32,
   "metadata": {},
   "outputs": [],
   "source": [
    "loss_fn = torch.nn.MSELoss()"
   ]
  },
  {
   "cell_type": "code",
   "execution_count": 33,
   "metadata": {},
   "outputs": [],
   "source": [
    "optimizer = torch.optim.Adam(model.parameters(), lr = learning_rate)"
   ]
  },
  {
   "cell_type": "code",
   "execution_count": 34,
   "metadata": {},
   "outputs": [],
   "source": [
    "scheduler = torch.optim.lr_scheduler.StepLR(optimizer, step_size=3, gamma = 0.5)"
   ]
  },
  {
   "cell_type": "code",
   "execution_count": 35,
   "metadata": {},
   "outputs": [],
   "source": [
    "dataloader_train = torch.utils.data.DataLoader(data_train, batch_size=batch_size, shuffle=True)\n",
    "dataloader_valid = torch.utils.data.DataLoader(data_valid, batch_size=1)"
   ]
  },
  {
   "cell_type": "markdown",
   "metadata": {},
   "source": [
    "## Train model"
   ]
  },
  {
   "cell_type": "code",
   "execution_count": 36,
   "metadata": {},
   "outputs": [],
   "source": [
    "def train(model, dataloader_train, dataloader_valid, loss_fn, optimizer, scheduler, device):\n",
    "    \n",
    "    for is_training in [True, False]: # Epoch is a training followed by validation \n",
    "        \n",
    "        model.train() if is_training else model.eval()\n",
    "        \n",
    "        running_loss = 0\n",
    "        for features, targets in (dataloader_train if is_training else dataloader_valid):\n",
    "            features = features.to(device)\n",
    "            targets = targets.to(device)\n",
    "            optimizer.zero_grad()\n",
    "            with torch.set_grad_enabled(is_training):\n",
    "                outputs = model(features)\n",
    "                loss = loss_fn(outputs, targets)\n",
    "                if is_training:\n",
    "                    loss.backward()\n",
    "                    optimizer.step()               \n",
    "            running_loss += loss.item()\n",
    "        \n",
    "        if is_training:\n",
    "            scheduler.step()\n",
    "        \n",
    "        if is_training:\n",
    "            train_loss = running_loss / len(dataloader_train.dataset)\n",
    "        else:\n",
    "            valid_loss = running_loss / len(dataloader_valid.dataset)\n",
    "    \n",
    "    return train_loss, valid_loss"
   ]
  },
  {
   "cell_type": "code",
   "execution_count": 37,
   "metadata": {},
   "outputs": [
    {
     "name": "stdout",
     "output_type": "stream",
     "text": [
      "--------------- Epoch 0 ----------------\n",
      "New Best Validiation Loss!!! 1.396046364529529\n",
      "Training Loss: 0.024960063724014898\n",
      "Validation Loss: 1.396046364529529\n",
      "--------------- Epoch 1 ----------------\n",
      "New Best Validiation Loss!!! 0.12950837790190795\n",
      "Training Loss: 0.010428656212696214\n",
      "Validation Loss: 0.12950837790190795\n",
      "--------------- Epoch 2 ----------------\n",
      "Training Loss: 0.002876708570364191\n",
      "Validation Loss: 0.3573786912400251\n",
      "--------------- Epoch 3 ----------------\n",
      "New Best Validiation Loss!!! 0.08564403141345557\n",
      "Training Loss: 0.002052671127994823\n",
      "Validation Loss: 0.08564403141345557\n",
      "--------------- Epoch 4 ----------------\n",
      "New Best Validiation Loss!!! 0.02142584928000933\n",
      "Training Loss: 0.00036043141844714193\n",
      "Validation Loss: 0.02142584928000933\n",
      "--------------- Epoch 5 ----------------\n",
      "Training Loss: 0.000258540003152863\n",
      "Validation Loss: 0.05027600829675583\n",
      "--------------- Epoch 6 ----------------\n",
      "Training Loss: 0.00045401714405019205\n",
      "Validation Loss: 0.053759412688382635\n",
      "--------------- Epoch 7 ----------------\n",
      "Training Loss: 0.0004428231414690638\n",
      "Validation Loss: 0.04438667636354485\n",
      "--------------- Epoch 8 ----------------\n",
      "Training Loss: 0.00033881167809231283\n",
      "Validation Loss: 0.03159149287207248\n",
      "\n",
      "\n",
      "FINISHED TRAINING\n",
      "Best validation lost: 0.02142584928000933\n"
     ]
    }
   ],
   "source": [
    "best_valid_loss = 9999999\n",
    "best_model_state_dict = copy.deepcopy(model.state_dict())\n",
    "\n",
    "for epoch in range(num_epochs):\n",
    "    print(f\"--------------- Epoch {epoch} ----------------\")\n",
    "    train_loss, val_loss = train(model = model,\n",
    "                                 dataloader_train = dataloader_train,\n",
    "                                 dataloader_valid = dataloader_valid,\n",
    "                                 loss_fn = loss_fn,\n",
    "                                 optimizer = optimizer,\n",
    "                                 scheduler = scheduler,\n",
    "                                 device = device)\n",
    "    \n",
    "    if val_loss < best_valid_loss:\n",
    "        best_valid_loss = val_loss\n",
    "        best_model_state_dict = copy.deepcopy(model.state_dict())\n",
    "        print(\"New Best Validiation Loss!!!\", val_loss)\n",
    "    \n",
    "    print(\"Training Loss:\", train_loss)\n",
    "    print(\"Validation Loss:\", val_loss)\n",
    "print(\"\\n\\nFINISHED TRAINING\")\n",
    "print(f\"Best validation lost: {best_valid_loss}\")"
   ]
  },
  {
   "cell_type": "code",
   "execution_count": 38,
   "metadata": {},
   "outputs": [
    {
     "data": {
      "text/plain": [
       "<All keys matched successfully>"
      ]
     },
     "execution_count": 38,
     "metadata": {},
     "output_type": "execute_result"
    }
   ],
   "source": [
    "best_model = model\n",
    "best_model = best_model.eval()\n",
    "best_model.load_state_dict(best_model_state_dict)"
   ]
  },
  {
   "cell_type": "markdown",
   "metadata": {},
   "source": [
    "## Test\n",
    "\n",
    "Spearman's rank correlation, ROC curves, etc"
   ]
  },
  {
   "cell_type": "code",
   "execution_count": 39,
   "metadata": {},
   "outputs": [],
   "source": [
    "predictions = []\n",
    "actuals = []\n",
    "for feature, actual in dataloader_valid:\n",
    "    with torch.set_grad_enabled(False):\n",
    "        feature = feature.to(device)\n",
    "        output = best_model(feature)\n",
    "        predictions.append(output.cpu().numpy()[0][0])\n",
    "        actuals.append(actual.cpu().numpy()[0][0])"
   ]
  },
  {
   "cell_type": "code",
   "execution_count": 40,
   "metadata": {},
   "outputs": [
    {
     "name": "stdout",
     "output_type": "stream",
     "text": [
      "0.1797793432888149\n"
     ]
    }
   ],
   "source": [
    "spearman_rank, _ = stats.spearmanr(actuals, predictions)\n",
    "print(spearman_rank)"
   ]
  },
  {
   "cell_type": "code",
   "execution_count": 41,
   "metadata": {},
   "outputs": [
    {
     "data": {
      "image/png": "[encoded data removed]",
      "text/plain": [
       "<Figure size 576x576 with 1 Axes>"
      ]
     },
     "metadata": {
      "needs_background": "light"
     },
     "output_type": "display_data"
    }
   ],
   "source": [
    "fig, ax = plt.subplots(1, figsize=(8,8))\n",
    "plt.scatter(actuals, predictions, label = f\"Spearman rank correlation = {spearman_rank}\")\n",
    "plt.title(f\"actual {target} vs predicted {target}\")\n",
    "plt.legend()\n",
    "plt.ylabel(\"predictions\")\n",
    "plt.xlabel(\"actual\")\n",
    "plt.show()"
   ]
  },
  {
   "cell_type": "markdown",
   "metadata": {},
   "source": [
    "# Saving model to file"
   ]
  },
  {
   "cell_type": "code",
   "execution_count": 42,
   "metadata": {},
   "outputs": [],
   "source": [
    "modelname = \"c3d\""
   ]
  },
  {
   "cell_type": "code",
   "execution_count": 43,
   "metadata": {},
   "outputs": [],
   "source": [
    "if not os.path.exists(f\"saved_models/{modelname}\"):\n",
    "    os.mkdir(f\"saved_models/{modelname}\")\n",
    "\n",
    "if not np.sum([spearman_rank < float(f\"0.{s.split('.')[0]}\") for s in os.listdir(f\"saved_models/{modelname}\")]):\n",
    "    filename = f\"saved_models/{modelname}/{str(spearman_rank)[2:6]}.state_dict\"\n",
    "    torch.save(best_model.state_dict(), filename)\n",
    "    print(f\"Model saved as {filename}\")"
   ]
  },
  {
   "cell_type": "code",
   "execution_count": null,
   "metadata": {},
   "outputs": [],
   "source": []
  }
 ],
 "metadata": {
  "kernelspec": {
   "display_name": "video-mem",
   "language": "python",
   "name": "video-mem"
  },
  "language_info": {
   "codemirror_mode": {
    "name": "ipython",
    "version": 3
   },
   "file_extension": ".py",
   "mimetype": "text/x-python",
   "name": "python",
   "nbconvert_exporter": "python",
   "pygments_lexer": "ipython3",
   "version": "3.8.5"
  }
 },
 "nbformat": 4,
 "nbformat_minor": 4
}
