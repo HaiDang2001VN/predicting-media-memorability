{
 "cells": [
  {
   "cell_type": "markdown",
   "metadata": {},
   "source": [
    "# Training workflow"
   ]
  },
  {
   "cell_type": "code",
   "execution_count": 1,
   "metadata": {},
   "outputs": [],
   "source": [
    "import torch\n",
    "import pandas as pd\n",
    "import numpy as np\n",
    "import matplotlib.pyplot as plt\n",
    "from scipy import stats\n",
    "import sklearn\n",
    "import os\n",
    "import copy\n",
    "\n",
    "from IPython.display import Video"
   ]
  },
  {
   "cell_type": "markdown",
   "metadata": {},
   "source": [
    "## Constants"
   ]
  },
  {
   "cell_type": "code",
   "execution_count": 2,
   "metadata": {},
   "outputs": [
    {
     "name": "stdout",
     "output_type": "stream",
     "text": [
      "CUDA: True\n"
     ]
    }
   ],
   "source": [
    "CUDA = torch.cuda.is_available()\n",
    "RANDOM_SEED = 1\n",
    "BATCH_SIZE = 32\n",
    "LEARNING_RATE = 1e-3\n",
    "NUM_EPOCHS = 15\n",
    "\n",
    "print(f\"CUDA: {CUDA}\")"
   ]
  },
  {
   "cell_type": "code",
   "execution_count": 3,
   "metadata": {},
   "outputs": [
    {
     "data": {
      "text/plain": [
       "<torch._C.Generator at 0x7f62b40a91d0>"
      ]
     },
     "execution_count": 3,
     "metadata": {},
     "output_type": "execute_result"
    }
   ],
   "source": [
    "np.random.seed(RANDOM_SEED)\n",
    "torch.manual_seed(RANDOM_SEED)"
   ]
  },
  {
   "cell_type": "markdown",
   "metadata": {},
   "source": [
    "## Load Data\n",
    "\n",
    "Extracted features, scores, metadata, etc."
   ]
  },
  {
   "cell_type": "code",
   "execution_count": 4,
   "metadata": {},
   "outputs": [],
   "source": [
    "data = pd.read_csv(\"training_set/scores_v2.csv\").set_index(\"video_id\")"
   ]
  },
  {
   "cell_type": "code",
   "execution_count": 5,
   "metadata": {},
   "outputs": [
    {
     "data": {
      "text/html": [
       "<video src=\"https://mtc.cdn.vine.co/r/videos/36D3C8CB781207379586007056384_33c227b5327.3.1.6104189757715167980.mp4\" controls  >\n",
       "      Your browser does not support the <code>video</code> element.\n",
       "    </video>"
      ],
      "text/plain": [
       "<IPython.core.display.Video object>"
      ]
     },
     "execution_count": 5,
     "metadata": {},
     "output_type": "execute_result"
    }
   ],
   "source": [
    "Video(data.iloc[-1][\"video_url\"])"
   ]
  },
  {
   "cell_type": "code",
   "execution_count": 6,
   "metadata": {},
   "outputs": [],
   "source": [
    "def load_C3D_features(video_ids, path = \"training_set/Features/C3D\"):\n",
    "    features = []\n",
    "    for video_id in video_ids:\n",
    "        filename = f\"{path}/{f'{video_id}'.zfill(5)}.mp4.csv\"\n",
    "        features.append(np.loadtxt(filename, delimiter=\",\"))\n",
    "    return features"
   ]
  },
  {
   "cell_type": "code",
   "execution_count": 7,
   "metadata": {},
   "outputs": [],
   "source": [
    "def load_ResNet152_features(video_ids, path = \"training_set/Features/ResNet152\"):\n",
    "    features = {video_id : [] for video_id in video_ids}\n",
    "    for filename in os.listdir(path):\n",
    "        features[int(filename[:5])].append(np.loadtxt(f\"{path}/{filename}\"))\n",
    "    return [np.array(features[video_id])[0] for video_id in video_ids]"
   ]
  },
  {
   "cell_type": "code",
   "execution_count": 8,
   "metadata": {},
   "outputs": [],
   "source": [
    "def load_VGGish_features(video_ids, path = \"training_set/Features/VGGish\"):\n",
    "    features = {video_id: [] for video_id in video_ids}\n",
    "    for filename in os.listdir(path):\n",
    "        features[int(filename[:-4])].append(np.loadtxt(f\"{path}/{filename}\"))\n",
    "    return [np.array(features[video_id])[0] for video_id in video_ids]"
   ]
  },
  {
   "cell_type": "code",
   "execution_count": null,
   "metadata": {},
   "outputs": [],
   "source": [
    "data[\"c3d\"] = load_C3D_features(data.index)"
   ]
  },
  {
   "cell_type": "code",
   "execution_count": null,
   "metadata": {},
   "outputs": [],
   "source": [
    "data[\"resnet152\"] = load_ResNet152_features(data.index)"
   ]
  },
  {
   "cell_type": "code",
   "execution_count": 9,
   "metadata": {},
   "outputs": [],
   "source": [
    "data[\"vggish\"] = load_VGGish_features(data.index)"
   ]
  },
  {
   "cell_type": "markdown",
   "metadata": {},
   "source": [
    "## Target Prep\n",
    "\n",
    "Khosla points out that the memorability score used in Isola's paper did not take into account the memory retention duration.\n",
    "Cohendet utilized the same idea as Khosla, which involved a decay rate\n",
    "\n",
    "$$\\alpha \\leftarrow \n",
    "\\frac{\\sum^N_{i=1}\\frac{1}{n^{(i)}} \\sum^{n^{(i)}}_{j=1} \\log(\\frac{t^{(i)}_j}{T})[x^{(i)}_j - m^{(i)}_T] }\n",
    "{\\sum^N_{i=1}\\frac{1}{n^{(i)}} \\sum^{n^{(i)}}_{j=1}[ \\log(\\frac{t^{(i)}_j}{T})]^2}\n",
    "$$\n",
    "\n",
    "to calculate memorability \n",
    "$$\n",
    "m_T^{(i)} \\leftarrow\n",
    "\\frac{1}{n^{(i)}} \\sum^{n^{(i)}}_{j=1}[x^{(i)}_j - \\alpha \\log(\\frac{t_j^{(i)}}{T})]\n",
    "$$\n",
    "\n",
    "where we have $n^{(i)}$ observations for image $i$ given by $x^{(i)} \\in {0,1}$ and $t^{(i)}_j$ where $x_j=1$  implies that the image repeat was correctly detected when it shown after time $t_j$\n",
    "\n",
    "IDEA: potentially explore calculating $\\alpha$ per user"
   ]
  },
  {
   "cell_type": "code",
   "execution_count": 10,
   "metadata": {},
   "outputs": [],
   "source": [
    "st_annotations = pd.read_csv(\"training_set/short_term_annotations_v2.csv\")"
   ]
  },
  {
   "cell_type": "code",
   "execution_count": 11,
   "metadata": {},
   "outputs": [
    {
     "data": {
      "text/html": [
       "<div>\n",
       "<style scoped>\n",
       "    .dataframe tbody tr th:only-of-type {\n",
       "        vertical-align: middle;\n",
       "    }\n",
       "\n",
       "    .dataframe tbody tr th {\n",
       "        vertical-align: top;\n",
       "    }\n",
       "\n",
       "    .dataframe thead th {\n",
       "        text-align: right;\n",
       "    }\n",
       "</style>\n",
       "<table border=\"1\" class=\"dataframe\">\n",
       "  <thead>\n",
       "    <tr style=\"text-align: right;\">\n",
       "      <th></th>\n",
       "      <th>video_id</th>\n",
       "      <th>url_name</th>\n",
       "      <th>user_id</th>\n",
       "      <th>rt</th>\n",
       "      <th>key_press</th>\n",
       "      <th>video_position_first</th>\n",
       "      <th>video_position_second</th>\n",
       "      <th>correct</th>\n",
       "      <th>t</th>\n",
       "    </tr>\n",
       "  </thead>\n",
       "  <tbody>\n",
       "    <tr>\n",
       "      <th>0</th>\n",
       "      <td>8</td>\n",
       "      <td>https://mtc.cdn.vine.co/r/videos_h264high/9EB0...</td>\n",
       "      <td>940</td>\n",
       "      <td>905</td>\n",
       "      <td>32</td>\n",
       "      <td>55</td>\n",
       "      <td>140</td>\n",
       "      <td>1</td>\n",
       "      <td>85</td>\n",
       "    </tr>\n",
       "    <tr>\n",
       "      <th>1</th>\n",
       "      <td>8</td>\n",
       "      <td>https://mtc.cdn.vine.co/r/videos_h264high/9EB0...</td>\n",
       "      <td>672</td>\n",
       "      <td>1278</td>\n",
       "      <td>32</td>\n",
       "      <td>18</td>\n",
       "      <td>85</td>\n",
       "      <td>1</td>\n",
       "      <td>67</td>\n",
       "    </tr>\n",
       "    <tr>\n",
       "      <th>2</th>\n",
       "      <td>8</td>\n",
       "      <td>https://mtc.cdn.vine.co/r/videos_h264high/9EB0...</td>\n",
       "      <td>732</td>\n",
       "      <td>2104</td>\n",
       "      <td>32</td>\n",
       "      <td>76</td>\n",
       "      <td>130</td>\n",
       "      <td>1</td>\n",
       "      <td>54</td>\n",
       "    </tr>\n",
       "    <tr>\n",
       "      <th>3</th>\n",
       "      <td>8</td>\n",
       "      <td>https://mtc.cdn.vine.co/r/videos_h264high/9EB0...</td>\n",
       "      <td>722</td>\n",
       "      <td>1344</td>\n",
       "      <td>32</td>\n",
       "      <td>49</td>\n",
       "      <td>95</td>\n",
       "      <td>1</td>\n",
       "      <td>46</td>\n",
       "    </tr>\n",
       "    <tr>\n",
       "      <th>4</th>\n",
       "      <td>8</td>\n",
       "      <td>https://mtc.cdn.vine.co/r/videos_h264high/9EB0...</td>\n",
       "      <td>621</td>\n",
       "      <td>-1</td>\n",
       "      <td>-1</td>\n",
       "      <td>8</td>\n",
       "      <td>91</td>\n",
       "      <td>0</td>\n",
       "      <td>83</td>\n",
       "    </tr>\n",
       "  </tbody>\n",
       "</table>\n",
       "</div>"
      ],
      "text/plain": [
       "   video_id                                           url_name  user_id    rt  \\\n",
       "0         8  https://mtc.cdn.vine.co/r/videos_h264high/9EB0...      940   905   \n",
       "1         8  https://mtc.cdn.vine.co/r/videos_h264high/9EB0...      672  1278   \n",
       "2         8  https://mtc.cdn.vine.co/r/videos_h264high/9EB0...      732  2104   \n",
       "3         8  https://mtc.cdn.vine.co/r/videos_h264high/9EB0...      722  1344   \n",
       "4         8  https://mtc.cdn.vine.co/r/videos_h264high/9EB0...      621    -1   \n",
       "\n",
       "   key_press  video_position_first  video_position_second  correct   t  \n",
       "0         32                    55                    140        1  85  \n",
       "1         32                    18                     85        1  67  \n",
       "2         32                    76                    130        1  54  \n",
       "3         32                    49                     95        1  46  \n",
       "4         -1                     8                     91        0  83  "
      ]
     },
     "execution_count": 11,
     "metadata": {},
     "output_type": "execute_result"
    }
   ],
   "source": [
    "st_annotations[\"t\"] = st_annotations[\"video_position_second\"] - st_annotations[\"video_position_first\"]\n",
    "st_annotations.head()"
   ]
  },
  {
   "cell_type": "code",
   "execution_count": 12,
   "metadata": {},
   "outputs": [
    {
     "name": "stdout",
     "output_type": "stream",
     "text": [
      "Average t: 74.96191840735993\n"
     ]
    }
   ],
   "source": [
    "print(\"Average t:\", np.mean(st_annotations[\"t\"]))"
   ]
  },
  {
   "cell_type": "code",
   "execution_count": 13,
   "metadata": {},
   "outputs": [],
   "source": [
    "# We use approximately the average_t to calculate T as the memorability in question\n",
    "big_t = 75"
   ]
  },
  {
   "cell_type": "code",
   "execution_count": 14,
   "metadata": {},
   "outputs": [],
   "source": [
    "def calculate_alpha(annotations, m_T, T = 75):\n",
    "    numerator = 0\n",
    "    denominator = 0\n",
    "    for video_id, video in annotations.groupby(\"video_id\"):\n",
    "        t = video[\"t\"].to_numpy()\n",
    "        x = video[\"correct\"].to_numpy()\n",
    "        n = len(video)\n",
    "        m = m_T[video_id]\n",
    "        for j in range(n):\n",
    "            numerator += (np.log(t[j] / T) * (x[j] - m)) / n\n",
    "            denominator += (np.log(t[j] / T) ** 2) / n\n",
    "\n",
    "    return numerator / denominator"
   ]
  },
  {
   "cell_type": "code",
   "execution_count": 15,
   "metadata": {},
   "outputs": [],
   "source": [
    "def calculate_memorability(annotations, alpha, T = 75):\n",
    "    m_T = {}\n",
    "    for video_id, video in annotations.groupby(\"video_id\"):\n",
    "        t = video[\"t\"].to_numpy()\n",
    "        x = video[\"correct\"].to_numpy()\n",
    "        n = len(video)\n",
    "        m = 0\n",
    "        for j in range(n):\n",
    "            m += x[j] - (alpha * np.log(t[j] / T))\n",
    "        m_T[video_id] = m / n\n",
    "    return m_T"
   ]
  },
  {
   "cell_type": "code",
   "execution_count": 16,
   "metadata": {},
   "outputs": [
    {
     "name": "stdout",
     "output_type": "stream",
     "text": [
      "-0.026433626378523905\n"
     ]
    }
   ],
   "source": [
    "num_iterations = 10\n",
    "\n",
    "m_T = {video_id: 1 for video_id in st_annotations[\"video_id\"]}\n",
    "for iteration in range(num_iterations):\n",
    "    alpha = calculate_alpha(st_annotations, m_T, T = big_t)\n",
    "    m_T = calculate_memorability(st_annotations, alpha, T = big_t)\n",
    "print(alpha)"
   ]
  },
  {
   "cell_type": "code",
   "execution_count": 17,
   "metadata": {},
   "outputs": [],
   "source": [
    "data[f\"m_{big_t}\"] = pd.Series(m_T)"
   ]
  },
  {
   "cell_type": "code",
   "execution_count": 18,
   "metadata": {},
   "outputs": [
    {
     "data": {
      "image/png": "[encoded data removed]",
      "text/plain": [
       "<Figure size 432x288 with 1 Axes>"
      ]
     },
     "metadata": {
      "needs_background": "light"
     },
     "output_type": "display_data"
    }
   ],
   "source": [
    "plt.scatter(data[\"part_1_scores\"], data[f\"m_{big_t}\"])\n",
    "plt.show()"
   ]
  },
  {
   "cell_type": "markdown",
   "metadata": {},
   "source": [
    "## Data Prep\n",
    "\n",
    "Building datasets\n",
    "\n",
    "potentially weighting samples based on annotations?\n",
    "\n"
   ]
  },
  {
   "cell_type": "code",
   "execution_count": 19,
   "metadata": {},
   "outputs": [
    {
     "data": {
      "text/html": [
       "<div>\n",
       "<style scoped>\n",
       "    .dataframe tbody tr th:only-of-type {\n",
       "        vertical-align: middle;\n",
       "    }\n",
       "\n",
       "    .dataframe tbody tr th {\n",
       "        vertical-align: top;\n",
       "    }\n",
       "\n",
       "    .dataframe thead th {\n",
       "        text-align: right;\n",
       "    }\n",
       "</style>\n",
       "<table border=\"1\" class=\"dataframe\">\n",
       "  <thead>\n",
       "    <tr style=\"text-align: right;\">\n",
       "      <th></th>\n",
       "      <th>video_url</th>\n",
       "      <th>ann_1</th>\n",
       "      <th>ann_2</th>\n",
       "      <th>part_1_scores</th>\n",
       "      <th>part_2_scores</th>\n",
       "      <th>vggish</th>\n",
       "      <th>m_75</th>\n",
       "    </tr>\n",
       "    <tr>\n",
       "      <th>video_id</th>\n",
       "      <th></th>\n",
       "      <th></th>\n",
       "      <th></th>\n",
       "      <th></th>\n",
       "      <th></th>\n",
       "      <th></th>\n",
       "      <th></th>\n",
       "    </tr>\n",
       "  </thead>\n",
       "  <tbody>\n",
       "    <tr>\n",
       "      <th>8</th>\n",
       "      <td>https://mtc.cdn.vine.co/r/videos_h264high/9EB0...</td>\n",
       "      <td>20</td>\n",
       "      <td>7</td>\n",
       "      <td>0.75</td>\n",
       "      <td>0.57</td>\n",
       "      <td>[[-1.006786823272705, -0.03442689776420593, 0....</td>\n",
       "      <td>0.747473</td>\n",
       "    </tr>\n",
       "    <tr>\n",
       "      <th>26</th>\n",
       "      <td>https://mtc.cdn.vine.co/r/videos_h264high/A8B3...</td>\n",
       "      <td>23</td>\n",
       "      <td>7</td>\n",
       "      <td>0.87</td>\n",
       "      <td>0.43</td>\n",
       "      <td>[[-0.353262335062027, 0.17087110877037048, 0.1...</td>\n",
       "      <td>0.867012</td>\n",
       "    </tr>\n",
       "    <tr>\n",
       "      <th>33</th>\n",
       "      <td>https://mtc.cdn.vine.co/r/videos/267829AEFA128...</td>\n",
       "      <td>26</td>\n",
       "      <td>4</td>\n",
       "      <td>0.69</td>\n",
       "      <td>0.75</td>\n",
       "      <td>[[-0.25408658385276794, 0.027170300483703613, ...</td>\n",
       "      <td>0.687874</td>\n",
       "    </tr>\n",
       "    <tr>\n",
       "      <th>46</th>\n",
       "      <td>https://mtc.cdn.vine.co/r/videos_h264high/B974...</td>\n",
       "      <td>23</td>\n",
       "      <td>7</td>\n",
       "      <td>0.87</td>\n",
       "      <td>0.57</td>\n",
       "      <td>[[-0.6350699663162231, -0.5598430633544922, 1....</td>\n",
       "      <td>0.867301</td>\n",
       "    </tr>\n",
       "    <tr>\n",
       "      <th>64</th>\n",
       "      <td>https://mtc.cdn.vine.co/r/videos_h264high/C4D6...</td>\n",
       "      <td>19</td>\n",
       "      <td>9</td>\n",
       "      <td>0.84</td>\n",
       "      <td>0.56</td>\n",
       "      <td>[[-0.20317420363426208, 0.007105976343154907, ...</td>\n",
       "      <td>0.841082</td>\n",
       "    </tr>\n",
       "  </tbody>\n",
       "</table>\n",
       "</div>"
      ],
      "text/plain": [
       "                                                  video_url  ann_1  ann_2  \\\n",
       "video_id                                                                    \n",
       "8         https://mtc.cdn.vine.co/r/videos_h264high/9EB0...     20      7   \n",
       "26        https://mtc.cdn.vine.co/r/videos_h264high/A8B3...     23      7   \n",
       "33        https://mtc.cdn.vine.co/r/videos/267829AEFA128...     26      4   \n",
       "46        https://mtc.cdn.vine.co/r/videos_h264high/B974...     23      7   \n",
       "64        https://mtc.cdn.vine.co/r/videos_h264high/C4D6...     19      9   \n",
       "\n",
       "          part_1_scores  part_2_scores  \\\n",
       "video_id                                 \n",
       "8                  0.75           0.57   \n",
       "26                 0.87           0.43   \n",
       "33                 0.69           0.75   \n",
       "46                 0.87           0.57   \n",
       "64                 0.84           0.56   \n",
       "\n",
       "                                                     vggish      m_75  \n",
       "video_id                                                               \n",
       "8         [[-1.006786823272705, -0.03442689776420593, 0....  0.747473  \n",
       "26        [[-0.353262335062027, 0.17087110877037048, 0.1...  0.867012  \n",
       "33        [[-0.25408658385276794, 0.027170300483703613, ...  0.687874  \n",
       "46        [[-0.6350699663162231, -0.5598430633544922, 1....  0.867301  \n",
       "64        [[-0.20317420363426208, 0.007105976343154907, ...  0.841082  "
      ]
     },
     "execution_count": 19,
     "metadata": {},
     "output_type": "execute_result"
    }
   ],
   "source": [
    "data.head()"
   ]
  },
  {
   "cell_type": "code",
   "execution_count": 20,
   "metadata": {},
   "outputs": [],
   "source": [
    "def split_training(data: pd.DataFrame, shuffle=True, split=0.8):\n",
    "    ids = np.random.permutation(list(data.index)) if shuffle else list(data.index)\n",
    "    split_index = int(len(ids) * split)\n",
    "    return data.loc[ids[:split_index]], data.loc[ids[split_index:]]"
   ]
  },
  {
   "cell_type": "code",
   "execution_count": 21,
   "metadata": {},
   "outputs": [
    {
     "name": "stdout",
     "output_type": "stream",
     "text": [
      "training: 472\n",
      "validation: 118\n"
     ]
    }
   ],
   "source": [
    "train, valid = split_training(data)\n",
    "print(\"training:\",len(train))\n",
    "print(\"validation:\", len(valid))"
   ]
  },
  {
   "cell_type": "code",
   "execution_count": 22,
   "metadata": {},
   "outputs": [],
   "source": [
    "def build_matrixes(data, target_name, feature_name, dtype=np.float32):\n",
    "    targets = []\n",
    "    features = []\n",
    "    video_ids = []\n",
    "    for video_id, row in data.iterrows():\n",
    "        feature = np.array(row[feature_name])\n",
    "        target = row[target_name]\n",
    "        if len(feature.shape) == 1:\n",
    "            targets.append(target)\n",
    "            video_ids.append(video_id)\n",
    "            features.append(feature)\n",
    "        elif len(feature.shape) == 2:\n",
    "            for embedding in feature:\n",
    "                targets.append(target)\n",
    "                video_ids.append(video_id)\n",
    "                features.append(embedding)\n",
    "        else:\n",
    "            raise RuntimeError(f\"Provided feature has unexpected number of dimensions: {len(feature.shape)}\")\n",
    "    target_matrix = np.array(targets, dtype=dtype).reshape((len(targets), 1))\n",
    "    feature_matrix = np.array(features, dtype=dtype)\n",
    "    return feature_matrix, target_matrix, video_ids"
   ]
  },
  {
   "cell_type": "markdown",
   "metadata": {},
   "source": [
    "#### Pick Features and Target"
   ]
  },
  {
   "cell_type": "code",
   "execution_count": 23,
   "metadata": {},
   "outputs": [],
   "source": [
    "target = \"m_75\"\n",
    "features = \"vggish\""
   ]
  },
  {
   "cell_type": "code",
   "execution_count": 25,
   "metadata": {},
   "outputs": [
    {
     "name": "stdout",
     "output_type": "stream",
     "text": [
      "features_train shape: (2637, 128)\n",
      "targets_train shape: (2637, 1)\n",
      "features_valid shape: (647, 128)\n",
      "features_valid shape: (647, 1)\n"
     ]
    }
   ],
   "source": [
    "features_train, targets_train, video_ids_train = build_matrixes(train, target_name = target, feature_name = features)\n",
    "features_valid, targets_valid, video_ids_valid = build_matrixes(valid, target_name = target, feature_name = features)\n",
    "\n",
    "print(\"features_train shape:\", features_train.shape)\n",
    "print(\"targets_train shape:\", targets_train.shape)\n",
    "print(\"features_valid shape:\", features_valid.shape)\n",
    "print(\"features_valid shape:\", targets_valid.shape)"
   ]
  },
  {
   "cell_type": "code",
   "execution_count": null,
   "metadata": {},
   "outputs": [],
   "source": [
    "# Using Neural network\n",
    "\n",
    "class FlatDataset(torch.utils.data.Dataset):\n",
    "    def __init__(self, features, targets):\n",
    "        self.features = features\n",
    "        self.targets = targets\n",
    "        \n",
    "    def __len__(self):\n",
    "        return len(self.features)\n",
    "    \n",
    "    def __getitem__(self, idx):\n",
    "        return self.features[idx], self.targets[idx]"
   ]
  },
  {
   "cell_type": "code",
   "execution_count": null,
   "metadata": {},
   "outputs": [],
   "source": [
    "# Using Neural network\n",
    "\n",
    "data_train = FlatDataset(features_train, targets_train)\n",
    "data_valid = FlatDataset(features_valid, targets_valid)\n",
    "print(len(data_train), len(data_valid))"
   ]
  },
  {
   "cell_type": "markdown",
   "metadata": {},
   "source": [
    "## Model setup"
   ]
  },
  {
   "cell_type": "code",
   "execution_count": null,
   "metadata": {},
   "outputs": [],
   "source": [
    "# Using Neural network\n",
    "\n",
    "input_dim = len(features_train[0])\n",
    "output_dim = 1 if len(targets_train.shape) == 1 else len(targets_train[0])\n",
    "print(\"input dimensions:\", input_dim)\n",
    "print(\"output dimension:\", output_dim)"
   ]
  },
  {
   "cell_type": "code",
   "execution_count": null,
   "metadata": {},
   "outputs": [],
   "source": [
    "# Using Neural network\n",
    "\n",
    "class TwoLayerNet(torch.nn.Module):\n",
    "    def __init__(self, input_dim, output_dim, hidden_dim = 256):\n",
    "        super(TwoLayerNet, self).__init__()\n",
    "        self.linear1 = torch.nn.Linear(input_dim, hidden_dim)\n",
    "        self.tanh = torch.nn.Tanh()\n",
    "        self.linear2 = torch.nn.Linear(hidden_dim, output_dim)\n",
    "        \n",
    "    def forward(self, x):\n",
    "        x = self.linear1(x)\n",
    "        x = self.tanh(x)\n",
    "        x = self.linear2(x)\n",
    "        return x\n",
    "        "
   ]
  },
  {
   "cell_type": "code",
   "execution_count": null,
   "metadata": {},
   "outputs": [],
   "source": [
    "# Using Neural network\n",
    "\n",
    "model = TwoLayerNet(input_dim, output_dim)"
   ]
  },
  {
   "cell_type": "code",
   "execution_count": 26,
   "metadata": {},
   "outputs": [],
   "source": [
    "# Using SVR\n",
    "\n",
    "from sklearn.svm import SVR\n",
    "\n",
    "model = SVR(kernel='rbf', C=0.1, epsilon=0.001, gamma='scale')"
   ]
  },
  {
   "cell_type": "markdown",
   "metadata": {},
   "source": [
    "## Training setup"
   ]
  },
  {
   "cell_type": "code",
   "execution_count": null,
   "metadata": {},
   "outputs": [],
   "source": [
    "# Using Neural network\n",
    "\n",
    "device = torch.device(\"cuda\") if CUDA else torch.device(\"cpu\")\n",
    "model = model.float().to(device)\n",
    "num_epochs = NUM_EPOCHS\n",
    "batch_size = BATCH_SIZE\n",
    "learning_rate = LEARNING_RATE\n",
    "loss_fn = torch.nn.MSELoss()\n",
    "optimizer = torch.optim.Adam(model.parameters(), lr = learning_rate)\n",
    "scheduler = torch.optim.lr_scheduler.StepLR(optimizer, step_size=3, gamma = 0.5)\n",
    "dataloader_train = torch.utils.data.DataLoader(data_train, batch_size=batch_size, shuffle=True)\n",
    "dataloader_valid = torch.utils.data.DataLoader(data_valid, batch_size=1)"
   ]
  },
  {
   "cell_type": "markdown",
   "metadata": {},
   "source": [
    "## Train model"
   ]
  },
  {
   "cell_type": "code",
   "execution_count": 27,
   "metadata": {},
   "outputs": [
    {
     "data": {
      "text/plain": [
       "SVR(C=0.1, epsilon=0.001)"
      ]
     },
     "execution_count": 27,
     "metadata": {},
     "output_type": "execute_result"
    }
   ],
   "source": [
    "# Using SVR\n",
    "model.fit(features_train, targets_train.ravel())"
   ]
  },
  {
   "cell_type": "code",
   "execution_count": null,
   "metadata": {},
   "outputs": [],
   "source": [
    "# Using Neural network\n",
    "\n",
    "def train(model, dataloader_train, dataloader_valid, loss_fn, optimizer, scheduler, device):\n",
    "    \n",
    "    for is_training in [True, False]: # Epoch is a training followed by validation \n",
    "        \n",
    "        model.train() if is_training else model.eval()\n",
    "        \n",
    "        running_loss = 0\n",
    "        for features, targets in (dataloader_train if is_training else dataloader_valid):\n",
    "            features = features.to(device)\n",
    "            targets = targets.to(device)\n",
    "            optimizer.zero_grad()\n",
    "            with torch.set_grad_enabled(is_training):\n",
    "                outputs = model(features)\n",
    "                loss = loss_fn(outputs, targets)\n",
    "                if is_training:\n",
    "                    loss.backward()\n",
    "                    optimizer.step()           \n",
    "            running_loss += loss.item()\n",
    "        \n",
    "        if is_training:\n",
    "            scheduler.step()\n",
    "        \n",
    "        if is_training:\n",
    "            train_loss = running_loss\n",
    "        else:\n",
    "            valid_loss = running_loss\n",
    "    \n",
    "    return train_loss, valid_loss"
   ]
  },
  {
   "cell_type": "code",
   "execution_count": null,
   "metadata": {},
   "outputs": [],
   "source": [
    "# Using Neural network\n",
    "\n",
    "best_valid_loss = 9999999\n",
    "best_model_state_dict = copy.deepcopy(model.state_dict())"
   ]
  },
  {
   "cell_type": "code",
   "execution_count": null,
   "metadata": {},
   "outputs": [],
   "source": [
    "# Using Neural network\n",
    "\n",
    "train_losses = []\n",
    "valid_losses = []\n",
    "for epoch in range(num_epochs):\n",
    "    print(f\"--------------- Epoch {epoch} ----------------\")\n",
    "    train_loss, valid_loss = train(model = model,\n",
    "                                 dataloader_train = dataloader_train,\n",
    "                                 dataloader_valid = dataloader_valid,\n",
    "                                 loss_fn = loss_fn,\n",
    "                                 optimizer = optimizer,\n",
    "                                 scheduler = scheduler,\n",
    "                                 device = device)\n",
    "    \n",
    "    if valid_loss < best_valid_loss:\n",
    "        best_valid_loss = valid_loss\n",
    "        best_model_state_dict = copy.deepcopy(model.state_dict())\n",
    "        print(\"New Best Validiation Loss!!!\", valid_loss)\n",
    "    train_losses.append(train_loss)\n",
    "    valid_losses.append(valid_loss)\n",
    "    print(\"Training Loss:\", train_loss)\n",
    "    print(\"Validation Loss:\", valid_loss)\n",
    "    \n",
    "print(\"\\n\\nFINISHED TRAINING\")\n",
    "print(f\"Best validation lost: {best_valid_loss}\")"
   ]
  },
  {
   "cell_type": "code",
   "execution_count": null,
   "metadata": {},
   "outputs": [],
   "source": [
    "plt.plot(train_losses, label=\"Training Loss\")\n",
    "plt.plot(valid_losses, label=\"Validation Loss\")\n",
    "plt.legend()\n",
    "plt.show()"
   ]
  },
  {
   "cell_type": "code",
   "execution_count": null,
   "metadata": {},
   "outputs": [],
   "source": [
    "best_model = model\n",
    "best_model = best_model.eval()\n",
    "best_model.load_state_dict(best_model_state_dict)"
   ]
  },
  {
   "cell_type": "markdown",
   "metadata": {},
   "source": [
    "## Test\n",
    "\n",
    "Spearman's rank correlation, ROC curves, etc"
   ]
  },
  {
   "cell_type": "code",
   "execution_count": 28,
   "metadata": {},
   "outputs": [],
   "source": [
    "# Using SVR\n",
    "\n",
    "predictions = model.predict(features_valid)\n",
    "actuals = targets_valid.ravel()\n"
   ]
  },
  {
   "cell_type": "code",
   "execution_count": null,
   "metadata": {},
   "outputs": [],
   "source": [
    "# Using neural network\n",
    "\n",
    "predictions = []\n",
    "actuals = []\n",
    "for feature, actual in dataloader_valid:\n",
    "    with torch.set_grad_enabled(False):\n",
    "        feature = feature.to(device)\n",
    "        output = best_model(feature)\n",
    "        predictions.append(output.cpu().numpy()[0])\n",
    "        actuals.append(actual.cpu().numpy()[0])"
   ]
  },
  {
   "cell_type": "code",
   "execution_count": 30,
   "metadata": {},
   "outputs": [],
   "source": [
    "def average_predictions(predictions, actuals, video_ids):\n",
    "    predictions_per_video = {vid: [] for vid in np.unique(video_ids)} \n",
    "    actuals_per_video = {vid: [] for vid in np.unique(video_ids_valid)} \n",
    "    for prediction, actual, video_id in zip(predictions, actuals, video_ids):\n",
    "        predictions_per_video[video_id].append(prediction)\n",
    "        actuals_per_video[video_id].append(actual)\n",
    "    avg_predictions = []\n",
    "    avg_actuals = []\n",
    "    for vid in np.unique(video_ids):\n",
    "        avg_predictions.append(np.mean(predictions_per_video[vid]))\n",
    "        avg_actuals.append(np.mean(actuals_per_video[vid]))\n",
    "    return avg_predictions, avg_actuals"
   ]
  },
  {
   "cell_type": "code",
   "execution_count": 31,
   "metadata": {},
   "outputs": [],
   "source": [
    "predictions, actuals = average_predictions(predictions, actuals, video_ids_valid)"
   ]
  },
  {
   "cell_type": "code",
   "execution_count": 32,
   "metadata": {},
   "outputs": [
    {
     "data": {
      "text/plain": [
       "118"
      ]
     },
     "execution_count": 32,
     "metadata": {},
     "output_type": "execute_result"
    }
   ],
   "source": [
    "len(predictions)"
   ]
  },
  {
   "cell_type": "code",
   "execution_count": 33,
   "metadata": {},
   "outputs": [
    {
     "name": "stdout",
     "output_type": "stream",
     "text": [
      "0.10245819318600974\n"
     ]
    }
   ],
   "source": [
    "spearman_rank, _ = stats.spearmanr(actuals, predictions)\n",
    "print(spearman_rank)"
   ]
  },
  {
   "cell_type": "code",
   "execution_count": 34,
   "metadata": {
    "scrolled": false
   },
   "outputs": [
    {
     "data": {
      "image/png": "[encoded data removed]",
      "text/plain": [
       "<Figure size 576x576 with 1 Axes>"
      ]
     },
     "metadata": {
      "needs_background": "light"
     },
     "output_type": "display_data"
    }
   ],
   "source": [
    "fig, ax = plt.subplots(1, figsize=(8,8))\n",
    "plt.scatter(actuals, predictions, label = f\"Spearman rank correlation = {spearman_rank}\")\n",
    "plt.title(f\"actual {target} vs predicted {target}\")\n",
    "plt.legend()\n",
    "plt.ylabel(\"predictions\")\n",
    "plt.xlabel(\"actual\")\n",
    "plt.show()"
   ]
  },
  {
   "cell_type": "markdown",
   "metadata": {},
   "source": [
    "# Saving model to file"
   ]
  },
  {
   "cell_type": "code",
   "execution_count": null,
   "metadata": {},
   "outputs": [],
   "source": [
    "modelname = \"resnet152_0\""
   ]
  },
  {
   "cell_type": "code",
   "execution_count": null,
   "metadata": {},
   "outputs": [],
   "source": [
    "if not os.path.exists(f\"saved_models/{modelname}\"):\n",
    "    os.mkdir(f\"saved_models/{modelname}\")\n",
    "\n",
    "if not np.sum([spearman_rank < float(f\"0.{s.split('.')[0]}\") for s in os.listdir(f\"saved_models/{modelname}\")]):\n",
    "    try:\n",
    "        filename = f\"saved_models/{modelname}/{int(str(spearman_rank)[2:6])}.state_dict\"\n",
    "        torch.save(best_model.state_dict(), filename)\n",
    "        print(f\"Model saved as {filename}\")\n",
    "    except:\n",
    "        print(\"Invalid spearman rank\")"
   ]
  },
  {
   "cell_type": "code",
   "execution_count": null,
   "metadata": {},
   "outputs": [],
   "source": []
  },
  {
   "cell_type": "code",
   "execution_count": null,
   "metadata": {},
   "outputs": [],
   "source": [
    "data"
   ]
  },
  {
   "cell_type": "code",
   "execution_count": null,
   "metadata": {},
   "outputs": [],
   "source": []
  }
 ],
 "metadata": {
  "kernelspec": {
   "display_name": "video-mem",
   "language": "python",
   "name": "video-mem"
  },
  "language_info": {
   "codemirror_mode": {
    "name": "ipython",
    "version": 3
   },
   "file_extension": ".py",
   "mimetype": "text/x-python",
   "name": "python",
   "nbconvert_exporter": "python",
   "pygments_lexer": "ipython3",
   "version": "3.8.5"
  }
 },
 "nbformat": 4,
 "nbformat_minor": 4
}
