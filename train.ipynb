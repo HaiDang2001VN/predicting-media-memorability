{
 "cells": [
  {
   "cell_type": "markdown",
   "metadata": {},
   "source": [
    "# Training workflow"
   ]
  },
  {
   "cell_type": "code",
   "execution_count": 1,
   "metadata": {},
   "outputs": [],
   "source": [
    "%load_ext autoreload\n",
    "\n",
    "%autoreload 2"
   ]
  },
  {
   "cell_type": "code",
   "execution_count": 2,
   "metadata": {},
   "outputs": [],
   "source": [
    "import torch\n",
    "import pandas as pd\n",
    "import numpy as np\n",
    "import matplotlib.pyplot as plt\n",
    "from scipy import stats\n",
    "import os\n",
    "\n",
    "from IPython.display import Video\n",
    "import features.config as fconf"
   ]
  },
  {
   "cell_type": "markdown",
   "metadata": {},
   "source": [
    "## Constants"
   ]
  },
  {
   "cell_type": "code",
   "execution_count": 3,
   "metadata": {},
   "outputs": [],
   "source": [
    "PREDICTIONS_DIR = \"predictions\""
   ]
  },
  {
   "cell_type": "code",
   "execution_count": 4,
   "metadata": {},
   "outputs": [
    {
     "name": "stdout",
     "output_type": "stream",
     "text": [
      "CUDA: True\n"
     ]
    }
   ],
   "source": [
    "CUDA = torch.cuda.is_available()\n",
    "RANDOM_SEED = 1\n",
    "BATCH_SIZE = 32\n",
    "LEARNING_RATE = 1e-3\n",
    "NUM_EPOCHS = 15\n",
    "\n",
    "USE_DEV_SET = False\n",
    "USE_TRAIN_SET = True\n",
    "FILTER_99 = False\n",
    "FILTER_99_VALID = False\n",
    "print(f\"CUDA: {CUDA}\")"
   ]
  },
  {
   "cell_type": "code",
   "execution_count": 5,
   "metadata": {},
   "outputs": [],
   "source": [
    "target = \"m_75\"\n",
    "feature = \"glove\"\n",
    "model_type = \"gru\"\n",
    "aggregate_with = np.median"
   ]
  },
  {
   "cell_type": "code",
   "execution_count": 6,
   "metadata": {},
   "outputs": [
    {
     "data": {
      "text/plain": [
       "<torch._C.Generator at 0x7efcf81357b0>"
      ]
     },
     "execution_count": 6,
     "metadata": {},
     "output_type": "execute_result"
    }
   ],
   "source": [
    "np.random.seed(RANDOM_SEED)\n",
    "torch.manual_seed(RANDOM_SEED)"
   ]
  },
  {
   "cell_type": "markdown",
   "metadata": {},
   "source": [
    "## Load Data\n",
    "\n",
    "Extracted features, scores, metadata, etc."
   ]
  },
  {
   "cell_type": "code",
   "execution_count": 7,
   "metadata": {},
   "outputs": [],
   "source": [
    "testing_set_data = pd.read_csv(\"testing_set/test_urls.csv\").set_index(\"video_id\")\n",
    "\n",
    "if USE_TRAIN_SET:\n",
    "    training_set_data = pd.read_csv(\"training_set/scores_v2.csv\").set_index(\"video_id\")\n",
    "\n",
    "if USE_DEV_SET:\n",
    "    development_set_data = pd.read_csv(\"development_set/dev_scores.csv\").set_index(\"video_id\")"
   ]
  },
  {
   "cell_type": "code",
   "execution_count": 8,
   "metadata": {},
   "outputs": [
    {
     "name": "stdout",
     "output_type": "stream",
     "text": [
      "WARNING:tensorflow:From /home/tony/anaconda3/envs/video-mem/lib/python3.8/site-packages/tensorflow/python/compat/v2_compat.py:96: disable_resource_variables (from tensorflow.python.ops.variable_scope) is deprecated and will be removed in a future version.\n",
      "Instructions for updating:\n",
      "non-resource variables are not supported in the long term\n"
     ]
    }
   ],
   "source": [
    "from features.video import load_C3D_features\n",
    "from features.image import load_ResNet152_features, load_LBP_features, load_HOG_features\n",
    "from features.audio import load_VGGish_features\n",
    "from features.text import load_GloVe_features\n",
    "from features.emotion import load_Emotion_features, extract_emotions\n"
   ]
  },
  {
   "cell_type": "code",
   "execution_count": 9,
   "metadata": {},
   "outputs": [],
   "source": [
    "def add_features_to_df(dfs, set_names, label, feature_dir, load_func):\n",
    "    for df, set_name in zip(dfs, set_names):\n",
    "        df[label] = load_func(df.index, fconf.set_dataset(set_name, feature_dir))"
   ]
  },
  {
   "cell_type": "code",
   "execution_count": 10,
   "metadata": {},
   "outputs": [],
   "source": [
    "dfs = [testing_set_data]\n",
    "set_names = [\"testing_set\"]\n",
    "\n",
    "if USE_TRAIN_SET:\n",
    "    dfs.append(training_set_data)\n",
    "    set_names.append(\"training_set\")\n",
    "\n",
    "\n",
    "if USE_DEV_SET:\n",
    "    dfs.append(development_set_data)\n",
    "    set_names.append(\"development_set\")"
   ]
  },
  {
   "cell_type": "code",
   "execution_count": 11,
   "metadata": {},
   "outputs": [],
   "source": [
    "# Emotion\n",
    "if feature == \"emotion\":\n",
    "    add_features_to_df(dfs, set_names, \"emotion\",\n",
    "                      fconf.EMOTION_FEATURE_DIR, load_Emotion_features)"
   ]
  },
  {
   "cell_type": "code",
   "execution_count": 12,
   "metadata": {},
   "outputs": [],
   "source": [
    "# LBP\n",
    "if feature == \"lbp\":\n",
    "    add_features_to_df(dfs, set_names, \"lbp\",\n",
    "                      fconf.LBP_FEATURE_DIR, load_LBP_features)"
   ]
  },
  {
   "cell_type": "code",
   "execution_count": 13,
   "metadata": {},
   "outputs": [],
   "source": [
    "# HOG\n",
    "if feature == \"hog\":\n",
    "    add_features_to_df(dfs, set_names, \"hog\",\n",
    "                      fconf.HOG_FEATURE_DIR, load_HOG_features)"
   ]
  },
  {
   "cell_type": "code",
   "execution_count": 14,
   "metadata": {},
   "outputs": [],
   "source": [
    "# ResNet152\n",
    "if feature == \"resnet152\":\n",
    "    add_features_to_df(dfs, set_names, \"resnet152\",\n",
    "                      fconf.RESNET152_FEATURE_DIR, load_ResNet152_features)"
   ]
  },
  {
   "cell_type": "code",
   "execution_count": 15,
   "metadata": {},
   "outputs": [],
   "source": [
    "# C3D\n",
    "if feature == \"c3d\":\n",
    "    add_features_to_df(dfs, set_names, \"c3d\",\n",
    "                      fconf.C3D_FEATURE_DIR, load_C3D_features)"
   ]
  },
  {
   "cell_type": "code",
   "execution_count": 16,
   "metadata": {},
   "outputs": [],
   "source": [
    "# VGGish\n",
    "if feature == \"vggish\":\n",
    "    add_features_to_df(dfs, set_names, \"vggish\",\n",
    "                      fconf.VGGISH_FEATURE_DIR, load_VGGish_features)"
   ]
  },
  {
   "cell_type": "code",
   "execution_count": 17,
   "metadata": {},
   "outputs": [],
   "source": [
    "# GLoVE\n",
    "if feature == \"glove\":\n",
    "    add_features_to_df(dfs, set_names, \"glove\",\n",
    "                      fconf.GLOVE_FEATURE_DIR, load_GloVe_features)"
   ]
  },
  {
   "cell_type": "code",
   "execution_count": 18,
   "metadata": {},
   "outputs": [],
   "source": [
    "test_data = testing_set_data\n",
    "\n",
    "if USE_DEV_SET and USE_TRAIN_SET:\n",
    "    train_data = pd.concat([training_set_data, development_set_data])\n",
    "elif USE_DEV_SET and not USE_TRAIN_SET:\n",
    "    train_data = development_set_data\n",
    "elif USE_TRAIN_SET and not USE_DEV_SET:\n",
    "    train_data = training_set_data\n",
    "else:\n",
    "    raise ValueError(\"train_data is empty\")"
   ]
  },
  {
   "cell_type": "markdown",
   "metadata": {},
   "source": [
    "## Target Prep\n",
    "\n",
    "Khosla points out that the memorability score used in Isola's paper did not take into account the memory retention duration.\n",
    "Cohendet utilized the same idea as Khosla, which involved a decay rate\n",
    "\n",
    "$$\\alpha \\leftarrow \n",
    "\\frac{\\sum^N_{i=1}\\frac{1}{n^{(i)}} \\sum^{n^{(i)}}_{j=1} \\log(\\frac{t^{(i)}_j}{T})[x^{(i)}_j - m^{(i)}_T] }\n",
    "{\\sum^N_{i=1}\\frac{1}{n^{(i)}} \\sum^{n^{(i)}}_{j=1}[ \\log(\\frac{t^{(i)}_j}{T})]^2}\n",
    "$$\n",
    "\n",
    "to calculate memorability \n",
    "$$\n",
    "m_T^{(i)} \\leftarrow\n",
    "\\frac{1}{n^{(i)}} \\sum^{n^{(i)}}_{j=1}[x^{(i)}_j - \\alpha \\log(\\frac{t_j^{(i)}}{T})]\n",
    "$$\n",
    "\n",
    "where we have $n^{(i)}$ observations for image $i$ given by $x^{(i)} \\in {0,1}$ and $t^{(i)}_j$ where $x_j=1$  implies that the image repeat was correctly detected when it shown after time $t_j$\n",
    "\n",
    "IDEA: potentially explore calculating $\\alpha$ per user"
   ]
  },
  {
   "cell_type": "code",
   "execution_count": 19,
   "metadata": {},
   "outputs": [],
   "source": [
    "from target_augmentation import add_position_delta, calculate_alpha_and_memorability"
   ]
  },
  {
   "cell_type": "code",
   "execution_count": 20,
   "metadata": {},
   "outputs": [],
   "source": [
    "if USE_DEV_SET and USE_TRAIN_SET:\n",
    "    annotations = add_position_delta(pd.concat([\n",
    "        pd.read_csv(\"training_set/short_term_annotations_v2.csv\"),\n",
    "        pd.read_csv(\"development_set/dev_short_term_annotations.csv\")\n",
    "    ]))\n",
    "elif USE_TRAIN_SET and not USE_DEV_SET:\n",
    "    annotations = add_position_delta(pd.read_csv(\"training_set/short_term_annotations_v2.csv\"))\n",
    "elif USE_DEV_SET and not USE_TRAIN_SET:\n",
    "    annotations = add_position_delta(pd.read_csv(\"development_set/dev_short_term_annotations.csv\"))\n",
    "else:\n",
    "    raise ValueError(\"annotations is empty\")"
   ]
  },
  {
   "cell_type": "code",
   "execution_count": 21,
   "metadata": {
    "scrolled": false
   },
   "outputs": [
    {
     "name": "stdout",
     "output_type": "stream",
     "text": [
      "Average t: 74.96191840735993\n",
      "Calculating adjusted value for m_75\n",
      "Alpha: -0.026433626378523905\n",
      "Avg diff: 0.00040057981850080194\n",
      "Max diff: 0.007422429973521383\n",
      "Min diff: -0.006598279844217569\n"
     ]
    },
    {
     "data": {
      "image/png": "[encoded data removed]",
      "text/plain": [
       "<Figure size 432x288 with 1 Axes>"
      ]
     },
     "metadata": {
      "needs_background": "light"
     },
     "output_type": "display_data"
    }
   ],
   "source": [
    "print(\"Average t:\", np.mean(annotations[\"t\"]))\n",
    "\n",
    "# We use approximately the average_t to calculate T as the memorability in question\n",
    "big_t = int(np.around(np.mean(annotations[\"t\"])))\n",
    "label = f\"m_{big_t}\"\n",
    "print(f\"Calculating adjusted value for {label}\")\n",
    "alpha, adjusted_score = calculate_alpha_and_memorability(annotations, T = big_t)\n",
    "train_data[label] = adjusted_score\n",
    "print(f\"Alpha: {alpha}\")\n",
    "target_diff = train_data[\"part_1_scores\"] - train_data[label]\n",
    "print(\"Avg diff:\", np.mean(target_diff))\n",
    "print(\"Max diff:\", np.max(target_diff))\n",
    "print(\"Min diff:\", np.min(target_diff))\n",
    "plt.scatter(train_data[\"part_1_scores\"], train_data[label])\n",
    "plt.xlabel(\"Original memorability score\")\n",
    "plt.ylabel(f\"Adjusted memorability score ({label})\")\n",
    "plt.show()"
   ]
  },
  {
   "cell_type": "markdown",
   "metadata": {},
   "source": [
    "## Data Prep\n",
    "\n",
    "Building datasets\n",
    "\n",
    "potentially weighting samples based on annotations?\n",
    "\n"
   ]
  },
  {
   "cell_type": "code",
   "execution_count": 22,
   "metadata": {},
   "outputs": [],
   "source": [
    "from train import split_training, build_matrixes"
   ]
  },
  {
   "cell_type": "code",
   "execution_count": 23,
   "metadata": {},
   "outputs": [
    {
     "name": "stdout",
     "output_type": "stream",
     "text": [
      "training: 472\n",
      "validation: 118\n"
     ]
    }
   ],
   "source": [
    "training_data, validation_data = split_training(train_data)\n",
    "print(\"training:\",len(training_data))\n",
    "print(\"validation:\", len(validation_data))"
   ]
  },
  {
   "cell_type": "markdown",
   "metadata": {},
   "source": [
    "#### Pick Features and Target"
   ]
  },
  {
   "cell_type": "code",
   "execution_count": 24,
   "metadata": {},
   "outputs": [],
   "source": [
    "if FILTER_99:\n",
    "    training_data = training_data[training_data[target] < .99]\n",
    "    print(f\"training after filtering for {target} < 0.99:\", len(training_data))\n",
    "    \n",
    "if FILTER_99_VALID:\n",
    "    validation_data = validation_data[validation_data[target] < 0.99]\n",
    "    print(f\"validation after filtering for {target} < 0.99:\", len(validation_data))"
   ]
  },
  {
   "cell_type": "code",
   "execution_count": 25,
   "metadata": {},
   "outputs": [
    {
     "name": "stdout",
     "output_type": "stream",
     "text": [
      "num videos in training set: 472\n",
      "num videos in validation set: 118\n",
      "features_train shape: (1757, 86, 300)\n",
      "targets_train shape: (1757, 1)\n",
      "features_valid shape: (434, 86, 300)\n",
      "features_valid shape: (434, 1)\n",
      "Total features: 2191\n",
      "Total videos: 590\n",
      "Avg features per video: 3.7135593220338983\n",
      "Min features per video: 2\n",
      "Max features per video: 5\n"
     ]
    }
   ],
   "source": [
    "features_train, targets_train, video_ids_train = build_matrixes(training_data, target_name = target, feature_name = feature)\n",
    "features_valid, targets_valid, video_ids_valid = build_matrixes(validation_data, target_name = target, feature_name = feature)\n",
    "\n",
    "\n",
    "print(\"num videos in training set:\", len(training_data))\n",
    "print(\"num videos in validation set:\", len(validation_data))\n",
    "print(\"features_train shape:\", features_train.shape)\n",
    "print(\"targets_train shape:\", targets_train.shape)\n",
    "print(\"features_valid shape:\", features_valid.shape)\n",
    "print(\"features_valid shape:\", targets_valid.shape)\n",
    "total_features = len(features_train) + len(features_valid)\n",
    "unique, count = np.unique(np.concatenate([video_ids_valid, video_ids_train]), return_counts=True)\n",
    "print(\"Total features:\", total_features)\n",
    "print(\"Total videos:\", len(unique))\n",
    "print(\"Avg features per video:\", total_features / len(unique))\n",
    "print(\"Min features per video:\", min(count))\n",
    "print(\"Max features per video:\", max(count))"
   ]
  },
  {
   "cell_type": "markdown",
   "metadata": {},
   "source": [
    "## Model training"
   ]
  },
  {
   "cell_type": "code",
   "execution_count": 26,
   "metadata": {
    "scrolled": true
   },
   "outputs": [],
   "source": [
    "from train import train_two_layer_nn, train_svr, train_gru\n",
    "\n",
    "def train_model(model_type, features_train, targets_train, features_valid, targets_valid):\n",
    "    if \"two_layer_nn\" == model_type:\n",
    "        model, train_losses, valid_losses = train_two_layer_nn(\n",
    "            features_train, targets_train, features_valid, targets_valid,\n",
    "            hidden_dim = 100,\n",
    "            num_epochs=NUM_EPOCHS,\n",
    "            cuda=CUDA,\n",
    "            batch_size=BATCH_SIZE,\n",
    "            learning_rate=LEARNING_RATE\n",
    "        )\n",
    "\n",
    "        plt.plot(train_losses, label=\"Training Loss\")\n",
    "        plt.plot(valid_losses, label=\"Validation Loss\")\n",
    "        plt.legend()\n",
    "        plt.show()\n",
    "\n",
    "    elif \"svr\" == model_type:\n",
    "        model = train_svr(features_train, targets_train)\n",
    "        \n",
    "    elif \"gru\" == model_type:\n",
    "        model, train_losses, valid_losses = train_gru(\n",
    "            features_train, targets_train, features_valid, targets_valid,\n",
    "            hidden_dim = 64,\n",
    "            num_epochs = 100,\n",
    "            gru_units = 64,\n",
    "            cuda = CUDA,\n",
    "            batch_size = 128,\n",
    "            learning_rate = LEARNING_RATE,\n",
    "            verbose = True\n",
    "        )\n",
    "        plt.plot(train_losses, label=\"Training Loss\")\n",
    "        plt.plot(valid_losses, label=\"Validation Loss\")\n",
    "        plt.legend()\n",
    "        plt.show()\n",
    "    else:\n",
    "        raise ValueError(f\"'{model_type}' is not a valid model type\")\n",
    "    return model\n",
    "        "
   ]
  },
  {
   "cell_type": "code",
   "execution_count": 27,
   "metadata": {
    "scrolled": true
   },
   "outputs": [
    {
     "name": "stdout",
     "output_type": "stream",
     "text": [
      "input dimensions: (86, 300)\n",
      "hidden dimension: 64\n",
      "Train on 1757 samples, validate on 434 samples\n",
      "Epoch 1/100\n",
      "1728/1757 [============================>.] - ETA: 0s - loss: 0.0134 - mean_squared_error: 0.0134 - mean_absolute_error: 0.0887 - mean_absolute_percentage_error: 11.1748WARNING:tensorflow:From /home/tony/anaconda3/envs/video-mem/lib/python3.8/site-packages/tensorflow/python/keras/engine/training_v1.py:2048: Model.state_updates (from tensorflow.python.keras.engine.training) is deprecated and will be removed in a future version.\n",
      "Instructions for updating:\n",
      "This property should not be used in TensorFlow 2.0, as updates are applied automatically.\n"
     ]
    },
    {
     "name": "stderr",
     "output_type": "stream",
     "text": [
      "12-11-2020:13:31:57,736 WARNING  [deprecation.py:317] From /home/tony/anaconda3/envs/video-mem/lib/python3.8/site-packages/tensorflow/python/keras/engine/training_v1.py:2048: Model.state_updates (from tensorflow.python.keras.engine.training) is deprecated and will be removed in a future version.\n",
      "Instructions for updating:\n",
      "This property should not be used in TensorFlow 2.0, as updates are applied automatically.\n"
     ]
    },
    {
     "name": "stdout",
     "output_type": "stream",
     "text": [
      "1757/1757 [==============================] - 3s 1ms/sample - loss: 0.0132 - mean_squared_error: 0.0132 - mean_absolute_error: 0.0882 - mean_absolute_percentage_error: 11.1018 - val_loss: 0.0221 - val_mean_squared_error: 0.0221 - val_mean_absolute_error: 0.1275 - val_mean_absolute_percentage_error: 14.7636\n",
      "Epoch 2/100\n",
      "1757/1757 [==============================] - 3s 1ms/sample - loss: 0.0111 - mean_squared_error: 0.0111 - mean_absolute_error: 0.0832 - mean_absolute_percentage_error: 10.4507 - val_loss: 0.0209 - val_mean_squared_error: 0.0209 - val_mean_absolute_error: 0.1229 - val_mean_absolute_percentage_error: 14.2338\n",
      "Epoch 3/100\n",
      "1757/1757 [==============================] - 3s 1ms/sample - loss: 0.0110 - mean_squared_error: 0.0110 - mean_absolute_error: 0.0827 - mean_absolute_percentage_error: 10.3623 - val_loss: 0.0188 - val_mean_squared_error: 0.0188 - val_mean_absolute_error: 0.1158 - val_mean_absolute_percentage_error: 13.4150\n",
      "Epoch 4/100\n",
      "1757/1757 [==============================] - 3s 2ms/sample - loss: 0.0108 - mean_squared_error: 0.0108 - mean_absolute_error: 0.0822 - mean_absolute_percentage_error: 10.3324 - val_loss: 0.0169 - val_mean_squared_error: 0.0169 - val_mean_absolute_error: 0.1091 - val_mean_absolute_percentage_error: 12.6823\n",
      "Epoch 5/100\n",
      "1757/1757 [==============================] - 3s 2ms/sample - loss: 0.0107 - mean_squared_error: 0.0107 - mean_absolute_error: 0.0822 - mean_absolute_percentage_error: 10.3029 - val_loss: 0.0167 - val_mean_squared_error: 0.0167 - val_mean_absolute_error: 0.1079 - val_mean_absolute_percentage_error: 12.5433\n",
      "Epoch 6/100\n",
      "1757/1757 [==============================] - 3s 1ms/sample - loss: 0.0104 - mean_squared_error: 0.0104 - mean_absolute_error: 0.0803 - mean_absolute_percentage_error: 10.0809 - val_loss: 0.0164 - val_mean_squared_error: 0.0164 - val_mean_absolute_error: 0.1073 - val_mean_absolute_percentage_error: 12.4923\n",
      "Epoch 7/100\n",
      "1757/1757 [==============================] - 3s 2ms/sample - loss: 0.0102 - mean_squared_error: 0.0102 - mean_absolute_error: 0.0798 - mean_absolute_percentage_error: 10.0008 - val_loss: 0.0141 - val_mean_squared_error: 0.0141 - val_mean_absolute_error: 0.0984 - val_mean_absolute_percentage_error: 11.5202\n",
      "Epoch 8/100\n",
      "1757/1757 [==============================] - 3s 1ms/sample - loss: 0.0102 - mean_squared_error: 0.0102 - mean_absolute_error: 0.0803 - mean_absolute_percentage_error: 10.0796 - val_loss: 0.0147 - val_mean_squared_error: 0.0147 - val_mean_absolute_error: 0.1014 - val_mean_absolute_percentage_error: 11.8649\n",
      "Epoch 9/100\n",
      "1757/1757 [==============================] - 3s 1ms/sample - loss: 0.0103 - mean_squared_error: 0.0103 - mean_absolute_error: 0.0804 - mean_absolute_percentage_error: 10.0752 - val_loss: 0.0134 - val_mean_squared_error: 0.0134 - val_mean_absolute_error: 0.0961 - val_mean_absolute_percentage_error: 11.2834\n",
      "Epoch 10/100\n",
      "1757/1757 [==============================] - 3s 1ms/sample - loss: 0.0099 - mean_squared_error: 0.0099 - mean_absolute_error: 0.0791 - mean_absolute_percentage_error: 9.9143 - val_loss: 0.0120 - val_mean_squared_error: 0.0120 - val_mean_absolute_error: 0.0901 - val_mean_absolute_percentage_error: 10.6415\n",
      "Epoch 11/100\n",
      "1757/1757 [==============================] - 3s 2ms/sample - loss: 0.0097 - mean_squared_error: 0.0097 - mean_absolute_error: 0.0780 - mean_absolute_percentage_error: 9.7920 - val_loss: 0.0125 - val_mean_squared_error: 0.0125 - val_mean_absolute_error: 0.0922 - val_mean_absolute_percentage_error: 10.8824\n",
      "Epoch 12/100\n",
      "1757/1757 [==============================] - 3s 1ms/sample - loss: 0.0102 - mean_squared_error: 0.0102 - mean_absolute_error: 0.0796 - mean_absolute_percentage_error: 9.9938 - val_loss: 0.0116 - val_mean_squared_error: 0.0116 - val_mean_absolute_error: 0.0883 - val_mean_absolute_percentage_error: 10.4674\n",
      "Epoch 13/100\n",
      "1757/1757 [==============================] - 3s 1ms/sample - loss: 0.0094 - mean_squared_error: 0.0094 - mean_absolute_error: 0.0767 - mean_absolute_percentage_error: 9.6140 - val_loss: 0.0118 - val_mean_squared_error: 0.0118 - val_mean_absolute_error: 0.0896 - val_mean_absolute_percentage_error: 10.6111\n",
      "Epoch 14/100\n",
      "1757/1757 [==============================] - 3s 1ms/sample - loss: 0.0097 - mean_squared_error: 0.0097 - mean_absolute_error: 0.0788 - mean_absolute_percentage_error: 9.8896 - val_loss: 0.0107 - val_mean_squared_error: 0.0107 - val_mean_absolute_error: 0.0846 - val_mean_absolute_percentage_error: 10.0637\n",
      "Epoch 15/100\n",
      "1757/1757 [==============================] - 3s 1ms/sample - loss: 0.0098 - mean_squared_error: 0.0098 - mean_absolute_error: 0.0789 - mean_absolute_percentage_error: 9.8911 - val_loss: 0.0098 - val_mean_squared_error: 0.0098 - val_mean_absolute_error: 0.0804 - val_mean_absolute_percentage_error: 9.6436\n",
      "Epoch 16/100\n",
      "1757/1757 [==============================] - 3s 1ms/sample - loss: 0.0095 - mean_squared_error: 0.0095 - mean_absolute_error: 0.0766 - mean_absolute_percentage_error: 9.6302 - val_loss: 0.0099 - val_mean_squared_error: 0.0099 - val_mean_absolute_error: 0.0808 - val_mean_absolute_percentage_error: 9.6964\n",
      "Epoch 17/100\n",
      "1757/1757 [==============================] - 3s 1ms/sample - loss: 0.0096 - mean_squared_error: 0.0096 - mean_absolute_error: 0.0776 - mean_absolute_percentage_error: 9.7331 - val_loss: 0.0106 - val_mean_squared_error: 0.0106 - val_mean_absolute_error: 0.0841 - val_mean_absolute_percentage_error: 10.0174\n",
      "Epoch 18/100\n",
      "1757/1757 [==============================] - 3s 1ms/sample - loss: 0.0095 - mean_squared_error: 0.0095 - mean_absolute_error: 0.0773 - mean_absolute_percentage_error: 9.6879 - val_loss: 0.0089 - val_mean_squared_error: 0.0089 - val_mean_absolute_error: 0.0767 - val_mean_absolute_percentage_error: 9.3498\n",
      "Epoch 19/100\n",
      "1757/1757 [==============================] - 3s 1ms/sample - loss: 0.0093 - mean_squared_error: 0.0093 - mean_absolute_error: 0.0770 - mean_absolute_percentage_error: 9.6472 - val_loss: 0.0092 - val_mean_squared_error: 0.0092 - val_mean_absolute_error: 0.0779 - val_mean_absolute_percentage_error: 9.4532\n",
      "Epoch 20/100\n",
      "1757/1757 [==============================] - 3s 1ms/sample - loss: 0.0097 - mean_squared_error: 0.0097 - mean_absolute_error: 0.0787 - mean_absolute_percentage_error: 9.8615 - val_loss: 0.0087 - val_mean_squared_error: 0.0087 - val_mean_absolute_error: 0.0759 - val_mean_absolute_percentage_error: 9.3334\n",
      "Epoch 21/100\n",
      "1757/1757 [==============================] - 3s 1ms/sample - loss: 0.0093 - mean_squared_error: 0.0093 - mean_absolute_error: 0.0776 - mean_absolute_percentage_error: 9.7302 - val_loss: 0.0084 - val_mean_squared_error: 0.0084 - val_mean_absolute_error: 0.0745 - val_mean_absolute_percentage_error: 9.2037\n",
      "Epoch 22/100\n",
      "1757/1757 [==============================] - 3s 1ms/sample - loss: 0.0091 - mean_squared_error: 0.0091 - mean_absolute_error: 0.0758 - mean_absolute_percentage_error: 9.5013 - val_loss: 0.0084 - val_mean_squared_error: 0.0084 - val_mean_absolute_error: 0.0743 - val_mean_absolute_percentage_error: 9.2116\n",
      "Epoch 23/100\n",
      "1757/1757 [==============================] - 3s 1ms/sample - loss: 0.0090 - mean_squared_error: 0.0090 - mean_absolute_error: 0.0756 - mean_absolute_percentage_error: 9.4695 - val_loss: 0.0083 - val_mean_squared_error: 0.0083 - val_mean_absolute_error: 0.0738 - val_mean_absolute_percentage_error: 9.2227\n",
      "Epoch 24/100\n",
      "1757/1757 [==============================] - 3s 1ms/sample - loss: 0.0091 - mean_squared_error: 0.0091 - mean_absolute_error: 0.0765 - mean_absolute_percentage_error: 9.5866 - val_loss: 0.0083 - val_mean_squared_error: 0.0083 - val_mean_absolute_error: 0.0732 - val_mean_absolute_percentage_error: 9.2068\n",
      "Epoch 25/100\n",
      "1757/1757 [==============================] - 3s 1ms/sample - loss: 0.0089 - mean_squared_error: 0.0089 - mean_absolute_error: 0.0758 - mean_absolute_percentage_error: 9.4922 - val_loss: 0.0083 - val_mean_squared_error: 0.0083 - val_mean_absolute_error: 0.0731 - val_mean_absolute_percentage_error: 9.2224\n",
      "Epoch 26/100\n",
      "1757/1757 [==============================] - 3s 1ms/sample - loss: 0.0087 - mean_squared_error: 0.0087 - mean_absolute_error: 0.0744 - mean_absolute_percentage_error: 9.3455 - val_loss: 0.0083 - val_mean_squared_error: 0.0083 - val_mean_absolute_error: 0.0729 - val_mean_absolute_percentage_error: 9.1794\n"
     ]
    },
    {
     "name": "stdout",
     "output_type": "stream",
     "text": [
      "Epoch 27/100\n",
      "1757/1757 [==============================] - 2s 1ms/sample - loss: 0.0089 - mean_squared_error: 0.0089 - mean_absolute_error: 0.0757 - mean_absolute_percentage_error: 9.4898 - val_loss: 0.0082 - val_mean_squared_error: 0.0082 - val_mean_absolute_error: 0.0731 - val_mean_absolute_percentage_error: 9.2161\n",
      "Epoch 28/100\n",
      "1757/1757 [==============================] - 3s 1ms/sample - loss: 0.0085 - mean_squared_error: 0.0085 - mean_absolute_error: 0.0735 - mean_absolute_percentage_error: 9.2251 - val_loss: 0.0084 - val_mean_squared_error: 0.0084 - val_mean_absolute_error: 0.0735 - val_mean_absolute_percentage_error: 9.3073\n",
      "Epoch 29/100\n",
      "1757/1757 [==============================] - 3s 1ms/sample - loss: 0.0085 - mean_squared_error: 0.0085 - mean_absolute_error: 0.0742 - mean_absolute_percentage_error: 9.3009 - val_loss: 0.0085 - val_mean_squared_error: 0.0085 - val_mean_absolute_error: 0.0736 - val_mean_absolute_percentage_error: 9.3682\n",
      "Epoch 30/100\n",
      "1757/1757 [==============================] - 3s 1ms/sample - loss: 0.0083 - mean_squared_error: 0.0083 - mean_absolute_error: 0.0727 - mean_absolute_percentage_error: 9.1299 - val_loss: 0.0083 - val_mean_squared_error: 0.0083 - val_mean_absolute_error: 0.0732 - val_mean_absolute_percentage_error: 9.2390\n",
      "Epoch 31/100\n",
      "1757/1757 [==============================] - 3s 2ms/sample - loss: 0.0084 - mean_squared_error: 0.0084 - mean_absolute_error: 0.0739 - mean_absolute_percentage_error: 9.2618 - val_loss: 0.0082 - val_mean_squared_error: 0.0082 - val_mean_absolute_error: 0.0727 - val_mean_absolute_percentage_error: 9.2151\n",
      "Epoch 32/100\n",
      "1757/1757 [==============================] - 3s 1ms/sample - loss: 0.0085 - mean_squared_error: 0.0085 - mean_absolute_error: 0.0731 - mean_absolute_percentage_error: 9.1872 - val_loss: 0.0083 - val_mean_squared_error: 0.0083 - val_mean_absolute_error: 0.0730 - val_mean_absolute_percentage_error: 9.2561\n",
      "Epoch 33/100\n",
      "1757/1757 [==============================] - 3s 1ms/sample - loss: 0.0084 - mean_squared_error: 0.0084 - mean_absolute_error: 0.0733 - mean_absolute_percentage_error: 9.2050 - val_loss: 0.0083 - val_mean_squared_error: 0.0083 - val_mean_absolute_error: 0.0731 - val_mean_absolute_percentage_error: 9.2948\n",
      "Epoch 34/100\n",
      "1757/1757 [==============================] - 3s 2ms/sample - loss: 0.0085 - mean_squared_error: 0.0085 - mean_absolute_error: 0.0736 - mean_absolute_percentage_error: 9.2253 - val_loss: 0.0083 - val_mean_squared_error: 0.0083 - val_mean_absolute_error: 0.0731 - val_mean_absolute_percentage_error: 9.3170\n",
      "Epoch 35/100\n",
      "1757/1757 [==============================] - 3s 1ms/sample - loss: 0.0082 - mean_squared_error: 0.0082 - mean_absolute_error: 0.0728 - mean_absolute_percentage_error: 9.1435 - val_loss: 0.0085 - val_mean_squared_error: 0.0085 - val_mean_absolute_error: 0.0736 - val_mean_absolute_percentage_error: 9.3732\n",
      "Epoch 36/100\n",
      "1757/1757 [==============================] - 3s 1ms/sample - loss: 0.0082 - mean_squared_error: 0.0082 - mean_absolute_error: 0.0723 - mean_absolute_percentage_error: 9.0675 - val_loss: 0.0084 - val_mean_squared_error: 0.0084 - val_mean_absolute_error: 0.0736 - val_mean_absolute_percentage_error: 9.3692\n",
      "Epoch 37/100\n",
      "1757/1757 [==============================] - 3s 1ms/sample - loss: 0.0082 - mean_squared_error: 0.0082 - mean_absolute_error: 0.0729 - mean_absolute_percentage_error: 9.1502 - val_loss: 0.0084 - val_mean_squared_error: 0.0084 - val_mean_absolute_error: 0.0734 - val_mean_absolute_percentage_error: 9.3299\n",
      "Epoch 38/100\n",
      "1757/1757 [==============================] - 3s 1ms/sample - loss: 0.0084 - mean_squared_error: 0.0084 - mean_absolute_error: 0.0729 - mean_absolute_percentage_error: 9.1507 - val_loss: 0.0083 - val_mean_squared_error: 0.0083 - val_mean_absolute_error: 0.0731 - val_mean_absolute_percentage_error: 9.3136\n",
      "Epoch 39/100\n",
      "1757/1757 [==============================] - 3s 1ms/sample - loss: 0.0081 - mean_squared_error: 0.0081 - mean_absolute_error: 0.0719 - mean_absolute_percentage_error: 9.0307 - val_loss: 0.0083 - val_mean_squared_error: 0.0083 - val_mean_absolute_error: 0.0727 - val_mean_absolute_percentage_error: 9.2661\n",
      "Epoch 40/100\n",
      "1757/1757 [==============================] - 3s 1ms/sample - loss: 0.0082 - mean_squared_error: 0.0082 - mean_absolute_error: 0.0728 - mean_absolute_percentage_error: 9.1213 - val_loss: 0.0084 - val_mean_squared_error: 0.0084 - val_mean_absolute_error: 0.0731 - val_mean_absolute_percentage_error: 9.3283\n",
      "Epoch 41/100\n",
      "1757/1757 [==============================] - 3s 1ms/sample - loss: 0.0083 - mean_squared_error: 0.0083 - mean_absolute_error: 0.0730 - mean_absolute_percentage_error: 9.1624 - val_loss: 0.0085 - val_mean_squared_error: 0.0085 - val_mean_absolute_error: 0.0734 - val_mean_absolute_percentage_error: 9.4098\n",
      "Epoch 42/100\n",
      "1757/1757 [==============================] - 3s 1ms/sample - loss: 0.0083 - mean_squared_error: 0.0083 - mean_absolute_error: 0.0728 - mean_absolute_percentage_error: 9.1398 - val_loss: 0.0084 - val_mean_squared_error: 0.0084 - val_mean_absolute_error: 0.0733 - val_mean_absolute_percentage_error: 9.3598\n",
      "Epoch 43/100\n",
      "1757/1757 [==============================] - 3s 1ms/sample - loss: 0.0082 - mean_squared_error: 0.0082 - mean_absolute_error: 0.0723 - mean_absolute_percentage_error: 9.0861 - val_loss: 0.0085 - val_mean_squared_error: 0.0085 - val_mean_absolute_error: 0.0734 - val_mean_absolute_percentage_error: 9.3731\n",
      "Epoch 44/100\n",
      "1757/1757 [==============================] - 3s 1ms/sample - loss: 0.0083 - mean_squared_error: 0.0083 - mean_absolute_error: 0.0728 - mean_absolute_percentage_error: 9.1329 - val_loss: 0.0083 - val_mean_squared_error: 0.0083 - val_mean_absolute_error: 0.0726 - val_mean_absolute_percentage_error: 9.2645\n",
      "Epoch 45/100\n",
      "1757/1757 [==============================] - 3s 1ms/sample - loss: 0.0082 - mean_squared_error: 0.0082 - mean_absolute_error: 0.0726 - mean_absolute_percentage_error: 9.1238 - val_loss: 0.0083 - val_mean_squared_error: 0.0083 - val_mean_absolute_error: 0.0729 - val_mean_absolute_percentage_error: 9.2789\n",
      "Epoch 46/100\n",
      "1757/1757 [==============================] - 3s 1ms/sample - loss: 0.0079 - mean_squared_error: 0.0079 - mean_absolute_error: 0.0713 - mean_absolute_percentage_error: 8.9619 - val_loss: 0.0083 - val_mean_squared_error: 0.0083 - val_mean_absolute_error: 0.0730 - val_mean_absolute_percentage_error: 9.3240\n",
      "Epoch 47/100\n",
      "1757/1757 [==============================] - 3s 1ms/sample - loss: 0.0081 - mean_squared_error: 0.0081 - mean_absolute_error: 0.0721 - mean_absolute_percentage_error: 9.0497 - val_loss: 0.0085 - val_mean_squared_error: 0.0085 - val_mean_absolute_error: 0.0734 - val_mean_absolute_percentage_error: 9.4051\n",
      "Epoch 48/100\n",
      "1757/1757 [==============================] - 3s 1ms/sample - loss: 0.0081 - mean_squared_error: 0.0081 - mean_absolute_error: 0.0722 - mean_absolute_percentage_error: 9.0547 - val_loss: 0.0086 - val_mean_squared_error: 0.0086 - val_mean_absolute_error: 0.0739 - val_mean_absolute_percentage_error: 9.4843\n",
      "Epoch 49/100\n",
      "1757/1757 [==============================] - 3s 1ms/sample - loss: 0.0080 - mean_squared_error: 0.0080 - mean_absolute_error: 0.0718 - mean_absolute_percentage_error: 9.0148 - val_loss: 0.0084 - val_mean_squared_error: 0.0084 - val_mean_absolute_error: 0.0730 - val_mean_absolute_percentage_error: 9.2961\n",
      "Epoch 50/100\n",
      "1757/1757 [==============================] - 3s 1ms/sample - loss: 0.0079 - mean_squared_error: 0.0079 - mean_absolute_error: 0.0710 - mean_absolute_percentage_error: 8.9245 - val_loss: 0.0085 - val_mean_squared_error: 0.0085 - val_mean_absolute_error: 0.0734 - val_mean_absolute_percentage_error: 9.3635\n",
      "Epoch 51/100\n",
      "1757/1757 [==============================] - 3s 1ms/sample - loss: 0.0080 - mean_squared_error: 0.0080 - mean_absolute_error: 0.0711 - mean_absolute_percentage_error: 8.9322 - val_loss: 0.0084 - val_mean_squared_error: 0.0084 - val_mean_absolute_error: 0.0732 - val_mean_absolute_percentage_error: 9.3354\n",
      "Epoch 52/100\n",
      "1757/1757 [==============================] - 3s 1ms/sample - loss: 0.0081 - mean_squared_error: 0.0081 - mean_absolute_error: 0.0715 - mean_absolute_percentage_error: 8.9791 - val_loss: 0.0085 - val_mean_squared_error: 0.0085 - val_mean_absolute_error: 0.0733 - val_mean_absolute_percentage_error: 9.3674\n"
     ]
    },
    {
     "name": "stdout",
     "output_type": "stream",
     "text": [
      "Epoch 53/100\n",
      "1757/1757 [==============================] - 2s 1ms/sample - loss: 0.0081 - mean_squared_error: 0.0081 - mean_absolute_error: 0.0720 - mean_absolute_percentage_error: 9.0312 - val_loss: 0.0086 - val_mean_squared_error: 0.0086 - val_mean_absolute_error: 0.0741 - val_mean_absolute_percentage_error: 9.4812\n",
      "Epoch 54/100\n",
      "1757/1757 [==============================] - 3s 1ms/sample - loss: 0.0079 - mean_squared_error: 0.0079 - mean_absolute_error: 0.0709 - mean_absolute_percentage_error: 8.9014 - val_loss: 0.0085 - val_mean_squared_error: 0.0085 - val_mean_absolute_error: 0.0740 - val_mean_absolute_percentage_error: 9.4478\n",
      "Epoch 55/100\n",
      "1757/1757 [==============================] - 2s 1ms/sample - loss: 0.0078 - mean_squared_error: 0.0078 - mean_absolute_error: 0.0706 - mean_absolute_percentage_error: 8.8596 - val_loss: 0.0086 - val_mean_squared_error: 0.0086 - val_mean_absolute_error: 0.0743 - val_mean_absolute_percentage_error: 9.4716\n",
      "Epoch 56/100\n",
      "1757/1757 [==============================] - 2s 1ms/sample - loss: 0.0080 - mean_squared_error: 0.0080 - mean_absolute_error: 0.0717 - mean_absolute_percentage_error: 8.9913 - val_loss: 0.0084 - val_mean_squared_error: 0.0084 - val_mean_absolute_error: 0.0736 - val_mean_absolute_percentage_error: 9.3689\n",
      "Epoch 57/100\n",
      "1757/1757 [==============================] - 2s 1ms/sample - loss: 0.0076 - mean_squared_error: 0.0076 - mean_absolute_error: 0.0701 - mean_absolute_percentage_error: 8.8069 - val_loss: 0.0085 - val_mean_squared_error: 0.0085 - val_mean_absolute_error: 0.0741 - val_mean_absolute_percentage_error: 9.4355\n",
      "Epoch 58/100\n",
      "1757/1757 [==============================] - 2s 1ms/sample - loss: 0.0079 - mean_squared_error: 0.0079 - mean_absolute_error: 0.0711 - mean_absolute_percentage_error: 8.9279 - val_loss: 0.0084 - val_mean_squared_error: 0.0084 - val_mean_absolute_error: 0.0737 - val_mean_absolute_percentage_error: 9.3798\n",
      "Epoch 59/100\n",
      "1757/1757 [==============================] - 2s 1ms/sample - loss: 0.0077 - mean_squared_error: 0.0077 - mean_absolute_error: 0.0701 - mean_absolute_percentage_error: 8.8000 - val_loss: 0.0084 - val_mean_squared_error: 0.0084 - val_mean_absolute_error: 0.0734 - val_mean_absolute_percentage_error: 9.3773\n",
      "Epoch 60/100\n",
      "1757/1757 [==============================] - 2s 1ms/sample - loss: 0.0079 - mean_squared_error: 0.0079 - mean_absolute_error: 0.0708 - mean_absolute_percentage_error: 8.8801 - val_loss: 0.0084 - val_mean_squared_error: 0.0084 - val_mean_absolute_error: 0.0732 - val_mean_absolute_percentage_error: 9.3042\n",
      "Epoch 61/100\n",
      "1757/1757 [==============================] - 2s 1ms/sample - loss: 0.0076 - mean_squared_error: 0.0076 - mean_absolute_error: 0.0693 - mean_absolute_percentage_error: 8.7182 - val_loss: 0.0084 - val_mean_squared_error: 0.0084 - val_mean_absolute_error: 0.0733 - val_mean_absolute_percentage_error: 9.3157\n",
      "Epoch 62/100\n",
      "1757/1757 [==============================] - 2s 1ms/sample - loss: 0.0075 - mean_squared_error: 0.0075 - mean_absolute_error: 0.0692 - mean_absolute_percentage_error: 8.6779 - val_loss: 0.0087 - val_mean_squared_error: 0.0087 - val_mean_absolute_error: 0.0741 - val_mean_absolute_percentage_error: 9.4775\n",
      "Epoch 63/100\n",
      "1757/1757 [==============================] - 3s 1ms/sample - loss: 0.0078 - mean_squared_error: 0.0078 - mean_absolute_error: 0.0706 - mean_absolute_percentage_error: 8.8679 - val_loss: 0.0085 - val_mean_squared_error: 0.0085 - val_mean_absolute_error: 0.0735 - val_mean_absolute_percentage_error: 9.3881\n",
      "Epoch 64/100\n",
      "1757/1757 [==============================] - 2s 1ms/sample - loss: 0.0077 - mean_squared_error: 0.0077 - mean_absolute_error: 0.0702 - mean_absolute_percentage_error: 8.8196 - val_loss: 0.0084 - val_mean_squared_error: 0.0084 - val_mean_absolute_error: 0.0733 - val_mean_absolute_percentage_error: 9.3562\n",
      "Epoch 65/100\n",
      "1757/1757 [==============================] - 3s 1ms/sample - loss: 0.0075 - mean_squared_error: 0.0075 - mean_absolute_error: 0.0687 - mean_absolute_percentage_error: 8.6341 - val_loss: 0.0085 - val_mean_squared_error: 0.0085 - val_mean_absolute_error: 0.0736 - val_mean_absolute_percentage_error: 9.3598\n",
      "Epoch 66/100\n",
      "1757/1757 [==============================] - 3s 1ms/sample - loss: 0.0076 - mean_squared_error: 0.0076 - mean_absolute_error: 0.0696 - mean_absolute_percentage_error: 8.7231 - val_loss: 0.0085 - val_mean_squared_error: 0.0085 - val_mean_absolute_error: 0.0735 - val_mean_absolute_percentage_error: 9.3616\n",
      "Epoch 67/100\n",
      "1757/1757 [==============================] - 3s 1ms/sample - loss: 0.0075 - mean_squared_error: 0.0075 - mean_absolute_error: 0.0695 - mean_absolute_percentage_error: 8.7209 - val_loss: 0.0085 - val_mean_squared_error: 0.0085 - val_mean_absolute_error: 0.0736 - val_mean_absolute_percentage_error: 9.3669\n",
      "Epoch 68/100\n",
      "1757/1757 [==============================] - 3s 1ms/sample - loss: 0.0076 - mean_squared_error: 0.0076 - mean_absolute_error: 0.0694 - mean_absolute_percentage_error: 8.6948 - val_loss: 0.0085 - val_mean_squared_error: 0.0085 - val_mean_absolute_error: 0.0737 - val_mean_absolute_percentage_error: 9.3970\n",
      "Epoch 69/100\n",
      "1757/1757 [==============================] - 2s 1ms/sample - loss: 0.0076 - mean_squared_error: 0.0076 - mean_absolute_error: 0.0691 - mean_absolute_percentage_error: 8.6746 - val_loss: 0.0085 - val_mean_squared_error: 0.0085 - val_mean_absolute_error: 0.0733 - val_mean_absolute_percentage_error: 9.2974\n",
      "Epoch 70/100\n",
      "1757/1757 [==============================] - 2s 1ms/sample - loss: 0.0072 - mean_squared_error: 0.0072 - mean_absolute_error: 0.0676 - mean_absolute_percentage_error: 8.5046 - val_loss: 0.0088 - val_mean_squared_error: 0.0088 - val_mean_absolute_error: 0.0745 - val_mean_absolute_percentage_error: 9.4475\n",
      "Epoch 71/100\n",
      "1757/1757 [==============================] - 3s 1ms/sample - loss: 0.0075 - mean_squared_error: 0.0075 - mean_absolute_error: 0.0697 - mean_absolute_percentage_error: 8.7239 - val_loss: 0.0084 - val_mean_squared_error: 0.0084 - val_mean_absolute_error: 0.0729 - val_mean_absolute_percentage_error: 9.3138\n",
      "Epoch 72/100\n",
      "1757/1757 [==============================] - 3s 1ms/sample - loss: 0.0074 - mean_squared_error: 0.0074 - mean_absolute_error: 0.0693 - mean_absolute_percentage_error: 8.6929 - val_loss: 0.0084 - val_mean_squared_error: 0.0084 - val_mean_absolute_error: 0.0726 - val_mean_absolute_percentage_error: 9.2225\n",
      "Epoch 73/100\n",
      "1757/1757 [==============================] - 3s 1ms/sample - loss: 0.0073 - mean_squared_error: 0.0073 - mean_absolute_error: 0.0682 - mean_absolute_percentage_error: 8.5510 - val_loss: 0.0085 - val_mean_squared_error: 0.0085 - val_mean_absolute_error: 0.0729 - val_mean_absolute_percentage_error: 9.2978\n",
      "Epoch 74/100\n",
      "1757/1757 [==============================] - 2s 1ms/sample - loss: 0.0073 - mean_squared_error: 0.0073 - mean_absolute_error: 0.0678 - mean_absolute_percentage_error: 8.5161 - val_loss: 0.0086 - val_mean_squared_error: 0.0086 - val_mean_absolute_error: 0.0733 - val_mean_absolute_percentage_error: 9.3597\n",
      "Epoch 75/100\n",
      "1757/1757 [==============================] - 3s 1ms/sample - loss: 0.0072 - mean_squared_error: 0.0072 - mean_absolute_error: 0.0676 - mean_absolute_percentage_error: 8.4663 - val_loss: 0.0087 - val_mean_squared_error: 0.0087 - val_mean_absolute_error: 0.0741 - val_mean_absolute_percentage_error: 9.4744\n",
      "Epoch 76/100\n",
      "1757/1757 [==============================] - 3s 1ms/sample - loss: 0.0071 - mean_squared_error: 0.0071 - mean_absolute_error: 0.0674 - mean_absolute_percentage_error: 8.4447 - val_loss: 0.0086 - val_mean_squared_error: 0.0086 - val_mean_absolute_error: 0.0732 - val_mean_absolute_percentage_error: 9.3261\n",
      "Epoch 77/100\n",
      "1757/1757 [==============================] - 3s 1ms/sample - loss: 0.0074 - mean_squared_error: 0.0074 - mean_absolute_error: 0.0688 - mean_absolute_percentage_error: 8.6288 - val_loss: 0.0086 - val_mean_squared_error: 0.0086 - val_mean_absolute_error: 0.0738 - val_mean_absolute_percentage_error: 9.4548\n",
      "Epoch 78/100\n",
      "1757/1757 [==============================] - 3s 1ms/sample - loss: 0.0073 - mean_squared_error: 0.0073 - mean_absolute_error: 0.0688 - mean_absolute_percentage_error: 8.6094 - val_loss: 0.0089 - val_mean_squared_error: 0.0089 - val_mean_absolute_error: 0.0744 - val_mean_absolute_percentage_error: 9.5520\n"
     ]
    },
    {
     "name": "stdout",
     "output_type": "stream",
     "text": [
      "Epoch 79/100\n",
      "1757/1757 [==============================] - 2s 1ms/sample - loss: 0.0071 - mean_squared_error: 0.0071 - mean_absolute_error: 0.0676 - mean_absolute_percentage_error: 8.4624 - val_loss: 0.0087 - val_mean_squared_error: 0.0087 - val_mean_absolute_error: 0.0742 - val_mean_absolute_percentage_error: 9.4564\n",
      "Epoch 80/100\n",
      "1757/1757 [==============================] - 2s 1ms/sample - loss: 0.0072 - mean_squared_error: 0.0072 - mean_absolute_error: 0.0673 - mean_absolute_percentage_error: 8.4364 - val_loss: 0.0087 - val_mean_squared_error: 0.0087 - val_mean_absolute_error: 0.0743 - val_mean_absolute_percentage_error: 9.4976\n",
      "Epoch 81/100\n",
      "1757/1757 [==============================] - 3s 1ms/sample - loss: 0.0071 - mean_squared_error: 0.0071 - mean_absolute_error: 0.0670 - mean_absolute_percentage_error: 8.4086 - val_loss: 0.0089 - val_mean_squared_error: 0.0089 - val_mean_absolute_error: 0.0750 - val_mean_absolute_percentage_error: 9.6366\n",
      "Epoch 82/100\n",
      "1757/1757 [==============================] - 3s 1ms/sample - loss: 0.0071 - mean_squared_error: 0.0071 - mean_absolute_error: 0.0670 - mean_absolute_percentage_error: 8.4116 - val_loss: 0.0086 - val_mean_squared_error: 0.0086 - val_mean_absolute_error: 0.0741 - val_mean_absolute_percentage_error: 9.4598\n",
      "Epoch 83/100\n",
      "1757/1757 [==============================] - 2s 1ms/sample - loss: 0.0071 - mean_squared_error: 0.0071 - mean_absolute_error: 0.0666 - mean_absolute_percentage_error: 8.3679 - val_loss: 0.0086 - val_mean_squared_error: 0.0086 - val_mean_absolute_error: 0.0740 - val_mean_absolute_percentage_error: 9.4320\n",
      "Epoch 84/100\n",
      "1757/1757 [==============================] - 2s 1ms/sample - loss: 0.0070 - mean_squared_error: 0.0070 - mean_absolute_error: 0.0665 - mean_absolute_percentage_error: 8.3204 - val_loss: 0.0088 - val_mean_squared_error: 0.0088 - val_mean_absolute_error: 0.0744 - val_mean_absolute_percentage_error: 9.5551\n",
      "Epoch 85/100\n",
      "1757/1757 [==============================] - 3s 1ms/sample - loss: 0.0071 - mean_squared_error: 0.0071 - mean_absolute_error: 0.0668 - mean_absolute_percentage_error: 8.3680 - val_loss: 0.0087 - val_mean_squared_error: 0.0087 - val_mean_absolute_error: 0.0742 - val_mean_absolute_percentage_error: 9.4926\n",
      "Epoch 86/100\n",
      "1757/1757 [==============================] - 2s 1ms/sample - loss: 0.0067 - mean_squared_error: 0.0067 - mean_absolute_error: 0.0647 - mean_absolute_percentage_error: 8.1100 - val_loss: 0.0087 - val_mean_squared_error: 0.0087 - val_mean_absolute_error: 0.0743 - val_mean_absolute_percentage_error: 9.4605\n",
      "Epoch 87/100\n",
      "1757/1757 [==============================] - 3s 1ms/sample - loss: 0.0070 - mean_squared_error: 0.0070 - mean_absolute_error: 0.0662 - mean_absolute_percentage_error: 8.2957 - val_loss: 0.0084 - val_mean_squared_error: 0.0084 - val_mean_absolute_error: 0.0727 - val_mean_absolute_percentage_error: 9.2861\n",
      "Epoch 88/100\n",
      "1757/1757 [==============================] - 2s 1ms/sample - loss: 0.0070 - mean_squared_error: 0.0070 - mean_absolute_error: 0.0669 - mean_absolute_percentage_error: 8.3703 - val_loss: 0.0085 - val_mean_squared_error: 0.0085 - val_mean_absolute_error: 0.0732 - val_mean_absolute_percentage_error: 9.3535\n",
      "Epoch 89/100\n",
      "1757/1757 [==============================] - 3s 1ms/sample - loss: 0.0068 - mean_squared_error: 0.0068 - mean_absolute_error: 0.0656 - mean_absolute_percentage_error: 8.2326 - val_loss: 0.0091 - val_mean_squared_error: 0.0091 - val_mean_absolute_error: 0.0753 - val_mean_absolute_percentage_error: 9.7022\n",
      "Epoch 90/100\n",
      "1757/1757 [==============================] - 3s 1ms/sample - loss: 0.0068 - mean_squared_error: 0.0068 - mean_absolute_error: 0.0654 - mean_absolute_percentage_error: 8.1964 - val_loss: 0.0087 - val_mean_squared_error: 0.0087 - val_mean_absolute_error: 0.0741 - val_mean_absolute_percentage_error: 9.4719\n",
      "Epoch 91/100\n",
      "1757/1757 [==============================] - 3s 2ms/sample - loss: 0.0064 - mean_squared_error: 0.0064 - mean_absolute_error: 0.0640 - mean_absolute_percentage_error: 8.0012 - val_loss: 0.0088 - val_mean_squared_error: 0.0088 - val_mean_absolute_error: 0.0748 - val_mean_absolute_percentage_error: 9.5322\n",
      "Epoch 92/100\n",
      "1757/1757 [==============================] - 3s 1ms/sample - loss: 0.0066 - mean_squared_error: 0.0066 - mean_absolute_error: 0.0650 - mean_absolute_percentage_error: 8.1474 - val_loss: 0.0087 - val_mean_squared_error: 0.0087 - val_mean_absolute_error: 0.0743 - val_mean_absolute_percentage_error: 9.4796\n",
      "Epoch 93/100\n",
      "1757/1757 [==============================] - 3s 1ms/sample - loss: 0.0070 - mean_squared_error: 0.0070 - mean_absolute_error: 0.0661 - mean_absolute_percentage_error: 8.3102 - val_loss: 0.0087 - val_mean_squared_error: 0.0087 - val_mean_absolute_error: 0.0742 - val_mean_absolute_percentage_error: 9.4250\n",
      "Epoch 94/100\n",
      "1757/1757 [==============================] - 3s 2ms/sample - loss: 0.0068 - mean_squared_error: 0.0068 - mean_absolute_error: 0.0658 - mean_absolute_percentage_error: 8.2240 - val_loss: 0.0087 - val_mean_squared_error: 0.0087 - val_mean_absolute_error: 0.0741 - val_mean_absolute_percentage_error: 9.4506\n",
      "Epoch 95/100\n",
      "1757/1757 [==============================] - 3s 1ms/sample - loss: 0.0067 - mean_squared_error: 0.0067 - mean_absolute_error: 0.0657 - mean_absolute_percentage_error: 8.2057 - val_loss: 0.0086 - val_mean_squared_error: 0.0086 - val_mean_absolute_error: 0.0738 - val_mean_absolute_percentage_error: 9.4113\n",
      "Epoch 96/100\n",
      "1757/1757 [==============================] - 3s 2ms/sample - loss: 0.0066 - mean_squared_error: 0.0066 - mean_absolute_error: 0.0652 - mean_absolute_percentage_error: 8.1450 - val_loss: 0.0087 - val_mean_squared_error: 0.0087 - val_mean_absolute_error: 0.0739 - val_mean_absolute_percentage_error: 9.4303\n",
      "Epoch 97/100\n",
      "1757/1757 [==============================] - 3s 2ms/sample - loss: 0.0067 - mean_squared_error: 0.0067 - mean_absolute_error: 0.0648 - mean_absolute_percentage_error: 8.1158 - val_loss: 0.0090 - val_mean_squared_error: 0.0090 - val_mean_absolute_error: 0.0751 - val_mean_absolute_percentage_error: 9.6619\n",
      "Epoch 98/100\n",
      "1757/1757 [==============================] - 3s 1ms/sample - loss: 0.0065 - mean_squared_error: 0.0065 - mean_absolute_error: 0.0640 - mean_absolute_percentage_error: 8.0269 - val_loss: 0.0091 - val_mean_squared_error: 0.0091 - val_mean_absolute_error: 0.0758 - val_mean_absolute_percentage_error: 9.6926\n",
      "Epoch 99/100\n",
      "1757/1757 [==============================] - 3s 1ms/sample - loss: 0.0065 - mean_squared_error: 0.0065 - mean_absolute_error: 0.0642 - mean_absolute_percentage_error: 8.0405 - val_loss: 0.0086 - val_mean_squared_error: 0.0086 - val_mean_absolute_error: 0.0739 - val_mean_absolute_percentage_error: 9.3452\n",
      "Epoch 100/100\n",
      "1757/1757 [==============================] - 3s 1ms/sample - loss: 0.0065 - mean_squared_error: 0.0065 - mean_absolute_error: 0.0639 - mean_absolute_percentage_error: 7.9724 - val_loss: 0.0090 - val_mean_squared_error: 0.0090 - val_mean_absolute_error: 0.0752 - val_mean_absolute_percentage_error: 9.6054\n"
     ]
    },
    {
     "data": {
      "image/png": "[encoded data removed]",
      "text/plain": [
       "<Figure size 432x288 with 1 Axes>"
      ]
     },
     "metadata": {
      "needs_background": "light"
     },
     "output_type": "display_data"
    }
   ],
   "source": [
    "model = train_model(model_type, features_train, targets_train, features_valid, targets_valid)"
   ]
  },
  {
   "cell_type": "markdown",
   "metadata": {},
   "source": [
    "## Test\n",
    "\n",
    "Spearman's rank correlation, ROC curves, etc"
   ]
  },
  {
   "cell_type": "code",
   "execution_count": 39,
   "metadata": {},
   "outputs": [],
   "source": [
    "from train import get_predictions\n",
    "\n",
    "predictions, actuals, _ = get_predictions(\n",
    "    model_type, model, features_valid, targets_valid, video_ids_valid, aggregate_with=np.median\n",
    ")"
   ]
  },
  {
   "cell_type": "code",
   "execution_count": 40,
   "metadata": {
    "scrolled": false
   },
   "outputs": [
    {
     "name": "stdout",
     "output_type": "stream",
     "text": [
      "SPEARMAN RANK: 0.26471136042422183\n"
     ]
    },
    {
     "data": {
      "image/png": "[encoded data removed]",
      "text/plain": [
       "<Figure size 576x576 with 1 Axes>"
      ]
     },
     "metadata": {
      "needs_background": "light"
     },
     "output_type": "display_data"
    }
   ],
   "source": [
    "spearman_rank, _ = stats.spearmanr(actuals, predictions)\n",
    "print(\"SPEARMAN RANK:\",spearman_rank)\n",
    "\n",
    "fig, ax = plt.subplots(1, figsize=(8,8))\n",
    "min_mem = min(np.min(actuals), np.min(predictions))\n",
    "max_mem = max(np.max(actuals), np.max(predictions))\n",
    "plt.scatter(actuals, predictions, label = f\"Spearman rank correlation = {spearman_rank}\")\n",
    "# plt.plot([min_mem, max_mem], [min_mem, max_mem], label=\"1 to 1\")\n",
    "plt.title(f\"actual {target} vs predicted {target}\")\n",
    "plt.legend()\n",
    "plt.ylabel(\"predictions\")\n",
    "plt.xlabel(\"actual\")\n",
    "plt.show()"
   ]
  },
  {
   "cell_type": "markdown",
   "metadata": {},
   "source": [
    "# Saving Predictions\n"
   ]
  },
  {
   "cell_type": "code",
   "execution_count": 30,
   "metadata": {},
   "outputs": [
    {
     "ename": "AssertionError",
     "evalue": "stop auto run",
     "output_type": "error",
     "traceback": [
      "\u001b[0;31m---------------------------------------------------------------------------\u001b[0m",
      "\u001b[0;31mAssertionError\u001b[0m                            Traceback (most recent call last)",
      "\u001b[0;32m<ipython-input-30-23eb638d4675>\u001b[0m in \u001b[0;36m<module>\u001b[0;34m\u001b[0m\n\u001b[0;32m----> 1\u001b[0;31m \u001b[0;32massert\u001b[0m \u001b[0;32mFalse\u001b[0m\u001b[0;34m,\u001b[0m \u001b[0;34m\"stop auto run\"\u001b[0m\u001b[0;34m\u001b[0m\u001b[0;34m\u001b[0m\u001b[0m\n\u001b[0m",
      "\u001b[0;31mAssertionError\u001b[0m: stop auto run"
     ]
    }
   ],
   "source": [
    "assert False, \"stop auto run\""
   ]
  },
  {
   "cell_type": "code",
   "execution_count": null,
   "metadata": {},
   "outputs": [],
   "source": [
    "pred_train, actual_train, vid_train = get_predictions(model_type, model, features_train, targets_train, video_ids_train)\n",
    "pred_valid, actual_valid, vid_valid = get_predictions(model_type, model, features_valid, targets_valid, video_ids_valid)"
   ]
  },
  {
   "cell_type": "code",
   "execution_count": null,
   "metadata": {},
   "outputs": [],
   "source": [
    "print(\"Validation spearman rank:\", stats.spearmanr(actual_valid, pred_valid)[0])\n",
    "print(\"Training spearman rank:\", stats.spearmanr(actual_train, pred_train)[0])"
   ]
  },
  {
   "cell_type": "code",
   "execution_count": null,
   "metadata": {},
   "outputs": [],
   "source": [
    "predictions = np.array(pred_train + pred_valid)\n",
    "actuals = np.array(actual_train + actual_valid)\n",
    "video_ids = np.array(vid_train + vid_valid)\n",
    "in_training_set = np.array(np.concatenate([np.ones(len(pred_train)), np.zeros(len(pred_valid))]), dtype=bool)"
   ]
  },
  {
   "cell_type": "code",
   "execution_count": null,
   "metadata": {},
   "outputs": [],
   "source": [
    "model_name = f\"{feature}_{model_Type}\""
   ]
  },
  {
   "cell_type": "code",
   "execution_count": null,
   "metadata": {},
   "outputs": [],
   "source": [
    "model_parameters = {\n",
    "    \"RANDOM_SEED\": RANDOM_SEED\n",
    "}"
   ]
  },
  {
   "cell_type": "code",
   "execution_count": null,
   "metadata": {},
   "outputs": [],
   "source": [
    "def save_predictions(model_name, video_ids, actuals, predictions, in_training_set, model_parameters, predictions_dir = PREDICTIONS_DIR):\n",
    "\n",
    "    if not os.path.exists(predictions_dir):\n",
    "        os.mkdir(predictions_dir)\n",
    "        \n",
    "    model_data_dir = f\"{predictions_dir}/model_data.csv\"\n",
    "    if not os.path.exists(model_data_dir):\n",
    "        model_data = pd.DataFrame(columns=[\"name\", \"validation_spearman_rank\", \"parameters\", \"predictions\", \"notes\", \"is_short_term\", \"seed\"])\n",
    "    else:\n",
    "        model_data = pd.read_csv(model_data_dir)\n",
    "        \n",
    "    model_dir = f\"{predictions_dir}/{model_name}\"\n",
    "    if not os.path.exists(model_dir):\n",
    "        os.mkdir(model_dir)\n",
    "        \n",
    "    pred_filename = f\"{model_dir}/{len(os.listdir(model_dir))}.csv\"\n",
    "    \n",
    "    valid_spearman_rank, _ = stats.spearmanr(actuals[in_training_set], predictions[in_training_set])\n",
    "    \n",
    "    pred_data = pd.DataFrame({\n",
    "        \"video_id\": video_ids,\n",
    "        \"prediction\": predictions,\n",
    "        \"actual\": actuals,\n",
    "        \"in_training_set\": in_training_set\n",
    "    }).sort_values(\"video_id\")\n",
    "    \n",
    "    pred_data.to_csv(pred_filename, index = False)\n",
    "    \n",
    "    model_info = {\n",
    "        \"name\": model_name,\n",
    "        \"validation_spearman_rank\": np.around(spearman_rank,4),\n",
    "        \"parameters\": model_parameters,\n",
    "        \"predictions\": pred_filename,\n",
    "        \"notes\": \"\",\n",
    "        \"seed\": RANDOM_SEED,\n",
    "        \"is_short_term\": True\n",
    "    }\n",
    "    \n",
    "    model_data.append(model_info, ignore_index = True).to_csv(model_data_dir, index = False)\n",
    "    \n",
    "    print(\"Saved model info and predictions: \", model_info)\n",
    "    "
   ]
  },
  {
   "cell_type": "code",
   "execution_count": null,
   "metadata": {},
   "outputs": [],
   "source": [
    "save_predictions(model_name, video_ids, actuals, predictions, in_training_set, model_parameters)"
   ]
  }
 ],
 "metadata": {
  "kernelspec": {
   "display_name": "video-mem",
   "language": "python",
   "name": "video-mem"
  },
  "language_info": {
   "codemirror_mode": {
    "name": "ipython",
    "version": 3
   },
   "file_extension": ".py",
   "mimetype": "text/x-python",
   "name": "python",
   "nbconvert_exporter": "python",
   "pygments_lexer": "ipython3",
   "version": "3.8.5"
  }
 },
 "nbformat": 4,
 "nbformat_minor": 4
}
