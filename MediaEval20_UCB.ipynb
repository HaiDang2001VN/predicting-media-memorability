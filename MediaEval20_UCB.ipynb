{
  "nbformat": 4,
  "nbformat_minor": 0,
  "metadata": {
    "kernelspec": {
      "display_name": "video-mem",
      "language": "python",
      "name": "video-mem"
    },
    "language_info": {
      "codemirror_mode": {
        "name": "ipython",
        "version": 3
      },
      "file_extension": ".py",
      "mimetype": "text/x-python",
      "name": "python",
      "nbconvert_exporter": "python",
      "pygments_lexer": "ipython3",
      "version": "3.8.5"
    },
    "colab": {
      "name": "MediaEval20 - UCB.ipynb",
      "provenance": [],
      "collapsed_sections": []
    },
    "accelerator": "GPU"
  },
  "cells": [
    {
      "cell_type": "markdown",
      "metadata": {
        "id": "DgsSrq5AVT1r"
      },
      "source": [
        "# Training workflow"
      ]
    },
    {
      "cell_type": "code",
      "metadata": {
        "id": "8AgkIHQZVT10"
      },
      "source": [
        "%load_ext autoreload\n",
        "\n",
        "%autoreload 2"
      ],
      "execution_count": null,
      "outputs": []
    },
    {
      "cell_type": "code",
      "metadata": {
        "colab": {
          "base_uri": "https://localhost:8080/"
        },
        "id": "jhbycpnhaRaV",
        "outputId": "745dae54-a57c-44fd-9ce6-240be3abe83c"
      },
      "source": [
        "from google.colab import drive\n",
        "drive.mount('/content/drive')"
      ],
      "execution_count": null,
      "outputs": [
        {
          "output_type": "stream",
          "name": "stdout",
          "text": [
            "Mounted at /content/drive\n"
          ]
        }
      ]
    },
    {
      "cell_type": "code",
      "metadata": {
        "colab": {
          "base_uri": "https://localhost:8080/"
        },
        "id": "RbjjPcz8h4nW",
        "outputId": "891e7cd8-eeef-4b42-ad44-f25347456d25"
      },
      "source": [
        "%pip install -U fer"
      ],
      "execution_count": null,
      "outputs": [
        {
          "output_type": "stream",
          "name": "stdout",
          "text": [
            "Collecting fer\n",
            "  Downloading fer-21.0.5-py3-none-any.whl (810 kB)\n",
            "\u001b[K     |████████████████████████████████| 810 kB 5.3 MB/s \n",
            "\u001b[?25hRequirement already satisfied: tqdm in /usr/local/lib/python3.7/dist-packages (from fer) (4.62.3)\n",
            "Collecting mtcnn>=0.1.1\n",
            "  Downloading mtcnn-0.1.1-py3-none-any.whl (2.3 MB)\n",
            "\u001b[K     |████████████████████████████████| 2.3 MB 39.1 MB/s \n",
            "\u001b[?25hRequirement already satisfied: requests in /usr/local/lib/python3.7/dist-packages (from fer) (2.23.0)\n",
            "Requirement already satisfied: pandas in /usr/local/lib/python3.7/dist-packages (from fer) (1.1.5)\n",
            "Requirement already satisfied: keras>=2.0.0 in /usr/local/lib/python3.7/dist-packages (from fer) (2.6.0)\n",
            "Requirement already satisfied: opencv-contrib-python in /usr/local/lib/python3.7/dist-packages (from fer) (4.1.2.30)\n",
            "Requirement already satisfied: matplotlib in /usr/local/lib/python3.7/dist-packages (from fer) (3.2.2)\n",
            "Requirement already satisfied: opencv-python>=4.1.0 in /usr/local/lib/python3.7/dist-packages (from mtcnn>=0.1.1->fer) (4.1.2.30)\n",
            "Requirement already satisfied: numpy>=1.14.5 in /usr/local/lib/python3.7/dist-packages (from opencv-python>=4.1.0->mtcnn>=0.1.1->fer) (1.19.5)\n",
            "Requirement already satisfied: kiwisolver>=1.0.1 in /usr/local/lib/python3.7/dist-packages (from matplotlib->fer) (1.3.2)\n",
            "Requirement already satisfied: pyparsing!=2.0.4,!=2.1.2,!=2.1.6,>=2.0.1 in /usr/local/lib/python3.7/dist-packages (from matplotlib->fer) (2.4.7)\n",
            "Requirement already satisfied: python-dateutil>=2.1 in /usr/local/lib/python3.7/dist-packages (from matplotlib->fer) (2.8.2)\n",
            "Requirement already satisfied: cycler>=0.10 in /usr/local/lib/python3.7/dist-packages (from matplotlib->fer) (0.10.0)\n",
            "Requirement already satisfied: six in /usr/local/lib/python3.7/dist-packages (from cycler>=0.10->matplotlib->fer) (1.15.0)\n",
            "Requirement already satisfied: pytz>=2017.2 in /usr/local/lib/python3.7/dist-packages (from pandas->fer) (2018.9)\n",
            "Requirement already satisfied: urllib3!=1.25.0,!=1.25.1,<1.26,>=1.21.1 in /usr/local/lib/python3.7/dist-packages (from requests->fer) (1.24.3)\n",
            "Requirement already satisfied: chardet<4,>=3.0.2 in /usr/local/lib/python3.7/dist-packages (from requests->fer) (3.0.4)\n",
            "Requirement already satisfied: certifi>=2017.4.17 in /usr/local/lib/python3.7/dist-packages (from requests->fer) (2021.5.30)\n",
            "Requirement already satisfied: idna<3,>=2.5 in /usr/local/lib/python3.7/dist-packages (from requests->fer) (2.10)\n",
            "Installing collected packages: mtcnn, fer\n",
            "Successfully installed fer-21.0.5 mtcnn-0.1.1\n"
          ]
        }
      ]
    },
    {
      "cell_type": "code",
      "metadata": {
        "id": "mYWW9avoWFjt",
        "colab": {
          "base_uri": "https://localhost:8080/"
        },
        "outputId": "a8f7188b-f142-404a-9af4-b70b07831dd0"
      },
      "source": [
        "%cd /content\n",
        "%rm -rf ucb\n",
        "!git clone https://github.com/HaiDang2001VN/predicting-media-memorability.git ucb"
      ],
      "execution_count": null,
      "outputs": [
        {
          "output_type": "stream",
          "name": "stdout",
          "text": [
            "/content\n",
            "Cloning into 'ucb'...\n",
            "remote: Enumerating objects: 184, done.\u001b[K\n",
            "remote: Counting objects: 100% (184/184), done.\u001b[K\n",
            "remote: Compressing objects: 100% (129/129), done.\u001b[K\n",
            "remote: Total 184 (delta 96), reused 139 (delta 51), pack-reused 0\u001b[K\n",
            "Receiving objects: 100% (184/184), 1.13 MiB | 8.47 MiB/s, done.\n",
            "Resolving deltas: 100% (96/96), done.\n"
          ]
        }
      ]
    },
    {
      "cell_type": "code",
      "metadata": {
        "id": "x70BiKP1ZXoz",
        "colab": {
          "base_uri": "https://localhost:8080/"
        },
        "outputId": "6d053032-e2d4-401c-b827-c5d51e6992ab"
      },
      "source": [
        "%cd /content/ucb\n",
        "%rm -rf training_set\n",
        "%mkdir training_set\n",
        "!find '/content/drive/MyDrive/HCMUS/AI/MedEval21/Memorability/2021-Predicting-Media-Memorability-Task/TRECVid Data/training_set' \\( -name \"train_*.csv\" \\) -exec cp {} training_set \\;\n",
        "%ls -sla training_set"
      ],
      "execution_count": null,
      "outputs": [
        {
          "output_type": "stream",
          "name": "stdout",
          "text": [
            "/content/ucb\n",
            "total 2948\n",
            "   4 drwxr-xr-x 2 root root    4096 Oct 17 13:44 \u001b[0m\u001b[01;34m.\u001b[0m/\n",
            "   4 drwxr-xr-x 5 root root    4096 Oct 17 13:43 \u001b[01;34m..\u001b[0m/\n",
            " 592 -r-------- 1 root root  602173 Oct 17 13:44 train_long_term_annotations.csv\n",
            "  96 -r-------- 1 root root   94598 Oct 17 13:44 train_scores.csv\n",
            "1736 -r-------- 1 root root 1775597 Oct 17 13:44 train_short_term_annotations.csv\n",
            " 448 -r-------- 1 root root  458640 Oct 17 13:44 train_text_descriptions.csv\n",
            "  68 -r-------- 1 root root   66915 Oct 17 13:44 train_video_urls.csv\n"
          ]
        }
      ]
    },
    {
      "cell_type": "code",
      "metadata": {
        "colab": {
          "base_uri": "https://localhost:8080/"
        },
        "id": "682RGXVjbgLX",
        "outputId": "7af7ff66-53d0-4ed0-b382-b94bc9a8917f"
      },
      "source": [
        "%cd /content/ucb\n",
        "%rm -rf testing_set\n",
        "%mkdir testing_set\n",
        "!find '/content/drive/MyDrive/HCMUS/AI/MedEval21/Memorability/2021-Predicting-Media-Memorability-Task/TRECVid Data/testing_set' \\( -name \"test_*.csv\" \\) -exec cp {} testing_set \\;\n",
        "%ls -sla testing_set"
      ],
      "execution_count": null,
      "outputs": [
        {
          "output_type": "stream",
          "name": "stdout",
          "text": [
            "/content/ucb\n",
            "total 2360\n",
            "   4 drwxr-xr-x 2 root root    4096 Oct 17 13:44 \u001b[0m\u001b[01;34m.\u001b[0m/\n",
            "   4 drwxr-xr-x 6 root root    4096 Oct 17 13:44 \u001b[01;34m..\u001b[0m/\n",
            " 696 -r-------- 1 root root  709011 Oct 17 13:44 test_long_term_annotations.csv\n",
            "1236 -r-------- 1 root root 1261867 Oct 17 13:44 test_short_term_annotations.csv\n",
            " 364 -r-------- 1 root root  371542 Oct 17 13:44 test_text_descriptions.csv\n",
            "  56 -r-------- 1 root root   56892 Oct 17 13:44 test_video_urls.csv\n"
          ]
        }
      ]
    },
    {
      "cell_type": "code",
      "metadata": {
        "colab": {
          "base_uri": "https://localhost:8080/"
        },
        "id": "m1ICO_ebbv8K",
        "outputId": "4e645c13-9f6b-479c-ce2d-386ed0c8bdce"
      },
      "source": [
        "!python setup_train.py"
      ],
      "execution_count": null,
      "outputs": [
        {
          "output_type": "stream",
          "name": "stdout",
          "text": [
            "Opening training_set/train_video_urls.csv...\n",
            "Downloading videos: 100% 588/588 [01:02<00:00,  9.41it/s]\n",
            "Extracting audio: 100% 588/588 [00:51<00:00, 11.46it/s]\n",
            "Extracting 8 frames per video:  47% 275/588 [04:35<05:11,  1.00it/s]\u001b[0;36m[h264 @ 0x55dff15dc000] \u001b[0m\u001b[1;31mno frame!\n",
            "\u001b[0m\u001b[0;36m[h264 @ 0x55dff15dcd80] \u001b[0m\u001b[1;31mno frame!\n",
            "\u001b[0m\u001b[0;36m[h264 @ 0x55dff15dcd80] \u001b[0m\u001b[1;31mno frame!\n",
            "Extracting 8 frames per video:  54% 318/588 [05:19<05:55,  1.32s/it]\u001b[0;36m[h264 @ 0x55dff15de400] \u001b[0m\u001b[1;31mSEI type 5 size 192 truncated at 176\n",
            "\u001b[0m\u001b[0;36m[h264 @ 0x55dff15df600] \u001b[0m\u001b[1;31mSEI type 5 size 192 truncated at 176\n",
            "\u001b[0m\u001b[0;36m[h264 @ 0x55dff15df600] \u001b[0m\u001b[1;31mSEI type 5 size 192 truncated at 176\n",
            "\u001b[0m\u001b[0;36m[h264 @ 0x55dff15de400] \u001b[0m\u001b[1;31mSEI type 5 size 192 truncated at 176\n",
            "\u001b[0m\u001b[0;36m[h264 @ 0x55dff15dd200] \u001b[0m\u001b[1;31mSEI type 5 size 192 truncated at 176\n",
            "\u001b[0m\u001b[0;36m[h264 @ 0x55dff15dd200] \u001b[0m\u001b[1;31mSEI type 5 size 192 truncated at 176\n",
            "\u001b[0m\u001b[0;36m[h264 @ 0x55dff15de400] \u001b[0m\u001b[1;31mSEI type 5 size 192 truncated at 176\n",
            "\u001b[0m\u001b[0;36m[h264 @ 0x55dff15df600] \u001b[0m\u001b[1;31mSEI type 5 size 192 truncated at 176\n",
            "\u001b[0m\u001b[0;36m[h264 @ 0x55dff15df600] \u001b[0m\u001b[1;31mSEI type 5 size 192 truncated at 176\n",
            "\u001b[0m\u001b[0;36m[h264 @ 0x55dff15de400] \u001b[0m\u001b[1;31mSEI type 5 size 192 truncated at 176\n",
            "\u001b[0m\u001b[0;36m[h264 @ 0x55dff15dd200] \u001b[0m\u001b[1;31mSEI type 5 size 192 truncated at 176\n",
            "\u001b[0m\u001b[0;36m[h264 @ 0x55dff15de400] \u001b[0m\u001b[1;31mSEI type 5 size 192 truncated at 176\n",
            "\u001b[0m\u001b[0;36m[h264 @ 0x55dff15df600] \u001b[0m\u001b[1;31mSEI type 5 size 192 truncated at 176\n",
            "\u001b[0m\u001b[0;36m[h264 @ 0x55dff15de400] \u001b[0m\u001b[1;31mSEI type 5 size 192 truncated at 176\n",
            "\u001b[0m\u001b[0;36m[h264 @ 0x55dff15dd200] \u001b[0m\u001b[1;31mSEI type 5 size 192 truncated at 176\n",
            "\u001b[0m\u001b[0;36m[h264 @ 0x55dff15de400] \u001b[0m\u001b[1;31mSEI type 5 size 192 truncated at 176\n",
            "\u001b[0m\u001b[0;36m[h264 @ 0x55dff15df600] \u001b[0m\u001b[1;31mSEI type 5 size 192 truncated at 176\n",
            "\u001b[0m\u001b[0;36m[h264 @ 0x55dff15de400] \u001b[0m\u001b[1;31mSEI type 5 size 192 truncated at 176\n",
            "\u001b[0m\u001b[0;36m[h264 @ 0x55dff15dd200] \u001b[0m\u001b[1;31mSEI type 5 size 192 truncated at 176\n",
            "Extracting 8 frames per video:  79% 463/588 [07:44<02:56,  1.41s/it]\u001b[0;36m[h264 @ 0x55dff15de400] \u001b[0m\u001b[1;31mno frame!\n",
            "\u001b[0m\u001b[0;36m[h264 @ 0x55dff15dfa80] \u001b[0m\u001b[1;31mno frame!\n",
            "\u001b[0m\u001b[0;36m[h264 @ 0x55dff15dfa80] \u001b[0m\u001b[1;31mno frame!\n",
            "Extracting 8 frames per video: 100% 588/588 [09:53<00:00,  1.01s/it]\n",
            "Finished setup\n"
          ]
        }
      ]
    },
    {
      "cell_type": "code",
      "metadata": {
        "colab": {
          "base_uri": "https://localhost:8080/"
        },
        "id": "v2yEY246cHiZ",
        "outputId": "e7e06b3c-f530-4e93-d165-ce0a89c82b2f"
      },
      "source": [
        "!python setup_test.py"
      ],
      "execution_count": null,
      "outputs": [
        {
          "output_type": "stream",
          "name": "stdout",
          "text": [
            "Opening testing_set/test_video_urls.csv...\n",
            "Downloading videos: 100% 500/500 [00:53<00:00,  9.33it/s]\n",
            "Extracting audio: 100% 500/500 [00:42<00:00, 11.77it/s]\n",
            "Extracting 8 frames per video:   3% 13/500 [00:12<06:59,  1.16it/s]\u001b[0;36m[h264 @ 0x5600e0be3180] \u001b[0m\u001b[1;31mno frame!\n",
            "\u001b[0m\u001b[0;36m[h264 @ 0x5600e0be1200] \u001b[0m\u001b[1;31mno frame!\n",
            "\u001b[0m\u001b[0;36m[h264 @ 0x5600e0be1200] \u001b[0m\u001b[1;31mno frame!\n",
            "Extracting 8 frames per video:  15% 77/500 [01:17<06:48,  1.04it/s]\u001b[0;36m[h264 @ 0x5600e0be2d00] \u001b[0m\u001b[1;31mno frame!\n",
            "\u001b[0m\u001b[0;36m[h264 @ 0x5600e0be2880] \u001b[0m\u001b[1;31mno frame!\n",
            "\u001b[0m\u001b[0;36m[h264 @ 0x5600e0be2880] \u001b[0m\u001b[1;31mno frame!\n",
            "Extracting 8 frames per video:  50% 252/500 [04:21<03:34,  1.16it/s]\u001b[0;36m[h264 @ 0x5600e0be1200] \u001b[0m\u001b[1;31mno frame!\n",
            "\u001b[0m\u001b[0;36m[h264 @ 0x5600e0be1680] \u001b[0m\u001b[1;31mno frame!\n",
            "\u001b[0m\u001b[0;36m[h264 @ 0x5600e0be1680] \u001b[0m\u001b[1;31mno frame!\n",
            "Extracting 8 frames per video:  70% 350/500 [06:01<02:29,  1.00it/s]\u001b[0;36m[h264 @ 0x5600e0be2400] \u001b[0m\u001b[1;31mno frame!\n",
            "\u001b[0m\u001b[0;36m[h264 @ 0x5600e0be1f80] \u001b[0m\u001b[1;31mno frame!\n",
            "\u001b[0m\u001b[0;36m[h264 @ 0x5600e0be1f80] \u001b[0m\u001b[1;31mno frame!\n",
            "Extracting 8 frames per video:  92% 461/500 [07:53<00:41,  1.07s/it]\u001b[0;36m[h264 @ 0x5600e0be3180] \u001b[0m\u001b[1;31mno frame!\n",
            "\u001b[0m\u001b[0;36m[h264 @ 0x5600e0be1200] \u001b[0m\u001b[1;31mno frame!\n",
            "\u001b[0m\u001b[0;36m[h264 @ 0x5600e0be1200] \u001b[0m\u001b[1;31mno frame!\n",
            "Extracting 8 frames per video: 100% 500/500 [08:38<00:00,  1.04s/it]\n",
            "Finished setup\n"
          ]
        }
      ]
    },
    {
      "cell_type": "code",
      "metadata": {
        "id": "ldb5U0G6tOQb"
      },
      "source": [
        "# %cd /content/ucb/training_set\n",
        "# %rm -rf Features\n",
        "# %mkdir Features\n",
        "# %cp '/content/drive/MyDrive/HCMUS/AI/MedEval21/Memorability/2021-Predicting-Media-Memorability-Task/TRECVid Data/training_set/Features/'"
      ],
      "execution_count": null,
      "outputs": []
    },
    {
      "cell_type": "code",
      "metadata": {
        "colab": {
          "base_uri": "https://localhost:8080/"
        },
        "id": "LalNeqz2pCZt",
        "outputId": "7c194548-cd75-492d-dbf2-7b397849c7f6"
      },
      "source": [
        "%cd /content/ucb\n",
        "%rm -rf data\n",
        "%mkdir data\n",
        "%mkdir data/glove.6B\n",
        "!unzip /content/drive/MyDrive/HCMUS/AI/MedEval21/glove.6B.300d.txt -d data/glove.6B\n",
        "%ls -sla data/glove.6B"
      ],
      "execution_count": null,
      "outputs": [
        {
          "output_type": "stream",
          "name": "stdout",
          "text": [
            "/content/ucb\n",
            "Archive:  /content/drive/MyDrive/HCMUS/AI/MedEval21/glove.6B.300d.txt.zip\n",
            "  inflating: data/glove.6B/glove.6B.300d.txt  \n",
            "total 1013648\n",
            "      4 drwxr-xr-x 2 root root       4096 Oct 17 14:06 \u001b[0m\u001b[01;34m.\u001b[0m/\n",
            "      4 drwxr-xr-x 3 root root       4096 Oct 17 14:06 \u001b[01;34m..\u001b[0m/\n",
            "1013640 -rw-r--r-- 1 root root 1037962819 Sep 22  2019 glove.6B.300d.txt\n"
          ]
        }
      ]
    },
    {
      "cell_type": "code",
      "metadata": {
        "colab": {
          "base_uri": "https://localhost:8080/"
        },
        "id": "QvcbirUEnvkv",
        "outputId": "0b17cb72-916b-4b35-9369-7136aa9b58c2"
      },
      "source": [
        "%cd /content/ucb\n",
        "%mkdir training_set/Features\n",
        "%mkdir training_set/Features/GloVe\n",
        "%mkdir testing_set/Features\n",
        "%mkdir testing_set/Features/GloVe\n",
        "!python extract_features.py"
      ],
      "execution_count": null,
      "outputs": [
        {
          "output_type": "stream",
          "name": "stdout",
          "text": [
            "/content/ucb\n",
            "Extract all features? (y/n) Otherwise extract on per-feature basis.n\n",
            "Extract emotion features? (y/n)n\n",
            "Extract text (GLoVe) features? (y/n)y\n",
            "\tFound 3974 captions for 1088 videos\n",
            "\tAvg num of captions per video: 3.6525735294117645\n",
            "\tMax num of captions per video: 6\n",
            "\tMin num of captions per video: 2\n",
            "Max sequence length: 86\n",
            "Min sequence length: 2\n",
            "Avg sequence length: 17.81857070961248\n",
            "Fitting tokenizer...\n",
            "Extracting GLoVe features from training_set/train_text_descriptions.csv...\n",
            "2021-10-17 14:09:12.838316: I tensorflow/stream_executor/cuda/cuda_gpu_executor.cc:937] successful NUMA node read from SysFS had negative value (-1), but there must be at least one NUMA node, so returning NUMA node zero\n",
            "2021-10-17 14:09:13.385990: I tensorflow/stream_executor/cuda/cuda_gpu_executor.cc:937] successful NUMA node read from SysFS had negative value (-1), but there must be at least one NUMA node, so returning NUMA node zero\n",
            "2021-10-17 14:09:13.386926: I tensorflow/stream_executor/cuda/cuda_gpu_executor.cc:937] successful NUMA node read from SysFS had negative value (-1), but there must be at least one NUMA node, so returning NUMA node zero\n",
            "2021-10-17 14:09:13.388353: I tensorflow/stream_executor/cuda/cuda_gpu_executor.cc:937] successful NUMA node read from SysFS had negative value (-1), but there must be at least one NUMA node, so returning NUMA node zero\n",
            "2021-10-17 14:09:13.389251: I tensorflow/stream_executor/cuda/cuda_gpu_executor.cc:937] successful NUMA node read from SysFS had negative value (-1), but there must be at least one NUMA node, so returning NUMA node zero\n",
            "2021-10-17 14:09:13.390187: I tensorflow/stream_executor/cuda/cuda_gpu_executor.cc:937] successful NUMA node read from SysFS had negative value (-1), but there must be at least one NUMA node, so returning NUMA node zero\n",
            "2021-10-17 14:09:18.579368: I tensorflow/stream_executor/cuda/cuda_gpu_executor.cc:937] successful NUMA node read from SysFS had negative value (-1), but there must be at least one NUMA node, so returning NUMA node zero\n",
            "2021-10-17 14:09:18.580222: I tensorflow/stream_executor/cuda/cuda_gpu_executor.cc:937] successful NUMA node read from SysFS had negative value (-1), but there must be at least one NUMA node, so returning NUMA node zero\n",
            "2021-10-17 14:09:18.581071: I tensorflow/stream_executor/cuda/cuda_gpu_executor.cc:937] successful NUMA node read from SysFS had negative value (-1), but there must be at least one NUMA node, so returning NUMA node zero\n",
            "2021-10-17 14:09:18.590768: W tensorflow/core/common_runtime/gpu/gpu_bfc_allocator.cc:39] Overriding allow_growth setting because the TF_FORCE_GPU_ALLOW_GROWTH environment variable is set. Original config value was 0.\n",
            "2021-10-17 14:09:18.590860: I tensorflow/core/common_runtime/gpu/gpu_device.cc:1510] Created device /job:localhost/replica:0/task:0/device:GPU:0 with 10818 MB memory:  -> device: 0, name: Tesla K80, pci bus id: 0000:00:04.0, compute capability: 3.7\n",
            "2021-10-17 14:09:18.798543: I tensorflow/compiler/mlir/mlir_graph_optimization_pass.cc:185] None of the MLIR Optimization Passes are enabled (registered 2)\n",
            "2021-10-17 14:09:19.144579: W tensorflow/core/framework/cpu_allocator_impl.cc:80] Allocation of 225388800 exceeds 10% of free system memory.\n",
            "100% 2184/2184 [00:37<00:00, 57.62it/s]\n",
            "Extracting GLoVe features from testing_set/test_text_descriptions.csv...\n",
            "2021-10-17 14:10:18.957134: W tensorflow/core/framework/cpu_allocator_impl.cc:80] Allocation of 184728000 exceeds 10% of free system memory.\n",
            "100% 1790/1790 [00:31<00:00, 57.16it/s]\n",
            "Saving tokenizer at features//caption_tokenizer.pickle\n",
            "Finished GLoVe feature extraction.\n",
            "\n",
            "Extract image (ResNet152) features? (y/n)n\n"
          ]
        }
      ]
    },
    {
      "cell_type": "code",
      "metadata": {
        "id": "_Ni1n5l3VT15"
      },
      "source": [
        "import pandas as pd\n",
        "import numpy as np\n",
        "import matplotlib.pyplot as plt\n",
        "from scipy import stats\n",
        "import os\n",
        "\n",
        "import features.config as fconf"
      ],
      "execution_count": null,
      "outputs": []
    },
    {
      "cell_type": "markdown",
      "metadata": {
        "id": "dfoIgxf_VT18"
      },
      "source": [
        "## Constants"
      ]
    },
    {
      "cell_type": "code",
      "metadata": {
        "id": "tzB82VygVT19"
      },
      "source": [
        "PREDICTIONS_DIR = \"predictions\""
      ],
      "execution_count": null,
      "outputs": []
    },
    {
      "cell_type": "code",
      "metadata": {
        "id": "n0jKz4zkVT1-"
      },
      "source": [
        "SAVE_MODEL = True\n",
        "IS_SHORT_TERM = True\n",
        "\n",
        "USE_DEV_SET = False\n",
        "USE_TRAIN_SET = True"
      ],
      "execution_count": null,
      "outputs": []
    },
    {
      "cell_type": "code",
      "metadata": {
        "id": "vLWvk5umVT2A"
      },
      "source": [
        "RANDOM_SEED = 42"
      ],
      "execution_count": null,
      "outputs": []
    },
    {
      "cell_type": "code",
      "metadata": {
        "id": "f41oGQocVT2B"
      },
      "source": [
        "target = \"m_75\" if IS_SHORT_TERM else \"part_2_scores\"\n",
        "feature = \"glove\"\n",
        "model_type = \"gru\"\n",
        "aggregate_with = np.median"
      ],
      "execution_count": null,
      "outputs": []
    },
    {
      "cell_type": "code",
      "metadata": {
        "id": "e2Efes_kVT2C"
      },
      "source": [
        "model_name = f\"{feature}_{model_type}\""
      ],
      "execution_count": null,
      "outputs": []
    },
    {
      "cell_type": "code",
      "metadata": {
        "id": "XJoXdSvRVT2E"
      },
      "source": [
        "model_parameters = {\n",
        "    \"random_seed\": RANDOM_SEED,\n",
        "    \"use_dev_set\": USE_DEV_SET,\n",
        "}\n",
        "\n",
        "if model_type == \"gru\":\n",
        "    model_parameters[\"hidden_dim\"] = 64\n",
        "    model_parameters[\"learning_rate\"] = 1e-3\n",
        "    model_parameters[\"num_epochs\"] = 150\n",
        "    model_parameters[\"batch_size\"] = 64\n",
        "    model_parameters[\"gru_units\"] = 64\n",
        "    model_parameters[\"gru_dropout\"] = 0.8"
      ],
      "execution_count": null,
      "outputs": []
    },
    {
      "cell_type": "code",
      "metadata": {
        "id": "zwll8cjrVT2N"
      },
      "source": [
        "NOTES = \"\""
      ],
      "execution_count": null,
      "outputs": []
    },
    {
      "cell_type": "code",
      "metadata": {
        "id": "pNQuacdRVT2P"
      },
      "source": [
        "np.random.seed(RANDOM_SEED)"
      ],
      "execution_count": null,
      "outputs": []
    },
    {
      "cell_type": "markdown",
      "metadata": {
        "id": "Hxy1ZO5QVT2P"
      },
      "source": [
        "## Load Data\n",
        "\n",
        "Extracted features, scores, metadata, etc."
      ]
    },
    {
      "cell_type": "code",
      "metadata": {
        "id": "v-LPx_W0VT2R"
      },
      "source": [
        "testing_set_data = pd.read_csv(\"testing_set/test_video_urls.csv\").set_index(\"video_id\")\n",
        "\n",
        "if USE_TRAIN_SET:\n",
        "    training_set_data = pd.read_csv(\"training_set/train_video_urls.csv\").set_index(\"video_id\")\n",
        "\n",
        "if USE_DEV_SET:\n",
        "    development_set_data = pd.read_csv(\"development_set/dev_video_urls.csv\").set_index(\"video_id\")"
      ],
      "execution_count": null,
      "outputs": []
    },
    {
      "cell_type": "code",
      "metadata": {
        "id": "FLLbqhvrVT2R"
      },
      "source": [
        "from features.video import load_C3D_features\n",
        "from features.image import load_ResNet152_features, load_LBP_features, load_HOG_features\n",
        "from features.audio import load_VGGish_features\n",
        "from features.text import load_GloVe_features\n",
        "from features.emotion import load_Emotion_features, extract_emotions\n"
      ],
      "execution_count": null,
      "outputs": []
    },
    {
      "cell_type": "code",
      "metadata": {
        "id": "aJk0RQ8lVT2T"
      },
      "source": [
        "def add_features_to_df(dfs, set_names, label, feature_dir, load_func):\n",
        "    for df, set_name in zip(dfs, set_names):\n",
        "        df[label] = load_func(df.index, fconf.set_dataset(set_name, feature_dir))"
      ],
      "execution_count": null,
      "outputs": []
    },
    {
      "cell_type": "code",
      "metadata": {
        "id": "_NcFNgmcVT2T"
      },
      "source": [
        "dfs = [testing_set_data]\n",
        "set_names = [\"testing_set\"]\n",
        "\n",
        "if USE_TRAIN_SET:\n",
        "    dfs.append(training_set_data)\n",
        "    set_names.append(\"training_set\")\n",
        "\n",
        "if USE_DEV_SET:\n",
        "    dfs.append(development_set_data)\n",
        "    set_names.append(\"development_set\")"
      ],
      "execution_count": null,
      "outputs": []
    },
    {
      "cell_type": "code",
      "metadata": {
        "id": "GoZIqjMYVT2U"
      },
      "source": [
        "# Emotion\n",
        "if feature == \"emotion\":\n",
        "    add_features_to_df(dfs, set_names, \"emotion\",\n",
        "                      fconf.EMOTION_FEATURE_DIR, load_Emotion_features)"
      ],
      "execution_count": null,
      "outputs": []
    },
    {
      "cell_type": "code",
      "metadata": {
        "id": "O7yBbEURVT2U"
      },
      "source": [
        "# LBP\n",
        "if feature == \"lbp\":\n",
        "    add_features_to_df(dfs, set_names, \"lbp\",\n",
        "                      fconf.LBP_FEATURE_DIR, load_LBP_features)"
      ],
      "execution_count": null,
      "outputs": []
    },
    {
      "cell_type": "code",
      "metadata": {
        "id": "qq2TDApJVT2V"
      },
      "source": [
        "# HOG\n",
        "if feature == \"hog\":\n",
        "    add_features_to_df(dfs, set_names, \"hog\",\n",
        "                      fconf.HOG_FEATURE_DIR, load_HOG_features)"
      ],
      "execution_count": null,
      "outputs": []
    },
    {
      "cell_type": "code",
      "metadata": {
        "id": "hzUTraoVVT2W"
      },
      "source": [
        "# ResNet152\n",
        "if feature == \"resnet152\":\n",
        "    add_features_to_df(dfs, set_names, \"resnet152\",\n",
        "                      fconf.RESNET152_FEATURE_DIR, load_ResNet152_features)"
      ],
      "execution_count": null,
      "outputs": []
    },
    {
      "cell_type": "code",
      "metadata": {
        "id": "sutpUOJwVT2X"
      },
      "source": [
        "# C3D\n",
        "if feature == \"c3d\":\n",
        "    add_features_to_df(dfs, set_names, \"c3d\",\n",
        "                      fconf.C3D_FEATURE_DIR, load_C3D_features)"
      ],
      "execution_count": null,
      "outputs": []
    },
    {
      "cell_type": "code",
      "metadata": {
        "id": "OoLdQ3Y4VT2X"
      },
      "source": [
        "# VGGish\n",
        "if feature == \"vggish\":\n",
        "    add_features_to_df(dfs, set_names, \"vggish\",\n",
        "                      fconf.VGGISH_FEATURE_DIR, load_VGGish_features)"
      ],
      "execution_count": null,
      "outputs": []
    },
    {
      "cell_type": "code",
      "metadata": {
        "id": "xPfOQDK2VT2X"
      },
      "source": [
        "# GLoVE\n",
        "if feature == \"glove\":\n",
        "    add_features_to_df(dfs, set_names, \"glove\",\n",
        "                      fconf.GLOVE_FEATURE_DIR, load_GloVe_features)"
      ],
      "execution_count": null,
      "outputs": []
    },
    {
      "cell_type": "code",
      "metadata": {
        "id": "TN4wg9pDVT2Y"
      },
      "source": [
        "test_data = testing_set_data\n",
        "\n",
        "if USE_DEV_SET and USE_TRAIN_SET:\n",
        "    train_data = pd.concat([training_set_data, development_set_data])\n",
        "elif USE_DEV_SET and not USE_TRAIN_SET:\n",
        "    train_data = development_set_data\n",
        "elif USE_TRAIN_SET and not USE_DEV_SET:\n",
        "    train_data = training_set_data\n",
        "else:\n",
        "    raise ValueError(\"train_data is empty\")"
      ],
      "execution_count": null,
      "outputs": []
    },
    {
      "cell_type": "markdown",
      "metadata": {
        "id": "8yXl1lBvVT2Y"
      },
      "source": [
        "## Target Prep\n",
        "\n",
        "Khosla points out that the memorability score used in Isola's paper did not take into account the memory retention duration.\n",
        "Cohendet utilized the same idea as Khosla, which involved a decay rate\n",
        "\n",
        "$$\\alpha \\leftarrow \n",
        "\\frac{\\sum^N_{i=1}\\frac{1}{n^{(i)}} \\sum^{n^{(i)}}_{j=1} \\log(\\frac{t^{(i)}_j}{T})[x^{(i)}_j - m^{(i)}_T] }\n",
        "{\\sum^N_{i=1}\\frac{1}{n^{(i)}} \\sum^{n^{(i)}}_{j=1}[ \\log(\\frac{t^{(i)}_j}{T})]^2}\n",
        "$$\n",
        "\n",
        "to calculate memorability \n",
        "$$\n",
        "m_T^{(i)} \\leftarrow\n",
        "\\frac{1}{n^{(i)}} \\sum^{n^{(i)}}_{j=1}[x^{(i)}_j - \\alpha \\log(\\frac{t_j^{(i)}}{T})]\n",
        "$$\n",
        "\n",
        "where we have $n^{(i)}$ observations for image $i$ given by $x^{(i)} \\in {0,1}$ and $t^{(i)}_j$ where $x_j=1$  implies that the image repeat was correctly detected when it shown after time $t_j$\n",
        "\n",
        "IDEA: potentially explore calculating $\\alpha$ per user"
      ]
    },
    {
      "cell_type": "code",
      "metadata": {
        "id": "woV8sDXFVT2Z"
      },
      "source": [
        "from target_augmentation import add_position_delta, calculate_alpha_and_memorability"
      ],
      "execution_count": null,
      "outputs": []
    },
    {
      "cell_type": "code",
      "metadata": {
        "id": "ZT5iAGPNVT2Z"
      },
      "source": [
        "if USE_DEV_SET and USE_TRAIN_SET:\n",
        "    annotations = add_position_delta(pd.concat([\n",
        "        pd.read_csv(\"training_set/short_term_annotations_v2.csv\"),\n",
        "        pd.read_csv(\"development_set/dev_short_term_annotations.csv\")\n",
        "    ]))\n",
        "elif USE_TRAIN_SET and not USE_DEV_SET:\n",
        "    annotations = add_position_delta(pd.read_csv(\"training_set/train_short_term_annotations.csv\"))\n",
        "elif USE_DEV_SET and not USE_TRAIN_SET:\n",
        "    annotations = add_position_delta(pd.read_csv(\"development_set/dev_short_term_annotations.csv\"))\n",
        "else:\n",
        "    raise ValueError(\"annotations is empty\")"
      ],
      "execution_count": null,
      "outputs": []
    },
    {
      "cell_type": "code",
      "metadata": {
        "colab": {
          "base_uri": "https://localhost:8080/"
        },
        "id": "3fK6Wy9KlsUB",
        "outputId": "d858f5cb-8db1-49b9-81e1-2076dc394c47"
      },
      "source": [
        "print(\"Average t:\", np.mean(annotations[\"t\"]))\n",
        "\n",
        "# We use approximately the average_t to calculate T as the memorability in question\n",
        "big_t = int(np.around(np.mean(annotations[\"t\"])))\n",
        "label = f\"m_{big_t}\"\n",
        "print(f\"Calculating adjusted value for {label}\")\n",
        "alpha, adjusted_score = calculate_alpha_and_memorability(annotations, T = big_t)\n",
        "train_data[label] = adjusted_score\n",
        "test_data[label] = np.nan\n",
        "print(f\"Alpha: {alpha}\")"
      ],
      "execution_count": null,
      "outputs": [
        {
          "output_type": "stream",
          "name": "stdout",
          "text": [
            "Average t: 74.96191840735993\n",
            "Calculating adjusted value for m_75\n",
            "Alpha: -0.026433626378523905\n"
          ]
        }
      ]
    },
    {
      "cell_type": "code",
      "metadata": {
        "colab": {
          "base_uri": "https://localhost:8080/"
        },
        "id": "9LUote5imBH-",
        "outputId": "a4991156-8726-406b-cd7d-9dca7a564168"
      },
      "source": [
        "train_scores = pd.read_csv('training_set/train_scores.csv')\n",
        "train_scores.info()"
      ],
      "execution_count": null,
      "outputs": [
        {
          "output_type": "stream",
          "name": "stdout",
          "text": [
            "<class 'pandas.core.frame.DataFrame'>\n",
            "RangeIndex: 588 entries, 0 to 587\n",
            "Data columns (total 8 columns):\n",
            " #   Column                        Non-Null Count  Dtype  \n",
            "---  ------                        --------------  -----  \n",
            " 0   video_id                      588 non-null    int64  \n",
            " 1   video_url                     588 non-null    object \n",
            " 2   annotations_short_term        588 non-null    int64  \n",
            " 3   annotations_long_term         588 non-null    int64  \n",
            " 4   scores_raw_short_term         588 non-null    float64\n",
            " 5   scores_raw_long_term          588 non-null    float64\n",
            " 6   scores_normalized_short_term  588 non-null    float64\n",
            " 7   decay_alpha                   588 non-null    float64\n",
            "dtypes: float64(4), int64(3), object(1)\n",
            "memory usage: 36.9+ KB\n"
          ]
        }
      ]
    },
    {
      "cell_type": "code",
      "metadata": {
        "scrolled": false,
        "id": "iBPqAq9jVT2Z",
        "colab": {
          "base_uri": "https://localhost:8080/",
          "height": 335
        },
        "outputId": "640c9a36-7461-4604-bd1c-c4d30d3e0a40"
      },
      "source": [
        "train_data = train_data.merge(train_scores[['video_id', 'scores_raw_short_term']], on='video_id')\n",
        "target_diff = train_data[\"scores_raw_short_term\"] - train_data[label]\n",
        "print(\"Avg diff:\", np.mean(target_diff))\n",
        "print(\"Max diff:\", np.max(target_diff))\n",
        "print(\"Min diff:\", np.min(target_diff))\n",
        "plt.scatter(train_data[\"scores_raw_short_term\"], train_data[label])\n",
        "plt.xlabel(\"Original memorability score\")\n",
        "plt.ylabel(f\"Adjusted memorability score ({label})\")\n",
        "plt.show()"
      ],
      "execution_count": null,
      "outputs": [
        {
          "output_type": "stream",
          "name": "stdout",
          "text": [
            "Avg diff: 0.00038440999890361136\n",
            "Max diff: 0.007422429973521383\n",
            "Min diff: -0.006598279844217569\n"
          ]
        },
        {
          "output_type": "display_data",
          "data": {
            "image/png": "[encoded data removed]",
            "text/plain": [
              "<Figure size 432x288 with 1 Axes>"
            ]
          },
          "metadata": {
            "needs_background": "light"
          }
        }
      ]
    },
    {
      "cell_type": "markdown",
      "metadata": {
        "id": "2_eo8ho-VT2a"
      },
      "source": [
        "## Data Prep\n",
        "\n",
        "Building datasets\n",
        "\n",
        "potentially weighting samples based on annotations?\n",
        "\n"
      ]
    },
    {
      "cell_type": "code",
      "metadata": {
        "id": "hohUg9oHVT2b"
      },
      "source": [
        "from train import split_training, build_matrixes"
      ],
      "execution_count": null,
      "outputs": []
    },
    {
      "cell_type": "code",
      "metadata": {
        "id": "sKoy3vrXVT2c",
        "colab": {
          "base_uri": "https://localhost:8080/"
        },
        "outputId": "58785492-42e1-442d-e085-cdcc9ee8aa67"
      },
      "source": [
        "training_data, validation_data = split_training(train_data)\n",
        "print(\"training:\",len(training_data))\n",
        "print(\"validation:\", len(validation_data))"
      ],
      "execution_count": null,
      "outputs": [
        {
          "output_type": "stream",
          "name": "stdout",
          "text": [
            "training: 470\n",
            "validation: 118\n"
          ]
        }
      ]
    },
    {
      "cell_type": "markdown",
      "metadata": {
        "id": "2tHgYo_MVT2c"
      },
      "source": [
        "#### Pick Features and Target"
      ]
    },
    {
      "cell_type": "code",
      "metadata": {
        "id": "cA2M2fm2VT2e",
        "colab": {
          "base_uri": "https://localhost:8080/"
        },
        "outputId": "37067436-22f5-4636-9b9b-de378de40d28"
      },
      "source": [
        "features_train, targets_train, video_ids_train = build_matrixes(training_data, target_name = target, feature_name = feature)\n",
        "features_valid, targets_valid, video_ids_valid = build_matrixes(validation_data, target_name = target, feature_name = feature)\n",
        "features_test, targets_test, video_ids_test = build_matrixes(test_data, target_name = target, feature_name = feature, is_test = True)\n",
        "\n",
        "\n",
        "print(\"num videos in training set:\", len(training_data))\n",
        "print(\"num videos in validation set:\", len(validation_data))\n",
        "print(\"num videos in test set:\", len(test_data))\n",
        "print(\"features_train shape:\", features_train.shape)\n",
        "print(\"targets_train shape:\", targets_train.shape)\n",
        "print(\"features_valid shape:\", features_valid.shape)\n",
        "print(\"targets_valid shape:\", targets_valid.shape)\n",
        "total_features = len(features_train) + len(features_valid)\n",
        "unique, count = np.unique(np.concatenate([video_ids_valid, video_ids_train]), return_counts=True)\n",
        "print(\"Total features:\", total_features)\n",
        "print(\"Total videos:\", len(unique))\n",
        "print(\"Avg features per video:\", total_features / len(unique))\n",
        "print(\"Min features per video:\", min(count))\n",
        "print(\"Max features per video:\", max(count))"
      ],
      "execution_count": null,
      "outputs": [
        {
          "output_type": "stream",
          "name": "stdout",
          "text": [
            "num videos in training set: 470\n",
            "num videos in validation set: 118\n",
            "num videos in test set: 500\n",
            "features_train shape: (1758, 86, 300)\n",
            "targets_train shape: (1758, 1)\n",
            "features_valid shape: (426, 86, 300)\n",
            "targets_valid shape: (426, 1)\n",
            "Total features: 2184\n",
            "Total videos: 588\n",
            "Avg features per video: 3.7142857142857144\n",
            "Min features per video: 2\n",
            "Max features per video: 5\n"
          ]
        }
      ]
    },
    {
      "cell_type": "markdown",
      "metadata": {
        "id": "TyNQdNwmVT2g"
      },
      "source": [
        "## Model training"
      ]
    },
    {
      "cell_type": "code",
      "metadata": {
        "scrolled": true,
        "id": "z9sG6MZyVT2g"
      },
      "source": [
        "from train import train_model       "
      ],
      "execution_count": null,
      "outputs": []
    },
    {
      "cell_type": "code",
      "metadata": {
        "scrolled": true,
        "id": "ZUjx7dnUVT2h",
        "colab": {
          "base_uri": "https://localhost:8080/"
        },
        "outputId": "4e13c251-5299-438c-9635-e3ceb3de1ab3"
      },
      "source": [
        "model = train_model(model_type, features_train, targets_train, features_valid, targets_valid, model_parameters)"
      ],
      "execution_count": null,
      "outputs": [
        {
          "output_type": "stream",
          "name": "stdout",
          "text": [
            "input dimensions: (86, 300)\n",
            "hidden dimension: 64\n",
            "WARNING:tensorflow:Layer gru will not use cuDNN kernels since it doesn't meet the criteria. It will use a generic GPU kernel as fallback when running on GPU.\n",
            "Epoch 1/150\n",
            "55/55 [==============================] - 32s 482ms/step - loss: 0.0138 - mse: 0.0138 - mae: 0.0920 - mape: 11.6000 - val_loss: 0.0225 - val_mse: 0.0225 - val_mae: 0.1306 - val_mape: 14.8729\n",
            "Epoch 2/150\n",
            "55/55 [==============================] - 26s 475ms/step - loss: 0.0103 - mse: 0.0103 - mae: 0.0810 - mape: 10.2207 - val_loss: 0.0218 - val_mse: 0.0218 - val_mae: 0.1282 - val_mape: 14.6086\n",
            "Epoch 3/150\n",
            "55/55 [==============================] - 26s 475ms/step - loss: 0.0105 - mse: 0.0105 - mae: 0.0823 - mape: 10.3790 - val_loss: 0.0176 - val_mse: 0.0176 - val_mae: 0.1138 - val_mape: 13.0147\n",
            "Epoch 4/150\n",
            "55/55 [==============================] - 26s 474ms/step - loss: 0.0101 - mse: 0.0101 - mae: 0.0818 - mape: 10.2952 - val_loss: 0.0166 - val_mse: 0.0166 - val_mae: 0.1090 - val_mape: 12.4397\n",
            "Epoch 5/150\n",
            "55/55 [==============================] - 26s 471ms/step - loss: 0.0099 - mse: 0.0099 - mae: 0.0803 - mape: 10.0969 - val_loss: 0.0143 - val_mse: 0.0143 - val_mae: 0.1005 - val_mape: 11.5690\n",
            "Epoch 6/150\n",
            "55/55 [==============================] - 26s 468ms/step - loss: 0.0100 - mse: 0.0100 - mae: 0.0807 - mape: 10.1411 - val_loss: 0.0136 - val_mse: 0.0136 - val_mae: 0.0979 - val_mape: 11.2967\n",
            "Epoch 7/150\n",
            "55/55 [==============================] - 26s 475ms/step - loss: 0.0097 - mse: 0.0097 - mae: 0.0797 - mape: 10.0408 - val_loss: 0.0126 - val_mse: 0.0126 - val_mae: 0.0937 - val_mape: 10.8450\n",
            "Epoch 8/150\n",
            "55/55 [==============================] - 25s 463ms/step - loss: 0.0098 - mse: 0.0098 - mae: 0.0791 - mape: 9.9501 - val_loss: 0.0109 - val_mse: 0.0109 - val_mae: 0.0866 - val_mape: 10.1540\n",
            "Epoch 9/150\n",
            "55/55 [==============================] - 26s 473ms/step - loss: 0.0100 - mse: 0.0100 - mae: 0.0803 - mape: 10.1436 - val_loss: 0.0160 - val_mse: 0.0160 - val_mae: 0.1078 - val_mape: 12.3422\n",
            "Epoch 10/150\n",
            "55/55 [==============================] - 26s 466ms/step - loss: 0.0098 - mse: 0.0098 - mae: 0.0799 - mape: 10.0148 - val_loss: 0.0112 - val_mse: 0.0112 - val_mae: 0.0885 - val_mape: 10.3337\n",
            "Epoch 11/150\n",
            "55/55 [==============================] - 26s 465ms/step - loss: 0.0095 - mse: 0.0095 - mae: 0.0774 - mape: 9.7690 - val_loss: 0.0125 - val_mse: 0.0125 - val_mae: 0.0937 - val_mape: 10.8492\n",
            "Epoch 12/150\n",
            "55/55 [==============================] - 26s 475ms/step - loss: 0.0095 - mse: 0.0095 - mae: 0.0792 - mape: 9.9471 - val_loss: 0.0097 - val_mse: 0.0097 - val_mae: 0.0811 - val_mape: 9.5667\n",
            "Epoch 13/150\n",
            "55/55 [==============================] - 26s 469ms/step - loss: 0.0096 - mse: 0.0096 - mae: 0.0791 - mape: 9.9729 - val_loss: 0.0098 - val_mse: 0.0098 - val_mae: 0.0812 - val_mape: 9.5426\n",
            "Epoch 14/150\n",
            "55/55 [==============================] - 26s 474ms/step - loss: 0.0095 - mse: 0.0095 - mae: 0.0780 - mape: 9.8069 - val_loss: 0.0090 - val_mse: 0.0090 - val_mae: 0.0777 - val_mape: 9.2792\n",
            "Epoch 15/150\n",
            "55/55 [==============================] - 26s 478ms/step - loss: 0.0091 - mse: 0.0091 - mae: 0.0775 - mape: 9.7528 - val_loss: 0.0098 - val_mse: 0.0098 - val_mae: 0.0817 - val_mape: 9.6286\n",
            "Epoch 16/150\n",
            "55/55 [==============================] - 27s 484ms/step - loss: 0.0091 - mse: 0.0091 - mae: 0.0768 - mape: 9.6614 - val_loss: 0.0154 - val_mse: 0.0154 - val_mae: 0.1054 - val_mape: 12.0722\n",
            "Epoch 17/150\n",
            "55/55 [==============================] - 26s 481ms/step - loss: 0.0092 - mse: 0.0092 - mae: 0.0770 - mape: 9.6955 - val_loss: 0.0091 - val_mse: 0.0091 - val_mae: 0.0779 - val_mape: 9.2618\n",
            "Epoch 18/150\n",
            "55/55 [==============================] - 26s 479ms/step - loss: 0.0089 - mse: 0.0089 - mae: 0.0766 - mape: 9.6400 - val_loss: 0.0092 - val_mse: 0.0092 - val_mae: 0.0786 - val_mape: 9.3250\n",
            "Epoch 19/150\n",
            "55/55 [==============================] - 26s 472ms/step - loss: 0.0094 - mse: 0.0094 - mae: 0.0784 - mape: 9.8753 - val_loss: 0.0109 - val_mse: 0.0109 - val_mae: 0.0868 - val_mape: 10.1101\n",
            "Epoch 20/150\n",
            "55/55 [==============================] - 26s 468ms/step - loss: 0.0092 - mse: 0.0092 - mae: 0.0773 - mape: 9.7263 - val_loss: 0.0132 - val_mse: 0.0132 - val_mae: 0.0968 - val_mape: 11.1422\n",
            "Epoch 21/150\n",
            "55/55 [==============================] - 26s 478ms/step - loss: 0.0092 - mse: 0.0092 - mae: 0.0777 - mape: 9.7621 - val_loss: 0.0108 - val_mse: 0.0108 - val_mae: 0.0862 - val_mape: 10.0351\n",
            "Epoch 22/150\n",
            "55/55 [==============================] - 26s 473ms/step - loss: 0.0088 - mse: 0.0088 - mae: 0.0754 - mape: 9.4987 - val_loss: 0.0092 - val_mse: 0.0092 - val_mae: 0.0789 - val_mape: 9.3177\n",
            "Epoch 23/150\n",
            "55/55 [==============================] - 26s 475ms/step - loss: 0.0088 - mse: 0.0088 - mae: 0.0754 - mape: 9.4840 - val_loss: 0.0089 - val_mse: 0.0089 - val_mae: 0.0768 - val_mape: 9.1157\n",
            "Epoch 24/150\n",
            "55/55 [==============================] - 26s 476ms/step - loss: 0.0089 - mse: 0.0089 - mae: 0.0759 - mape: 9.5444 - val_loss: 0.0092 - val_mse: 0.0092 - val_mae: 0.0787 - val_mape: 9.2698\n",
            "Epoch 25/150\n",
            "55/55 [==============================] - 26s 479ms/step - loss: 0.0087 - mse: 0.0087 - mae: 0.0755 - mape: 9.5201 - val_loss: 0.0085 - val_mse: 0.0085 - val_mae: 0.0745 - val_mape: 8.9000\n",
            "Epoch 26/150\n",
            "55/55 [==============================] - 26s 478ms/step - loss: 0.0085 - mse: 0.0085 - mae: 0.0749 - mape: 9.4149 - val_loss: 0.0092 - val_mse: 0.0092 - val_mae: 0.0789 - val_mape: 9.2985\n",
            "Epoch 27/150\n",
            "55/55 [==============================] - 26s 475ms/step - loss: 0.0085 - mse: 0.0085 - mae: 0.0743 - mape: 9.3605 - val_loss: 0.0109 - val_mse: 0.0109 - val_mae: 0.0862 - val_mape: 10.0293\n",
            "Epoch 28/150\n",
            "55/55 [==============================] - 26s 479ms/step - loss: 0.0085 - mse: 0.0085 - mae: 0.0742 - mape: 9.3428 - val_loss: 0.0093 - val_mse: 0.0093 - val_mae: 0.0784 - val_mape: 9.2469\n",
            "Epoch 29/150\n",
            "55/55 [==============================] - 26s 478ms/step - loss: 0.0086 - mse: 0.0086 - mae: 0.0756 - mape: 9.4768 - val_loss: 0.0080 - val_mse: 0.0080 - val_mae: 0.0714 - val_mape: 8.5939\n",
            "Epoch 30/150\n",
            "55/55 [==============================] - 27s 485ms/step - loss: 0.0085 - mse: 0.0085 - mae: 0.0745 - mape: 9.3809 - val_loss: 0.0080 - val_mse: 0.0080 - val_mae: 0.0717 - val_mape: 8.6356\n",
            "Epoch 31/150\n",
            "55/55 [==============================] - 26s 476ms/step - loss: 0.0087 - mse: 0.0087 - mae: 0.0751 - mape: 9.4764 - val_loss: 0.0089 - val_mse: 0.0089 - val_mae: 0.0771 - val_mape: 9.1023\n",
            "Epoch 32/150\n",
            "55/55 [==============================] - 26s 478ms/step - loss: 0.0083 - mse: 0.0083 - mae: 0.0740 - mape: 9.3087 - val_loss: 0.0086 - val_mse: 0.0086 - val_mae: 0.0749 - val_mape: 8.8957\n",
            "Epoch 33/150\n",
            "55/55 [==============================] - 26s 478ms/step - loss: 0.0083 - mse: 0.0083 - mae: 0.0742 - mape: 9.3338 - val_loss: 0.0082 - val_mse: 0.0082 - val_mae: 0.0723 - val_mape: 8.6672\n",
            "Epoch 34/150\n",
            "55/55 [==============================] - 26s 475ms/step - loss: 0.0080 - mse: 0.0080 - mae: 0.0729 - mape: 9.1858 - val_loss: 0.0085 - val_mse: 0.0085 - val_mae: 0.0745 - val_mape: 8.8442\n",
            "Epoch 35/150\n",
            "55/55 [==============================] - 26s 473ms/step - loss: 0.0084 - mse: 0.0084 - mae: 0.0739 - mape: 9.3160 - val_loss: 0.0093 - val_mse: 0.0093 - val_mae: 0.0784 - val_mape: 9.2063\n",
            "Epoch 36/150\n",
            "55/55 [==============================] - 26s 482ms/step - loss: 0.0082 - mse: 0.0082 - mae: 0.0732 - mape: 9.2014 - val_loss: 0.0077 - val_mse: 0.0077 - val_mae: 0.0684 - val_mape: 8.3382\n",
            "Epoch 37/150\n",
            "55/55 [==============================] - 26s 481ms/step - loss: 0.0086 - mse: 0.0086 - mae: 0.0744 - mape: 9.3833 - val_loss: 0.0086 - val_mse: 0.0086 - val_mae: 0.0749 - val_mape: 8.8578\n",
            "Epoch 38/150\n",
            "55/55 [==============================] - 26s 480ms/step - loss: 0.0085 - mse: 0.0085 - mae: 0.0743 - mape: 9.3499 - val_loss: 0.0079 - val_mse: 0.0079 - val_mae: 0.0707 - val_mape: 8.4692\n",
            "Epoch 39/150\n",
            "55/55 [==============================] - 27s 483ms/step - loss: 0.0083 - mse: 0.0083 - mae: 0.0734 - mape: 9.2468 - val_loss: 0.0079 - val_mse: 0.0079 - val_mae: 0.0705 - val_mape: 8.4656\n",
            "Epoch 40/150\n",
            "55/55 [==============================] - 26s 477ms/step - loss: 0.0082 - mse: 0.0082 - mae: 0.0723 - mape: 9.1103 - val_loss: 0.0080 - val_mse: 0.0080 - val_mae: 0.0709 - val_mape: 8.4956\n",
            "Epoch 41/150\n",
            "55/55 [==============================] - 26s 478ms/step - loss: 0.0081 - mse: 0.0081 - mae: 0.0728 - mape: 9.1661 - val_loss: 0.0079 - val_mse: 0.0079 - val_mae: 0.0705 - val_mape: 8.4463\n",
            "Epoch 42/150\n",
            "55/55 [==============================] - 26s 477ms/step - loss: 0.0083 - mse: 0.0083 - mae: 0.0730 - mape: 9.1972 - val_loss: 0.0083 - val_mse: 0.0083 - val_mae: 0.0726 - val_mape: 8.6674\n",
            "Epoch 43/150\n",
            "55/55 [==============================] - 26s 469ms/step - loss: 0.0081 - mse: 0.0081 - mae: 0.0730 - mape: 9.1927 - val_loss: 0.0076 - val_mse: 0.0076 - val_mae: 0.0680 - val_mape: 8.2850\n",
            "Epoch 44/150\n",
            "55/55 [==============================] - 26s 474ms/step - loss: 0.0082 - mse: 0.0082 - mae: 0.0735 - mape: 9.2430 - val_loss: 0.0085 - val_mse: 0.0085 - val_mae: 0.0741 - val_mape: 8.7746\n",
            "Epoch 45/150\n",
            "55/55 [==============================] - 26s 475ms/step - loss: 0.0081 - mse: 0.0081 - mae: 0.0721 - mape: 9.0919 - val_loss: 0.0081 - val_mse: 0.0081 - val_mae: 0.0718 - val_mape: 8.5755\n",
            "Epoch 46/150\n",
            "55/55 [==============================] - 26s 472ms/step - loss: 0.0081 - mse: 0.0081 - mae: 0.0731 - mape: 9.2057 - val_loss: 0.0081 - val_mse: 0.0081 - val_mae: 0.0717 - val_mape: 8.5416\n",
            "Epoch 47/150\n",
            "55/55 [==============================] - 26s 476ms/step - loss: 0.0077 - mse: 0.0077 - mae: 0.0707 - mape: 8.9175 - val_loss: 0.0084 - val_mse: 0.0084 - val_mae: 0.0733 - val_mape: 8.6944\n",
            "Epoch 48/150\n",
            "55/55 [==============================] - 27s 488ms/step - loss: 0.0082 - mse: 0.0082 - mae: 0.0732 - mape: 9.2020 - val_loss: 0.0084 - val_mse: 0.0084 - val_mae: 0.0731 - val_mape: 8.6925\n",
            "Epoch 49/150\n",
            "55/55 [==============================] - 26s 481ms/step - loss: 0.0080 - mse: 0.0080 - mae: 0.0722 - mape: 9.1109 - val_loss: 0.0081 - val_mse: 0.0081 - val_mae: 0.0713 - val_mape: 8.5251\n",
            "Epoch 50/150\n",
            "55/55 [==============================] - 26s 477ms/step - loss: 0.0081 - mse: 0.0081 - mae: 0.0727 - mape: 9.1404 - val_loss: 0.0078 - val_mse: 0.0078 - val_mae: 0.0696 - val_mape: 8.3602\n",
            "Epoch 51/150\n",
            "55/55 [==============================] - 26s 475ms/step - loss: 0.0079 - mse: 0.0079 - mae: 0.0718 - mape: 9.0364 - val_loss: 0.0080 - val_mse: 0.0080 - val_mae: 0.0716 - val_mape: 8.5637\n",
            "Epoch 52/150\n",
            "55/55 [==============================] - 26s 473ms/step - loss: 0.0081 - mse: 0.0081 - mae: 0.0725 - mape: 9.1379 - val_loss: 0.0084 - val_mse: 0.0084 - val_mae: 0.0740 - val_mape: 8.7581\n",
            "Epoch 53/150\n",
            "55/55 [==============================] - 26s 472ms/step - loss: 0.0079 - mse: 0.0079 - mae: 0.0717 - mape: 9.0181 - val_loss: 0.0080 - val_mse: 0.0080 - val_mae: 0.0709 - val_mape: 8.4967\n",
            "Epoch 54/150\n",
            "55/55 [==============================] - 26s 474ms/step - loss: 0.0078 - mse: 0.0078 - mae: 0.0711 - mape: 8.9649 - val_loss: 0.0092 - val_mse: 0.0092 - val_mae: 0.0777 - val_mape: 9.1248\n",
            "Epoch 55/150\n",
            "55/55 [==============================] - 26s 469ms/step - loss: 0.0078 - mse: 0.0078 - mae: 0.0707 - mape: 8.9056 - val_loss: 0.0084 - val_mse: 0.0084 - val_mae: 0.0738 - val_mape: 8.7541\n",
            "Epoch 56/150\n",
            "55/55 [==============================] - 26s 471ms/step - loss: 0.0080 - mse: 0.0080 - mae: 0.0721 - mape: 9.0517 - val_loss: 0.0083 - val_mse: 0.0083 - val_mae: 0.0727 - val_mape: 8.6572\n",
            "Epoch 57/150\n",
            "55/55 [==============================] - 26s 467ms/step - loss: 0.0078 - mse: 0.0078 - mae: 0.0717 - mape: 9.0293 - val_loss: 0.0083 - val_mse: 0.0083 - val_mae: 0.0730 - val_mape: 8.6624\n",
            "Epoch 58/150\n",
            "55/55 [==============================] - 26s 469ms/step - loss: 0.0079 - mse: 0.0079 - mae: 0.0722 - mape: 9.0825 - val_loss: 0.0078 - val_mse: 0.0078 - val_mae: 0.0692 - val_mape: 8.3598\n",
            "Epoch 59/150\n",
            "55/55 [==============================] - 26s 470ms/step - loss: 0.0079 - mse: 0.0079 - mae: 0.0717 - mape: 9.0405 - val_loss: 0.0076 - val_mse: 0.0076 - val_mae: 0.0686 - val_mape: 8.3017\n",
            "Epoch 60/150\n",
            "55/55 [==============================] - 26s 480ms/step - loss: 0.0078 - mse: 0.0078 - mae: 0.0713 - mape: 8.9904 - val_loss: 0.0078 - val_mse: 0.0078 - val_mae: 0.0701 - val_mape: 8.4071\n",
            "Epoch 61/150\n",
            "55/55 [==============================] - 26s 465ms/step - loss: 0.0077 - mse: 0.0077 - mae: 0.0705 - mape: 8.8547 - val_loss: 0.0082 - val_mse: 0.0082 - val_mae: 0.0719 - val_mape: 8.5729\n",
            "Epoch 62/150\n",
            "55/55 [==============================] - 26s 470ms/step - loss: 0.0077 - mse: 0.0077 - mae: 0.0704 - mape: 8.8788 - val_loss: 0.0083 - val_mse: 0.0083 - val_mae: 0.0728 - val_mape: 8.6660\n",
            "Epoch 63/150\n",
            "55/55 [==============================] - 26s 475ms/step - loss: 0.0079 - mse: 0.0079 - mae: 0.0713 - mape: 8.9811 - val_loss: 0.0082 - val_mse: 0.0082 - val_mae: 0.0728 - val_mape: 8.6308\n",
            "Epoch 64/150\n",
            "55/55 [==============================] - 27s 483ms/step - loss: 0.0080 - mse: 0.0080 - mae: 0.0728 - mape: 9.1477 - val_loss: 0.0082 - val_mse: 0.0082 - val_mae: 0.0725 - val_mape: 8.6146\n",
            "Epoch 65/150\n",
            "55/55 [==============================] - 26s 477ms/step - loss: 0.0076 - mse: 0.0076 - mae: 0.0702 - mape: 8.8393 - val_loss: 0.0076 - val_mse: 0.0076 - val_mae: 0.0683 - val_mape: 8.2901\n",
            "Epoch 66/150\n",
            "55/55 [==============================] - 27s 489ms/step - loss: 0.0077 - mse: 0.0077 - mae: 0.0712 - mape: 8.9696 - val_loss: 0.0085 - val_mse: 0.0085 - val_mae: 0.0737 - val_mape: 8.7236\n",
            "Epoch 67/150\n",
            "55/55 [==============================] - 26s 473ms/step - loss: 0.0078 - mse: 0.0078 - mae: 0.0719 - mape: 9.0345 - val_loss: 0.0085 - val_mse: 0.0085 - val_mae: 0.0735 - val_mape: 8.7062\n",
            "Epoch 68/150\n",
            "55/55 [==============================] - 26s 473ms/step - loss: 0.0078 - mse: 0.0078 - mae: 0.0714 - mape: 8.9994 - val_loss: 0.0081 - val_mse: 0.0081 - val_mae: 0.0715 - val_mape: 8.5190\n",
            "Epoch 69/150\n",
            "55/55 [==============================] - 26s 475ms/step - loss: 0.0077 - mse: 0.0077 - mae: 0.0702 - mape: 8.8418 - val_loss: 0.0077 - val_mse: 0.0077 - val_mae: 0.0687 - val_mape: 8.2900\n",
            "Epoch 70/150\n",
            "55/55 [==============================] - 25s 463ms/step - loss: 0.0074 - mse: 0.0074 - mae: 0.0698 - mape: 8.7704 - val_loss: 0.0076 - val_mse: 0.0076 - val_mae: 0.0671 - val_mape: 8.1950\n",
            "Epoch 71/150\n",
            "55/55 [==============================] - 26s 477ms/step - loss: 0.0079 - mse: 0.0079 - mae: 0.0717 - mape: 9.0158 - val_loss: 0.0077 - val_mse: 0.0077 - val_mae: 0.0695 - val_mape: 8.3473\n",
            "Epoch 72/150\n",
            "55/55 [==============================] - 26s 472ms/step - loss: 0.0074 - mse: 0.0074 - mae: 0.0690 - mape: 8.6836 - val_loss: 0.0075 - val_mse: 0.0075 - val_mae: 0.0677 - val_mape: 8.2158\n",
            "Epoch 73/150\n",
            "55/55 [==============================] - 26s 472ms/step - loss: 0.0076 - mse: 0.0076 - mae: 0.0698 - mape: 8.7955 - val_loss: 0.0076 - val_mse: 0.0076 - val_mae: 0.0688 - val_mape: 8.2542\n",
            "Epoch 74/150\n",
            "55/55 [==============================] - 26s 476ms/step - loss: 0.0076 - mse: 0.0076 - mae: 0.0706 - mape: 8.8732 - val_loss: 0.0073 - val_mse: 0.0073 - val_mae: 0.0661 - val_mape: 8.0825\n",
            "Epoch 75/150\n",
            "55/55 [==============================] - 26s 475ms/step - loss: 0.0077 - mse: 0.0077 - mae: 0.0708 - mape: 8.8960 - val_loss: 0.0075 - val_mse: 0.0075 - val_mae: 0.0681 - val_mape: 8.2220\n",
            "Epoch 76/150\n",
            "55/55 [==============================] - 26s 480ms/step - loss: 0.0078 - mse: 0.0078 - mae: 0.0716 - mape: 9.0064 - val_loss: 0.0090 - val_mse: 0.0090 - val_mae: 0.0762 - val_mape: 8.9685\n",
            "Epoch 77/150\n",
            "55/55 [==============================] - 26s 475ms/step - loss: 0.0074 - mse: 0.0074 - mae: 0.0691 - mape: 8.6744 - val_loss: 0.0076 - val_mse: 0.0076 - val_mae: 0.0677 - val_mape: 8.2468\n",
            "Epoch 78/150\n",
            "55/55 [==============================] - 26s 478ms/step - loss: 0.0074 - mse: 0.0074 - mae: 0.0698 - mape: 8.7879 - val_loss: 0.0074 - val_mse: 0.0074 - val_mae: 0.0675 - val_mape: 8.1266\n",
            "Epoch 79/150\n",
            "55/55 [==============================] - 26s 470ms/step - loss: 0.0078 - mse: 0.0078 - mae: 0.0713 - mape: 8.9556 - val_loss: 0.0083 - val_mse: 0.0083 - val_mae: 0.0724 - val_mape: 8.6006\n",
            "Epoch 80/150\n",
            "55/55 [==============================] - 26s 475ms/step - loss: 0.0074 - mse: 0.0074 - mae: 0.0692 - mape: 8.6949 - val_loss: 0.0076 - val_mse: 0.0076 - val_mae: 0.0686 - val_mape: 8.2718\n",
            "Epoch 81/150\n",
            "55/55 [==============================] - 26s 476ms/step - loss: 0.0074 - mse: 0.0074 - mae: 0.0695 - mape: 8.7579 - val_loss: 0.0076 - val_mse: 0.0076 - val_mae: 0.0680 - val_mape: 8.2182\n",
            "Epoch 82/150\n",
            "55/55 [==============================] - 27s 489ms/step - loss: 0.0078 - mse: 0.0078 - mae: 0.0715 - mape: 8.9836 - val_loss: 0.0077 - val_mse: 0.0077 - val_mae: 0.0689 - val_mape: 8.2739\n",
            "Epoch 83/150\n",
            "55/55 [==============================] - 27s 486ms/step - loss: 0.0074 - mse: 0.0074 - mae: 0.0688 - mape: 8.6627 - val_loss: 0.0076 - val_mse: 0.0076 - val_mae: 0.0684 - val_mape: 8.2585\n",
            "Epoch 84/150\n",
            "55/55 [==============================] - 26s 481ms/step - loss: 0.0073 - mse: 0.0073 - mae: 0.0685 - mape: 8.6312 - val_loss: 0.0080 - val_mse: 0.0080 - val_mae: 0.0713 - val_mape: 8.5017\n",
            "Epoch 85/150\n",
            "55/55 [==============================] - 26s 478ms/step - loss: 0.0074 - mse: 0.0074 - mae: 0.0688 - mape: 8.6667 - val_loss: 0.0085 - val_mse: 0.0085 - val_mae: 0.0735 - val_mape: 8.7186\n",
            "Epoch 86/150\n",
            "55/55 [==============================] - 26s 478ms/step - loss: 0.0075 - mse: 0.0075 - mae: 0.0702 - mape: 8.8124 - val_loss: 0.0076 - val_mse: 0.0076 - val_mae: 0.0685 - val_mape: 8.2396\n",
            "Epoch 87/150\n",
            "55/55 [==============================] - 26s 476ms/step - loss: 0.0073 - mse: 0.0073 - mae: 0.0687 - mape: 8.6396 - val_loss: 0.0084 - val_mse: 0.0084 - val_mae: 0.0721 - val_mape: 8.5924\n",
            "Epoch 88/150\n",
            "55/55 [==============================] - 26s 477ms/step - loss: 0.0073 - mse: 0.0073 - mae: 0.0686 - mape: 8.6439 - val_loss: 0.0079 - val_mse: 0.0079 - val_mae: 0.0692 - val_mape: 8.3096\n",
            "Epoch 89/150\n",
            "55/55 [==============================] - 26s 479ms/step - loss: 0.0072 - mse: 0.0072 - mae: 0.0683 - mape: 8.5877 - val_loss: 0.0080 - val_mse: 0.0080 - val_mae: 0.0706 - val_mape: 8.4608\n",
            "Epoch 90/150\n",
            "55/55 [==============================] - 26s 472ms/step - loss: 0.0072 - mse: 0.0072 - mae: 0.0688 - mape: 8.6549 - val_loss: 0.0085 - val_mse: 0.0085 - val_mae: 0.0735 - val_mape: 8.7401\n",
            "Epoch 91/150\n",
            "55/55 [==============================] - 26s 471ms/step - loss: 0.0072 - mse: 0.0072 - mae: 0.0676 - mape: 8.5004 - val_loss: 0.0076 - val_mse: 0.0076 - val_mae: 0.0681 - val_mape: 8.2429\n",
            "Epoch 92/150\n",
            "55/55 [==============================] - 26s 479ms/step - loss: 0.0075 - mse: 0.0075 - mae: 0.0698 - mape: 8.7849 - val_loss: 0.0080 - val_mse: 0.0080 - val_mae: 0.0708 - val_mape: 8.4569\n",
            "Epoch 93/150\n",
            "55/55 [==============================] - 26s 474ms/step - loss: 0.0074 - mse: 0.0074 - mae: 0.0700 - mape: 8.7921 - val_loss: 0.0075 - val_mse: 0.0075 - val_mae: 0.0674 - val_mape: 8.1493\n",
            "Epoch 94/150\n",
            "55/55 [==============================] - 26s 477ms/step - loss: 0.0073 - mse: 0.0073 - mae: 0.0692 - mape: 8.6787 - val_loss: 0.0080 - val_mse: 0.0080 - val_mae: 0.0701 - val_mape: 8.4235\n",
            "Epoch 95/150\n",
            "55/55 [==============================] - 26s 473ms/step - loss: 0.0072 - mse: 0.0072 - mae: 0.0685 - mape: 8.5993 - val_loss: 0.0079 - val_mse: 0.0079 - val_mae: 0.0695 - val_mape: 8.3529\n",
            "Epoch 96/150\n",
            "55/55 [==============================] - 26s 470ms/step - loss: 0.0071 - mse: 0.0071 - mae: 0.0680 - mape: 8.5674 - val_loss: 0.0078 - val_mse: 0.0078 - val_mae: 0.0692 - val_mape: 8.3486\n",
            "Epoch 97/150\n",
            "55/55 [==============================] - 26s 473ms/step - loss: 0.0072 - mse: 0.0072 - mae: 0.0674 - mape: 8.4800 - val_loss: 0.0081 - val_mse: 0.0081 - val_mae: 0.0702 - val_mape: 8.4222\n",
            "Epoch 98/150\n",
            "55/55 [==============================] - 26s 475ms/step - loss: 0.0072 - mse: 0.0072 - mae: 0.0685 - mape: 8.5994 - val_loss: 0.0077 - val_mse: 0.0077 - val_mae: 0.0689 - val_mape: 8.3056\n",
            "Epoch 99/150\n",
            "55/55 [==============================] - 26s 476ms/step - loss: 0.0071 - mse: 0.0071 - mae: 0.0678 - mape: 8.5030 - val_loss: 0.0079 - val_mse: 0.0079 - val_mae: 0.0688 - val_mape: 8.3173\n",
            "Epoch 100/150\n",
            "55/55 [==============================] - 26s 479ms/step - loss: 0.0072 - mse: 0.0072 - mae: 0.0685 - mape: 8.5999 - val_loss: 0.0077 - val_mse: 0.0077 - val_mae: 0.0688 - val_mape: 8.2761\n",
            "Epoch 101/150\n",
            "55/55 [==============================] - 26s 478ms/step - loss: 0.0069 - mse: 0.0069 - mae: 0.0670 - mape: 8.3970 - val_loss: 0.0080 - val_mse: 0.0080 - val_mae: 0.0702 - val_mape: 8.3817\n",
            "Epoch 102/150\n",
            "55/55 [==============================] - 26s 474ms/step - loss: 0.0072 - mse: 0.0072 - mae: 0.0684 - mape: 8.5915 - val_loss: 0.0079 - val_mse: 0.0079 - val_mae: 0.0700 - val_mape: 8.3562\n",
            "Epoch 103/150\n",
            "55/55 [==============================] - 26s 469ms/step - loss: 0.0071 - mse: 0.0071 - mae: 0.0681 - mape: 8.5613 - val_loss: 0.0078 - val_mse: 0.0078 - val_mae: 0.0693 - val_mape: 8.3122\n",
            "Epoch 104/150\n",
            "55/55 [==============================] - 26s 467ms/step - loss: 0.0071 - mse: 0.0071 - mae: 0.0678 - mape: 8.5169 - val_loss: 0.0077 - val_mse: 0.0077 - val_mae: 0.0684 - val_mape: 8.2794\n",
            "Restoring model weights from the end of the best epoch.\n",
            "Epoch 00104: early stopping\n"
          ]
        }
      ]
    },
    {
      "cell_type": "markdown",
      "metadata": {
        "id": "QboEapcKVT2h"
      },
      "source": [
        "## Test\n",
        "\n",
        "Spearman's rank correlation, ROC curves, etc"
      ]
    },
    {
      "cell_type": "code",
      "metadata": {
        "id": "TX2ciKpKVT2h"
      },
      "source": [
        "from train import get_predictions\n",
        "\n",
        "predictions, actuals, _ = get_predictions(\n",
        "    model_type, model, features_valid, targets_valid, video_ids_valid, aggregate_with=aggregate_with\n",
        ")"
      ],
      "execution_count": null,
      "outputs": []
    },
    {
      "cell_type": "code",
      "metadata": {
        "scrolled": false,
        "id": "doN3okHpVT2i",
        "colab": {
          "base_uri": "https://localhost:8080/",
          "height": 532
        },
        "outputId": "83ebec3f-37ac-4a73-d029-341bbf5cd6b6"
      },
      "source": [
        "spearman_rank, _ = stats.spearmanr(actuals, predictions)\n",
        "print(\"SPEARMAN RANK:\",spearman_rank)\n",
        "\n",
        "fig, ax = plt.subplots(1, figsize=(8,8))\n",
        "min_mem = min(np.min(actuals), np.min(predictions))\n",
        "max_mem = max(np.max(actuals), np.max(predictions))\n",
        "plt.scatter(actuals, predictions, label = f\"Spearman rank correlation = {spearman_rank}\")\n",
        "# plt.plot([min_mem, max_mem], [min_mem, max_mem], label=\"1 to 1\")\n",
        "plt.title(f\"actual {target} vs predicted {target}\")\n",
        "plt.legend()\n",
        "plt.ylabel(\"predictions\")\n",
        "plt.xlabel(\"actual\")\n",
        "plt.show()"
      ],
      "execution_count": null,
      "outputs": [
        {
          "output_type": "stream",
          "name": "stdout",
          "text": [
            "SPEARMAN RANK: 0.30283143244259897\n"
          ]
        },
        {
          "output_type": "display_data",
          "data": {
            "image/png": "[encoded data removed]",
            "text/plain": [
              "<Figure size 576x576 with 1 Axes>"
            ]
          },
          "metadata": {
            "needs_background": "light"
          }
        }
      ]
    },
    {
      "cell_type": "markdown",
      "metadata": {
        "id": "3zaUtVaJVT2j"
      },
      "source": [
        "# Saving Predictions\n"
      ]
    },
    {
      "cell_type": "code",
      "metadata": {
        "id": "trT0ONvIVT2k"
      },
      "source": [
        "pred_train, actual_train, vid_train = get_predictions(model_type, model, features_train, targets_train, video_ids_train, aggregate_with=aggregate_with)\n",
        "pred_valid, actual_valid, vid_valid = get_predictions(model_type, model, features_valid, targets_valid, video_ids_valid, aggregate_with=aggregate_with)\n",
        "pred_test, actual_test, vid_test = get_predictions(model_type, model, features_test, targets_test, video_ids_test, aggregate_with=aggregate_with)"
      ],
      "execution_count": null,
      "outputs": []
    },
    {
      "cell_type": "code",
      "metadata": {
        "id": "mUy9FyIiVT2k",
        "colab": {
          "base_uri": "https://localhost:8080/"
        },
        "outputId": "7ab84308-8ceb-49c4-baa0-be99423f0c69"
      },
      "source": [
        "print(\"Validation spearman rank:\", stats.spearmanr(actual_valid, pred_valid)[0])\n",
        "print(\"Training spearman rank:\", stats.spearmanr(actual_train, pred_train)[0])"
      ],
      "execution_count": null,
      "outputs": [
        {
          "output_type": "stream",
          "name": "stdout",
          "text": [
            "Validation spearman rank: 0.30283143244259897\n",
            "Training spearman rank: 0.6613694155219323\n"
          ]
        }
      ]
    },
    {
      "cell_type": "code",
      "metadata": {
        "id": "uqqHxLmTVT2l"
      },
      "source": [
        "predictions = np.concatenate([pred_train, pred_valid, pred_test])\n",
        "actuals = np.concatenate([actual_train, actual_valid, actual_test])\n",
        "video_ids = np.concatenate([vid_train, vid_valid, vid_test])\n",
        "in_training_set = np.array(np.concatenate([np.ones(len(pred_train)), np.zeros(len(pred_valid + pred_test))]), dtype=bool)"
      ],
      "execution_count": null,
      "outputs": []
    },
    {
      "cell_type": "code",
      "metadata": {
        "id": "O_gyFzqIVT2l"
      },
      "source": [
        "default_prediction = np.mean(predictions)\n",
        "for vid in train_data.index:\n",
        "    if vid not in video_ids:\n",
        "        print(f\"Adding vid {vid} with default prediction {default_prediction}\")\n",
        "        video_ids = np.append(video_ids, vid)\n",
        "        predictions = np.append(predictions, default_prediction)\n",
        "        in_training_set = np.append(in_training_set, vid in training_data.index)\n",
        "        actuals = np.append(actuals, train_data.loc[vid][target])\n",
        "        \n",
        "for vid in test_data.index:\n",
        "    if vid not in video_ids:\n",
        "        video_ids = np.append(video_ids, vid)\n",
        "        predictions = np.append(predictions, default_prediction)\n",
        "        in_training_set = np.append(in_training_set, False)\n",
        "        actuals = np.append(actuals, np.nan)"
      ],
      "execution_count": null,
      "outputs": []
    },
    {
      "cell_type": "code",
      "metadata": {
        "id": "MM4RquHqVT2m"
      },
      "source": [
        "assert len(predictions) == len(actuals) == len(video_ids) == len(in_training_set) == len(train_data) + len(test_data)"
      ],
      "execution_count": null,
      "outputs": []
    },
    {
      "cell_type": "code",
      "metadata": {
        "id": "1x71CciiVT2m"
      },
      "source": [
        "def save_predictions(model_name, video_ids, actuals, predictions, in_training_set, model_parameters, predictions_dir = PREDICTIONS_DIR):\n",
        "\n",
        "    if not os.path.exists(predictions_dir):\n",
        "        os.mkdir(predictions_dir)\n",
        "        \n",
        "    model_data_dir = f\"{predictions_dir}/model_data.csv\"\n",
        "    if not os.path.exists(model_data_dir):\n",
        "        model_data = pd.DataFrame(columns=[\"name\", \"validation_spearman_rank\", \"type\", \"feature\", \"parameters\", \"predictions\", \"is_short_term\", \"seed\", \"notes\"])\n",
        "    else:\n",
        "        model_data = pd.read_csv(model_data_dir)\n",
        "        \n",
        "    model_dir = f\"{predictions_dir}/{model_name}\"\n",
        "    if not os.path.exists(model_dir):\n",
        "        os.mkdir(model_dir)\n",
        "        \n",
        "    pred_filename = f\"{model_dir}/{'st' if IS_SHORT_TERM else 'lt'}-{RANDOM_SEED}.csv\"\n",
        "    \n",
        "    valid_spearman_rank, _ = stats.spearmanr(actuals[in_training_set], predictions[in_training_set])\n",
        "    \n",
        "    pred_data = pd.DataFrame({\n",
        "        \"video_id\": video_ids,\n",
        "        \"prediction\": predictions,\n",
        "        \"actual\": actuals,\n",
        "        \"in_training_set\": in_training_set\n",
        "    }).sort_values(\"video_id\")\n",
        "    \n",
        "    pred_data.to_csv(pred_filename, index = False)\n",
        "    \n",
        "    model_info = {\n",
        "        \"name\": model_name,\n",
        "        \"type\": model_type,\n",
        "        \"feature\": feature,\n",
        "        \"validation_spearman_rank\": np.around(spearman_rank,4),\n",
        "        \"parameters\": model_parameters,\n",
        "        \"predictions\": pred_filename,\n",
        "        \"notes\": NOTES,\n",
        "        \"seed\": RANDOM_SEED,\n",
        "        \"is_short_term\": IS_SHORT_TERM\n",
        "    }\n",
        "    \n",
        "    model_data.append(model_info, ignore_index = True).to_csv(model_data_dir, index = False)\n",
        "    \n",
        "    print(\"Saved model info and predictions: \", model_info)\n",
        "    "
      ],
      "execution_count": null,
      "outputs": []
    },
    {
      "cell_type": "code",
      "metadata": {
        "id": "6kuiTJMTVT2m"
      },
      "source": [
        "assert SAVE_MODEL, \"Model was not saved.\""
      ],
      "execution_count": null,
      "outputs": []
    },
    {
      "cell_type": "code",
      "metadata": {
        "id": "3gVELX-jVT2n",
        "colab": {
          "base_uri": "https://localhost:8080/"
        },
        "outputId": "e421577b-4b5b-4e7a-8049-025fc526683a"
      },
      "source": [
        "save_predictions(model_name, video_ids, actuals, predictions, in_training_set, model_parameters)"
      ],
      "execution_count": null,
      "outputs": [
        {
          "output_type": "stream",
          "name": "stdout",
          "text": [
            "Saved model info and predictions:  {'name': 'glove_gru', 'type': 'gru', 'feature': 'glove', 'validation_spearman_rank': 0.3028, 'parameters': {'random_seed': 42, 'use_dev_set': False, 'hidden_dim': 64, 'learning_rate': 0.001, 'num_epochs': 150, 'batch_size': 64, 'gru_units': 64, 'gru_dropout': 0.8}, 'predictions': 'predictions/glove_gru/st-42.csv', 'notes': '', 'seed': 42, 'is_short_term': True}\n"
          ]
        }
      ]
    },
    {
      "cell_type": "code",
      "metadata": {
        "id": "H9JV1TPDVT2n"
      },
      "source": [
        ""
      ],
      "execution_count": null,
      "outputs": []
    }
  ]
}