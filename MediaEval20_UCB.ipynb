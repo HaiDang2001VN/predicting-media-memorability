{
  "nbformat": 4,
  "nbformat_minor": 0,
  "metadata": {
    "kernelspec": {
      "display_name": "video-mem",
      "language": "python",
      "name": "video-mem"
    },
    "language_info": {
      "codemirror_mode": {
        "name": "ipython",
        "version": 3
      },
      "file_extension": ".py",
      "mimetype": "text/x-python",
      "name": "python",
      "nbconvert_exporter": "python",
      "pygments_lexer": "ipython3",
      "version": "3.8.5"
    },
    "colab": {
      "name": "MediaEval20 - UCB.ipynb",
      "provenance": [],
      "collapsed_sections": []
    },
    "accelerator": "GPU"
  },
  "cells": [
    {
      "cell_type": "markdown",
      "metadata": {
        "id": "DgsSrq5AVT1r"
      },
      "source": [
        "# Training workflow"
      ]
    },
    {
      "cell_type": "code",
      "metadata": {
        "id": "8AgkIHQZVT10"
      },
      "source": [
        "%load_ext autoreload\n",
        "\n",
        "%autoreload 2"
      ],
      "execution_count": 1,
      "outputs": []
    },
    {
      "cell_type": "code",
      "metadata": {
        "colab": {
          "base_uri": "https://localhost:8080/"
        },
        "id": "jhbycpnhaRaV",
        "outputId": "273dadd4-8ac5-4bda-c7a7-7689745767ab"
      },
      "source": [
        "from google.colab import drive\n",
        "drive.mount('/content/drive')"
      ],
      "execution_count": 2,
      "outputs": [
        {
          "output_type": "stream",
          "name": "stdout",
          "text": [
            "Drive already mounted at /content/drive; to attempt to forcibly remount, call drive.mount(\"/content/drive\", force_remount=True).\n"
          ]
        }
      ]
    },
    {
      "cell_type": "code",
      "metadata": {
        "colab": {
          "base_uri": "https://localhost:8080/"
        },
        "id": "RbjjPcz8h4nW",
        "outputId": "a00e589d-f609-45ac-b9b4-08dff063c2a0"
      },
      "source": [
        "%pip install -U fer"
      ],
      "execution_count": 3,
      "outputs": [
        {
          "output_type": "stream",
          "name": "stdout",
          "text": [
            "Requirement already satisfied: fer in /usr/local/lib/python3.7/dist-packages (21.0.5)\n",
            "Requirement already satisfied: requests in /usr/local/lib/python3.7/dist-packages (from fer) (2.23.0)\n",
            "Requirement already satisfied: opencv-contrib-python in /usr/local/lib/python3.7/dist-packages (from fer) (4.1.2.30)\n",
            "Requirement already satisfied: keras>=2.0.0 in /usr/local/lib/python3.7/dist-packages (from fer) (2.6.0)\n",
            "Requirement already satisfied: pandas in /usr/local/lib/python3.7/dist-packages (from fer) (1.1.5)\n",
            "Requirement already satisfied: tqdm in /usr/local/lib/python3.7/dist-packages (from fer) (4.62.3)\n",
            "Requirement already satisfied: matplotlib in /usr/local/lib/python3.7/dist-packages (from fer) (3.2.2)\n",
            "Requirement already satisfied: mtcnn>=0.1.1 in /usr/local/lib/python3.7/dist-packages (from fer) (0.1.1)\n",
            "Requirement already satisfied: opencv-python>=4.1.0 in /usr/local/lib/python3.7/dist-packages (from mtcnn>=0.1.1->fer) (4.1.2.30)\n",
            "Requirement already satisfied: numpy>=1.14.5 in /usr/local/lib/python3.7/dist-packages (from opencv-python>=4.1.0->mtcnn>=0.1.1->fer) (1.19.5)\n",
            "Requirement already satisfied: kiwisolver>=1.0.1 in /usr/local/lib/python3.7/dist-packages (from matplotlib->fer) (1.3.2)\n",
            "Requirement already satisfied: cycler>=0.10 in /usr/local/lib/python3.7/dist-packages (from matplotlib->fer) (0.10.0)\n",
            "Requirement already satisfied: python-dateutil>=2.1 in /usr/local/lib/python3.7/dist-packages (from matplotlib->fer) (2.8.2)\n",
            "Requirement already satisfied: pyparsing!=2.0.4,!=2.1.2,!=2.1.6,>=2.0.1 in /usr/local/lib/python3.7/dist-packages (from matplotlib->fer) (2.4.7)\n",
            "Requirement already satisfied: six in /usr/local/lib/python3.7/dist-packages (from cycler>=0.10->matplotlib->fer) (1.15.0)\n",
            "Requirement already satisfied: pytz>=2017.2 in /usr/local/lib/python3.7/dist-packages (from pandas->fer) (2018.9)\n",
            "Requirement already satisfied: chardet<4,>=3.0.2 in /usr/local/lib/python3.7/dist-packages (from requests->fer) (3.0.4)\n",
            "Requirement already satisfied: idna<3,>=2.5 in /usr/local/lib/python3.7/dist-packages (from requests->fer) (2.10)\n",
            "Requirement already satisfied: urllib3!=1.25.0,!=1.25.1,<1.26,>=1.21.1 in /usr/local/lib/python3.7/dist-packages (from requests->fer) (1.24.3)\n",
            "Requirement already satisfied: certifi>=2017.4.17 in /usr/local/lib/python3.7/dist-packages (from requests->fer) (2021.5.30)\n"
          ]
        }
      ]
    },
    {
      "cell_type": "code",
      "metadata": {
        "id": "mYWW9avoWFjt",
        "colab": {
          "base_uri": "https://localhost:8080/"
        },
        "outputId": "3adc836d-516f-40a7-a9e7-74ec54172bd4"
      },
      "source": [
        "%cd /content\n",
        "%rm -rf ucb\n",
        "!git clone https://github.com/HaiDang2001VN/predicting-media-memorability.git ucb"
      ],
      "execution_count": 4,
      "outputs": [
        {
          "output_type": "stream",
          "name": "stdout",
          "text": [
            "/content\n",
            "Cloning into 'ucb'...\n",
            "remote: Enumerating objects: 180, done.\u001b[K\n",
            "remote: Counting objects: 100% (180/180), done.\u001b[K\n",
            "remote: Compressing objects: 100% (125/125), done.\u001b[K\n",
            "remote: Total 180 (delta 94), reused 137 (delta 51), pack-reused 0\u001b[K\n",
            "Receiving objects: 100% (180/180), 1.11 MiB | 9.60 MiB/s, done.\n",
            "Resolving deltas: 100% (94/94), done.\n"
          ]
        }
      ]
    },
    {
      "cell_type": "code",
      "metadata": {
        "id": "x70BiKP1ZXoz",
        "colab": {
          "base_uri": "https://localhost:8080/"
        },
        "outputId": "90a1b0e9-d39d-4b95-9cb1-17e4259119b7"
      },
      "source": [
        "%cd /content/ucb\n",
        "%rm -rf training_set\n",
        "%mkdir training_set\n",
        "!find '/content/drive/MyDrive/HCMUS/AI/MedEval21/Memorability/2021-Predicting-Media-Memorability-Task/TRECVid Data/training_set' \\( -name \"train_*.csv\" \\) -exec cp {} training_set \\;\n",
        "%ls -sla training_set"
      ],
      "execution_count": 5,
      "outputs": [
        {
          "output_type": "stream",
          "name": "stdout",
          "text": [
            "/content/ucb\n",
            "total 2948\n",
            "   4 drwxr-xr-x 2 root root    4096 Oct 17 13:06 \u001b[0m\u001b[01;34m.\u001b[0m/\n",
            "   4 drwxr-xr-x 5 root root    4096 Oct 17 13:06 \u001b[01;34m..\u001b[0m/\n",
            " 592 -r-------- 1 root root  602173 Oct 17 13:06 train_long_term_annotations.csv\n",
            "  96 -r-------- 1 root root   94598 Oct 17 13:06 train_scores.csv\n",
            "1736 -r-------- 1 root root 1775597 Oct 17 13:06 train_short_term_annotations.csv\n",
            " 448 -r-------- 1 root root  458640 Oct 17 13:06 train_text_descriptions.csv\n",
            "  68 -r-------- 1 root root   66915 Oct 17 13:06 train_video_urls.csv\n"
          ]
        }
      ]
    },
    {
      "cell_type": "code",
      "metadata": {
        "colab": {
          "base_uri": "https://localhost:8080/"
        },
        "id": "682RGXVjbgLX",
        "outputId": "f685d8d9-ac15-478d-c084-2ce6b04d30f0"
      },
      "source": [
        "%cd /content/ucb\n",
        "%rm -rf testing_set\n",
        "%mkdir testing_set\n",
        "!find '/content/drive/MyDrive/HCMUS/AI/MedEval21/Memorability/2021-Predicting-Media-Memorability-Task/TRECVid Data/testing_set' \\( -name \"test_*.csv\" \\) -exec cp {} testing_set \\;\n",
        "%ls -sla testing_set"
      ],
      "execution_count": 6,
      "outputs": [
        {
          "output_type": "stream",
          "name": "stdout",
          "text": [
            "/content/ucb\n",
            "total 2360\n",
            "   4 drwxr-xr-x 2 root root    4096 Oct 17 13:06 \u001b[0m\u001b[01;34m.\u001b[0m/\n",
            "   4 drwxr-xr-x 6 root root    4096 Oct 17 13:06 \u001b[01;34m..\u001b[0m/\n",
            " 696 -r-------- 1 root root  709011 Oct 17 13:06 test_long_term_annotations.csv\n",
            "1236 -r-------- 1 root root 1261867 Oct 17 13:06 test_short_term_annotations.csv\n",
            " 364 -r-------- 1 root root  371542 Oct 17 13:06 test_text_descriptions.csv\n",
            "  56 -r-------- 1 root root   56892 Oct 17 13:06 test_video_urls.csv\n"
          ]
        }
      ]
    },
    {
      "cell_type": "code",
      "metadata": {
        "colab": {
          "base_uri": "https://localhost:8080/"
        },
        "id": "m1ICO_ebbv8K",
        "outputId": "4ea0426c-198c-4dbf-af1d-57321fbc38e1"
      },
      "source": [
        "!python setup_train.py"
      ],
      "execution_count": 7,
      "outputs": [
        {
          "output_type": "stream",
          "name": "stdout",
          "text": [
            "Opening training_set/train_video_urls.csv...\n",
            "Downloading videos: 100% 588/588 [01:03<00:00,  9.32it/s]\n",
            "Extracting audio: 100% 588/588 [00:53<00:00, 10.98it/s]\n",
            "Extracting 8 frames per video:  47% 275/588 [04:33<05:31,  1.06s/it]\u001b[0;36m[h264 @ 0x5632af048880] \u001b[0m\u001b[1;31mno frame!\n",
            "\u001b[0m\u001b[0;36m[h264 @ 0x5632af047680] \u001b[0m\u001b[1;31mno frame!\n",
            "\u001b[0m\u001b[0;36m[h264 @ 0x5632af047680] \u001b[0m\u001b[1;31mno frame!\n",
            "Extracting 8 frames per video:  54% 318/588 [05:19<05:56,  1.32s/it]\u001b[0;36m[h264 @ 0x5632ad573b00] \u001b[0m\u001b[1;31mSEI type 5 size 192 truncated at 176\n",
            "\u001b[0m\u001b[0;36m[h264 @ 0x5632ad575a80] \u001b[0m\u001b[1;31mSEI type 5 size 192 truncated at 176\n",
            "\u001b[0m\u001b[0;36m[h264 @ 0x5632ad575a80] \u001b[0m\u001b[1;31mSEI type 5 size 192 truncated at 176\n",
            "\u001b[0m\u001b[0;36m[h264 @ 0x5632ad573b00] \u001b[0m\u001b[1;31mSEI type 5 size 192 truncated at 176\n",
            "\u001b[0m\u001b[0;36m[h264 @ 0x5632ad573f80] \u001b[0m\u001b[1;31mSEI type 5 size 192 truncated at 176\n",
            "\u001b[0m\u001b[0;36m[h264 @ 0x5632ad573f80] \u001b[0m\u001b[1;31mSEI type 5 size 192 truncated at 176\n",
            "\u001b[0m\u001b[0;36m[h264 @ 0x5632ad573b00] \u001b[0m\u001b[1;31mSEI type 5 size 192 truncated at 176\n",
            "\u001b[0m\u001b[0;36m[h264 @ 0x5632ad575a80] \u001b[0m\u001b[1;31mSEI type 5 size 192 truncated at 176\n",
            "\u001b[0m\u001b[0;36m[h264 @ 0x5632ad575a80] \u001b[0m\u001b[1;31mSEI type 5 size 192 truncated at 176\n",
            "\u001b[0m\u001b[0;36m[h264 @ 0x5632ad573b00] \u001b[0m\u001b[1;31mSEI type 5 size 192 truncated at 176\n",
            "\u001b[0m\u001b[0;36m[h264 @ 0x5632ad573f80] \u001b[0m\u001b[1;31mSEI type 5 size 192 truncated at 176\n",
            "\u001b[0m\u001b[0;36m[h264 @ 0x5632ad573b00] \u001b[0m\u001b[1;31mSEI type 5 size 192 truncated at 176\n",
            "\u001b[0m\u001b[0;36m[h264 @ 0x5632ad575a80] \u001b[0m\u001b[1;31mSEI type 5 size 192 truncated at 176\n",
            "\u001b[0m\u001b[0;36m[h264 @ 0x5632ad573b00] \u001b[0m\u001b[1;31mSEI type 5 size 192 truncated at 176\n",
            "\u001b[0m\u001b[0;36m[h264 @ 0x5632ad573f80] \u001b[0m\u001b[1;31mSEI type 5 size 192 truncated at 176\n",
            "\u001b[0m\u001b[0;36m[h264 @ 0x5632ad573b00] \u001b[0m\u001b[1;31mSEI type 5 size 192 truncated at 176\n",
            "\u001b[0m\u001b[0;36m[h264 @ 0x5632ad575a80] \u001b[0m\u001b[1;31mSEI type 5 size 192 truncated at 176\n",
            "\u001b[0m\u001b[0;36m[h264 @ 0x5632ad573b00] \u001b[0m\u001b[1;31mSEI type 5 size 192 truncated at 176\n",
            "\u001b[0m\u001b[0;36m[h264 @ 0x5632ad573f80] \u001b[0m\u001b[1;31mSEI type 5 size 192 truncated at 176\n",
            "Extracting 8 frames per video:  79% 463/588 [07:42<02:53,  1.39s/it]\u001b[0;36m[h264 @ 0x5632af049180] \u001b[0m\u001b[1;31mno frame!\n",
            "\u001b[0m\u001b[0;36m[h264 @ 0x5632ad573200] \u001b[0m\u001b[1;31mno frame!\n",
            "\u001b[0m\u001b[0;36m[h264 @ 0x5632ad573200] \u001b[0m\u001b[1;31mno frame!\n",
            "Extracting 8 frames per video: 100% 588/588 [09:50<00:00,  1.00s/it]\n",
            "Finished setup\n"
          ]
        }
      ]
    },
    {
      "cell_type": "code",
      "metadata": {
        "colab": {
          "base_uri": "https://localhost:8080/"
        },
        "id": "v2yEY246cHiZ",
        "outputId": "d6cb62b5-96ac-4536-ac9d-20d38bccaa1c"
      },
      "source": [
        "!python setup_test.py"
      ],
      "execution_count": 8,
      "outputs": [
        {
          "output_type": "stream",
          "name": "stdout",
          "text": [
            "Opening testing_set/test_video_urls.csv...\n",
            "Downloading videos: 100% 500/500 [00:53<00:00,  9.31it/s]\n",
            "Extracting audio: 100% 500/500 [00:43<00:00, 11.59it/s]\n",
            "Extracting 8 frames per video:   3% 13/500 [00:11<06:44,  1.20it/s]\u001b[0;36m[h264 @ 0x5629ea507180] \u001b[0m\u001b[1;31mno frame!\n",
            "\u001b[0m\u001b[0;36m[h264 @ 0x5629ea505200] \u001b[0m\u001b[1;31mno frame!\n",
            "\u001b[0m\u001b[0;36m[h264 @ 0x5629ea505200] \u001b[0m\u001b[1;31mno frame!\n",
            "Extracting 8 frames per video:  15% 77/500 [01:16<06:42,  1.05it/s]\u001b[0;36m[h264 @ 0x5629ea506d00] \u001b[0m\u001b[1;31mno frame!\n",
            "\u001b[0m\u001b[0;36m[h264 @ 0x5629ea506880] \u001b[0m\u001b[1;31mno frame!\n",
            "\u001b[0m\u001b[0;36m[h264 @ 0x5629ea506880] \u001b[0m\u001b[1;31mno frame!\n",
            "Extracting 8 frames per video:  50% 252/500 [04:14<03:28,  1.19it/s]\u001b[0;36m[h264 @ 0x5629ea506d00] \u001b[0m\u001b[1;31mno frame!\n",
            "\u001b[0m\u001b[0;36m[h264 @ 0x5629ea506880] \u001b[0m\u001b[1;31mno frame!\n",
            "\u001b[0m\u001b[0;36m[h264 @ 0x5629ea506880] \u001b[0m\u001b[1;31mno frame!\n",
            "Extracting 8 frames per video:  70% 350/500 [05:51<02:25,  1.03it/s]\u001b[0;36m[h264 @ 0x5629ea505f80] \u001b[0m\u001b[1;31mno frame!\n",
            "\u001b[0m\u001b[0;36m[h264 @ 0x5629ea507600] \u001b[0m\u001b[1;31mno frame!\n",
            "\u001b[0m\u001b[0;36m[h264 @ 0x5629ea507600] \u001b[0m\u001b[1;31mno frame!\n",
            "Extracting 8 frames per video:  92% 461/500 [07:41<00:40,  1.05s/it]\u001b[0;36m[h264 @ 0x5629ea505f80] \u001b[0m\u001b[1;31mno frame!\n",
            "\u001b[0m\u001b[0;36m[h264 @ 0x5629ea505200] \u001b[0m\u001b[1;31mno frame!\n",
            "\u001b[0m\u001b[0;36m[h264 @ 0x5629ea505200] \u001b[0m\u001b[1;31mno frame!\n",
            "Extracting 8 frames per video: 100% 500/500 [08:26<00:00,  1.01s/it]\n",
            "Finished setup\n"
          ]
        }
      ]
    },
    {
      "cell_type": "code",
      "metadata": {
        "id": "ldb5U0G6tOQb"
      },
      "source": [
        "# %cd /content/ucb/training_set\n",
        "# %rm -rf Features\n",
        "# %mkdir Features\n",
        "# %cp '/content/drive/MyDrive/HCMUS/AI/MedEval21/Memorability/2021-Predicting-Media-Memorability-Task/TRECVid Data/training_set/Features/'"
      ],
      "execution_count": 9,
      "outputs": []
    },
    {
      "cell_type": "code",
      "metadata": {
        "colab": {
          "base_uri": "https://localhost:8080/"
        },
        "id": "LalNeqz2pCZt",
        "outputId": "5ee67050-f1ee-41b6-8447-462076ef950b"
      },
      "source": [
        "%cd /content/ucb\n",
        "%rm -rf data\n",
        "%mkdir data\n",
        "%mkdir data/glove.6B\n",
        "!unzip /content/drive/MyDrive/HCMUS/AI/MedEval21/glove.6B.300d.txt -d data/glove.6B\n",
        "%ls -sla data/glove.6B"
      ],
      "execution_count": 10,
      "outputs": [
        {
          "output_type": "stream",
          "name": "stdout",
          "text": [
            "/content/ucb\n",
            "Archive:  /content/drive/MyDrive/HCMUS/AI/MedEval21/glove.6B.300d.txt.zip\n",
            "  inflating: data/glove.6B/glove.6B.300d.txt  \n",
            "total 1013648\n",
            "      4 drwxr-xr-x 2 root root       4096 Oct 17 13:28 \u001b[0m\u001b[01;34m.\u001b[0m/\n",
            "      4 drwxr-xr-x 3 root root       4096 Oct 17 13:28 \u001b[01;34m..\u001b[0m/\n",
            "1013640 -rw-r--r-- 1 root root 1037962819 Sep 22  2019 glove.6B.300d.txt\n"
          ]
        }
      ]
    },
    {
      "cell_type": "code",
      "metadata": {
        "colab": {
          "base_uri": "https://localhost:8080/"
        },
        "id": "QvcbirUEnvkv",
        "outputId": "9744ca4a-6d64-46ff-cfdb-ee71b6f5a683"
      },
      "source": [
        "%cd /content/ucb\n",
        "%mkdir training_set/Features\n",
        "%mkdir training_set/Features/GloVe\n",
        "%mkdir testing_set/Features\n",
        "%mkdir testing_set/Features/GloVe\n",
        "!python extract_features.py"
      ],
      "execution_count": 11,
      "outputs": [
        {
          "output_type": "stream",
          "name": "stdout",
          "text": [
            "/content/ucb\n",
            "Extract all features? (y/n) Otherwise extract on per-feature basis.n\n",
            "Extract emotion features? (y/n)n\n",
            "Extract text (GLoVe) features? (y/n)y\n",
            "\tFound 3974 captions for 1088 videos\n",
            "\tAvg num of captions per video: 3.6525735294117645\n",
            "\tMax num of captions per video: 6\n",
            "\tMin num of captions per video: 2\n",
            "Max sequence length: 86\n",
            "Min sequence length: 2\n",
            "Avg sequence length: 17.81857070961248\n",
            "Fitting tokenizer...\n",
            "Extracting GLoVe features from training_set/train_text_descriptions.csv...\n",
            "2021-10-17 13:29:25.984157: I tensorflow/stream_executor/cuda/cuda_gpu_executor.cc:937] successful NUMA node read from SysFS had negative value (-1), but there must be at least one NUMA node, so returning NUMA node zero\n",
            "2021-10-17 13:29:26.027793: I tensorflow/stream_executor/cuda/cuda_gpu_executor.cc:937] successful NUMA node read from SysFS had negative value (-1), but there must be at least one NUMA node, so returning NUMA node zero\n",
            "2021-10-17 13:29:26.028657: I tensorflow/stream_executor/cuda/cuda_gpu_executor.cc:937] successful NUMA node read from SysFS had negative value (-1), but there must be at least one NUMA node, so returning NUMA node zero\n",
            "2021-10-17 13:29:26.030195: I tensorflow/stream_executor/cuda/cuda_gpu_executor.cc:937] successful NUMA node read from SysFS had negative value (-1), but there must be at least one NUMA node, so returning NUMA node zero\n",
            "2021-10-17 13:29:26.030970: I tensorflow/stream_executor/cuda/cuda_gpu_executor.cc:937] successful NUMA node read from SysFS had negative value (-1), but there must be at least one NUMA node, so returning NUMA node zero\n",
            "2021-10-17 13:29:26.031670: I tensorflow/stream_executor/cuda/cuda_gpu_executor.cc:937] successful NUMA node read from SysFS had negative value (-1), but there must be at least one NUMA node, so returning NUMA node zero\n",
            "2021-10-17 13:29:26.529247: I tensorflow/stream_executor/cuda/cuda_gpu_executor.cc:937] successful NUMA node read from SysFS had negative value (-1), but there must be at least one NUMA node, so returning NUMA node zero\n",
            "2021-10-17 13:29:26.530512: I tensorflow/stream_executor/cuda/cuda_gpu_executor.cc:937] successful NUMA node read from SysFS had negative value (-1), but there must be at least one NUMA node, so returning NUMA node zero\n",
            "2021-10-17 13:29:26.531489: I tensorflow/stream_executor/cuda/cuda_gpu_executor.cc:937] successful NUMA node read from SysFS had negative value (-1), but there must be at least one NUMA node, so returning NUMA node zero\n",
            "2021-10-17 13:29:26.532451: W tensorflow/core/common_runtime/gpu/gpu_bfc_allocator.cc:39] Overriding allow_growth setting because the TF_FORCE_GPU_ALLOW_GROWTH environment variable is set. Original config value was 0.\n",
            "2021-10-17 13:29:26.532607: I tensorflow/core/common_runtime/gpu/gpu_device.cc:1510] Created device /job:localhost/replica:0/task:0/device:GPU:0 with 10818 MB memory:  -> device: 0, name: Tesla K80, pci bus id: 0000:00:04.0, compute capability: 3.7\n",
            "2021-10-17 13:29:26.595996: I tensorflow/compiler/mlir/mlir_graph_optimization_pass.cc:185] None of the MLIR Optimization Passes are enabled (registered 2)\n",
            "2021-10-17 13:29:26.744836: W tensorflow/core/framework/cpu_allocator_impl.cc:80] Allocation of 225388800 exceeds 10% of free system memory.\n",
            "100% 2184/2184 [00:36<00:00, 59.23it/s]\n",
            "Extracting GLoVe features from testing_set/test_text_descriptions.csv...\n",
            "2021-10-17 13:30:22.581136: W tensorflow/core/framework/cpu_allocator_impl.cc:80] Allocation of 184728000 exceeds 10% of free system memory.\n",
            "100% 1790/1790 [00:30<00:00, 59.23it/s]\n",
            "Saving tokenizer at features//caption_tokenizer.pickle\n",
            "Finished GLoVe feature extraction.\n",
            "\n",
            "Extract image (ResNet152) features? (y/n)n\n"
          ]
        }
      ]
    },
    {
      "cell_type": "code",
      "metadata": {
        "id": "_Ni1n5l3VT15"
      },
      "source": [
        "import pandas as pd\n",
        "import numpy as np\n",
        "import matplotlib.pyplot as plt\n",
        "from scipy import stats\n",
        "import os\n",
        "\n",
        "import features.config as fconf"
      ],
      "execution_count": 12,
      "outputs": []
    },
    {
      "cell_type": "markdown",
      "metadata": {
        "id": "dfoIgxf_VT18"
      },
      "source": [
        "## Constants"
      ]
    },
    {
      "cell_type": "code",
      "metadata": {
        "id": "tzB82VygVT19"
      },
      "source": [
        "PREDICTIONS_DIR = \"predictions\""
      ],
      "execution_count": 13,
      "outputs": []
    },
    {
      "cell_type": "code",
      "metadata": {
        "id": "n0jKz4zkVT1-"
      },
      "source": [
        "SAVE_MODEL = True\n",
        "IS_SHORT_TERM = True\n",
        "\n",
        "USE_DEV_SET = False\n",
        "USE_TRAIN_SET = True"
      ],
      "execution_count": 14,
      "outputs": []
    },
    {
      "cell_type": "code",
      "metadata": {
        "id": "vLWvk5umVT2A"
      },
      "source": [
        "RANDOM_SEED = 42"
      ],
      "execution_count": 15,
      "outputs": []
    },
    {
      "cell_type": "code",
      "metadata": {
        "id": "f41oGQocVT2B"
      },
      "source": [
        "target = \"m_75\" if IS_SHORT_TERM else \"part_2_scores\"\n",
        "feature = \"glove\"\n",
        "model_type = \"gru\"\n",
        "aggregate_with = np.median"
      ],
      "execution_count": 16,
      "outputs": []
    },
    {
      "cell_type": "code",
      "metadata": {
        "id": "e2Efes_kVT2C"
      },
      "source": [
        "model_name = f\"{feature}_{model_type}\""
      ],
      "execution_count": 17,
      "outputs": []
    },
    {
      "cell_type": "code",
      "metadata": {
        "id": "XJoXdSvRVT2E"
      },
      "source": [
        "model_parameters = {\n",
        "    \"random_seed\": RANDOM_SEED,\n",
        "    \"use_dev_set\": USE_DEV_SET,\n",
        "}\n",
        "\n",
        "if model_type == \"gru\":\n",
        "    model_parameters[\"hidden_dim\"] = 64\n",
        "    model_parameters[\"learning_rate\"] = 1e-3\n",
        "    model_parameters[\"num_epochs\"] = 150\n",
        "    model_parameters[\"batch_size\"] = 64\n",
        "    model_parameters[\"gru_units\"] = 64\n",
        "    model_parameters[\"gru_dropout\"] = 0.8"
      ],
      "execution_count": 18,
      "outputs": []
    },
    {
      "cell_type": "code",
      "metadata": {
        "id": "zwll8cjrVT2N"
      },
      "source": [
        "NOTES = \"\""
      ],
      "execution_count": 19,
      "outputs": []
    },
    {
      "cell_type": "code",
      "metadata": {
        "id": "pNQuacdRVT2P"
      },
      "source": [
        "np.random.seed(RANDOM_SEED)"
      ],
      "execution_count": 20,
      "outputs": []
    },
    {
      "cell_type": "markdown",
      "metadata": {
        "id": "Hxy1ZO5QVT2P"
      },
      "source": [
        "## Load Data\n",
        "\n",
        "Extracted features, scores, metadata, etc."
      ]
    },
    {
      "cell_type": "code",
      "metadata": {
        "id": "v-LPx_W0VT2R"
      },
      "source": [
        "testing_set_data = pd.read_csv(\"testing_set/test_video_urls.csv\").set_index(\"video_id\")\n",
        "\n",
        "if USE_TRAIN_SET:\n",
        "    training_set_data = pd.read_csv(\"training_set/train_video_urls.csv\").set_index(\"video_id\")\n",
        "\n",
        "if USE_DEV_SET:\n",
        "    development_set_data = pd.read_csv(\"development_set/dev_video_urls.csv\").set_index(\"video_id\")"
      ],
      "execution_count": 21,
      "outputs": []
    },
    {
      "cell_type": "code",
      "metadata": {
        "id": "FLLbqhvrVT2R"
      },
      "source": [
        "from features.video import load_C3D_features\n",
        "from features.image import load_ResNet152_features, load_LBP_features, load_HOG_features\n",
        "from features.audio import load_VGGish_features\n",
        "from features.text import load_GloVe_features\n",
        "from features.emotion import load_Emotion_features, extract_emotions\n"
      ],
      "execution_count": 22,
      "outputs": []
    },
    {
      "cell_type": "code",
      "metadata": {
        "id": "aJk0RQ8lVT2T"
      },
      "source": [
        "def add_features_to_df(dfs, set_names, label, feature_dir, load_func):\n",
        "    for df, set_name in zip(dfs, set_names):\n",
        "        df[label] = load_func(df.index, fconf.set_dataset(set_name, feature_dir))"
      ],
      "execution_count": 23,
      "outputs": []
    },
    {
      "cell_type": "code",
      "metadata": {
        "id": "_NcFNgmcVT2T"
      },
      "source": [
        "dfs = [testing_set_data]\n",
        "set_names = [\"testing_set\"]\n",
        "\n",
        "if USE_TRAIN_SET:\n",
        "    dfs.append(training_set_data)\n",
        "    set_names.append(\"training_set\")\n",
        "\n",
        "if USE_DEV_SET:\n",
        "    dfs.append(development_set_data)\n",
        "    set_names.append(\"development_set\")"
      ],
      "execution_count": 24,
      "outputs": []
    },
    {
      "cell_type": "code",
      "metadata": {
        "id": "GoZIqjMYVT2U"
      },
      "source": [
        "# Emotion\n",
        "if feature == \"emotion\":\n",
        "    add_features_to_df(dfs, set_names, \"emotion\",\n",
        "                      fconf.EMOTION_FEATURE_DIR, load_Emotion_features)"
      ],
      "execution_count": 25,
      "outputs": []
    },
    {
      "cell_type": "code",
      "metadata": {
        "id": "O7yBbEURVT2U"
      },
      "source": [
        "# LBP\n",
        "if feature == \"lbp\":\n",
        "    add_features_to_df(dfs, set_names, \"lbp\",\n",
        "                      fconf.LBP_FEATURE_DIR, load_LBP_features)"
      ],
      "execution_count": 26,
      "outputs": []
    },
    {
      "cell_type": "code",
      "metadata": {
        "id": "qq2TDApJVT2V"
      },
      "source": [
        "# HOG\n",
        "if feature == \"hog\":\n",
        "    add_features_to_df(dfs, set_names, \"hog\",\n",
        "                      fconf.HOG_FEATURE_DIR, load_HOG_features)"
      ],
      "execution_count": 27,
      "outputs": []
    },
    {
      "cell_type": "code",
      "metadata": {
        "id": "hzUTraoVVT2W"
      },
      "source": [
        "# ResNet152\n",
        "if feature == \"resnet152\":\n",
        "    add_features_to_df(dfs, set_names, \"resnet152\",\n",
        "                      fconf.RESNET152_FEATURE_DIR, load_ResNet152_features)"
      ],
      "execution_count": 28,
      "outputs": []
    },
    {
      "cell_type": "code",
      "metadata": {
        "id": "sutpUOJwVT2X"
      },
      "source": [
        "# C3D\n",
        "if feature == \"c3d\":\n",
        "    add_features_to_df(dfs, set_names, \"c3d\",\n",
        "                      fconf.C3D_FEATURE_DIR, load_C3D_features)"
      ],
      "execution_count": 29,
      "outputs": []
    },
    {
      "cell_type": "code",
      "metadata": {
        "id": "OoLdQ3Y4VT2X"
      },
      "source": [
        "# VGGish\n",
        "if feature == \"vggish\":\n",
        "    add_features_to_df(dfs, set_names, \"vggish\",\n",
        "                      fconf.VGGISH_FEATURE_DIR, load_VGGish_features)"
      ],
      "execution_count": 30,
      "outputs": []
    },
    {
      "cell_type": "code",
      "metadata": {
        "id": "xPfOQDK2VT2X"
      },
      "source": [
        "# GLoVE\n",
        "if feature == \"glove\":\n",
        "    add_features_to_df(dfs, set_names, \"glove\",\n",
        "                      fconf.GLOVE_FEATURE_DIR, load_GloVe_features)"
      ],
      "execution_count": 31,
      "outputs": []
    },
    {
      "cell_type": "code",
      "metadata": {
        "id": "TN4wg9pDVT2Y"
      },
      "source": [
        "test_data = testing_set_data\n",
        "\n",
        "if USE_DEV_SET and USE_TRAIN_SET:\n",
        "    train_data = pd.concat([training_set_data, development_set_data])\n",
        "elif USE_DEV_SET and not USE_TRAIN_SET:\n",
        "    train_data = development_set_data\n",
        "elif USE_TRAIN_SET and not USE_DEV_SET:\n",
        "    train_data = training_set_data\n",
        "else:\n",
        "    raise ValueError(\"train_data is empty\")"
      ],
      "execution_count": 32,
      "outputs": []
    },
    {
      "cell_type": "markdown",
      "metadata": {
        "id": "8yXl1lBvVT2Y"
      },
      "source": [
        "## Target Prep\n",
        "\n",
        "Khosla points out that the memorability score used in Isola's paper did not take into account the memory retention duration.\n",
        "Cohendet utilized the same idea as Khosla, which involved a decay rate\n",
        "\n",
        "$$\\alpha \\leftarrow \n",
        "\\frac{\\sum^N_{i=1}\\frac{1}{n^{(i)}} \\sum^{n^{(i)}}_{j=1} \\log(\\frac{t^{(i)}_j}{T})[x^{(i)}_j - m^{(i)}_T] }\n",
        "{\\sum^N_{i=1}\\frac{1}{n^{(i)}} \\sum^{n^{(i)}}_{j=1}[ \\log(\\frac{t^{(i)}_j}{T})]^2}\n",
        "$$\n",
        "\n",
        "to calculate memorability \n",
        "$$\n",
        "m_T^{(i)} \\leftarrow\n",
        "\\frac{1}{n^{(i)}} \\sum^{n^{(i)}}_{j=1}[x^{(i)}_j - \\alpha \\log(\\frac{t_j^{(i)}}{T})]\n",
        "$$\n",
        "\n",
        "where we have $n^{(i)}$ observations for image $i$ given by $x^{(i)} \\in {0,1}$ and $t^{(i)}_j$ where $x_j=1$  implies that the image repeat was correctly detected when it shown after time $t_j$\n",
        "\n",
        "IDEA: potentially explore calculating $\\alpha$ per user"
      ]
    },
    {
      "cell_type": "code",
      "metadata": {
        "id": "woV8sDXFVT2Z"
      },
      "source": [
        "from target_augmentation import add_position_delta, calculate_alpha_and_memorability"
      ],
      "execution_count": 33,
      "outputs": []
    },
    {
      "cell_type": "code",
      "metadata": {
        "id": "ZT5iAGPNVT2Z"
      },
      "source": [
        "if USE_DEV_SET and USE_TRAIN_SET:\n",
        "    annotations = add_position_delta(pd.concat([\n",
        "        pd.read_csv(\"training_set/short_term_annotations_v2.csv\"),\n",
        "        pd.read_csv(\"development_set/dev_short_term_annotations.csv\")\n",
        "    ]))\n",
        "elif USE_TRAIN_SET and not USE_DEV_SET:\n",
        "    annotations = add_position_delta(pd.read_csv(\"training_set/train_short_term_annotations.csv\"))\n",
        "elif USE_DEV_SET and not USE_TRAIN_SET:\n",
        "    annotations = add_position_delta(pd.read_csv(\"development_set/dev_short_term_annotations.csv\"))\n",
        "else:\n",
        "    raise ValueError(\"annotations is empty\")"
      ],
      "execution_count": 34,
      "outputs": []
    },
    {
      "cell_type": "code",
      "metadata": {
        "colab": {
          "base_uri": "https://localhost:8080/"
        },
        "id": "3fK6Wy9KlsUB",
        "outputId": "d4d1c953-1538-4472-fe01-3442ecd0fc55"
      },
      "source": [
        "print(\"Average t:\", np.mean(annotations[\"t\"]))\n",
        "\n",
        "# We use approximately the average_t to calculate T as the memorability in question\n",
        "big_t = int(np.around(np.mean(annotations[\"t\"])))\n",
        "label = f\"m_{big_t}\"\n",
        "print(f\"Calculating adjusted value for {label}\")\n",
        "alpha, adjusted_score = calculate_alpha_and_memorability(annotations, T = big_t)\n",
        "train_data[label] = adjusted_score\n",
        "test_data[label] = np.nan\n",
        "print(f\"Alpha: {alpha}\")"
      ],
      "execution_count": 35,
      "outputs": [
        {
          "output_type": "stream",
          "name": "stdout",
          "text": [
            "Average t: 74.96191840735993\n",
            "Calculating adjusted value for m_75\n",
            "Alpha: -0.026433626378523905\n"
          ]
        }
      ]
    },
    {
      "cell_type": "code",
      "metadata": {
        "colab": {
          "base_uri": "https://localhost:8080/"
        },
        "id": "9LUote5imBH-",
        "outputId": "b254a52d-9830-4bbd-970b-335384983861"
      },
      "source": [
        "train_scores = pd.read_csv('training_set/train_scores.csv')\n",
        "train_scores.info()"
      ],
      "execution_count": 36,
      "outputs": [
        {
          "output_type": "stream",
          "name": "stdout",
          "text": [
            "<class 'pandas.core.frame.DataFrame'>\n",
            "RangeIndex: 588 entries, 0 to 587\n",
            "Data columns (total 8 columns):\n",
            " #   Column                        Non-Null Count  Dtype  \n",
            "---  ------                        --------------  -----  \n",
            " 0   video_id                      588 non-null    int64  \n",
            " 1   video_url                     588 non-null    object \n",
            " 2   annotations_short_term        588 non-null    int64  \n",
            " 3   annotations_long_term         588 non-null    int64  \n",
            " 4   scores_raw_short_term         588 non-null    float64\n",
            " 5   scores_raw_long_term          588 non-null    float64\n",
            " 6   scores_normalized_short_term  588 non-null    float64\n",
            " 7   decay_alpha                   588 non-null    float64\n",
            "dtypes: float64(4), int64(3), object(1)\n",
            "memory usage: 36.9+ KB\n"
          ]
        }
      ]
    },
    {
      "cell_type": "code",
      "metadata": {
        "scrolled": false,
        "id": "iBPqAq9jVT2Z",
        "colab": {
          "base_uri": "https://localhost:8080/",
          "height": 335
        },
        "outputId": "2d412428-1b1d-4a7b-c930-2d14cc2ceb54"
      },
      "source": [
        "train_data = train_data.merge(train_scores[['video_id', 'scores_raw_short_term']], on='video_id')\n",
        "target_diff = train_data[\"scores_raw_short_term\"] - train_data[label]\n",
        "print(\"Avg diff:\", np.mean(target_diff))\n",
        "print(\"Max diff:\", np.max(target_diff))\n",
        "print(\"Min diff:\", np.min(target_diff))\n",
        "plt.scatter(train_data[\"scores_raw_short_term\"], train_data[label])\n",
        "plt.xlabel(\"Original memorability score\")\n",
        "plt.ylabel(f\"Adjusted memorability score ({label})\")\n",
        "plt.show()"
      ],
      "execution_count": 37,
      "outputs": [
        {
          "output_type": "stream",
          "name": "stdout",
          "text": [
            "Avg diff: 0.00038440999890361136\n",
            "Max diff: 0.007422429973521383\n",
            "Min diff: -0.006598279844217569\n"
          ]
        },
        {
          "output_type": "display_data",
          "data": {
            "image/png": "[encoded data removed]",
            "text/plain": [
              "<Figure size 432x288 with 1 Axes>"
            ]
          },
          "metadata": {
            "needs_background": "light"
          }
        }
      ]
    },
    {
      "cell_type": "markdown",
      "metadata": {
        "id": "2_eo8ho-VT2a"
      },
      "source": [
        "## Data Prep\n",
        "\n",
        "Building datasets\n",
        "\n",
        "potentially weighting samples based on annotations?\n",
        "\n"
      ]
    },
    {
      "cell_type": "code",
      "metadata": {
        "id": "hohUg9oHVT2b"
      },
      "source": [
        "from train import split_training, build_matrixes"
      ],
      "execution_count": 38,
      "outputs": []
    },
    {
      "cell_type": "code",
      "metadata": {
        "id": "sKoy3vrXVT2c",
        "colab": {
          "base_uri": "https://localhost:8080/"
        },
        "outputId": "00214f68-818c-41e2-e4c4-0004f11be7ec"
      },
      "source": [
        "training_data, validation_data = split_training(train_data)\n",
        "print(\"training:\",len(training_data))\n",
        "print(\"validation:\", len(validation_data))"
      ],
      "execution_count": 39,
      "outputs": [
        {
          "output_type": "stream",
          "name": "stdout",
          "text": [
            "training: 470\n",
            "validation: 118\n"
          ]
        }
      ]
    },
    {
      "cell_type": "markdown",
      "metadata": {
        "id": "2tHgYo_MVT2c"
      },
      "source": [
        "#### Pick Features and Target"
      ]
    },
    {
      "cell_type": "code",
      "metadata": {
        "id": "cA2M2fm2VT2e",
        "colab": {
          "base_uri": "https://localhost:8080/"
        },
        "outputId": "d1fb1443-b495-4a54-8491-abca47e430e4"
      },
      "source": [
        "features_train, targets_train, video_ids_train = build_matrixes(training_data, target_name = target, feature_name = feature)\n",
        "features_valid, targets_valid, video_ids_valid = build_matrixes(validation_data, target_name = target, feature_name = feature)\n",
        "features_test, targets_test, video_ids_test = build_matrixes(test_data, target_name = target, feature_name = feature, is_test = True)\n",
        "\n",
        "\n",
        "print(\"num videos in training set:\", len(training_data))\n",
        "print(\"num videos in validation set:\", len(validation_data))\n",
        "print(\"num videos in test set:\", len(test_data))\n",
        "print(\"features_train shape:\", features_train.shape)\n",
        "print(\"targets_train shape:\", targets_train.shape)\n",
        "print(\"features_valid shape:\", features_valid.shape)\n",
        "print(\"targets_valid shape:\", targets_valid.shape)\n",
        "total_features = len(features_train) + len(features_valid)\n",
        "unique, count = np.unique(np.concatenate([video_ids_valid, video_ids_train]), return_counts=True)\n",
        "print(\"Total features:\", total_features)\n",
        "print(\"Total videos:\", len(unique))\n",
        "print(\"Avg features per video:\", total_features / len(unique))\n",
        "print(\"Min features per video:\", min(count))\n",
        "print(\"Max features per video:\", max(count))"
      ],
      "execution_count": 40,
      "outputs": [
        {
          "output_type": "stream",
          "name": "stdout",
          "text": [
            "num videos in training set: 470\n",
            "num videos in validation set: 118\n",
            "num videos in test set: 500\n",
            "features_train shape: (1758, 86, 300)\n",
            "targets_train shape: (1758, 1)\n",
            "features_valid shape: (426, 86, 300)\n",
            "targets_valid shape: (426, 1)\n",
            "Total features: 2184\n",
            "Total videos: 588\n",
            "Avg features per video: 3.7142857142857144\n",
            "Min features per video: 2\n",
            "Max features per video: 5\n"
          ]
        }
      ]
    },
    {
      "cell_type": "markdown",
      "metadata": {
        "id": "TyNQdNwmVT2g"
      },
      "source": [
        "## Model training"
      ]
    },
    {
      "cell_type": "code",
      "metadata": {
        "scrolled": true,
        "id": "z9sG6MZyVT2g"
      },
      "source": [
        "from train import train_model       "
      ],
      "execution_count": 41,
      "outputs": []
    },
    {
      "cell_type": "code",
      "metadata": {
        "scrolled": true,
        "id": "ZUjx7dnUVT2h",
        "colab": {
          "base_uri": "https://localhost:8080/"
        },
        "outputId": "9b618840-c5a4-4e61-c472-1c595ffdca9a"
      },
      "source": [
        "model = train_model(model_type, features_train, targets_train, features_valid, targets_valid, model_parameters)"
      ],
      "execution_count": null,
      "outputs": [
        {
          "output_type": "stream",
          "name": "stdout",
          "text": [
            "input dimensions: (86, 300)\n",
            "hidden dimension: 64\n",
            "WARNING:tensorflow:Layer gru will not use cuDNN kernels since it doesn't meet the criteria. It will use a generic GPU kernel as fallback when running on GPU.\n"
          ]
        },
        {
          "output_type": "stream",
          "name": "stderr",
          "text": [
            "/usr/local/lib/python3.7/dist-packages/keras/optimizer_v2/optimizer_v2.py:356: UserWarning: The `lr` argument is deprecated, use `learning_rate` instead.\n",
            "  \"The `lr` argument is deprecated, use `learning_rate` instead.\")\n"
          ]
        }
      ]
    },
    {
      "cell_type": "markdown",
      "metadata": {
        "id": "QboEapcKVT2h"
      },
      "source": [
        "## Test\n",
        "\n",
        "Spearman's rank correlation, ROC curves, etc"
      ]
    },
    {
      "cell_type": "code",
      "metadata": {
        "id": "TX2ciKpKVT2h"
      },
      "source": [
        "from train import get_predictions\n",
        "\n",
        "predictions, actuals, _ = get_predictions(\n",
        "    model_type, model, features_valid, targets_valid, video_ids_valid, aggregate_with=aggregate_with\n",
        ")"
      ],
      "execution_count": null,
      "outputs": []
    },
    {
      "cell_type": "code",
      "metadata": {
        "scrolled": false,
        "id": "doN3okHpVT2i"
      },
      "source": [
        "spearman_rank, _ = stats.spearmanr(actuals, predictions)\n",
        "print(\"SPEARMAN RANK:\",spearman_rank)\n",
        "\n",
        "fig, ax = plt.subplots(1, figsize=(8,8))\n",
        "min_mem = min(np.min(actuals), np.min(predictions))\n",
        "max_mem = max(np.max(actuals), np.max(predictions))\n",
        "plt.scatter(actuals, predictions, label = f\"Spearman rank correlation = {spearman_rank}\")\n",
        "# plt.plot([min_mem, max_mem], [min_mem, max_mem], label=\"1 to 1\")\n",
        "plt.title(f\"actual {target} vs predicted {target}\")\n",
        "plt.legend()\n",
        "plt.ylabel(\"predictions\")\n",
        "plt.xlabel(\"actual\")\n",
        "plt.show()"
      ],
      "execution_count": null,
      "outputs": []
    },
    {
      "cell_type": "markdown",
      "metadata": {
        "id": "3zaUtVaJVT2j"
      },
      "source": [
        "# Saving Predictions\n"
      ]
    },
    {
      "cell_type": "code",
      "metadata": {
        "id": "trT0ONvIVT2k"
      },
      "source": [
        "pred_train, actual_train, vid_train = get_predictions(model_type, model, features_train, targets_train, video_ids_train, aggregate_with=aggregate_with)\n",
        "pred_valid, actual_valid, vid_valid = get_predictions(model_type, model, features_valid, targets_valid, video_ids_valid, aggregate_with=aggregate_with)\n",
        "pred_test, actual_test, vid_test = get_predictions(model_type, model, features_test, targets_test, video_ids_test, aggregate_with=aggregate_with)"
      ],
      "execution_count": null,
      "outputs": []
    },
    {
      "cell_type": "code",
      "metadata": {
        "id": "mUy9FyIiVT2k"
      },
      "source": [
        "print(\"Validation spearman rank:\", stats.spearmanr(actual_valid, pred_valid)[0])\n",
        "print(\"Training spearman rank:\", stats.spearmanr(actual_train, pred_train)[0])"
      ],
      "execution_count": null,
      "outputs": []
    },
    {
      "cell_type": "code",
      "metadata": {
        "id": "uqqHxLmTVT2l"
      },
      "source": [
        "predictions = np.concatenate([pred_train, pred_valid, pred_test])\n",
        "actuals = np.concatenate([actual_train, actual_valid, actual_test])\n",
        "video_ids = np.concatenate([vid_train, vid_valid, vid_test])\n",
        "in_training_set = np.array(np.concatenate([np.ones(len(pred_train)), np.zeros(len(pred_valid + pred_test))]), dtype=bool)"
      ],
      "execution_count": null,
      "outputs": []
    },
    {
      "cell_type": "code",
      "metadata": {
        "id": "O_gyFzqIVT2l"
      },
      "source": [
        "default_prediction = np.mean(predictions)\n",
        "for vid in train_data.index:\n",
        "    if vid not in video_ids:\n",
        "        print(f\"Adding vid {vid} with default prediction {default_prediction}\")\n",
        "        video_ids = np.append(video_ids, vid)\n",
        "        predictions = np.append(predictions, default_prediction)\n",
        "        in_training_set = np.append(in_training_set, vid in training_data.index)\n",
        "        actuals = np.append(actuals, train_data.loc[vid][target])\n",
        "        \n",
        "for vid in test_data.index:\n",
        "    if vid not in video_ids:\n",
        "        video_ids = np.append(video_ids, vid)\n",
        "        predictions = np.append(predictions, default_prediction)\n",
        "        in_training_set = np.append(in_training_set, False)\n",
        "        actuals = np.append(actuals, np.nan)"
      ],
      "execution_count": null,
      "outputs": []
    },
    {
      "cell_type": "code",
      "metadata": {
        "id": "MM4RquHqVT2m"
      },
      "source": [
        "assert len(predictions) == len(actuals) == len(video_ids) == len(in_training_set) == len(train_data) + len(test_data)"
      ],
      "execution_count": null,
      "outputs": []
    },
    {
      "cell_type": "code",
      "metadata": {
        "id": "1x71CciiVT2m"
      },
      "source": [
        "def save_predictions(model_name, video_ids, actuals, predictions, in_training_set, model_parameters, predictions_dir = PREDICTIONS_DIR):\n",
        "\n",
        "    if not os.path.exists(predictions_dir):\n",
        "        os.mkdir(predictions_dir)\n",
        "        \n",
        "    model_data_dir = f\"{predictions_dir}/model_data.csv\"\n",
        "    if not os.path.exists(model_data_dir):\n",
        "        model_data = pd.DataFrame(columns=[\"name\", \"validation_spearman_rank\", \"type\", \"feature\", \"parameters\", \"predictions\", \"is_short_term\", \"seed\", \"notes\"])\n",
        "    else:\n",
        "        model_data = pd.read_csv(model_data_dir)\n",
        "        \n",
        "    model_dir = f\"{predictions_dir}/{model_name}\"\n",
        "    if not os.path.exists(model_dir):\n",
        "        os.mkdir(model_dir)\n",
        "        \n",
        "    pred_filename = f\"{model_dir}/{'st' if IS_SHORT_TERM else 'lt'}-{RANDOM_SEED}.csv\"\n",
        "    \n",
        "    valid_spearman_rank, _ = stats.spearmanr(actuals[in_training_set], predictions[in_training_set])\n",
        "    \n",
        "    pred_data = pd.DataFrame({\n",
        "        \"video_id\": video_ids,\n",
        "        \"prediction\": predictions,\n",
        "        \"actual\": actuals,\n",
        "        \"in_training_set\": in_training_set\n",
        "    }).sort_values(\"video_id\")\n",
        "    \n",
        "    pred_data.to_csv(pred_filename, index = False)\n",
        "    \n",
        "    model_info = {\n",
        "        \"name\": model_name,\n",
        "        \"type\": model_type,\n",
        "        \"feature\": feature,\n",
        "        \"validation_spearman_rank\": np.around(spearman_rank,4),\n",
        "        \"parameters\": model_parameters,\n",
        "        \"predictions\": pred_filename,\n",
        "        \"notes\": NOTES,\n",
        "        \"seed\": RANDOM_SEED,\n",
        "        \"is_short_term\": IS_SHORT_TERM\n",
        "    }\n",
        "    \n",
        "    model_data.append(model_info, ignore_index = True).to_csv(model_data_dir, index = False)\n",
        "    \n",
        "    print(\"Saved model info and predictions: \", model_info)\n",
        "    "
      ],
      "execution_count": null,
      "outputs": []
    },
    {
      "cell_type": "code",
      "metadata": {
        "id": "6kuiTJMTVT2m"
      },
      "source": [
        "assert SAVE_MODEL, \"Model was not saved.\""
      ],
      "execution_count": null,
      "outputs": []
    },
    {
      "cell_type": "code",
      "metadata": {
        "id": "3gVELX-jVT2n"
      },
      "source": [
        "save_predictions(model_name, video_ids, actuals, predictions, in_training_set, model_parameters)"
      ],
      "execution_count": null,
      "outputs": []
    },
    {
      "cell_type": "code",
      "metadata": {
        "id": "H9JV1TPDVT2n"
      },
      "source": [
        ""
      ],
      "execution_count": null,
      "outputs": []
    }
  ]
}